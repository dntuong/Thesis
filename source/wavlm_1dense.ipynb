{
  "nbformat": 4,
  "nbformat_minor": 0,
  "metadata": {
    "colab": {
      "provenance": []
    },
    "kernelspec": {
      "name": "python3",
      "display_name": "Python 3"
    },
    "language_info": {
      "name": "python"
    },
    "accelerator": "GPU",
    "gpuClass": "standard"
  },
  "cells": [
    {
      "cell_type": "code",
      "execution_count": null,
      "metadata": {
        "id": "PZkXqLWNWEKU",
        "colab": {
          "base_uri": "https://localhost:8080/"
        },
        "outputId": "d9c92ee4-f330-4bd1-920c-a0e58ef5be30"
      },
      "outputs": [
        {
          "output_type": "stream",
          "name": "stdout",
          "text": [
            "Mounted at /content/gdrive\n"
          ]
        }
      ],
      "source": [
        "# Original: 1012\n",
        "# current epoch: 31\n",
        "from google.colab import drive\n",
        "drive.mount('/content/gdrive')"
      ]
    },
    {
      "cell_type": "code",
      "source": [
        "!pip install s3prl -q\n",
        "!pip install hydra-core -q\n",
        "!pip install sentencepiece -q\n",
        "!pip uninstall omegaconf -y\n",
        "!pip install omegaconf\n",
        "!pip install fairseq -q"
      ],
      "metadata": {
        "id": "Zz92Nz22SpDM",
        "colab": {
          "base_uri": "https://localhost:8080/",
          "height": 892
        },
        "outputId": "08e5a5c2-8d43-4b09-f55a-6354a8f265c3"
      },
      "execution_count": null,
      "outputs": [
        {
          "output_type": "stream",
          "name": "stdout",
          "text": [
            "\u001b[?25l     \u001b[90m━━━━━━━━━━━━━━━━━━━━━━━━━━━━━━━━━━━━━━━━\u001b[0m \u001b[32m0.0/1.5 MB\u001b[0m \u001b[31m?\u001b[0m eta \u001b[36m-:--:--\u001b[0m\r\u001b[2K     \u001b[91m━━━━━━━\u001b[0m\u001b[90m╺\u001b[0m\u001b[90m━━━━━━━━━━━━━━━━━━━━━━━━━━━━━━━━\u001b[0m \u001b[32m0.3/1.5 MB\u001b[0m \u001b[31m8.2 MB/s\u001b[0m eta \u001b[36m0:00:01\u001b[0m\r\u001b[2K     \u001b[91m━━━━━━━━━━━━━━━━━━━━━━━━━━━━━━━━━━━━━━━\u001b[0m\u001b[91m╸\u001b[0m \u001b[32m1.5/1.5 MB\u001b[0m \u001b[31m26.4 MB/s\u001b[0m eta \u001b[36m0:00:01\u001b[0m\r\u001b[2K     \u001b[90m━━━━━━━━━━━━━━━━━━━━━━━━━━━━━━━━━━━━━━━━\u001b[0m \u001b[32m1.5/1.5 MB\u001b[0m \u001b[31m17.0 MB/s\u001b[0m eta \u001b[36m0:00:00\u001b[0m\n",
            "\u001b[?25h  Preparing metadata (setup.py) ... \u001b[?25l\u001b[?25hdone\n",
            "\u001b[2K     \u001b[90m━━━━━━━━━━━━━━━━━━━━━━━━━━━━━━━━━━━━━━━━\u001b[0m \u001b[32m79.5/79.5 kB\u001b[0m \u001b[31m7.7 MB/s\u001b[0m eta \u001b[36m0:00:00\u001b[0m\n",
            "\u001b[2K     \u001b[90m━━━━━━━━━━━━━━━━━━━━━━━━━━━━━━━━━━━━━━\u001b[0m \u001b[32m952.4/952.4 kB\u001b[0m \u001b[31m25.8 MB/s\u001b[0m eta \u001b[36m0:00:00\u001b[0m\n",
            "\u001b[2K     \u001b[90m━━━━━━━━━━━━━━━━━━━━━━━━━━━━━━━━━━━━━━━━\u001b[0m \u001b[32m7.2/7.2 MB\u001b[0m \u001b[31m39.3 MB/s\u001b[0m eta \u001b[36m0:00:00\u001b[0m\n",
            "\u001b[2K     \u001b[90m━━━━━━━━━━━━━━━━━━━━━━━━━━━━━━━━━━━━━━━\u001b[0m \u001b[32m117.0/117.0 kB\u001b[0m \u001b[31m5.5 MB/s\u001b[0m eta \u001b[36m0:00:00\u001b[0m\n",
            "\u001b[?25h  Preparing metadata (setup.py) ... \u001b[?25l\u001b[?25hdone\n",
            "\u001b[2K     \u001b[90m━━━━━━━━━━━━━━━━━━━━━━━━━━━━━━━━━━━━━━\u001b[0m \u001b[32m236.8/236.8 kB\u001b[0m \u001b[31m25.2 MB/s\u001b[0m eta \u001b[36m0:00:00\u001b[0m\n",
            "\u001b[2K     \u001b[90m━━━━━━━━━━━━━━━━━━━━━━━━━━━━━━━━━━━━━━━━\u001b[0m \u001b[32m7.8/7.8 MB\u001b[0m \u001b[31m82.1 MB/s\u001b[0m eta \u001b[36m0:00:00\u001b[0m\n",
            "\u001b[2K     \u001b[90m━━━━━━━━━━━━━━━━━━━━━━━━━━━━━━━━━━━━━━━━\u001b[0m \u001b[32m1.3/1.3 MB\u001b[0m \u001b[31m65.0 MB/s\u001b[0m eta \u001b[36m0:00:00\u001b[0m\n",
            "\u001b[?25h  Building wheel for s3prl (setup.py) ... \u001b[?25l\u001b[?25hdone\n",
            "  Building wheel for antlr4-python3-runtime (setup.py) ... \u001b[?25l\u001b[?25hdone\n",
            "\u001b[31mERROR: pip's dependency resolver does not currently take into account all the packages that are installed. This behaviour is the source of the following dependency conflicts.\n",
            "ipython 7.34.0 requires jedi>=0.16, which is not installed.\n",
            "arviz 0.15.1 requires setuptools>=60.0.0, but you have setuptools 59.5.0 which is incompatible.\n",
            "cvxpy 1.3.1 requires setuptools>65.5.1, but you have setuptools 59.5.0 which is incompatible.\u001b[0m\u001b[31m\n",
            "\u001b[2K     \u001b[90m━━━━━━━━━━━━━━━━━━━━━━━━━━━━━━━━━━━━━━━\u001b[0m \u001b[32m154.5/154.5 kB\u001b[0m \u001b[31m4.5 MB/s\u001b[0m eta \u001b[36m0:00:00\u001b[0m\n",
            "\u001b[2K     \u001b[90m━━━━━━━━━━━━━━━━━━━━━━━━━━━━━━━━━━━━━━━━\u001b[0m \u001b[32m1.3/1.3 MB\u001b[0m \u001b[31m21.6 MB/s\u001b[0m eta \u001b[36m0:00:00\u001b[0m\n",
            "\u001b[?25hFound existing installation: omegaconf 2.3.0\n",
            "Uninstalling omegaconf-2.3.0:\n",
            "  Successfully uninstalled omegaconf-2.3.0\n",
            "Looking in indexes: https://pypi.org/simple, https://us-python.pkg.dev/colab-wheels/public/simple/\n",
            "Collecting omegaconf\n",
            "  Using cached omegaconf-2.3.0-py3-none-any.whl (79 kB)\n",
            "Requirement already satisfied: antlr4-python3-runtime==4.9.* in /usr/local/lib/python3.10/dist-packages (from omegaconf) (4.9.3)\n",
            "Requirement already satisfied: PyYAML>=5.1.0 in /usr/local/lib/python3.10/dist-packages (from omegaconf) (6.0)\n",
            "Installing collected packages: omegaconf\n",
            "Successfully installed omegaconf-2.3.0\n"
          ]
        },
        {
          "output_type": "display_data",
          "data": {
            "application/vnd.colab-display-data+json": {
              "pip_warning": {
                "packages": [
                  "pydevd_plugins"
                ]
              }
            }
          },
          "metadata": {}
        },
        {
          "output_type": "stream",
          "name": "stdout",
          "text": [
            "\u001b[2K     \u001b[90m━━━━━━━━━━━━━━━━━━━━━━━━━━━━━━━━━━━━━━━━\u001b[0m \u001b[32m9.6/9.6 MB\u001b[0m \u001b[31m56.7 MB/s\u001b[0m eta \u001b[36m0:00:00\u001b[0m\n",
            "\u001b[?25h  Installing build dependencies ... \u001b[?25l\u001b[?25hdone\n",
            "  Getting requirements to build wheel ... \u001b[?25l\u001b[?25hdone\n",
            "  Installing backend dependencies ... \u001b[?25l\u001b[?25hdone\n",
            "  Preparing metadata (pyproject.toml) ... \u001b[?25l\u001b[?25hdone\n",
            "\u001b[2K     \u001b[90m━━━━━━━━━━━━━━━━━━━━━━━━━━━━━━━━━━━━━━━\u001b[0m \u001b[32m123.8/123.8 kB\u001b[0m \u001b[31m1.2 MB/s\u001b[0m eta \u001b[36m0:00:00\u001b[0m\n",
            "\u001b[2K     \u001b[90m━━━━━━━━━━━━━━━━━━━━━━━━━━━━━━━━━━━━━━\u001b[0m \u001b[32m118.9/118.9 kB\u001b[0m \u001b[31m16.2 MB/s\u001b[0m eta \u001b[36m0:00:00\u001b[0m\n",
            "\u001b[2K     \u001b[90m━━━━━━━━━━━━━━━━━━━━━━━━━━━━━━━━━━━━━━\u001b[0m \u001b[32m273.8/273.8 kB\u001b[0m \u001b[31m31.6 MB/s\u001b[0m eta \u001b[36m0:00:00\u001b[0m\n",
            "\u001b[2K     \u001b[90m━━━━━━━━━━━━━━━━━━━━━━━━━━━━━━━━━━━━━━\u001b[0m \u001b[32m112.4/112.4 kB\u001b[0m \u001b[31m13.8 MB/s\u001b[0m eta \u001b[36m0:00:00\u001b[0m\n",
            "\u001b[?25h  Preparing metadata (setup.py) ... \u001b[?25l\u001b[?25hdone\n",
            "  Building wheel for fairseq (pyproject.toml) ... \u001b[?25l\u001b[?25hdone\n",
            "  Building wheel for antlr4-python3-runtime (setup.py) ... \u001b[?25l\u001b[?25hdone\n",
            "\u001b[31mERROR: pip's dependency resolver does not currently take into account all the packages that are installed. This behaviour is the source of the following dependency conflicts.\n",
            "s3prl 0.4.10 requires omegaconf>=2.1.1, but you have omegaconf 2.0.6 which is incompatible.\u001b[0m\u001b[31m\n",
            "\u001b[0m"
          ]
        }
      ]
    },
    {
      "cell_type": "code",
      "source": [
        "const_path = '/content/gdrive/MyDrive/'"
      ],
      "metadata": {
        "id": "RaESucG0buTw"
      },
      "execution_count": null,
      "outputs": []
    },
    {
      "cell_type": "code",
      "source": [
        "import sys\n",
        "import os\n",
        "py_file_location = const_path + '/KLTN/source/wavlm_large'\n",
        "sys.path.append(os.path.abspath(py_file_location))\n",
        "import fairseq\n",
        "import tqdm\n",
        "import math\n",
        "import torch\n",
        "import torch.nn as nn\n",
        "import torch.nn.functional as F\n",
        "from sklearn.metrics import *\n",
        "import scipy.interpolate, scipy.optimize\n",
        "import numpy as np\n",
        "import soundfile as sf\n",
        "import time\n",
        "from scipy.spatial import distance\n",
        "from scipy import signal\n",
        "import matplotlib.pyplot as plt\n",
        "import pandas as pd\n",
        "import pickle\n",
        "from pathlib import Path\n",
        "from typing import *\n",
        "import librosa\n",
        "from scipy.ndimage import binary_dilation\n",
        "import struct\n",
        "from torchaudio.transforms import Resample\n",
        "import torchaudio.transforms as trans\n",
        "from s3prl.upstream.interfaces import UpstreamBase\n",
        "from packaging import version\n",
        "from fairseq import tasks\n",
        "from fairseq.checkpoint_utils import load_checkpoint_to_cpu\n",
        "from fairseq.dataclass.utils import convert_namespace_to_omegaconf\n",
        "from torch.nn.utils.rnn import pad_sequence\n",
        "from omegaconf import OmegaConf"
      ],
      "metadata": {
        "id": "yZlOe8iUcd3-"
      },
      "execution_count": null,
      "outputs": []
    },
    {
      "cell_type": "code",
      "source": [
        "train_path = \"/content/gdrive/MyDrive/KLTN/dataset/zalo_dataset/dataset_fix/train\"\n",
        "train_list = \"/content/gdrive/MyDrive/KLTN/dataset/zalo_dataset/dataset_fix/train_list.txt\"\n",
        "\n",
        "eval_path = \"/content/gdrive/MyDrive/KLTN/dataset/zalo_dataset/dataset_fix/val\"\n",
        "eval_list = \"/content/gdrive/MyDrive/KLTN/dataset/zalo_dataset/dataset_fix/veri_val.txt\"\n",
        "\n",
        "save_path = \"/content/gdrive/MyDrive/KLTN/source/wavlm_large/1dense\""
      ],
      "metadata": {
        "id": "3dd3TMisAslc"
      },
      "execution_count": null,
      "outputs": []
    },
    {
      "cell_type": "code",
      "source": [
        "# Training setting batch30 for wavlm unfreeze, batch150 for ecapatdnn\n",
        "n_cpu = 2\n",
        "num_frames = 300 # 300 for 3 seconds\n",
        "max_epoch = 20\n",
        "batch_size = 150\n",
        "# batch_size = 30\n",
        "lr = 0.001\n",
        "lr_decay = 0.97\n",
        "test_step = 1\n",
        "epoch = 31 # Init epoch\n",
        "\n",
        "# Model setting\n",
        "n_class = 5994 # Default n_speakers\n",
        "C = 1024 # Channel size\n",
        "m = 0.2 # Loss margin\n",
        "s = 32 # Loss scale"
      ],
      "metadata": {
        "id": "u34-n9U9C6QJ"
      },
      "execution_count": null,
      "outputs": []
    },
    {
      "cell_type": "code",
      "source": [
        "# https://github.com/TaoRuijie/ECAPA-TDNN\n",
        "import glob, numpy, os, random, soundfile, torch\n",
        "from scipy import signal\n",
        "\n",
        "class train_loader(object):\n",
        "\tdef __init__(self, train_list, train_path, num_frames, musan_path = None, rir_path = None, **kwargs):\n",
        "\t\tself.train_path = train_path\n",
        "\t\tself.num_frames = num_frames\n",
        "\t\t# Load and configure augmentation files\n",
        "\t\t# self.noisetypes = ['noise','speech','music']\n",
        "\t\t# self.noisesnr = {'noise':[0,15],'speech':[13,20],'music':[5,15]}\n",
        "\t\t# self.numnoise = {'noise':[1,1], 'speech':[3,8], 'music':[1,1]}\n",
        "\t\t# self.noiselist = {}\n",
        "\t\t# augment_files   = glob.glob(os.path.join(musan_path,'*/*/*/*.wav'))\n",
        "\t\t# for file in augment_files:\n",
        "\t\t# \tif file.split('/')[-4] not in self.noiselist:\n",
        "\t\t# \t\tself.noiselist[file.split('/')[-4]] = []\n",
        "\t\t# \tself.noiselist[file.split('/')[-4]].append(file)\n",
        "\t\t# self.rir_files  = glob.glob(os.path.join(rir_path,'*/*/*.wav'))\n",
        "\t\t# Load data & labels\n",
        "\t\tself.data_list  = []\n",
        "\t\tself.data_label = []\n",
        "\t\tlines = open(train_list).read().splitlines()\n",
        "\t\tdictkeys = list(set([x.split()[0] for x in lines]))\n",
        "\t\tdictkeys.sort()\n",
        "\t\tdictkeys = { key : ii for ii, key in enumerate(dictkeys) }\n",
        "\t\tfor index, line in enumerate(lines):\n",
        "\t\t\tspeaker_label = dictkeys[line.split()[0]]\n",
        "\t\t\tfile_name     = os.path.join(train_path, line.split()[1])\n",
        "\t\t\tself.data_label.append(speaker_label)\n",
        "\t\t\tself.data_list.append(file_name)\n",
        "\n",
        "\tdef __getitem__(self, index):\n",
        "\t\t# Read the utterance and randomly select the segment\n",
        "\t\taudio, sr = soundfile.read(self.data_list[index])\n",
        "\t\tlength = self.num_frames * 160 + 240\n",
        "\t\tif audio.shape[0] <= length:\n",
        "\t\t\tshortage = length - audio.shape[0]\n",
        "\t\t\taudio = numpy.pad(audio, (0, shortage), 'wrap')\n",
        "\t\tstart_frame = numpy.int64(random.random()*(audio.shape[0]-length))\n",
        "\t\taudio = audio[start_frame:start_frame + length]\n",
        "\t\taudio = numpy.stack([audio],axis=0)\n",
        "\t\t# Data Augmentation\n",
        "\t\t# augtype = random.randint(0,5)\n",
        "\t\t# if augtype == 0:   # Original\n",
        "\t\t# \taudio = audio\n",
        "\t\t# elif augtype == 1: # Reverberation\n",
        "\t\t# \taudio = self.add_rev(audio)\n",
        "\t\t# elif augtype == 2: # Babble\n",
        "\t\t# \taudio = self.add_noise(audio, 'speech')\n",
        "\t\t# elif augtype == 3: # Music\n",
        "\t\t# \taudio = self.add_noise(audio, 'music')\n",
        "\t\t# elif augtype == 4: # Noise\n",
        "\t\t# \taudio = self.add_noise(audio, 'noise')\n",
        "\t\t# elif augtype == 5: # Television noise\n",
        "\t\t# \taudio = self.add_noise(audio, 'speech')\n",
        "\t\t# \taudio = self.add_noise(audio, 'music')\n",
        "\t\treturn torch.FloatTensor(audio[0]), self.data_label[index]\n",
        "\n",
        "\tdef __len__(self):\n",
        "\t\treturn len(self.data_list)\n",
        "\n",
        "\t# def add_rev(self, audio):\n",
        "\t# \trir_file    = random.choice(self.rir_files)\n",
        "\t# \trir, sr     = soundfile.read(rir_file)\n",
        "\t# \trir         = numpy.expand_dims(rir.astype(numpy.float),0)\n",
        "\t# \trir         = rir / numpy.sqrt(numpy.sum(rir**2))\n",
        "\t# \treturn signal.convolve(audio, rir, mode='full')[:,:self.num_frames * 160 + 240]\n",
        "\n",
        "\t# def add_noise(self, audio, noisecat):\n",
        "\t# \tclean_db    = 10 * numpy.log10(numpy.mean(audio ** 2)+1e-4)\n",
        "\t# \tnumnoise    = self.numnoise[noisecat]\n",
        "\t# \tnoiselist   = random.sample(self.noiselist[noisecat], random.randint(numnoise[0],numnoise[1]))\n",
        "\t# \tnoises = []\n",
        "\t# \tfor noise in noiselist:\n",
        "\t# \t\tnoiseaudio, sr = soundfile.read(noise)\n",
        "\t# \t\tlength = self.num_frames * 160 + 240\n",
        "\t# \t\tif noiseaudio.shape[0] <= length:\n",
        "\t# \t\t\tshortage = length - noiseaudio.shape[0]\n",
        "\t# \t\t\tnoiseaudio = numpy.pad(noiseaudio, (0, shortage), 'wrap')\n",
        "\t# \t\tstart_frame = numpy.int64(random.random()*(noiseaudio.shape[0]-length))\n",
        "\t# \t\tnoiseaudio = noiseaudio[start_frame:start_frame + length]\n",
        "\t# \t\tnoiseaudio = numpy.stack([noiseaudio],axis=0)\n",
        "\t# \t\tnoise_db = 10 * numpy.log10(numpy.mean(noiseaudio ** 2)+1e-4)\n",
        "\t# \t\tnoisesnr   = random.uniform(self.noisesnr[noisecat][0],self.noisesnr[noisecat][1])\n",
        "\t# \t\tnoises.append(numpy.sqrt(10 ** ((clean_db - noise_db - noisesnr) / 10)) * noiseaudio)\n",
        "\t# \tnoise = numpy.sum(numpy.concatenate(noises,axis=0),axis=0,keepdims=True)\n",
        "\t# \treturn noise + audio"
      ],
      "metadata": {
        "id": "DJxby5TT9gyb"
      },
      "execution_count": null,
      "outputs": []
    },
    {
      "cell_type": "code",
      "source": [
        "trainloader  = train_loader(train_list, train_path, num_frames)\n",
        "trainLoader = torch.utils.data.DataLoader(trainloader, batch_size = batch_size, shuffle = True, num_workers = n_cpu, pin_memory=False, drop_last = False)"
      ],
      "metadata": {
        "id": "SZRMN2kNCraH"
      },
      "execution_count": null,
      "outputs": []
    },
    {
      "cell_type": "code",
      "source": [
        "def load_model(filepath):\n",
        "    state = torch.load(filepath, map_location=lambda storage, loc: storage)\n",
        "    # state = load_checkpoint_to_cpu(filepath)\n",
        "    state[\"cfg\"] = OmegaConf.create(state[\"cfg\"])\n",
        "\n",
        "    if \"args\" in state and state[\"args\"] is not None:\n",
        "        cfg = convert_namespace_to_omegaconf(state[\"args\"])\n",
        "    elif \"cfg\" in state and state[\"cfg\"] is not None:\n",
        "        cfg = state[\"cfg\"]\n",
        "    else:\n",
        "        raise RuntimeError(\n",
        "            f\"Neither args nor cfg exist in state keys = {state.keys()}\"\n",
        "            )\n",
        "\n",
        "    task = tasks.setup_task(cfg.task)\n",
        "    if \"task_state\" in state:\n",
        "        task.load_state_dict(state[\"task_state\"])\n",
        "\n",
        "    model = task.build_model(cfg.model)\n",
        "\n",
        "    return model, cfg, task\n",
        "\n",
        "class UpstreamExpert(UpstreamBase):\n",
        "    def __init__(self, ckpt, **kwargs):\n",
        "        super().__init__(**kwargs)\n",
        "        assert version.parse(fairseq.__version__) > version.parse(\n",
        "            \"0.10.2\"\n",
        "        ), \"Please install the fairseq master branch.\"\n",
        "\n",
        "        model, cfg, task = load_model(ckpt)\n",
        "        self.model = model\n",
        "        self.task = task\n",
        "\n",
        "        if len(self.hooks) == 0:\n",
        "            module_name = \"self.model.encoder.layers\"\n",
        "            for module_id in range(len(eval(module_name))):\n",
        "                self.add_hook(\n",
        "                    f\"{module_name}[{module_id}]\",\n",
        "                    lambda input, output: input[0].transpose(0, 1),\n",
        "                )\n",
        "            self.add_hook(\"self.model.encoder\", lambda input, output: output[0])\n",
        "\n",
        "    def forward(self, wavs):\n",
        "        if self.task.cfg.normalize:\n",
        "            wavs = [F.layer_norm(wav, wav.shape) for wav in wavs]\n",
        "\n",
        "        device = wavs[0].device\n",
        "        wav_lengths = torch.LongTensor([len(wav) for wav in wavs]).to(device)\n",
        "        wav_padding_mask = ~torch.lt(\n",
        "            torch.arange(max(wav_lengths)).unsqueeze(0).to(device),\n",
        "            wav_lengths.unsqueeze(1),\n",
        "        )\n",
        "        padded_wav = pad_sequence(wavs, batch_first=True)\n",
        "\n",
        "        features, feat_padding_mask = self.model.extract_features(\n",
        "            padded_wav,\n",
        "            padding_mask=wav_padding_mask,\n",
        "            mask=None,\n",
        "        )\n",
        "        return {\n",
        "            \"default\": features,\n",
        "        }"
      ],
      "metadata": {
        "id": "H_bqPQdSSYts"
      },
      "execution_count": null,
      "outputs": []
    },
    {
      "cell_type": "code",
      "source": [
        "def accuracy(output, target, topk=(1,)):\n",
        "    \"\"\"Computes the precision@k for the specified values of k\"\"\"\n",
        "    maxk = max(topk)\n",
        "    batch_size = target.size(0)\n",
        "\n",
        "    _, pred = output.topk(maxk, 1, True, True)\n",
        "    pred = pred.t()\n",
        "    correct = pred.eq(target.view(1, -1).expand_as(pred))\n",
        "\n",
        "    res = []\n",
        "    for k in topk:\n",
        "        correct_k = correct[:k].view(-1).float().sum(0, keepdim=True)\n",
        "        res.append(correct_k.mul_(100.0 / batch_size))\n",
        "    return res"
      ],
      "metadata": {
        "id": "zgjLXlHEFVMk"
      },
      "execution_count": null,
      "outputs": []
    },
    {
      "cell_type": "code",
      "source": [
        "'''\n",
        "AAMsoftmax loss function copied from voxceleb_trainer: https://github.com/clovaai/voxceleb_trainer/blob/master/loss/aamsoftmax.py\n",
        "'''\n",
        "\n",
        "import torch, math\n",
        "import torch.nn as nn\n",
        "import torch.nn.functional as F\n",
        "\n",
        "class AAMsoftmax(nn.Module):\n",
        "    def __init__(self, n_class, m, s):\n",
        "\n",
        "        super(AAMsoftmax, self).__init__()\n",
        "        self.m = m\n",
        "        self.s = s\n",
        "        self.weight = torch.nn.Parameter(torch.FloatTensor(n_class, 256), requires_grad=True)\n",
        "        self.ce = nn.CrossEntropyLoss()\n",
        "        nn.init.xavier_normal_(self.weight, gain=1)\n",
        "        self.cos_m = math.cos(self.m)\n",
        "        self.sin_m = math.sin(self.m)\n",
        "        self.th = math.cos(math.pi - self.m)\n",
        "        self.mm = math.sin(math.pi - self.m) * self.m\n",
        "\n",
        "    def forward(self, x, label=None):\n",
        "\n",
        "        cosine = F.linear(F.normalize(x), F.normalize(self.weight))\n",
        "        sine = torch.sqrt((1.0 - torch.mul(cosine, cosine)).clamp(0, 1))\n",
        "        phi = cosine * self.cos_m - sine * self.sin_m\n",
        "        phi = torch.where((cosine - self.th) > 0, phi, cosine - self.mm)\n",
        "        one_hot = torch.zeros_like(cosine)\n",
        "        one_hot.scatter_(1, label.view(-1, 1), 1)\n",
        "        output = (one_hot * phi) + ((1.0 - one_hot) * cosine)\n",
        "        output = output * self.s\n",
        "\n",
        "        loss = self.ce(output, label)\n",
        "        prec1 = accuracy(output.detach(), label.detach(), topk=(1,))[0]\n",
        "\n",
        "        return loss, prec1"
      ],
      "metadata": {
        "id": "5wDRZFKG6I0g"
      },
      "execution_count": null,
      "outputs": []
    },
    {
      "cell_type": "markdown",
      "source": [
        "---"
      ],
      "metadata": {
        "id": "euZ5jFWqhgIL"
      }
    },
    {
      "cell_type": "code",
      "source": [
        "class Conv1dReluBn(nn.Module):\n",
        "    def __init__(self, in_channels, out_channels, kernel_size=1, stride=1, padding=0, dilation=1, bias=True):\n",
        "        super().__init__()\n",
        "        self.conv = nn.Conv1d(in_channels, out_channels, kernel_size, stride, padding, dilation, bias=bias)\n",
        "        self.bn = nn.BatchNorm1d(out_channels)\n",
        "\n",
        "    def forward(self, x):\n",
        "        return self.bn(F.relu(self.conv(x)))\n",
        "\n",
        "class Res2Conv1dReluBn(nn.Module):\n",
        "    '''\n",
        "    in_channels == out_channels == channels\n",
        "    '''\n",
        "\n",
        "    def __init__(self, channels, kernel_size=1, stride=1, padding=0, dilation=1, bias=True, scale=4):\n",
        "        super().__init__()\n",
        "        assert channels % scale == 0, \"{} % {} != 0\".format(channels, scale)\n",
        "        self.scale = scale\n",
        "        self.width = channels // scale\n",
        "        self.nums = scale if scale == 1 else scale - 1\n",
        "\n",
        "        self.convs = []\n",
        "        self.bns = []\n",
        "        for i in range(self.nums):\n",
        "            self.convs.append(nn.Conv1d(self.width, self.width, kernel_size, stride, padding, dilation, bias=bias))\n",
        "            self.bns.append(nn.BatchNorm1d(self.width))\n",
        "        self.convs = nn.ModuleList(self.convs)\n",
        "        self.bns = nn.ModuleList(self.bns)\n",
        "\n",
        "    def forward(self, x):\n",
        "        out = []\n",
        "        spx = torch.split(x, self.width, 1)\n",
        "        for i in range(self.nums):\n",
        "            if i == 0:\n",
        "                sp = spx[i]\n",
        "            else:\n",
        "                sp = sp + spx[i]\n",
        "            # Order: conv -> relu -> bn\n",
        "            sp = self.convs[i](sp)\n",
        "            sp = self.bns[i](F.relu(sp))\n",
        "            out.append(sp)\n",
        "        if self.scale != 1:\n",
        "            out.append(spx[self.nums])\n",
        "        out = torch.cat(out, dim=1)\n",
        "\n",
        "        return out\n",
        "\n",
        "class SE_Connect(nn.Module):\n",
        "    def __init__(self, channels, se_bottleneck_dim=128):\n",
        "        super().__init__()\n",
        "        self.linear1 = nn.Linear(channels, se_bottleneck_dim)\n",
        "        self.linear2 = nn.Linear(se_bottleneck_dim, channels)\n",
        "\n",
        "    def forward(self, x):\n",
        "        out = x.mean(dim=2)\n",
        "        out = F.relu(self.linear1(out))\n",
        "        out = torch.sigmoid(self.linear2(out))\n",
        "        out = x * out.unsqueeze(2)\n",
        "\n",
        "        return out\n",
        "\n",
        "class SE_Res2Block(nn.Module):\n",
        "    def __init__(self, in_channels, out_channels, kernel_size, stride, padding, dilation, scale, se_bottleneck_dim):\n",
        "        super().__init__()\n",
        "        self.Conv1dReluBn1 = Conv1dReluBn(in_channels, out_channels, kernel_size=1, stride=1, padding=0)\n",
        "        self.Res2Conv1dReluBn = Res2Conv1dReluBn(out_channels, kernel_size, stride, padding, dilation, scale=scale)\n",
        "        self.Conv1dReluBn2 = Conv1dReluBn(out_channels, out_channels, kernel_size=1, stride=1, padding=0)\n",
        "        self.SE_Connect = SE_Connect(out_channels, se_bottleneck_dim)\n",
        "\n",
        "        self.shortcut = None\n",
        "        if in_channels != out_channels:\n",
        "            self.shortcut = nn.Conv1d(\n",
        "                in_channels=in_channels,\n",
        "                out_channels=out_channels,\n",
        "                kernel_size=1,\n",
        "            )\n",
        "\n",
        "    def forward(self, x):\n",
        "        residual = x\n",
        "        if self.shortcut:\n",
        "            residual = self.shortcut(x)\n",
        "\n",
        "        x = self.Conv1dReluBn1(x)\n",
        "        x = self.Res2Conv1dReluBn(x)\n",
        "        x = self.Conv1dReluBn2(x)\n",
        "        x = self.SE_Connect(x)\n",
        "\n",
        "        return x + residual\n",
        "\n",
        "class AttentiveStatsPool(nn.Module):\n",
        "    def __init__(self, in_dim, attention_channels=128, global_context_att=False):\n",
        "        super().__init__()\n",
        "        self.global_context_att = global_context_att\n",
        "\n",
        "        # Use Conv1d with stride == 1 rather than Linear, then we don't need to transpose inputs.\n",
        "        if global_context_att:\n",
        "            self.linear1 = nn.Conv1d(in_dim * 3, attention_channels, kernel_size=1)  # equals W and b in the paper\n",
        "        else:\n",
        "            self.linear1 = nn.Conv1d(in_dim, attention_channels, kernel_size=1)  # equals W and b in the paper\n",
        "        self.linear2 = nn.Conv1d(attention_channels, in_dim, kernel_size=1)  # equals V and k in the paper\n",
        "\n",
        "    def forward(self, x):\n",
        "\n",
        "        if self.global_context_att:\n",
        "            context_mean = torch.mean(x, dim=-1, keepdim=True).expand_as(x)\n",
        "            context_std = torch.sqrt(torch.var(x, dim=-1, keepdim=True) + 1e-10).expand_as(x)\n",
        "            x_in = torch.cat((x, context_mean, context_std), dim=1)\n",
        "        else:\n",
        "            x_in = x\n",
        "\n",
        "        # DON'T use ReLU here! In experiments, I find ReLU hard to converge.\n",
        "        alpha = torch.tanh(self.linear1(x_in))\n",
        "        # alpha = F.relu(self.linear1(x_in))\n",
        "        alpha = torch.softmax(self.linear2(alpha), dim=2)\n",
        "        mean = torch.sum(alpha * x, dim=2)\n",
        "        residuals = torch.sum(alpha * (x ** 2), dim=2) - mean ** 2\n",
        "        std = torch.sqrt(residuals.clamp(min=1e-9))\n",
        "        return torch.cat([mean, std], dim=1)\n",
        "\n",
        "class ECAPA_TDNN(nn.Module):\n",
        "    def __init__(self, feat_dim=80, channels=512, emb_dim=192, global_context_att=False,\n",
        "                 feat_type='fbank', sr=16000, feature_selection=\"hidden_states\", update_extract=False, config_path=None):\n",
        "        super().__init__()\n",
        "\n",
        "        self.feat_type = feat_type\n",
        "        self.feature_selection = feature_selection\n",
        "        self.update_extract = update_extract\n",
        "        self.sr = sr\n",
        "\n",
        "        if feat_type == \"fbank\" or feat_type == \"mfcc\":\n",
        "            self.update_extract = False\n",
        "\n",
        "        win_len = int(sr * 0.025)\n",
        "        hop_len = int(sr * 0.01)\n",
        "\n",
        "        if feat_type == 'fbank':\n",
        "            self.feature_extract = trans.MelSpectrogram(sample_rate=sr, n_fft=512, win_length=win_len,\n",
        "                                                        hop_length=hop_len, f_min=0.0, f_max=sr // 2,\n",
        "                                                        pad=0, n_mels=feat_dim)\n",
        "        elif feat_type == 'mfcc':\n",
        "            melkwargs = {\n",
        "                'n_fft': 512,\n",
        "                'win_length': win_len,\n",
        "                'hop_length': hop_len,\n",
        "                'f_min': 0.0,\n",
        "                'f_max': sr // 2,\n",
        "                'pad': 0\n",
        "            }\n",
        "            self.feature_extract = trans.MFCC(sample_rate=sr, n_mfcc=feat_dim, log_mels=False,\n",
        "                                              melkwargs=melkwargs)\n",
        "        else:\n",
        "            if config_path is None:\n",
        "                self.feature_extract = torch.hub.load('s3prl/s3prl', feat_type)\n",
        "            else:\n",
        "                self.feature_extract = UpstreamExpert(config_path)\n",
        "            if len(self.feature_extract.model.encoder.layers) == 24 and hasattr(self.feature_extract.model.encoder.layers[23].self_attn, \"fp32_attention\"):\n",
        "                self.feature_extract.model.encoder.layers[23].self_attn.fp32_attention = False\n",
        "            if len(self.feature_extract.model.encoder.layers) == 24 and hasattr(self.feature_extract.model.encoder.layers[11].self_attn, \"fp32_attention\"):\n",
        "                self.feature_extract.model.encoder.layers[11].self_attn.fp32_attention = False\n",
        "\n",
        "            self.feat_num = self.get_feat_num()\n",
        "            self.feature_weight = nn.Parameter(torch.zeros(self.feat_num))\n",
        "\n",
        "        if feat_type != 'fbank' and feat_type != 'mfcc':\n",
        "            freeze_list = ['final_proj', 'label_embs_concat', 'mask_emb', 'project_q', 'quantizer']\n",
        "            for name, param in self.feature_extract.named_parameters():\n",
        "                for freeze_val in freeze_list:\n",
        "                    if freeze_val in name:\n",
        "                        param.requires_grad = False\n",
        "                        break\n",
        "\n",
        "        if not self.update_extract:\n",
        "            for param in self.feature_extract.parameters():\n",
        "                param.requires_grad = False\n",
        "\n",
        "        self.instance_norm = nn.InstanceNorm1d(feat_dim)\n",
        "        # self.channels = [channels] * 4 + [channels * 3]\n",
        "        self.channels = [channels] * 4 + [1536]\n",
        "\n",
        "        self.layer1 = Conv1dReluBn(feat_dim, self.channels[0], kernel_size=5, padding=2)\n",
        "        self.layer2 = SE_Res2Block(self.channels[0], self.channels[1], kernel_size=3, stride=1, padding=2, dilation=2, scale=8, se_bottleneck_dim=128)\n",
        "        self.layer3 = SE_Res2Block(self.channels[1], self.channels[2], kernel_size=3, stride=1, padding=3, dilation=3, scale=8, se_bottleneck_dim=128)\n",
        "        self.layer4 = SE_Res2Block(self.channels[2], self.channels[3], kernel_size=3, stride=1, padding=4, dilation=4, scale=8, se_bottleneck_dim=128)\n",
        "\n",
        "        # self.conv = nn.Conv1d(self.channels[-1], self.channels[-1], kernel_size=1)\n",
        "        cat_channels = channels * 3\n",
        "        self.conv = nn.Conv1d(cat_channels, self.channels[-1], kernel_size=1)\n",
        "        self.pooling = AttentiveStatsPool(self.channels[-1], attention_channels=128, global_context_att=global_context_att)\n",
        "        self.bn = nn.BatchNorm1d(self.channels[-1] * 2)\n",
        "        self.linear = nn.Linear(self.channels[-1] * 2, emb_dim)\n",
        "\n",
        "        # Component part\n",
        "        self.new_component = nn.Sequential(\n",
        "            nn.Linear(256, 256)\n",
        "        )\n",
        "\n",
        "    def get_feat_num(self):\n",
        "        self.feature_extract.eval()\n",
        "        wav = [torch.randn(self.sr).to(next(self.feature_extract.parameters()).device)]\n",
        "        with torch.no_grad():\n",
        "            features = self.feature_extract(wav)\n",
        "        select_feature = features[self.feature_selection]\n",
        "        if isinstance(select_feature, (list, tuple)):\n",
        "            return len(select_feature)\n",
        "        else:\n",
        "            return 1\n",
        "\n",
        "    def get_feat(self, x):\n",
        "        if self.update_extract:\n",
        "            x = self.feature_extract([sample for sample in x])\n",
        "        else:\n",
        "            with torch.no_grad():\n",
        "                if self.feat_type == 'fbank' or self.feat_type == 'mfcc':\n",
        "                    x = self.feature_extract(x) + 1e-6  # B x feat_dim x time_len\n",
        "                else:\n",
        "                    x = self.feature_extract([sample for sample in x])\n",
        "\n",
        "        if self.feat_type == 'fbank':\n",
        "            x = x.log()\n",
        "\n",
        "        if self.feat_type != \"fbank\" and self.feat_type != \"mfcc\":\n",
        "            x = x[self.feature_selection]\n",
        "            if isinstance(x, (list, tuple)):\n",
        "                x = torch.stack(x, dim=0)\n",
        "            else:\n",
        "                x = x.unsqueeze(0)\n",
        "            norm_weights = F.softmax(self.feature_weight, dim=-1).unsqueeze(-1).unsqueeze(-1).unsqueeze(-1)\n",
        "            x = (norm_weights * x).sum(dim=0)\n",
        "            x = torch.transpose(x, 1, 2) + 1e-6\n",
        "\n",
        "        x = self.instance_norm(x)\n",
        "        return x\n",
        "\n",
        "    def forward(self, x):\n",
        "        x = self.get_feat(x)\n",
        "\n",
        "        out1 = self.layer1(x)\n",
        "        out2 = self.layer2(out1)\n",
        "        out3 = self.layer3(out2)\n",
        "        out4 = self.layer4(out3)\n",
        "\n",
        "        out = torch.cat([out2, out3, out4], dim=1)\n",
        "        out = F.relu(self.conv(out))\n",
        "        out = self.bn(self.pooling(out))\n",
        "        out = self.linear(out)\n",
        "\n",
        "        out = self.new_component(out)\n",
        "\n",
        "        return out\n",
        "\n",
        "\n",
        "def ECAPA_TDNN_SMALL(feat_dim, emb_dim=256, feat_type='fbank', sr=16000, feature_selection=\"hidden_states\", update_extract=False, config_path=None):\n",
        "    return ECAPA_TDNN(feat_dim=feat_dim, channels=512, emb_dim=emb_dim,\n",
        "                      feat_type=feat_type, sr=sr, feature_selection=feature_selection, update_extract=update_extract, config_path=config_path)"
      ],
      "metadata": {
        "id": "2BGaCC4vSBEP"
      },
      "execution_count": null,
      "outputs": []
    },
    {
      "cell_type": "code",
      "source": [
        "# update_extract=True\n",
        "# model = ECAPA_TDNN_SMALL(feat_dim=1024, feat_type='wavlm_large', config_path=config_path, update_extract=True)\n",
        "MODEL_LIST = ['ecapa_tdnn', 'hubert_large', 'wav2vec2_xlsr', 'unispeech_sat', \"wavlm_base_plus\", \"wavlm_large\"]\n",
        "\n",
        "def init_model(model_name, checkpoint=None, update_component=False):\n",
        "    if model_name == 'unispeech_sat':\n",
        "        config_path = const_path + 'VerificationVoxCeleb1/unispeech_sat.th'\n",
        "        model = ECAPA_TDNN_SMALL(feat_dim=1024, feat_type='unispeech_sat', config_path=config_path)\n",
        "    elif model_name == 'wavlm_base_plus':\n",
        "        config_path = None\n",
        "        model = ECAPA_TDNN_SMALL(feat_dim=768, feat_type='wavlm_base_plus', config_path=config_path)\n",
        "    elif model_name == 'wavlm_large':\n",
        "        config_path = None\n",
        "        model = ECAPA_TDNN_SMALL(feat_dim=1024, feat_type='wavlm_large', config_path=config_path)\n",
        "        if update_component==True:\n",
        "          for param in model.parameters():\n",
        "            param.requires_grad = False\n",
        "          for param in model.new_component.parameters():\n",
        "            param.requires_grad = True\n",
        "\n",
        "    elif model_name == 'hubert_large':\n",
        "        config_path = None\n",
        "        model = ECAPA_TDNN_SMALL(feat_dim=1024, feat_type='hubert_large_ll60k', config_path=config_path)\n",
        "    elif model_name == 'wav2vec2_xlsr':\n",
        "        config_path = None\n",
        "        model = ECAPA_TDNN_SMALL(feat_dim=1024, feat_type='wav2vec2_xlsr', config_path=config_path)\n",
        "    else:\n",
        "        model = ECAPA_TDNN_SMALL(feat_dim=40, feat_type='fbank')\n",
        "\n",
        "    if checkpoint is not None:\n",
        "        state_dict = torch.load(checkpoint, map_location=lambda storage, loc: storage)\n",
        "        model.load_state_dict(state_dict['model'], strict=False)\n",
        "    return model"
      ],
      "metadata": {
        "id": "5YojOet2QcUF"
      },
      "execution_count": null,
      "outputs": []
    },
    {
      "cell_type": "code",
      "source": [
        "'''\n",
        "Some utilized functions\n",
        "These functions are all copied from voxceleb_trainer: https://github.com/clovaai/voxceleb_trainer/blob/master/tuneThreshold.py\n",
        "'''\n",
        "\n",
        "import os, numpy, torch\n",
        "from sklearn import metrics\n",
        "from operator import itemgetter\n",
        "import torch.nn.functional as F\n",
        "\n",
        "\n",
        "def tuneThresholdfromScore(scores, labels, target_fa, target_fr = None):\n",
        "\n",
        "\tfpr, tpr, thresholds = metrics.roc_curve(labels, scores, pos_label=1)\n",
        "\tfnr = 1 - tpr\n",
        "\ttunedThreshold = [];\n",
        "\tif target_fr:\n",
        "\t\tfor tfr in target_fr:\n",
        "\t\t\tidx = numpy.nanargmin(numpy.absolute((tfr - fnr)))\n",
        "\t\t\ttunedThreshold.append([thresholds[idx], fpr[idx], fnr[idx]])\n",
        "\tfor tfa in target_fa:\n",
        "\t\tidx = numpy.nanargmin(numpy.absolute((tfa - fpr))) # numpy.where(fpr<=tfa)[0][-1]\n",
        "\t\ttunedThreshold.append([thresholds[idx], fpr[idx], fnr[idx]])\n",
        "\tidxE = numpy.nanargmin(numpy.absolute((fnr - fpr)))\n",
        "\teer  = max(fpr[idxE],fnr[idxE])*100\n",
        "\n",
        "\treturn tunedThreshold, eer, fpr, fnr\n",
        "\n",
        "# Creates a list of false-negative rates, a list of false-positive rates\n",
        "# and a list of decision thresholds that give those error-rates.\n",
        "def ComputeErrorRates(scores, labels):\n",
        "\n",
        "      # Sort the scores from smallest to largest, and also get the corresponding\n",
        "      # indexes of the sorted scores.  We will treat the sorted scores as the\n",
        "      # thresholds at which the the error-rates are evaluated.\n",
        "      sorted_indexes, thresholds = zip(*sorted(\n",
        "          [(index, threshold) for index, threshold in enumerate(scores)],\n",
        "          key=itemgetter(1)))\n",
        "      sorted_labels = []\n",
        "      labels = [labels[i] for i in sorted_indexes]\n",
        "      fnrs = []\n",
        "      fprs = []\n",
        "\n",
        "      # At the end of this loop, fnrs[i] is the number of errors made by\n",
        "      # incorrectly rejecting scores less than thresholds[i]. And, fprs[i]\n",
        "      # is the total number of times that we have correctly accepted scores\n",
        "      # greater than thresholds[i].\n",
        "      for i in range(0, len(labels)):\n",
        "          if i == 0:\n",
        "              fnrs.append(labels[i])\n",
        "              fprs.append(1 - labels[i])\n",
        "          else:\n",
        "              fnrs.append(fnrs[i-1] + labels[i])\n",
        "              fprs.append(fprs[i-1] + 1 - labels[i])\n",
        "      fnrs_norm = sum(labels)\n",
        "      fprs_norm = len(labels) - fnrs_norm\n",
        "\n",
        "      # Now divide by the total number of false negative errors to\n",
        "      # obtain the false positive rates across all thresholds\n",
        "      fnrs = [x / float(fnrs_norm) for x in fnrs]\n",
        "\n",
        "      # Divide by the total number of corret positives to get the\n",
        "      # true positive rate.  Subtract these quantities from 1 to\n",
        "      # get the false positive rates.\n",
        "      fprs = [1 - x / float(fprs_norm) for x in fprs]\n",
        "      return fnrs, fprs, thresholds\n",
        "\n",
        "# Computes the minimum of the detection cost function.  The comments refer to\n",
        "# equations in Section 3 of the NIST 2016 Speaker Recognition Evaluation Plan.\n",
        "def ComputeMinDcf(fnrs, fprs, thresholds, p_target, c_miss, c_fa):\n",
        "    min_c_det = float(\"inf\")\n",
        "    min_c_det_threshold = thresholds[0]\n",
        "    for i in range(0, len(fnrs)):\n",
        "        # See Equation (2).  it is a weighted sum of false negative\n",
        "        # and false positive errors.\n",
        "        c_det = c_miss * fnrs[i] * p_target + c_fa * fprs[i] * (1 - p_target)\n",
        "        if c_det < min_c_det:\n",
        "            min_c_det = c_det\n",
        "            min_c_det_threshold = thresholds[i]\n",
        "    # See Equations (3) and (4).  Now we normalize the cost.\n",
        "    c_def = min(c_miss * p_target, c_fa * (1 - p_target))\n",
        "    min_dcf = min_c_det / c_def\n",
        "    return min_dcf, min_c_det_threshold\n",
        "\n",
        "def accuracy(output, target, topk=(1,)):\n",
        "\n",
        "\tmaxk = max(topk)\n",
        "\tbatch_size = target.size(0)\n",
        "\t_, pred = output.topk(maxk, 1, True, True)\n",
        "\tpred = pred.t()\n",
        "\tcorrect = pred.eq(target.view(1, -1).expand_as(pred))\n",
        "\tres = []\n",
        "\tfor k in topk:\n",
        "\t\tcorrect_k = correct[:k].view(-1).float().sum(0, keepdim=True)\n",
        "\t\tres.append(correct_k.mul_(100.0 / batch_size))\n",
        "\n",
        "\treturn res"
      ],
      "metadata": {
        "id": "Of1m2ryILnpv"
      },
      "execution_count": null,
      "outputs": []
    },
    {
      "cell_type": "code",
      "source": [
        "# Using optim SGD\n",
        "class ECAPAModel(nn.Module):\n",
        "\tdef __init__(self, lr, lr_decay, C , n_class, m, s, test_step, **kwargs):\n",
        "\t\tsuper(ECAPAModel, self).__init__()\n",
        "\t\t## ECAPA-TDNN\n",
        "\t\tself.speaker_encoder = (init_model('wavlm_large', const_path + 'KLTN/source/wavlm_large/wavlm_large_finetune.pth',update_component=True)).cuda()\n",
        "\t\t## Classifier\n",
        "\t\tself.speaker_loss    = AAMsoftmax(n_class = n_class, m = m, s = s).cuda()\n",
        "\n",
        "\t\tself.optim           = torch.optim.SGD(self.parameters(), lr = lr, weight_decay = 2e-5)\n",
        "\t\tself.scheduler       = torch.optim.lr_scheduler.StepLR(self.optim, step_size = test_step, gamma=lr_decay)\n",
        "\t\tprint(time.strftime(\"%m-%d %H:%M:%S\") + \" Model para number = %.2f\"%(sum(param.numel() for param in self.speaker_encoder.parameters())))\n",
        "\n",
        "\tdef train_network(self, epoch, loader):\n",
        "\t\tself.train()\n",
        "\t\t## Update the learning rate based on the current epcoh\n",
        "\t\tself.scheduler.step(epoch - 1)\n",
        "\t\tindex, top1, loss = 0, 0, 0\n",
        "\t\tlr = self.optim.param_groups[0]['lr']\n",
        "\t\tfor num, (data, labels) in tqdm.tqdm(enumerate(loader, start = 1)):\n",
        "\t\t\tself.zero_grad()\n",
        "\t\t\tlabels            = torch.LongTensor(labels).cuda()\n",
        "\t\t\tspeaker_embedding = self.speaker_encoder.forward(data.cuda())\n",
        "\t\t\tnloss, prec       = self.speaker_loss.forward(speaker_embedding, labels)\n",
        "\t\t\tnloss.backward()\n",
        "\t\t\tself.optim.step()\n",
        "\t\t\tindex += len(labels)\n",
        "\t\t\ttop1 += prec\n",
        "\t\t\tloss += nloss.detach().cpu().numpy()\n",
        "\t\t\tprint(time.strftime(\"%m-%d %H:%M:%S\") + \\\n",
        "\t\t\t\" [%2d] Lr: %5f, Training: %.2f%%, \"    %(epoch, lr, 100 * (num / loader.__len__())) + \\\n",
        "\t\t\t\" Loss: %.5f, ACC: %2.2f%% \\r\"        %(loss/(num), top1/index*len(labels)))\n",
        "\t\t\t# sys.stderr.flush()\n",
        "\t\tprint(\"\\n\")\n",
        "\t\treturn loss/num, lr, top1/index*len(labels)\n",
        "\n",
        "\tdef eval_network(self, eval_list, eval_path):\n",
        "\t\tself.eval()\n",
        "\t\tfiles = []\n",
        "\t\tembeddings = {}\n",
        "\t\tlines = open(eval_list).read().splitlines()\n",
        "\t\tfor line in lines:\n",
        "\t\t\tfiles.append(line.split()[1])\n",
        "\t\t\tfiles.append(line.split()[2])\n",
        "\t\tsetfiles = list(set(files))\n",
        "\t\tsetfiles.sort()\n",
        "\n",
        "\t\tfor idx, file in tqdm.tqdm(enumerate(setfiles), total = len(setfiles)):\n",
        "\t\t\taudio, _  = soundfile.read(os.path.join(eval_path, file))\n",
        "\t\t\t# Full utterance\n",
        "\t\t\tdata_1 = torch.FloatTensor(numpy.stack([audio],axis=0)).cuda()\n",
        "\n",
        "\t\t\t# Spliited utterance matrix\n",
        "\t\t\tmax_audio = 300 * 160 + 240\n",
        "\t\t\tif audio.shape[0] <= max_audio:\n",
        "\t\t\t\tshortage = max_audio - audio.shape[0]\n",
        "\t\t\t\taudio = numpy.pad(audio, (0, shortage), 'wrap')\n",
        "\t\t\tfeats = []\n",
        "\t\t\tstartframe = numpy.linspace(0, audio.shape[0]-max_audio, num=5)\n",
        "\t\t\tfor asf in startframe:\n",
        "\t\t\t\tfeats.append(audio[int(asf):int(asf)+max_audio])\n",
        "\t\t\tfeats = numpy.stack(feats, axis = 0).astype(numpy.float)\n",
        "\t\t\tdata_2 = torch.FloatTensor(feats).cuda()\n",
        "\t\t\t# Speaker embeddings\n",
        "\t\t\twith torch.no_grad():\n",
        "\t\t\t\tembedding_1 = self.speaker_encoder.forward(data_1)\n",
        "\t\t\t\tembedding_1 = F.normalize(embedding_1, p=2, dim=1)\n",
        "\t\t\t\tembedding_2 = self.speaker_encoder.forward(data_2)\n",
        "\t\t\t\tembedding_2 = F.normalize(embedding_2, p=2, dim=1)\n",
        "\t\t\tembeddings[file] = [embedding_1, embedding_2]\n",
        "\t\tscores, labels  = [], []\n",
        "\n",
        "\t\tfor line in lines:\n",
        "\t\t\tembedding_11, embedding_12 = embeddings[line.split()[1]]\n",
        "\t\t\tembedding_21, embedding_22 = embeddings[line.split()[2]]\n",
        "\t\t\t# Compute the scores\n",
        "\t\t\tscore_1 = torch.mean(torch.matmul(embedding_11, embedding_21.T)) # higher is positive\n",
        "\t\t\tscore_2 = torch.mean(torch.matmul(embedding_12, embedding_22.T))\n",
        "\t\t\tscore = (score_1 + score_2) / 2\n",
        "\t\t\tscore = score.detach().cpu().numpy()\n",
        "\t\t\tscores.append(score)\n",
        "\t\t\tlabels.append(int(line.split()[0]))\n",
        "\n",
        "\t\t# Coumpute EER and minDCF\n",
        "\t\tEER = tuneThresholdfromScore(scores, labels, [1, 0.1])[1]\n",
        "\t\tfnrs, fprs, thresholds = ComputeErrorRates(scores, labels)\n",
        "\t\tminDCF, _ = ComputeMinDcf(fnrs, fprs, thresholds, 0.05, 1, 1)\n",
        "\n",
        "\t\treturn EER, minDCF\n",
        "\n",
        "\tdef save_parameters(self, path):\n",
        "\t\ttorch.save(self.state_dict(), path)\n",
        "\n",
        "\tdef load_parameters(self, path):\n",
        "\t\tself_state = self.state_dict()\n",
        "\t\tloaded_state = torch.load(path)\n",
        "\t\tfor name, param in loaded_state.items():\n",
        "\t\t\torigname = name\n",
        "\t\t\tif name not in self_state:\n",
        "\t\t\t\tname = name.replace(\"module.\", \"\")\n",
        "\t\t\t\tif name not in self_state:\n",
        "\t\t\t\t\tprint(\"%s is not in the model.\"%origname)\n",
        "\t\t\t\t\tcontinue\n",
        "\t\t\tif self_state[name].size() != loaded_state[origname].size():\n",
        "\t\t\t\tprint(\"Wrong parameter length: %s, model: %s, loaded: %s\"%(origname, self_state[name].size(), loaded_state[origname].size()))\n",
        "\t\t\t\tcontinue\n",
        "\t\t\tself_state[name].copy_(param)"
      ],
      "metadata": {
        "id": "exxG17f_F4CM"
      },
      "execution_count": null,
      "outputs": []
    },
    {
      "cell_type": "markdown",
      "source": [
        "# Training"
      ],
      "metadata": {
        "id": "wncK0zwHjkKX"
      }
    },
    {
      "cell_type": "code",
      "source": [
        "model = ECAPAModel(lr, lr_decay, C , n_class, m, s, test_step)"
      ],
      "metadata": {
        "id": "A32eegykLt_J"
      },
      "execution_count": null,
      "outputs": []
    },
    {
      "cell_type": "code",
      "source": [
        "model.load_parameters(\"/content/gdrive/MyDrive/KLTN/source/wavlm_large/1dense/model_0030.model\")"
      ],
      "metadata": {
        "id": "Id3SRaXPBdHd"
      },
      "execution_count": null,
      "outputs": []
    },
    {
      "cell_type": "code",
      "source": [
        "score_save_path    = \"/content/gdrive/MyDrive/KLTN/source/wavlm_large/1dense/score.txt\"\n",
        "model_save_path    = \"/content/gdrive/MyDrive/KLTN/source/wavlm_large/1dense\"\n",
        "EERs = []\n",
        "score_file = open(score_save_path, \"a+\")\n",
        "while(1):\n",
        "  print(f\"Epoch: {epoch}\")\n",
        "  loss, lr, acc = model.train_network(epoch, loader = trainLoader)\n",
        "  if epoch % test_step == 0:\n",
        "    model.save_parameters(model_save_path + \"/model_%04d.model\"%epoch)\n",
        "    EERs.append(model.eval_network(eval_list = eval_list, eval_path = eval_path)[0])\n",
        "    print(time.strftime(\"%Y-%m-%d %H:%M:%S\"), \"%d epoch, ACC %2.2f%%, EER %2.2f%%, bestEER %2.2f%%\"%(epoch, acc, EERs[-1], min(EERs)))\n",
        "    score_file.write(\"%d epoch, LR %f, LOSS %f, ACC %2.2f%%, EER %2.2f%%, bestEER %2.2f%%\\n\"%(epoch, lr, loss, acc, EERs[-1], min(EERs)))\n",
        "    score_file.flush()\n",
        "  if epoch >= max_epoch:\n",
        "    quit()\n",
        "  epoch += 1"
      ],
      "metadata": {
        "id": "eAZQXqgcMF3d",
        "colab": {
          "base_uri": "https://localhost:8080/"
        },
        "outputId": "43fafe1b-f0fc-4b09-cd19-acd19c8ab22f"
      },
      "execution_count": null,
      "outputs": [
        {
          "metadata": {
            "tags": null
          },
          "name": "stdout",
          "output_type": "stream",
          "text": [
            "Epoch: 31\n"
          ]
        },
        {
          "metadata": {
            "tags": null
          },
          "name": "stderr",
          "output_type": "stream",
          "text": [
            "/usr/local/lib/python3.10/dist-packages/torch/optim/lr_scheduler.py:139: UserWarning: Detected call of `lr_scheduler.step()` before `optimizer.step()`. In PyTorch 1.1.0 and later, you should call them in the opposite order: `optimizer.step()` before `lr_scheduler.step()`.  Failure to do this will result in PyTorch skipping the first value of the learning rate schedule. See more details at https://pytorch.org/docs/stable/optim.html#how-to-adjust-learning-rate\n",
            "  warnings.warn(\"Detected call of `lr_scheduler.step()` before `optimizer.step()`. \"\n",
            "/usr/local/lib/python3.10/dist-packages/torch/optim/lr_scheduler.py:152: UserWarning: The epoch parameter in `scheduler.step()` was not necessary and is being deprecated where possible. Please use `scheduler.step()` to step the scheduler. During the deprecation, if epoch is different from None, the closed form is used instead of the new chainable form, where available. Please open an issue if you are unable to replicate your use case: https://github.com/pytorch/pytorch/issues/new/choose.\n",
            "  warnings.warn(EPOCH_DEPRECATION_WARNING, UserWarning)\n",
            "1it [00:08,  8.66s/it]"
          ]
        },
        {
          "metadata": {
            "tags": null
          },
          "name": "stdout",
          "output_type": "stream",
          "text": [
            "06-20 04:41:20 [31] Lr: 0.000401, Training: 1.75%,  Loss: 3.13417, ACC: 39.33% \r\n"
          ]
        },
        {
          "metadata": {
            "tags": null
          },
          "name": "stderr",
          "output_type": "stream",
          "text": [
            "\r2it [00:13,  6.44s/it]"
          ]
        },
        {
          "metadata": {
            "tags": null
          },
          "name": "stdout",
          "output_type": "stream",
          "text": [
            "06-20 04:41:25 [31] Lr: 0.000401, Training: 3.51%,  Loss: 3.15274, ACC: 39.00% \r\n"
          ]
        },
        {
          "metadata": {
            "tags": null
          },
          "name": "stderr",
          "output_type": "stream",
          "text": [
            "\r3it [00:18,  5.69s/it]"
          ]
        },
        {
          "metadata": {
            "tags": null
          },
          "name": "stdout",
          "output_type": "stream",
          "text": [
            "06-20 04:41:29 [31] Lr: 0.000401, Training: 5.26%,  Loss: 3.30795, ACC: 38.00% \r\n"
          ]
        },
        {
          "metadata": {
            "tags": null
          },
          "name": "stderr",
          "output_type": "stream",
          "text": [
            "\r4it [00:23,  5.35s/it]"
          ]
        },
        {
          "metadata": {
            "tags": null
          },
          "name": "stdout",
          "output_type": "stream",
          "text": [
            "06-20 04:41:34 [31] Lr: 0.000401, Training: 7.02%,  Loss: 3.35673, ACC: 38.00% \r\n"
          ]
        },
        {
          "metadata": {
            "tags": null
          },
          "name": "stderr",
          "output_type": "stream",
          "text": [
            "\r5it [00:28,  5.18s/it]"
          ]
        },
        {
          "metadata": {
            "tags": null
          },
          "name": "stdout",
          "output_type": "stream",
          "text": [
            "06-20 04:41:39 [31] Lr: 0.000401, Training: 8.77%,  Loss: 3.33730, ACC: 38.27% \r\n"
          ]
        },
        {
          "metadata": {
            "tags": null
          },
          "name": "stderr",
          "output_type": "stream",
          "text": [
            "\r6it [00:32,  5.09s/it]"
          ]
        },
        {
          "metadata": {
            "tags": null
          },
          "name": "stdout",
          "output_type": "stream",
          "text": [
            "06-20 04:41:44 [31] Lr: 0.000401, Training: 10.53%,  Loss: 3.37126, ACC: 37.56% \r\n"
          ]
        },
        {
          "metadata": {
            "tags": null
          },
          "name": "stderr",
          "output_type": "stream",
          "text": [
            "\r7it [00:37,  5.04s/it]"
          ]
        },
        {
          "metadata": {
            "tags": null
          },
          "name": "stdout",
          "output_type": "stream",
          "text": [
            "06-20 04:41:49 [31] Lr: 0.000401, Training: 12.28%,  Loss: 3.39294, ACC: 37.90% \r\n"
          ]
        },
        {
          "metadata": {
            "tags": null
          },
          "name": "stderr",
          "output_type": "stream",
          "text": [
            "\r8it [00:42,  5.01s/it]"
          ]
        },
        {
          "metadata": {
            "tags": null
          },
          "name": "stdout",
          "output_type": "stream",
          "text": [
            "06-20 04:41:54 [31] Lr: 0.000401, Training: 14.04%,  Loss: 3.38929, ACC: 38.67% \r\n"
          ]
        },
        {
          "metadata": {
            "tags": null
          },
          "name": "stderr",
          "output_type": "stream",
          "text": [
            "\r9it [00:47,  5.01s/it]"
          ]
        },
        {
          "metadata": {
            "tags": null
          },
          "name": "stdout",
          "output_type": "stream",
          "text": [
            "06-20 04:41:59 [31] Lr: 0.000401, Training: 15.79%,  Loss: 3.40759, ACC: 38.22% \r\n"
          ]
        },
        {
          "metadata": {
            "tags": null
          },
          "name": "stderr",
          "output_type": "stream",
          "text": [
            "\r10it [00:52,  5.01s/it]"
          ]
        },
        {
          "metadata": {
            "tags": null
          },
          "name": "stdout",
          "output_type": "stream",
          "text": [
            "06-20 04:42:04 [31] Lr: 0.000401, Training: 17.54%,  Loss: 3.37301, ACC: 38.47% \r\n"
          ]
        },
        {
          "metadata": {
            "tags": null
          },
          "name": "stderr",
          "output_type": "stream",
          "text": [
            "\r11it [00:57,  5.01s/it]"
          ]
        },
        {
          "metadata": {
            "tags": null
          },
          "name": "stdout",
          "output_type": "stream",
          "text": [
            "06-20 04:42:09 [31] Lr: 0.000401, Training: 19.30%,  Loss: 3.35442, ACC: 38.91% \r\n"
          ]
        },
        {
          "metadata": {
            "tags": null
          },
          "name": "stderr",
          "output_type": "stream",
          "text": [
            "\r12it [01:02,  5.02s/it]"
          ]
        },
        {
          "metadata": {
            "tags": null
          },
          "name": "stdout",
          "output_type": "stream",
          "text": [
            "06-20 04:42:14 [31] Lr: 0.000401, Training: 21.05%,  Loss: 3.31314, ACC: 39.78% \r\n"
          ]
        },
        {
          "metadata": {
            "tags": null
          },
          "name": "stderr",
          "output_type": "stream",
          "text": [
            "\r13it [01:08,  5.04s/it]"
          ]
        },
        {
          "metadata": {
            "tags": null
          },
          "name": "stdout",
          "output_type": "stream",
          "text": [
            "06-20 04:42:19 [31] Lr: 0.000401, Training: 22.81%,  Loss: 3.30540, ACC: 39.74% \r\n"
          ]
        },
        {
          "metadata": {
            "tags": null
          },
          "name": "stderr",
          "output_type": "stream",
          "text": [
            "\r14it [01:13,  5.07s/it]"
          ]
        },
        {
          "metadata": {
            "tags": null
          },
          "name": "stdout",
          "output_type": "stream",
          "text": [
            "06-20 04:42:24 [31] Lr: 0.000401, Training: 24.56%,  Loss: 3.30477, ACC: 39.48% \r\n"
          ]
        },
        {
          "metadata": {
            "tags": null
          },
          "name": "stderr",
          "output_type": "stream",
          "text": [
            "\r15it [01:18,  5.10s/it]"
          ]
        },
        {
          "metadata": {
            "tags": null
          },
          "name": "stdout",
          "output_type": "stream",
          "text": [
            "06-20 04:42:29 [31] Lr: 0.000401, Training: 26.32%,  Loss: 3.30921, ACC: 39.69% \r\n"
          ]
        },
        {
          "metadata": {
            "tags": null
          },
          "name": "stderr",
          "output_type": "stream",
          "text": [
            "\r16it [01:23,  5.13s/it]"
          ]
        },
        {
          "metadata": {
            "tags": null
          },
          "name": "stdout",
          "output_type": "stream",
          "text": [
            "06-20 04:42:35 [31] Lr: 0.000401, Training: 28.07%,  Loss: 3.32270, ACC: 39.33% \r\n"
          ]
        },
        {
          "metadata": {
            "tags": null
          },
          "name": "stderr",
          "output_type": "stream",
          "text": [
            "\r17it [01:28,  5.16s/it]"
          ]
        },
        {
          "metadata": {
            "tags": null
          },
          "name": "stdout",
          "output_type": "stream",
          "text": [
            "06-20 04:42:40 [31] Lr: 0.000401, Training: 29.82%,  Loss: 3.33635, ACC: 39.06% \r\n"
          ]
        },
        {
          "metadata": {
            "tags": null
          },
          "name": "stderr",
          "output_type": "stream",
          "text": [
            "\r18it [01:33,  5.17s/it]"
          ]
        },
        {
          "metadata": {
            "tags": null
          },
          "name": "stdout",
          "output_type": "stream",
          "text": [
            "06-20 04:42:45 [31] Lr: 0.000401, Training: 31.58%,  Loss: 3.34761, ACC: 39.22% \r\n"
          ]
        },
        {
          "metadata": {
            "tags": null
          },
          "name": "stderr",
          "output_type": "stream",
          "text": [
            "\r19it [01:39,  5.18s/it]"
          ]
        },
        {
          "metadata": {
            "tags": null
          },
          "name": "stdout",
          "output_type": "stream",
          "text": [
            "06-20 04:42:50 [31] Lr: 0.000401, Training: 33.33%,  Loss: 3.35510, ACC: 39.19% \r\n"
          ]
        },
        {
          "metadata": {
            "tags": null
          },
          "name": "stderr",
          "output_type": "stream",
          "text": [
            "\r20it [01:44,  5.18s/it]"
          ]
        },
        {
          "metadata": {
            "tags": null
          },
          "name": "stdout",
          "output_type": "stream",
          "text": [
            "06-20 04:42:55 [31] Lr: 0.000401, Training: 35.09%,  Loss: 3.36285, ACC: 39.27% \r\n"
          ]
        },
        {
          "metadata": {
            "tags": null
          },
          "name": "stderr",
          "output_type": "stream",
          "text": [
            "\r21it [01:49,  5.18s/it]"
          ]
        },
        {
          "metadata": {
            "tags": null
          },
          "name": "stdout",
          "output_type": "stream",
          "text": [
            "06-20 04:43:01 [31] Lr: 0.000401, Training: 36.84%,  Loss: 3.35506, ACC: 39.30% \r\n"
          ]
        },
        {
          "metadata": {
            "tags": null
          },
          "name": "stderr",
          "output_type": "stream",
          "text": [
            "\r22it [01:54,  5.18s/it]"
          ]
        },
        {
          "metadata": {
            "tags": null
          },
          "name": "stdout",
          "output_type": "stream",
          "text": [
            "06-20 04:43:06 [31] Lr: 0.000401, Training: 38.60%,  Loss: 3.35603, ACC: 39.52% \r\n"
          ]
        },
        {
          "metadata": {
            "tags": null
          },
          "name": "stderr",
          "output_type": "stream",
          "text": [
            "\r23it [01:59,  5.18s/it]"
          ]
        },
        {
          "metadata": {
            "tags": null
          },
          "name": "stdout",
          "output_type": "stream",
          "text": [
            "06-20 04:43:11 [31] Lr: 0.000401, Training: 40.35%,  Loss: 3.33993, ACC: 39.71% \r\n"
          ]
        },
        {
          "metadata": {
            "tags": null
          },
          "name": "stderr",
          "output_type": "stream",
          "text": [
            "\r24it [02:05,  5.18s/it]"
          ]
        },
        {
          "metadata": {
            "tags": null
          },
          "name": "stdout",
          "output_type": "stream",
          "text": [
            "06-20 04:43:16 [31] Lr: 0.000401, Training: 42.11%,  Loss: 3.34733, ACC: 39.50% \r\n"
          ]
        },
        {
          "metadata": {
            "tags": null
          },
          "name": "stderr",
          "output_type": "stream",
          "text": [
            "\r25it [02:10,  5.19s/it]"
          ]
        },
        {
          "metadata": {
            "tags": null
          },
          "name": "stdout",
          "output_type": "stream",
          "text": [
            "06-20 04:43:21 [31] Lr: 0.000401, Training: 43.86%,  Loss: 3.34321, ACC: 39.60% \r\n"
          ]
        },
        {
          "metadata": {
            "tags": null
          },
          "name": "stderr",
          "output_type": "stream",
          "text": [
            "\r26it [02:15,  5.20s/it]"
          ]
        },
        {
          "metadata": {
            "tags": null
          },
          "name": "stdout",
          "output_type": "stream",
          "text": [
            "06-20 04:43:27 [31] Lr: 0.000401, Training: 45.61%,  Loss: 3.33531, ACC: 39.74% \r\n"
          ]
        },
        {
          "metadata": {
            "tags": null
          },
          "name": "stderr",
          "output_type": "stream",
          "text": [
            "\r27it [02:20,  5.22s/it]"
          ]
        },
        {
          "metadata": {
            "tags": null
          },
          "name": "stdout",
          "output_type": "stream",
          "text": [
            "06-20 04:43:32 [31] Lr: 0.000401, Training: 47.37%,  Loss: 3.33860, ACC: 39.80% \r\n"
          ]
        },
        {
          "metadata": {
            "tags": null
          },
          "name": "stderr",
          "output_type": "stream",
          "text": [
            "\r28it [02:26,  5.24s/it]"
          ]
        },
        {
          "metadata": {
            "tags": null
          },
          "name": "stdout",
          "output_type": "stream",
          "text": [
            "06-20 04:43:37 [31] Lr: 0.000401, Training: 49.12%,  Loss: 3.33695, ACC: 39.76% \r\n"
          ]
        },
        {
          "metadata": {
            "tags": null
          },
          "name": "stderr",
          "output_type": "stream",
          "text": [
            "\r29it [02:31,  5.28s/it]"
          ]
        },
        {
          "metadata": {
            "tags": null
          },
          "name": "stdout",
          "output_type": "stream",
          "text": [
            "06-20 04:43:42 [31] Lr: 0.000401, Training: 50.88%,  Loss: 3.33615, ACC: 39.91% \r\n"
          ]
        },
        {
          "metadata": {
            "tags": null
          },
          "name": "stderr",
          "output_type": "stream",
          "text": [
            "\r30it [02:36,  5.30s/it]"
          ]
        },
        {
          "metadata": {
            "tags": null
          },
          "name": "stdout",
          "output_type": "stream",
          "text": [
            "06-20 04:43:48 [31] Lr: 0.000401, Training: 52.63%,  Loss: 3.32729, ACC: 39.89% \r\n"
          ]
        },
        {
          "metadata": {
            "tags": null
          },
          "name": "stderr",
          "output_type": "stream",
          "text": [
            "\r31it [02:41,  5.29s/it]"
          ]
        },
        {
          "metadata": {
            "tags": null
          },
          "name": "stdout",
          "output_type": "stream",
          "text": [
            "06-20 04:43:53 [31] Lr: 0.000401, Training: 54.39%,  Loss: 3.33802, ACC: 39.76% \r\n"
          ]
        },
        {
          "metadata": {
            "tags": null
          },
          "name": "stderr",
          "output_type": "stream",
          "text": [
            "\r32it [02:47,  5.28s/it]"
          ]
        },
        {
          "metadata": {
            "tags": null
          },
          "name": "stdout",
          "output_type": "stream",
          "text": [
            "06-20 04:43:58 [31] Lr: 0.000401, Training: 56.14%,  Loss: 3.33738, ACC: 39.69% \r\n"
          ]
        },
        {
          "metadata": {
            "tags": null
          },
          "name": "stderr",
          "output_type": "stream",
          "text": [
            "\r33it [02:52,  5.29s/it]"
          ]
        },
        {
          "metadata": {
            "tags": null
          },
          "name": "stdout",
          "output_type": "stream",
          "text": [
            "06-20 04:44:04 [31] Lr: 0.000401, Training: 57.89%,  Loss: 3.32852, ACC: 39.94% \r\n"
          ]
        },
        {
          "metadata": {
            "tags": null
          },
          "name": "stderr",
          "output_type": "stream",
          "text": [
            "\r34it [02:57,  5.28s/it]"
          ]
        },
        {
          "metadata": {
            "tags": null
          },
          "name": "stdout",
          "output_type": "stream",
          "text": [
            "06-20 04:44:09 [31] Lr: 0.000401, Training: 59.65%,  Loss: 3.31388, ACC: 40.22% \r\n"
          ]
        },
        {
          "metadata": {
            "tags": null
          },
          "name": "stderr",
          "output_type": "stream",
          "text": [
            "\r35it [03:03,  5.28s/it]"
          ]
        },
        {
          "metadata": {
            "tags": null
          },
          "name": "stdout",
          "output_type": "stream",
          "text": [
            "06-20 04:44:14 [31] Lr: 0.000401, Training: 61.40%,  Loss: 3.30398, ACC: 40.32% \r\n"
          ]
        },
        {
          "metadata": {
            "tags": null
          },
          "name": "stderr",
          "output_type": "stream",
          "text": [
            "\r36it [03:08,  5.28s/it]"
          ]
        },
        {
          "metadata": {
            "tags": null
          },
          "name": "stdout",
          "output_type": "stream",
          "text": [
            "06-20 04:44:19 [31] Lr: 0.000401, Training: 63.16%,  Loss: 3.31718, ACC: 40.07% \r\n"
          ]
        },
        {
          "metadata": {
            "tags": null
          },
          "name": "stderr",
          "output_type": "stream",
          "text": [
            "\r37it [03:13,  5.28s/it]"
          ]
        },
        {
          "metadata": {
            "tags": null
          },
          "name": "stdout",
          "output_type": "stream",
          "text": [
            "06-20 04:44:25 [31] Lr: 0.000401, Training: 64.91%,  Loss: 3.31990, ACC: 40.14% \r\n"
          ]
        },
        {
          "metadata": {
            "tags": null
          },
          "name": "stderr",
          "output_type": "stream",
          "text": [
            "\r38it [03:18,  5.28s/it]"
          ]
        },
        {
          "metadata": {
            "tags": null
          },
          "name": "stdout",
          "output_type": "stream",
          "text": [
            "06-20 04:44:30 [31] Lr: 0.000401, Training: 66.67%,  Loss: 3.31814, ACC: 40.32% \r\n"
          ]
        },
        {
          "metadata": {
            "tags": null
          },
          "name": "stderr",
          "output_type": "stream",
          "text": [
            "\r39it [03:24,  5.28s/it]"
          ]
        },
        {
          "metadata": {
            "tags": null
          },
          "name": "stdout",
          "output_type": "stream",
          "text": [
            "06-20 04:44:35 [31] Lr: 0.000401, Training: 68.42%,  Loss: 3.32203, ACC: 40.21% \r\n"
          ]
        },
        {
          "metadata": {
            "tags": null
          },
          "name": "stderr",
          "output_type": "stream",
          "text": [
            "\r40it [03:29,  5.28s/it]"
          ]
        },
        {
          "metadata": {
            "tags": null
          },
          "name": "stdout",
          "output_type": "stream",
          "text": [
            "06-20 04:44:41 [31] Lr: 0.000401, Training: 70.18%,  Loss: 3.32168, ACC: 40.15% \r\n"
          ]
        },
        {
          "metadata": {
            "tags": null
          },
          "name": "stderr",
          "output_type": "stream",
          "text": [
            "\r41it [03:34,  5.29s/it]"
          ]
        },
        {
          "metadata": {
            "tags": null
          },
          "name": "stdout",
          "output_type": "stream",
          "text": [
            "06-20 04:44:46 [31] Lr: 0.000401, Training: 71.93%,  Loss: 3.31152, ACC: 40.26% \r\n"
          ]
        },
        {
          "metadata": {
            "tags": null
          },
          "name": "stderr",
          "output_type": "stream",
          "text": [
            "\r42it [03:40,  5.30s/it]"
          ]
        },
        {
          "metadata": {
            "tags": null
          },
          "name": "stdout",
          "output_type": "stream",
          "text": [
            "06-20 04:44:51 [31] Lr: 0.000401, Training: 73.68%,  Loss: 3.30875, ACC: 40.24% \r\n"
          ]
        },
        {
          "metadata": {
            "tags": null
          },
          "name": "stderr",
          "output_type": "stream",
          "text": [
            "\r43it [03:45,  5.32s/it]"
          ]
        },
        {
          "metadata": {
            "tags": null
          },
          "name": "stdout",
          "output_type": "stream",
          "text": [
            "06-20 04:44:57 [31] Lr: 0.000401, Training: 75.44%,  Loss: 3.31483, ACC: 40.11% \r\n"
          ]
        },
        {
          "metadata": {
            "tags": null
          },
          "name": "stderr",
          "output_type": "stream",
          "text": [
            "\r44it [03:50,  5.34s/it]"
          ]
        },
        {
          "metadata": {
            "tags": null
          },
          "name": "stdout",
          "output_type": "stream",
          "text": [
            "06-20 04:45:02 [31] Lr: 0.000401, Training: 77.19%,  Loss: 3.30849, ACC: 40.20% \r\n"
          ]
        },
        {
          "metadata": {
            "tags": null
          },
          "name": "stderr",
          "output_type": "stream",
          "text": [
            "\r45it [03:56,  5.38s/it]"
          ]
        },
        {
          "metadata": {
            "tags": null
          },
          "name": "stdout",
          "output_type": "stream",
          "text": [
            "06-20 04:45:07 [31] Lr: 0.000401, Training: 78.95%,  Loss: 3.30988, ACC: 40.16% \r\n"
          ]
        },
        {
          "metadata": {
            "tags": null
          },
          "name": "stderr",
          "output_type": "stream",
          "text": [
            "\r46it [04:01,  5.42s/it]"
          ]
        },
        {
          "metadata": {
            "tags": null
          },
          "name": "stdout",
          "output_type": "stream",
          "text": [
            "06-20 04:45:13 [31] Lr: 0.000401, Training: 80.70%,  Loss: 3.31476, ACC: 40.10% \r\n"
          ]
        },
        {
          "metadata": {
            "tags": null
          },
          "name": "stderr",
          "output_type": "stream",
          "text": [
            "\r47it [04:07,  5.48s/it]"
          ]
        },
        {
          "metadata": {
            "tags": null
          },
          "name": "stdout",
          "output_type": "stream",
          "text": [
            "06-20 04:45:19 [31] Lr: 0.000401, Training: 82.46%,  Loss: 3.30766, ACC: 40.26% \r\n"
          ]
        },
        {
          "metadata": {
            "tags": null
          },
          "name": "stderr",
          "output_type": "stream",
          "text": [
            "\r48it [04:13,  5.53s/it]"
          ]
        },
        {
          "metadata": {
            "tags": null
          },
          "name": "stdout",
          "output_type": "stream",
          "text": [
            "06-20 04:45:24 [31] Lr: 0.000401, Training: 84.21%,  Loss: 3.31637, ACC: 40.21% \r\n"
          ]
        },
        {
          "metadata": {
            "tags": null
          },
          "name": "stderr",
          "output_type": "stream",
          "text": [
            "\r49it [04:18,  5.61s/it]"
          ]
        },
        {
          "metadata": {
            "tags": null
          },
          "name": "stdout",
          "output_type": "stream",
          "text": [
            "06-20 04:45:30 [31] Lr: 0.000401, Training: 85.96%,  Loss: 3.31595, ACC: 40.15% \r\n"
          ]
        },
        {
          "metadata": {
            "tags": null
          },
          "name": "stderr",
          "output_type": "stream",
          "text": [
            "\r50it [04:24,  5.65s/it]"
          ]
        },
        {
          "metadata": {
            "tags": null
          },
          "name": "stdout",
          "output_type": "stream",
          "text": [
            "06-20 04:45:36 [31] Lr: 0.000401, Training: 87.72%,  Loss: 3.31671, ACC: 40.16% \r\n"
          ]
        },
        {
          "metadata": {
            "tags": null
          },
          "name": "stderr",
          "output_type": "stream",
          "text": [
            "\r51it [04:30,  5.66s/it]"
          ]
        },
        {
          "metadata": {
            "tags": null
          },
          "name": "stdout",
          "output_type": "stream",
          "text": [
            "06-20 04:45:41 [31] Lr: 0.000401, Training: 89.47%,  Loss: 3.32087, ACC: 40.05% \r\n"
          ]
        },
        {
          "metadata": {
            "tags": null
          },
          "name": "stderr",
          "output_type": "stream",
          "text": [
            "\r52it [04:35,  5.64s/it]"
          ]
        },
        {
          "metadata": {
            "tags": null
          },
          "name": "stdout",
          "output_type": "stream",
          "text": [
            "06-20 04:45:47 [31] Lr: 0.000401, Training: 91.23%,  Loss: 3.31989, ACC: 39.97% \r\n"
          ]
        },
        {
          "metadata": {
            "tags": null
          },
          "name": "stderr",
          "output_type": "stream",
          "text": [
            "\r53it [04:41,  5.62s/it]"
          ]
        },
        {
          "metadata": {
            "tags": null
          },
          "name": "stdout",
          "output_type": "stream",
          "text": [
            "06-20 04:45:53 [31] Lr: 0.000401, Training: 92.98%,  Loss: 3.32160, ACC: 39.77% \r\n"
          ]
        },
        {
          "metadata": {
            "tags": null
          },
          "name": "stderr",
          "output_type": "stream",
          "text": [
            "\r54it [04:47,  5.59s/it]"
          ]
        },
        {
          "metadata": {
            "tags": null
          },
          "name": "stdout",
          "output_type": "stream",
          "text": [
            "06-20 04:45:58 [31] Lr: 0.000401, Training: 94.74%,  Loss: 3.32594, ACC: 39.73% \r\n"
          ]
        },
        {
          "metadata": {
            "tags": null
          },
          "name": "stderr",
          "output_type": "stream",
          "text": [
            "\r55it [04:52,  5.56s/it]"
          ]
        },
        {
          "metadata": {
            "tags": null
          },
          "name": "stdout",
          "output_type": "stream",
          "text": [
            "06-20 04:46:04 [31] Lr: 0.000401, Training: 96.49%,  Loss: 3.32227, ACC: 39.75% \r\n"
          ]
        },
        {
          "metadata": {
            "tags": null
          },
          "name": "stderr",
          "output_type": "stream",
          "text": [
            "\r56it [04:57,  5.53s/it]"
          ]
        },
        {
          "metadata": {
            "tags": null
          },
          "name": "stdout",
          "output_type": "stream",
          "text": [
            "06-20 04:46:09 [31] Lr: 0.000401, Training: 98.25%,  Loss: 3.31541, ACC: 39.80% \r\n"
          ]
        },
        {
          "metadata": {
            "tags": null
          },
          "name": "stderr",
          "output_type": "stream",
          "text": [
            "\r57it [05:01,  5.00s/it]"
          ]
        },
        {
          "metadata": {
            "tags": null
          },
          "name": "stdout",
          "output_type": "stream",
          "text": [
            "06-20 04:46:13 [31] Lr: 0.000401, Training: 100.00%,  Loss: 3.31418, ACC: 29.07% \r\n"
          ]
        },
        {
          "metadata": {
            "tags": null
          },
          "name": "stderr",
          "output_type": "stream",
          "text": [
            "\r57it [05:02,  5.30s/it]\n"
          ]
        },
        {
          "metadata": {
            "tags": null
          },
          "name": "stdout",
          "output_type": "stream",
          "text": [
            "\n",
            "\n"
          ]
        },
        {
          "metadata": {
            "tags": null
          },
          "name": "stderr",
          "output_type": "stream",
          "text": [
            "  0%|          | 0/973 [00:00<?, ?it/s]<ipython-input-15-b61162519fae>:62: DeprecationWarning: `np.float` is a deprecated alias for the builtin `float`. To silence this warning, use `float` by itself. Doing this will not modify any behavior and is safe. If you specifically wanted the numpy scalar type, use `np.float64` here.\n",
            "Deprecated in NumPy 1.20; for more details and guidance: https://numpy.org/devdocs/release/1.20.0-notes.html#deprecations\n",
            "  feats = numpy.stack(feats, axis = 0).astype(numpy.float)\n",
            "100%|██████████| 973/973 [04:33<00:00,  3.56it/s]\n"
          ]
        },
        {
          "metadata": {
            "tags": null
          },
          "name": "stdout",
          "output_type": "stream",
          "text": [
            "2023-06-20 04:50:55 31 epoch, ACC 29.07%, EER 6.43%, bestEER 6.43%\n",
            "Epoch: 32\n"
          ]
        },
        {
          "metadata": {
            "tags": null
          },
          "name": "stderr",
          "output_type": "stream",
          "text": [
            "/usr/local/lib/python3.10/dist-packages/torch/optim/lr_scheduler.py:152: UserWarning: The epoch parameter in `scheduler.step()` was not necessary and is being deprecated where possible. Please use `scheduler.step()` to step the scheduler. During the deprecation, if epoch is different from None, the closed form is used instead of the new chainable form, where available. Please open an issue if you are unable to replicate your use case: https://github.com/pytorch/pytorch/issues/new/choose.\n",
            "  warnings.warn(EPOCH_DEPRECATION_WARNING, UserWarning)\n",
            "0it [00:00, ?it/s]/usr/local/lib/python3.10/dist-packages/torch/nn/functional.py:4999: UserWarning: Support for mismatched key_padding_mask and attn_mask is deprecated. Use same type for both instead.\n",
            "  warnings.warn(\n",
            "1it [00:06,  6.19s/it]"
          ]
        },
        {
          "metadata": {
            "tags": null
          },
          "name": "stdout",
          "output_type": "stream",
          "text": [
            "06-20 04:51:01 [32] Lr: 0.000389, Training: 1.75%,  Loss: 3.64971, ACC: 36.67% \r\n"
          ]
        },
        {
          "metadata": {
            "tags": null
          },
          "name": "stderr",
          "output_type": "stream",
          "text": [
            "\r2it [00:11,  5.79s/it]"
          ]
        },
        {
          "metadata": {
            "tags": null
          },
          "name": "stdout",
          "output_type": "stream",
          "text": [
            "06-20 04:51:06 [32] Lr: 0.000389, Training: 3.51%,  Loss: 3.48819, ACC: 39.00% \r\n"
          ]
        },
        {
          "metadata": {
            "tags": null
          },
          "name": "stderr",
          "output_type": "stream",
          "text": [
            "\r3it [00:17,  5.69s/it]"
          ]
        },
        {
          "metadata": {
            "tags": null
          },
          "name": "stdout",
          "output_type": "stream",
          "text": [
            "06-20 04:51:12 [32] Lr: 0.000389, Training: 5.26%,  Loss: 3.34835, ACC: 40.67% \r\n"
          ]
        },
        {
          "metadata": {
            "tags": null
          },
          "name": "stderr",
          "output_type": "stream",
          "text": [
            "\r4it [00:22,  5.65s/it]"
          ]
        },
        {
          "metadata": {
            "tags": null
          },
          "name": "stdout",
          "output_type": "stream",
          "text": [
            "06-20 04:51:18 [32] Lr: 0.000389, Training: 7.02%,  Loss: 3.43031, ACC: 40.17% \r\n"
          ]
        },
        {
          "metadata": {
            "tags": null
          },
          "name": "stderr",
          "output_type": "stream",
          "text": [
            "\r5it [00:28,  5.65s/it]"
          ]
        },
        {
          "metadata": {
            "tags": null
          },
          "name": "stdout",
          "output_type": "stream",
          "text": [
            "06-20 04:51:23 [32] Lr: 0.000389, Training: 8.77%,  Loss: 3.44716, ACC: 39.20% \r\n"
          ]
        },
        {
          "metadata": {
            "tags": null
          },
          "name": "stderr",
          "output_type": "stream",
          "text": [
            "\r6it [00:34,  5.64s/it]"
          ]
        },
        {
          "metadata": {
            "tags": null
          },
          "name": "stdout",
          "output_type": "stream",
          "text": [
            "06-20 04:51:29 [32] Lr: 0.000389, Training: 10.53%,  Loss: 3.46090, ACC: 38.11% \r\n"
          ]
        },
        {
          "metadata": {
            "tags": null
          },
          "name": "stderr",
          "output_type": "stream",
          "text": [
            "\r7it [00:39,  5.62s/it]"
          ]
        },
        {
          "metadata": {
            "tags": null
          },
          "name": "stdout",
          "output_type": "stream",
          "text": [
            "06-20 04:51:34 [32] Lr: 0.000389, Training: 12.28%,  Loss: 3.33739, ACC: 40.00% \r\n"
          ]
        },
        {
          "metadata": {
            "tags": null
          },
          "name": "stderr",
          "output_type": "stream",
          "text": [
            "\r8it [00:45,  5.61s/it]"
          ]
        },
        {
          "metadata": {
            "tags": null
          },
          "name": "stdout",
          "output_type": "stream",
          "text": [
            "06-20 04:51:40 [32] Lr: 0.000389, Training: 14.04%,  Loss: 3.38251, ACC: 38.83% \r\n"
          ]
        },
        {
          "metadata": {
            "tags": null
          },
          "name": "stderr",
          "output_type": "stream",
          "text": [
            "\r9it [00:50,  5.59s/it]"
          ]
        },
        {
          "metadata": {
            "tags": null
          },
          "name": "stdout",
          "output_type": "stream",
          "text": [
            "06-20 04:51:46 [32] Lr: 0.000389, Training: 15.79%,  Loss: 3.36056, ACC: 39.04% \r\n"
          ]
        },
        {
          "metadata": {
            "tags": null
          },
          "name": "stderr",
          "output_type": "stream",
          "text": [
            "\r10it [00:56,  5.57s/it]"
          ]
        },
        {
          "metadata": {
            "tags": null
          },
          "name": "stdout",
          "output_type": "stream",
          "text": [
            "06-20 04:51:51 [32] Lr: 0.000389, Training: 17.54%,  Loss: 3.39056, ACC: 38.47% \r\n"
          ]
        },
        {
          "metadata": {
            "tags": null
          },
          "name": "stderr",
          "output_type": "stream",
          "text": [
            "\r11it [01:01,  5.57s/it]"
          ]
        },
        {
          "metadata": {
            "tags": null
          },
          "name": "stdout",
          "output_type": "stream",
          "text": [
            "06-20 04:51:57 [32] Lr: 0.000389, Training: 19.30%,  Loss: 3.32916, ACC: 39.33% \r\n"
          ]
        },
        {
          "metadata": {
            "tags": null
          },
          "name": "stderr",
          "output_type": "stream",
          "text": [
            "\r12it [01:07,  5.55s/it]"
          ]
        },
        {
          "metadata": {
            "tags": null
          },
          "name": "stdout",
          "output_type": "stream",
          "text": [
            "06-20 04:52:02 [32] Lr: 0.000389, Training: 21.05%,  Loss: 3.32321, ACC: 39.61% \r\n"
          ]
        },
        {
          "metadata": {
            "tags": null
          },
          "name": "stderr",
          "output_type": "stream",
          "text": [
            "\r13it [01:12,  5.54s/it]"
          ]
        },
        {
          "metadata": {
            "tags": null
          },
          "name": "stdout",
          "output_type": "stream",
          "text": [
            "06-20 04:52:08 [32] Lr: 0.000389, Training: 22.81%,  Loss: 3.30831, ACC: 40.36% \r\n"
          ]
        },
        {
          "metadata": {
            "tags": null
          },
          "name": "stderr",
          "output_type": "stream",
          "text": [
            "\r14it [01:18,  5.54s/it]"
          ]
        },
        {
          "metadata": {
            "tags": null
          },
          "name": "stdout",
          "output_type": "stream",
          "text": [
            "06-20 04:52:13 [32] Lr: 0.000389, Training: 24.56%,  Loss: 3.30767, ACC: 40.24% \r\n"
          ]
        },
        {
          "metadata": {
            "tags": null
          },
          "name": "stderr",
          "output_type": "stream",
          "text": [
            "\r15it [01:24,  5.53s/it]"
          ]
        },
        {
          "metadata": {
            "tags": null
          },
          "name": "stdout",
          "output_type": "stream",
          "text": [
            "06-20 04:52:19 [32] Lr: 0.000389, Training: 26.32%,  Loss: 3.30682, ACC: 40.04% \r\n"
          ]
        },
        {
          "metadata": {
            "tags": null
          },
          "name": "stderr",
          "output_type": "stream",
          "text": [
            "\r16it [01:29,  5.53s/it]"
          ]
        },
        {
          "metadata": {
            "tags": null
          },
          "name": "stdout",
          "output_type": "stream",
          "text": [
            "06-20 04:52:24 [32] Lr: 0.000389, Training: 28.07%,  Loss: 3.27377, ACC: 40.37% \r\n"
          ]
        },
        {
          "metadata": {
            "tags": null
          },
          "name": "stderr",
          "output_type": "stream",
          "text": [
            "\r17it [01:35,  5.55s/it]"
          ]
        },
        {
          "metadata": {
            "tags": null
          },
          "name": "stdout",
          "output_type": "stream",
          "text": [
            "06-20 04:52:30 [32] Lr: 0.000389, Training: 29.82%,  Loss: 3.29972, ACC: 40.12% \r\n"
          ]
        },
        {
          "metadata": {
            "tags": null
          },
          "name": "stderr",
          "output_type": "stream",
          "text": [
            "\r18it [01:40,  5.54s/it]"
          ]
        },
        {
          "metadata": {
            "tags": null
          },
          "name": "stdout",
          "output_type": "stream",
          "text": [
            "06-20 04:52:35 [32] Lr: 0.000389, Training: 31.58%,  Loss: 3.26758, ACC: 40.67% \r\n"
          ]
        },
        {
          "metadata": {
            "tags": null
          },
          "name": "stderr",
          "output_type": "stream",
          "text": [
            "\r19it [01:46,  5.55s/it]"
          ]
        },
        {
          "metadata": {
            "tags": null
          },
          "name": "stdout",
          "output_type": "stream",
          "text": [
            "06-20 04:52:41 [32] Lr: 0.000389, Training: 33.33%,  Loss: 3.24580, ACC: 40.74% \r\n"
          ]
        },
        {
          "metadata": {
            "tags": null
          },
          "name": "stderr",
          "output_type": "stream",
          "text": [
            "\r20it [01:51,  5.56s/it]"
          ]
        },
        {
          "metadata": {
            "tags": null
          },
          "name": "stdout",
          "output_type": "stream",
          "text": [
            "06-20 04:52:47 [32] Lr: 0.000389, Training: 35.09%,  Loss: 3.24132, ACC: 40.77% \r\n"
          ]
        },
        {
          "metadata": {
            "tags": null
          },
          "name": "stderr",
          "output_type": "stream",
          "text": [
            "\r21it [01:57,  5.56s/it]"
          ]
        },
        {
          "metadata": {
            "tags": null
          },
          "name": "stdout",
          "output_type": "stream",
          "text": [
            "06-20 04:52:52 [32] Lr: 0.000389, Training: 36.84%,  Loss: 3.25528, ACC: 40.67% \r\n"
          ]
        },
        {
          "metadata": {
            "tags": null
          },
          "name": "stderr",
          "output_type": "stream",
          "text": [
            "\r22it [02:02,  5.57s/it]"
          ]
        },
        {
          "metadata": {
            "tags": null
          },
          "name": "stdout",
          "output_type": "stream",
          "text": [
            "06-20 04:52:58 [32] Lr: 0.000389, Training: 38.60%,  Loss: 3.25725, ACC: 40.76% \r\n"
          ]
        },
        {
          "metadata": {
            "tags": null
          },
          "name": "stderr",
          "output_type": "stream",
          "text": [
            "\r23it [02:08,  5.57s/it]"
          ]
        },
        {
          "metadata": {
            "tags": null
          },
          "name": "stdout",
          "output_type": "stream",
          "text": [
            "06-20 04:53:03 [32] Lr: 0.000389, Training: 40.35%,  Loss: 3.28154, ACC: 40.43% \r\n"
          ]
        },
        {
          "metadata": {
            "tags": null
          },
          "name": "stderr",
          "output_type": "stream",
          "text": [
            "\r24it [02:14,  5.57s/it]"
          ]
        },
        {
          "metadata": {
            "tags": null
          },
          "name": "stdout",
          "output_type": "stream",
          "text": [
            "06-20 04:53:09 [32] Lr: 0.000389, Training: 42.11%,  Loss: 3.25463, ACC: 40.64% \r\n"
          ]
        },
        {
          "metadata": {
            "tags": null
          },
          "name": "stderr",
          "output_type": "stream",
          "text": [
            "\r25it [02:19,  5.57s/it]"
          ]
        },
        {
          "metadata": {
            "tags": null
          },
          "name": "stdout",
          "output_type": "stream",
          "text": [
            "06-20 04:53:14 [32] Lr: 0.000389, Training: 43.86%,  Loss: 3.24670, ACC: 40.77% \r\n"
          ]
        },
        {
          "metadata": {
            "tags": null
          },
          "name": "stderr",
          "output_type": "stream",
          "text": [
            "\r26it [02:25,  5.57s/it]"
          ]
        },
        {
          "metadata": {
            "tags": null
          },
          "name": "stdout",
          "output_type": "stream",
          "text": [
            "06-20 04:53:20 [32] Lr: 0.000389, Training: 45.61%,  Loss: 3.23692, ACC: 41.00% \r\n"
          ]
        },
        {
          "metadata": {
            "tags": null
          },
          "name": "stderr",
          "output_type": "stream",
          "text": [
            "\r27it [02:30,  5.57s/it]"
          ]
        },
        {
          "metadata": {
            "tags": null
          },
          "name": "stdout",
          "output_type": "stream",
          "text": [
            "06-20 04:53:26 [32] Lr: 0.000389, Training: 47.37%,  Loss: 3.23770, ACC: 40.96% \r\n"
          ]
        },
        {
          "metadata": {
            "tags": null
          },
          "name": "stderr",
          "output_type": "stream",
          "text": [
            "\r28it [02:36,  5.56s/it]"
          ]
        },
        {
          "metadata": {
            "tags": null
          },
          "name": "stdout",
          "output_type": "stream",
          "text": [
            "06-20 04:53:31 [32] Lr: 0.000389, Training: 49.12%,  Loss: 3.24028, ACC: 40.83% \r\n"
          ]
        },
        {
          "metadata": {
            "tags": null
          },
          "name": "stderr",
          "output_type": "stream",
          "text": [
            "\r29it [02:41,  5.56s/it]"
          ]
        },
        {
          "metadata": {
            "tags": null
          },
          "name": "stdout",
          "output_type": "stream",
          "text": [
            "06-20 04:53:37 [32] Lr: 0.000389, Training: 50.88%,  Loss: 3.24765, ACC: 40.74% \r\n"
          ]
        },
        {
          "metadata": {
            "tags": null
          },
          "name": "stderr",
          "output_type": "stream",
          "text": [
            "\r30it [02:47,  5.56s/it]"
          ]
        },
        {
          "metadata": {
            "tags": null
          },
          "name": "stdout",
          "output_type": "stream",
          "text": [
            "06-20 04:53:42 [32] Lr: 0.000389, Training: 52.63%,  Loss: 3.25224, ACC: 40.84% \r\n"
          ]
        },
        {
          "metadata": {
            "tags": null
          },
          "name": "stderr",
          "output_type": "stream",
          "text": [
            "\r31it [02:52,  5.55s/it]"
          ]
        },
        {
          "metadata": {
            "tags": null
          },
          "name": "stdout",
          "output_type": "stream",
          "text": [
            "06-20 04:53:48 [32] Lr: 0.000389, Training: 54.39%,  Loss: 3.24610, ACC: 40.88% \r\n"
          ]
        },
        {
          "metadata": {
            "tags": null
          },
          "name": "stderr",
          "output_type": "stream",
          "text": [
            "\r32it [02:58,  5.55s/it]"
          ]
        },
        {
          "metadata": {
            "tags": null
          },
          "name": "stdout",
          "output_type": "stream",
          "text": [
            "06-20 04:53:53 [32] Lr: 0.000389, Training: 56.14%,  Loss: 3.25090, ACC: 40.67% \r\n"
          ]
        },
        {
          "metadata": {
            "tags": null
          },
          "name": "stderr",
          "output_type": "stream",
          "text": [
            "\r33it [03:04,  5.55s/it]"
          ]
        },
        {
          "metadata": {
            "tags": null
          },
          "name": "stdout",
          "output_type": "stream",
          "text": [
            "06-20 04:53:59 [32] Lr: 0.000389, Training: 57.89%,  Loss: 3.26344, ACC: 40.42% \r\n"
          ]
        },
        {
          "metadata": {
            "tags": null
          },
          "name": "stderr",
          "output_type": "stream",
          "text": [
            "\r34it [03:09,  5.54s/it]"
          ]
        },
        {
          "metadata": {
            "tags": null
          },
          "name": "stdout",
          "output_type": "stream",
          "text": [
            "06-20 04:54:04 [32] Lr: 0.000389, Training: 59.65%,  Loss: 3.26421, ACC: 40.35% \r\n"
          ]
        },
        {
          "metadata": {
            "tags": null
          },
          "name": "stderr",
          "output_type": "stream",
          "text": [
            "\r35it [03:15,  5.55s/it]"
          ]
        },
        {
          "metadata": {
            "tags": null
          },
          "name": "stdout",
          "output_type": "stream",
          "text": [
            "06-20 04:54:10 [32] Lr: 0.000389, Training: 61.40%,  Loss: 3.25725, ACC: 40.53% \r\n"
          ]
        },
        {
          "metadata": {
            "tags": null
          },
          "name": "stderr",
          "output_type": "stream",
          "text": [
            "\r36it [03:20,  5.55s/it]"
          ]
        },
        {
          "metadata": {
            "tags": null
          },
          "name": "stdout",
          "output_type": "stream",
          "text": [
            "06-20 04:54:15 [32] Lr: 0.000389, Training: 63.16%,  Loss: 3.26655, ACC: 40.28% \r\n"
          ]
        },
        {
          "metadata": {
            "tags": null
          },
          "name": "stderr",
          "output_type": "stream",
          "text": [
            "\r37it [03:26,  5.54s/it]"
          ]
        },
        {
          "metadata": {
            "tags": null
          },
          "name": "stdout",
          "output_type": "stream",
          "text": [
            "06-20 04:54:21 [32] Lr: 0.000389, Training: 64.91%,  Loss: 3.25888, ACC: 40.45% \r\n"
          ]
        },
        {
          "metadata": {
            "tags": null
          },
          "name": "stderr",
          "output_type": "stream",
          "text": [
            "\r38it [03:31,  5.54s/it]"
          ]
        },
        {
          "metadata": {
            "tags": null
          },
          "name": "stdout",
          "output_type": "stream",
          "text": [
            "06-20 04:54:27 [32] Lr: 0.000389, Training: 66.67%,  Loss: 3.25399, ACC: 40.42% \r\n"
          ]
        },
        {
          "metadata": {
            "tags": null
          },
          "name": "stderr",
          "output_type": "stream",
          "text": [
            "\r39it [03:37,  5.54s/it]"
          ]
        },
        {
          "metadata": {
            "tags": null
          },
          "name": "stdout",
          "output_type": "stream",
          "text": [
            "06-20 04:54:32 [32] Lr: 0.000389, Training: 68.42%,  Loss: 3.24570, ACC: 40.56% \r\n"
          ]
        },
        {
          "metadata": {
            "tags": null
          },
          "name": "stderr",
          "output_type": "stream",
          "text": [
            "\r40it [03:42,  5.54s/it]"
          ]
        },
        {
          "metadata": {
            "tags": null
          },
          "name": "stdout",
          "output_type": "stream",
          "text": [
            "06-20 04:54:38 [32] Lr: 0.000389, Training: 70.18%,  Loss: 3.24756, ACC: 40.45% \r\n"
          ]
        },
        {
          "metadata": {
            "tags": null
          },
          "name": "stderr",
          "output_type": "stream",
          "text": [
            "\r41it [03:48,  5.53s/it]"
          ]
        },
        {
          "metadata": {
            "tags": null
          },
          "name": "stdout",
          "output_type": "stream",
          "text": [
            "06-20 04:54:43 [32] Lr: 0.000389, Training: 71.93%,  Loss: 3.24706, ACC: 40.47% \r\n"
          ]
        },
        {
          "metadata": {
            "tags": null
          },
          "name": "stderr",
          "output_type": "stream",
          "text": [
            "\r42it [03:53,  5.54s/it]"
          ]
        },
        {
          "metadata": {
            "tags": null
          },
          "name": "stdout",
          "output_type": "stream",
          "text": [
            "06-20 04:54:49 [32] Lr: 0.000389, Training: 73.68%,  Loss: 3.25398, ACC: 40.37% \r\n"
          ]
        },
        {
          "metadata": {
            "tags": null
          },
          "name": "stderr",
          "output_type": "stream",
          "text": [
            "\r43it [03:59,  5.54s/it]"
          ]
        },
        {
          "metadata": {
            "tags": null
          },
          "name": "stdout",
          "output_type": "stream",
          "text": [
            "06-20 04:54:54 [32] Lr: 0.000389, Training: 75.44%,  Loss: 3.24605, ACC: 40.51% \r\n"
          ]
        },
        {
          "metadata": {
            "tags": null
          },
          "name": "stderr",
          "output_type": "stream",
          "text": [
            "\r44it [04:04,  5.53s/it]"
          ]
        },
        {
          "metadata": {
            "tags": null
          },
          "name": "stdout",
          "output_type": "stream",
          "text": [
            "06-20 04:55:00 [32] Lr: 0.000389, Training: 77.19%,  Loss: 3.24472, ACC: 40.53% \r\n"
          ]
        },
        {
          "metadata": {
            "tags": null
          },
          "name": "stderr",
          "output_type": "stream",
          "text": [
            "\r45it [04:10,  5.54s/it]"
          ]
        },
        {
          "metadata": {
            "tags": null
          },
          "name": "stdout",
          "output_type": "stream",
          "text": [
            "06-20 04:55:05 [32] Lr: 0.000389, Training: 78.95%,  Loss: 3.24707, ACC: 40.46% \r\n"
          ]
        },
        {
          "metadata": {
            "tags": null
          },
          "name": "stderr",
          "output_type": "stream",
          "text": [
            "\r46it [04:16,  5.53s/it]"
          ]
        },
        {
          "metadata": {
            "tags": null
          },
          "name": "stdout",
          "output_type": "stream",
          "text": [
            "06-20 04:55:11 [32] Lr: 0.000389, Training: 80.70%,  Loss: 3.25756, ACC: 40.38% \r\n"
          ]
        },
        {
          "metadata": {
            "tags": null
          },
          "name": "stderr",
          "output_type": "stream",
          "text": [
            "\r47it [04:21,  5.54s/it]"
          ]
        },
        {
          "metadata": {
            "tags": null
          },
          "name": "stdout",
          "output_type": "stream",
          "text": [
            "06-20 04:55:16 [32] Lr: 0.000389, Training: 82.46%,  Loss: 3.25493, ACC: 40.34% \r\n"
          ]
        },
        {
          "metadata": {
            "tags": null
          },
          "name": "stderr",
          "output_type": "stream",
          "text": [
            "\r48it [04:27,  5.55s/it]"
          ]
        },
        {
          "metadata": {
            "tags": null
          },
          "name": "stdout",
          "output_type": "stream",
          "text": [
            "06-20 04:55:22 [32] Lr: 0.000389, Training: 84.21%,  Loss: 3.24747, ACC: 40.49% \r\n"
          ]
        },
        {
          "metadata": {
            "tags": null
          },
          "name": "stderr",
          "output_type": "stream",
          "text": [
            "\r49it [04:32,  5.54s/it]"
          ]
        },
        {
          "metadata": {
            "tags": null
          },
          "name": "stdout",
          "output_type": "stream",
          "text": [
            "06-20 04:55:27 [32] Lr: 0.000389, Training: 85.96%,  Loss: 3.25227, ACC: 40.50% \r\n"
          ]
        },
        {
          "metadata": {
            "tags": null
          },
          "name": "stderr",
          "output_type": "stream",
          "text": [
            "\r50it [04:38,  5.54s/it]"
          ]
        },
        {
          "metadata": {
            "tags": null
          },
          "name": "stdout",
          "output_type": "stream",
          "text": [
            "06-20 04:55:33 [32] Lr: 0.000389, Training: 87.72%,  Loss: 3.25603, ACC: 40.40% \r\n"
          ]
        },
        {
          "metadata": {
            "tags": null
          },
          "name": "stderr",
          "output_type": "stream",
          "text": [
            "\r51it [04:43,  5.55s/it]"
          ]
        },
        {
          "metadata": {
            "tags": null
          },
          "name": "stdout",
          "output_type": "stream",
          "text": [
            "06-20 04:55:39 [32] Lr: 0.000389, Training: 89.47%,  Loss: 3.25526, ACC: 40.43% \r\n"
          ]
        },
        {
          "metadata": {
            "tags": null
          },
          "name": "stderr",
          "output_type": "stream",
          "text": [
            "\r52it [04:49,  5.55s/it]"
          ]
        },
        {
          "metadata": {
            "tags": null
          },
          "name": "stdout",
          "output_type": "stream",
          "text": [
            "06-20 04:55:44 [32] Lr: 0.000389, Training: 91.23%,  Loss: 3.25295, ACC: 40.49% \r\n"
          ]
        },
        {
          "metadata": {
            "tags": null
          },
          "name": "stderr",
          "output_type": "stream",
          "text": [
            "\r53it [04:54,  5.55s/it]"
          ]
        },
        {
          "metadata": {
            "tags": null
          },
          "name": "stdout",
          "output_type": "stream",
          "text": [
            "06-20 04:55:50 [32] Lr: 0.000389, Training: 92.98%,  Loss: 3.25733, ACC: 40.36% \r\n"
          ]
        },
        {
          "metadata": {
            "tags": null
          },
          "name": "stderr",
          "output_type": "stream",
          "text": [
            "\r54it [05:00,  5.54s/it]"
          ]
        },
        {
          "metadata": {
            "tags": null
          },
          "name": "stdout",
          "output_type": "stream",
          "text": [
            "06-20 04:55:55 [32] Lr: 0.000389, Training: 94.74%,  Loss: 3.25623, ACC: 40.36% \r\n"
          ]
        },
        {
          "metadata": {
            "tags": null
          },
          "name": "stderr",
          "output_type": "stream",
          "text": [
            "\r55it [05:05,  5.54s/it]"
          ]
        },
        {
          "metadata": {
            "tags": null
          },
          "name": "stdout",
          "output_type": "stream",
          "text": [
            "06-20 04:56:01 [32] Lr: 0.000389, Training: 96.49%,  Loss: 3.25368, ACC: 40.34% \r\n"
          ]
        },
        {
          "metadata": {
            "tags": null
          },
          "name": "stderr",
          "output_type": "stream",
          "text": [
            "\r56it [05:11,  5.54s/it]"
          ]
        },
        {
          "metadata": {
            "tags": null
          },
          "name": "stdout",
          "output_type": "stream",
          "text": [
            "06-20 04:56:06 [32] Lr: 0.000389, Training: 98.25%,  Loss: 3.25265, ACC: 40.44% \r\n"
          ]
        },
        {
          "metadata": {
            "tags": null
          },
          "name": "stderr",
          "output_type": "stream",
          "text": [
            "\r57it [05:15,  5.03s/it]"
          ]
        },
        {
          "metadata": {
            "tags": null
          },
          "name": "stdout",
          "output_type": "stream",
          "text": [
            "06-20 04:56:10 [32] Lr: 0.000389, Training: 100.00%,  Loss: 3.25498, ACC: 29.50% \r\n"
          ]
        },
        {
          "metadata": {
            "tags": null
          },
          "name": "stderr",
          "output_type": "stream",
          "text": [
            "\r57it [05:15,  5.54s/it]\n"
          ]
        },
        {
          "metadata": {
            "tags": null
          },
          "name": "stdout",
          "output_type": "stream",
          "text": [
            "\n",
            "\n"
          ]
        },
        {
          "metadata": {
            "tags": null
          },
          "name": "stderr",
          "output_type": "stream",
          "text": [
            "  0%|          | 0/973 [00:00<?, ?it/s]<ipython-input-15-b61162519fae>:62: DeprecationWarning: `np.float` is a deprecated alias for the builtin `float`. To silence this warning, use `float` by itself. Doing this will not modify any behavior and is safe. If you specifically wanted the numpy scalar type, use `np.float64` here.\n",
            "Deprecated in NumPy 1.20; for more details and guidance: https://numpy.org/devdocs/release/1.20.0-notes.html#deprecations\n",
            "  feats = numpy.stack(feats, axis = 0).astype(numpy.float)\n",
            "100%|██████████| 973/973 [04:30<00:00,  3.60it/s]\n"
          ]
        },
        {
          "metadata": {
            "tags": null
          },
          "name": "stdout",
          "output_type": "stream",
          "text": [
            "2023-06-20 05:00:49 32 epoch, ACC 29.50%, EER 6.38%, bestEER 6.38%\n",
            "Epoch: 33\n"
          ]
        },
        {
          "metadata": {
            "tags": null
          },
          "name": "stderr",
          "output_type": "stream",
          "text": [
            "/usr/local/lib/python3.10/dist-packages/torch/optim/lr_scheduler.py:152: UserWarning: The epoch parameter in `scheduler.step()` was not necessary and is being deprecated where possible. Please use `scheduler.step()` to step the scheduler. During the deprecation, if epoch is different from None, the closed form is used instead of the new chainable form, where available. Please open an issue if you are unable to replicate your use case: https://github.com/pytorch/pytorch/issues/new/choose.\n",
            "  warnings.warn(EPOCH_DEPRECATION_WARNING, UserWarning)\n",
            "0it [00:00, ?it/s]/usr/local/lib/python3.10/dist-packages/torch/nn/functional.py:4999: UserWarning: Support for mismatched key_padding_mask and attn_mask is deprecated. Use same type for both instead.\n",
            "  warnings.warn(\n",
            "1it [00:06,  6.60s/it]"
          ]
        },
        {
          "metadata": {
            "tags": null
          },
          "name": "stdout",
          "output_type": "stream",
          "text": [
            "06-20 05:00:56 [33] Lr: 0.000377, Training: 1.75%,  Loss: 3.17377, ACC: 42.00% \r\n"
          ]
        },
        {
          "metadata": {
            "tags": null
          },
          "name": "stderr",
          "output_type": "stream",
          "text": [
            "\r2it [00:12,  5.96s/it]"
          ]
        },
        {
          "metadata": {
            "tags": null
          },
          "name": "stdout",
          "output_type": "stream",
          "text": [
            "06-20 05:01:01 [33] Lr: 0.000377, Training: 3.51%,  Loss: 3.14880, ACC: 42.67% \r\n"
          ]
        },
        {
          "metadata": {
            "tags": null
          },
          "name": "stderr",
          "output_type": "stream",
          "text": [
            "\r3it [00:17,  5.79s/it]"
          ]
        },
        {
          "metadata": {
            "tags": null
          },
          "name": "stdout",
          "output_type": "stream",
          "text": [
            "06-20 05:01:07 [33] Lr: 0.000377, Training: 5.26%,  Loss: 3.16510, ACC: 41.33% \r\n"
          ]
        },
        {
          "metadata": {
            "tags": null
          },
          "name": "stderr",
          "output_type": "stream",
          "text": [
            "\r4it [00:23,  5.72s/it]"
          ]
        },
        {
          "metadata": {
            "tags": null
          },
          "name": "stdout",
          "output_type": "stream",
          "text": [
            "06-20 05:01:13 [33] Lr: 0.000377, Training: 7.02%,  Loss: 3.20384, ACC: 40.50% \r\n"
          ]
        },
        {
          "metadata": {
            "tags": null
          },
          "name": "stderr",
          "output_type": "stream",
          "text": [
            "\r5it [00:28,  5.69s/it]"
          ]
        },
        {
          "metadata": {
            "tags": null
          },
          "name": "stdout",
          "output_type": "stream",
          "text": [
            "06-20 05:01:18 [33] Lr: 0.000377, Training: 8.77%,  Loss: 3.18451, ACC: 41.47% \r\n"
          ]
        },
        {
          "metadata": {
            "tags": null
          },
          "name": "stderr",
          "output_type": "stream",
          "text": [
            "\r6it [00:34,  5.67s/it]"
          ]
        },
        {
          "metadata": {
            "tags": null
          },
          "name": "stdout",
          "output_type": "stream",
          "text": [
            "06-20 05:01:24 [33] Lr: 0.000377, Training: 10.53%,  Loss: 3.22732, ACC: 41.22% \r\n"
          ]
        },
        {
          "metadata": {
            "tags": null
          },
          "name": "stderr",
          "output_type": "stream",
          "text": [
            "\r7it [00:40,  5.65s/it]"
          ]
        },
        {
          "metadata": {
            "tags": null
          },
          "name": "stdout",
          "output_type": "stream",
          "text": [
            "06-20 05:01:30 [33] Lr: 0.000377, Training: 12.28%,  Loss: 3.24766, ACC: 41.05% \r\n"
          ]
        },
        {
          "metadata": {
            "tags": null
          },
          "name": "stderr",
          "output_type": "stream",
          "text": [
            "\r8it [00:45,  5.64s/it]"
          ]
        },
        {
          "metadata": {
            "tags": null
          },
          "name": "stdout",
          "output_type": "stream",
          "text": [
            "06-20 05:01:35 [33] Lr: 0.000377, Training: 14.04%,  Loss: 3.20898, ACC: 40.83% \r\n"
          ]
        },
        {
          "metadata": {
            "tags": null
          },
          "name": "stderr",
          "output_type": "stream",
          "text": [
            "\r9it [00:51,  5.62s/it]"
          ]
        },
        {
          "metadata": {
            "tags": null
          },
          "name": "stdout",
          "output_type": "stream",
          "text": [
            "06-20 05:01:41 [33] Lr: 0.000377, Training: 15.79%,  Loss: 3.20985, ACC: 41.26% \r\n"
          ]
        },
        {
          "metadata": {
            "tags": null
          },
          "name": "stderr",
          "output_type": "stream",
          "text": [
            "\r10it [00:56,  5.60s/it]"
          ]
        },
        {
          "metadata": {
            "tags": null
          },
          "name": "stdout",
          "output_type": "stream",
          "text": [
            "06-20 05:01:46 [33] Lr: 0.000377, Training: 17.54%,  Loss: 3.24543, ACC: 40.73% \r\n"
          ]
        },
        {
          "metadata": {
            "tags": null
          },
          "name": "stderr",
          "output_type": "stream",
          "text": [
            "\r11it [01:02,  5.59s/it]"
          ]
        },
        {
          "metadata": {
            "tags": null
          },
          "name": "stdout",
          "output_type": "stream",
          "text": [
            "06-20 05:01:52 [33] Lr: 0.000377, Training: 19.30%,  Loss: 3.25129, ACC: 40.79% \r\n"
          ]
        },
        {
          "metadata": {
            "tags": null
          },
          "name": "stderr",
          "output_type": "stream",
          "text": [
            "\r12it [01:08,  5.57s/it]"
          ]
        },
        {
          "metadata": {
            "tags": null
          },
          "name": "stdout",
          "output_type": "stream",
          "text": [
            "06-20 05:01:57 [33] Lr: 0.000377, Training: 21.05%,  Loss: 3.25440, ACC: 41.11% \r\n"
          ]
        },
        {
          "metadata": {
            "tags": null
          },
          "name": "stderr",
          "output_type": "stream",
          "text": [
            "\r13it [01:13,  5.55s/it]"
          ]
        },
        {
          "metadata": {
            "tags": null
          },
          "name": "stdout",
          "output_type": "stream",
          "text": [
            "06-20 05:02:03 [33] Lr: 0.000377, Training: 22.81%,  Loss: 3.27680, ACC: 40.97% \r\n"
          ]
        },
        {
          "metadata": {
            "tags": null
          },
          "name": "stderr",
          "output_type": "stream",
          "text": [
            "\r14it [01:19,  5.56s/it]"
          ]
        },
        {
          "metadata": {
            "tags": null
          },
          "name": "stdout",
          "output_type": "stream",
          "text": [
            "06-20 05:02:08 [33] Lr: 0.000377, Training: 24.56%,  Loss: 3.28623, ACC: 40.43% \r\n"
          ]
        },
        {
          "metadata": {
            "tags": null
          },
          "name": "stderr",
          "output_type": "stream",
          "text": [
            "\r15it [01:24,  5.55s/it]"
          ]
        },
        {
          "metadata": {
            "tags": null
          },
          "name": "stdout",
          "output_type": "stream",
          "text": [
            "06-20 05:02:14 [33] Lr: 0.000377, Training: 26.32%,  Loss: 3.29384, ACC: 40.36% \r\n"
          ]
        },
        {
          "metadata": {
            "tags": null
          },
          "name": "stderr",
          "output_type": "stream",
          "text": [
            "\r16it [01:30,  5.55s/it]"
          ]
        },
        {
          "metadata": {
            "tags": null
          },
          "name": "stdout",
          "output_type": "stream",
          "text": [
            "06-20 05:02:20 [33] Lr: 0.000377, Training: 28.07%,  Loss: 3.28208, ACC: 40.62% \r\n"
          ]
        },
        {
          "metadata": {
            "tags": null
          },
          "name": "stderr",
          "output_type": "stream",
          "text": [
            "\r17it [01:35,  5.55s/it]"
          ]
        },
        {
          "metadata": {
            "tags": null
          },
          "name": "stdout",
          "output_type": "stream",
          "text": [
            "06-20 05:02:25 [33] Lr: 0.000377, Training: 29.82%,  Loss: 3.27074, ACC: 40.98% \r\n"
          ]
        },
        {
          "metadata": {
            "tags": null
          },
          "name": "stderr",
          "output_type": "stream",
          "text": [
            "\r18it [01:41,  5.55s/it]"
          ]
        },
        {
          "metadata": {
            "tags": null
          },
          "name": "stdout",
          "output_type": "stream",
          "text": [
            "06-20 05:02:31 [33] Lr: 0.000377, Training: 31.58%,  Loss: 3.27180, ACC: 40.89% \r\n"
          ]
        },
        {
          "metadata": {
            "tags": null
          },
          "name": "stderr",
          "output_type": "stream",
          "text": [
            "\r19it [01:46,  5.55s/it]"
          ]
        },
        {
          "metadata": {
            "tags": null
          },
          "name": "stdout",
          "output_type": "stream",
          "text": [
            "06-20 05:02:36 [33] Lr: 0.000377, Training: 33.33%,  Loss: 3.25746, ACC: 41.23% \r\n"
          ]
        },
        {
          "metadata": {
            "tags": null
          },
          "name": "stderr",
          "output_type": "stream",
          "text": [
            "\r20it [01:52,  5.55s/it]"
          ]
        },
        {
          "metadata": {
            "tags": null
          },
          "name": "stdout",
          "output_type": "stream",
          "text": [
            "06-20 05:02:42 [33] Lr: 0.000377, Training: 35.09%,  Loss: 3.23563, ACC: 41.17% \r\n"
          ]
        },
        {
          "metadata": {
            "tags": null
          },
          "name": "stderr",
          "output_type": "stream",
          "text": [
            "\r21it [01:57,  5.55s/it]"
          ]
        },
        {
          "metadata": {
            "tags": null
          },
          "name": "stdout",
          "output_type": "stream",
          "text": [
            "06-20 05:02:47 [33] Lr: 0.000377, Training: 36.84%,  Loss: 3.22261, ACC: 41.43% \r\n"
          ]
        },
        {
          "metadata": {
            "tags": null
          },
          "name": "stderr",
          "output_type": "stream",
          "text": [
            "\r22it [02:03,  5.56s/it]"
          ]
        },
        {
          "metadata": {
            "tags": null
          },
          "name": "stdout",
          "output_type": "stream",
          "text": [
            "06-20 05:02:53 [33] Lr: 0.000377, Training: 38.60%,  Loss: 3.23408, ACC: 41.24% \r\n"
          ]
        },
        {
          "metadata": {
            "tags": null
          },
          "name": "stderr",
          "output_type": "stream",
          "text": [
            "\r23it [02:09,  5.56s/it]"
          ]
        },
        {
          "metadata": {
            "tags": null
          },
          "name": "stdout",
          "output_type": "stream",
          "text": [
            "06-20 05:02:58 [33] Lr: 0.000377, Training: 40.35%,  Loss: 3.23878, ACC: 41.28% \r\n"
          ]
        },
        {
          "metadata": {
            "tags": null
          },
          "name": "stderr",
          "output_type": "stream",
          "text": [
            "\r24it [02:14,  5.56s/it]"
          ]
        },
        {
          "metadata": {
            "tags": null
          },
          "name": "stdout",
          "output_type": "stream",
          "text": [
            "06-20 05:03:04 [33] Lr: 0.000377, Training: 42.11%,  Loss: 3.22576, ACC: 41.39% \r\n"
          ]
        },
        {
          "metadata": {
            "tags": null
          },
          "name": "stderr",
          "output_type": "stream",
          "text": [
            "\r25it [02:20,  5.56s/it]"
          ]
        },
        {
          "metadata": {
            "tags": null
          },
          "name": "stdout",
          "output_type": "stream",
          "text": [
            "06-20 05:03:10 [33] Lr: 0.000377, Training: 43.86%,  Loss: 3.22563, ACC: 41.39% \r\n"
          ]
        },
        {
          "metadata": {
            "tags": null
          },
          "name": "stderr",
          "output_type": "stream",
          "text": [
            "\r26it [02:25,  5.56s/it]"
          ]
        },
        {
          "metadata": {
            "tags": null
          },
          "name": "stdout",
          "output_type": "stream",
          "text": [
            "06-20 05:03:15 [33] Lr: 0.000377, Training: 45.61%,  Loss: 3.21330, ACC: 41.49% \r\n"
          ]
        },
        {
          "metadata": {
            "tags": null
          },
          "name": "stderr",
          "output_type": "stream",
          "text": [
            "\r27it [02:31,  5.56s/it]"
          ]
        },
        {
          "metadata": {
            "tags": null
          },
          "name": "stdout",
          "output_type": "stream",
          "text": [
            "06-20 05:03:21 [33] Lr: 0.000377, Training: 47.37%,  Loss: 3.20622, ACC: 41.56% \r\n"
          ]
        },
        {
          "metadata": {
            "tags": null
          },
          "name": "stderr",
          "output_type": "stream",
          "text": [
            "\r28it [02:36,  5.55s/it]"
          ]
        },
        {
          "metadata": {
            "tags": null
          },
          "name": "stdout",
          "output_type": "stream",
          "text": [
            "06-20 05:03:26 [33] Lr: 0.000377, Training: 49.12%,  Loss: 3.20316, ACC: 41.55% \r\n"
          ]
        },
        {
          "metadata": {
            "tags": null
          },
          "name": "stderr",
          "output_type": "stream",
          "text": [
            "\r29it [02:42,  5.57s/it]"
          ]
        },
        {
          "metadata": {
            "tags": null
          },
          "name": "stdout",
          "output_type": "stream",
          "text": [
            "06-20 05:03:32 [33] Lr: 0.000377, Training: 50.88%,  Loss: 3.20034, ACC: 41.68% \r\n"
          ]
        },
        {
          "metadata": {
            "tags": null
          },
          "name": "stderr",
          "output_type": "stream",
          "text": [
            "\r30it [02:48,  5.57s/it]"
          ]
        },
        {
          "metadata": {
            "tags": null
          },
          "name": "stdout",
          "output_type": "stream",
          "text": [
            "06-20 05:03:37 [33] Lr: 0.000377, Training: 52.63%,  Loss: 3.18965, ACC: 41.62% \r\n"
          ]
        },
        {
          "metadata": {
            "tags": null
          },
          "name": "stderr",
          "output_type": "stream",
          "text": [
            "\r31it [02:53,  5.56s/it]"
          ]
        },
        {
          "metadata": {
            "tags": null
          },
          "name": "stdout",
          "output_type": "stream",
          "text": [
            "06-20 05:03:43 [33] Lr: 0.000377, Training: 54.39%,  Loss: 3.18317, ACC: 41.76% \r\n"
          ]
        },
        {
          "metadata": {
            "tags": null
          },
          "name": "stderr",
          "output_type": "stream",
          "text": [
            "\r32it [02:59,  5.56s/it]"
          ]
        },
        {
          "metadata": {
            "tags": null
          },
          "name": "stdout",
          "output_type": "stream",
          "text": [
            "06-20 05:03:48 [33] Lr: 0.000377, Training: 56.14%,  Loss: 3.17822, ACC: 41.63% \r\n"
          ]
        },
        {
          "metadata": {
            "tags": null
          },
          "name": "stderr",
          "output_type": "stream",
          "text": [
            "\r33it [03:04,  5.55s/it]"
          ]
        },
        {
          "metadata": {
            "tags": null
          },
          "name": "stdout",
          "output_type": "stream",
          "text": [
            "06-20 05:03:54 [33] Lr: 0.000377, Training: 57.89%,  Loss: 3.18131, ACC: 41.66% \r\n"
          ]
        },
        {
          "metadata": {
            "tags": null
          },
          "name": "stderr",
          "output_type": "stream",
          "text": [
            "\r34it [03:10,  5.55s/it]"
          ]
        },
        {
          "metadata": {
            "tags": null
          },
          "name": "stdout",
          "output_type": "stream",
          "text": [
            "06-20 05:04:00 [33] Lr: 0.000377, Training: 59.65%,  Loss: 3.18322, ACC: 41.63% \r\n"
          ]
        },
        {
          "metadata": {
            "tags": null
          },
          "name": "stderr",
          "output_type": "stream",
          "text": [
            "\r35it [03:15,  5.55s/it]"
          ]
        },
        {
          "metadata": {
            "tags": null
          },
          "name": "stdout",
          "output_type": "stream",
          "text": [
            "06-20 05:04:05 [33] Lr: 0.000377, Training: 61.40%,  Loss: 3.18682, ACC: 41.49% \r\n"
          ]
        },
        {
          "metadata": {
            "tags": null
          },
          "name": "stderr",
          "output_type": "stream",
          "text": [
            "\r36it [03:21,  5.55s/it]"
          ]
        },
        {
          "metadata": {
            "tags": null
          },
          "name": "stdout",
          "output_type": "stream",
          "text": [
            "06-20 05:04:11 [33] Lr: 0.000377, Training: 63.16%,  Loss: 3.18564, ACC: 41.52% \r\n"
          ]
        },
        {
          "metadata": {
            "tags": null
          },
          "name": "stderr",
          "output_type": "stream",
          "text": [
            "\r37it [03:26,  5.55s/it]"
          ]
        },
        {
          "metadata": {
            "tags": null
          },
          "name": "stdout",
          "output_type": "stream",
          "text": [
            "06-20 05:04:16 [33] Lr: 0.000377, Training: 64.91%,  Loss: 3.19243, ACC: 41.30% \r\n"
          ]
        },
        {
          "metadata": {
            "tags": null
          },
          "name": "stderr",
          "output_type": "stream",
          "text": [
            "\r38it [03:32,  5.55s/it]"
          ]
        },
        {
          "metadata": {
            "tags": null
          },
          "name": "stdout",
          "output_type": "stream",
          "text": [
            "06-20 05:04:22 [33] Lr: 0.000377, Training: 66.67%,  Loss: 3.17958, ACC: 41.32% \r\n"
          ]
        },
        {
          "metadata": {
            "tags": null
          },
          "name": "stderr",
          "output_type": "stream",
          "text": [
            "\r39it [03:37,  5.54s/it]"
          ]
        },
        {
          "metadata": {
            "tags": null
          },
          "name": "stdout",
          "output_type": "stream",
          "text": [
            "06-20 05:04:27 [33] Lr: 0.000377, Training: 68.42%,  Loss: 3.17565, ACC: 41.37% \r\n"
          ]
        },
        {
          "metadata": {
            "tags": null
          },
          "name": "stderr",
          "output_type": "stream",
          "text": [
            "\r40it [03:43,  5.54s/it]"
          ]
        },
        {
          "metadata": {
            "tags": null
          },
          "name": "stdout",
          "output_type": "stream",
          "text": [
            "06-20 05:04:33 [33] Lr: 0.000377, Training: 70.18%,  Loss: 3.18324, ACC: 41.25% \r\n"
          ]
        },
        {
          "metadata": {
            "tags": null
          },
          "name": "stderr",
          "output_type": "stream",
          "text": [
            "\r41it [03:49,  5.56s/it]"
          ]
        },
        {
          "metadata": {
            "tags": null
          },
          "name": "stdout",
          "output_type": "stream",
          "text": [
            "06-20 05:04:38 [33] Lr: 0.000377, Training: 71.93%,  Loss: 3.18825, ACC: 41.25% \r\n"
          ]
        },
        {
          "metadata": {
            "tags": null
          },
          "name": "stderr",
          "output_type": "stream",
          "text": [
            "\r42it [03:54,  5.55s/it]"
          ]
        },
        {
          "metadata": {
            "tags": null
          },
          "name": "stdout",
          "output_type": "stream",
          "text": [
            "06-20 05:04:44 [33] Lr: 0.000377, Training: 73.68%,  Loss: 3.18908, ACC: 41.22% \r\n"
          ]
        },
        {
          "metadata": {
            "tags": null
          },
          "name": "stderr",
          "output_type": "stream",
          "text": [
            "\r43it [04:00,  5.54s/it]"
          ]
        },
        {
          "metadata": {
            "tags": null
          },
          "name": "stdout",
          "output_type": "stream",
          "text": [
            "06-20 05:04:49 [33] Lr: 0.000377, Training: 75.44%,  Loss: 3.18784, ACC: 41.26% \r\n"
          ]
        },
        {
          "metadata": {
            "tags": null
          },
          "name": "stderr",
          "output_type": "stream",
          "text": [
            "\r44it [04:05,  5.53s/it]"
          ]
        },
        {
          "metadata": {
            "tags": null
          },
          "name": "stdout",
          "output_type": "stream",
          "text": [
            "06-20 05:04:55 [33] Lr: 0.000377, Training: 77.19%,  Loss: 3.18633, ACC: 41.30% \r\n"
          ]
        },
        {
          "metadata": {
            "tags": null
          },
          "name": "stderr",
          "output_type": "stream",
          "text": [
            "\r45it [04:11,  5.55s/it]"
          ]
        },
        {
          "metadata": {
            "tags": null
          },
          "name": "stdout",
          "output_type": "stream",
          "text": [
            "06-20 05:05:01 [33] Lr: 0.000377, Training: 78.95%,  Loss: 3.18638, ACC: 41.35% \r\n"
          ]
        },
        {
          "metadata": {
            "tags": null
          },
          "name": "stderr",
          "output_type": "stream",
          "text": [
            "\r46it [04:16,  5.54s/it]"
          ]
        },
        {
          "metadata": {
            "tags": null
          },
          "name": "stdout",
          "output_type": "stream",
          "text": [
            "06-20 05:05:06 [33] Lr: 0.000377, Training: 80.70%,  Loss: 3.18723, ACC: 41.39% \r\n"
          ]
        },
        {
          "metadata": {
            "tags": null
          },
          "name": "stderr",
          "output_type": "stream",
          "text": [
            "\r47it [04:22,  5.53s/it]"
          ]
        },
        {
          "metadata": {
            "tags": null
          },
          "name": "stdout",
          "output_type": "stream",
          "text": [
            "06-20 05:05:12 [33] Lr: 0.000377, Training: 82.46%,  Loss: 3.19163, ACC: 41.16% \r\n"
          ]
        },
        {
          "metadata": {
            "tags": null
          },
          "name": "stderr",
          "output_type": "stream",
          "text": [
            "\r48it [04:27,  5.53s/it]"
          ]
        },
        {
          "metadata": {
            "tags": null
          },
          "name": "stdout",
          "output_type": "stream",
          "text": [
            "06-20 05:05:17 [33] Lr: 0.000377, Training: 84.21%,  Loss: 3.18979, ACC: 41.22% \r\n"
          ]
        },
        {
          "metadata": {
            "tags": null
          },
          "name": "stderr",
          "output_type": "stream",
          "text": [
            "\r49it [04:33,  5.53s/it]"
          ]
        },
        {
          "metadata": {
            "tags": null
          },
          "name": "stdout",
          "output_type": "stream",
          "text": [
            "06-20 05:05:23 [33] Lr: 0.000377, Training: 85.96%,  Loss: 3.18661, ACC: 41.27% \r\n"
          ]
        },
        {
          "metadata": {
            "tags": null
          },
          "name": "stderr",
          "output_type": "stream",
          "text": [
            "\r50it [04:38,  5.53s/it]"
          ]
        },
        {
          "metadata": {
            "tags": null
          },
          "name": "stdout",
          "output_type": "stream",
          "text": [
            "06-20 05:05:28 [33] Lr: 0.000377, Training: 87.72%,  Loss: 3.18307, ACC: 41.31% \r\n"
          ]
        },
        {
          "metadata": {
            "tags": null
          },
          "name": "stderr",
          "output_type": "stream",
          "text": [
            "\r51it [04:44,  5.56s/it]"
          ]
        },
        {
          "metadata": {
            "tags": null
          },
          "name": "stdout",
          "output_type": "stream",
          "text": [
            "06-20 05:05:34 [33] Lr: 0.000377, Training: 89.47%,  Loss: 3.18880, ACC: 41.29% \r\n"
          ]
        },
        {
          "metadata": {
            "tags": null
          },
          "name": "stderr",
          "output_type": "stream",
          "text": [
            "\r52it [04:49,  5.55s/it]"
          ]
        },
        {
          "metadata": {
            "tags": null
          },
          "name": "stdout",
          "output_type": "stream",
          "text": [
            "06-20 05:05:39 [33] Lr: 0.000377, Training: 91.23%,  Loss: 3.19769, ACC: 41.26% \r\n"
          ]
        },
        {
          "metadata": {
            "tags": null
          },
          "name": "stderr",
          "output_type": "stream",
          "text": [
            "\r53it [04:55,  5.55s/it]"
          ]
        },
        {
          "metadata": {
            "tags": null
          },
          "name": "stdout",
          "output_type": "stream",
          "text": [
            "06-20 05:05:45 [33] Lr: 0.000377, Training: 92.98%,  Loss: 3.19330, ACC: 41.31% \r\n"
          ]
        },
        {
          "metadata": {
            "tags": null
          },
          "name": "stderr",
          "output_type": "stream",
          "text": [
            "\r54it [05:01,  5.54s/it]"
          ]
        },
        {
          "metadata": {
            "tags": null
          },
          "name": "stdout",
          "output_type": "stream",
          "text": [
            "06-20 05:05:50 [33] Lr: 0.000377, Training: 94.74%,  Loss: 3.18881, ACC: 41.38% \r\n"
          ]
        },
        {
          "metadata": {
            "tags": null
          },
          "name": "stderr",
          "output_type": "stream",
          "text": [
            "\r55it [05:06,  5.55s/it]"
          ]
        },
        {
          "metadata": {
            "tags": null
          },
          "name": "stdout",
          "output_type": "stream",
          "text": [
            "06-20 05:05:56 [33] Lr: 0.000377, Training: 96.49%,  Loss: 3.19041, ACC: 41.45% \r\n"
          ]
        },
        {
          "metadata": {
            "tags": null
          },
          "name": "stderr",
          "output_type": "stream",
          "text": [
            "\r56it [05:12,  5.54s/it]"
          ]
        },
        {
          "metadata": {
            "tags": null
          },
          "name": "stdout",
          "output_type": "stream",
          "text": [
            "06-20 05:06:01 [33] Lr: 0.000377, Training: 98.25%,  Loss: 3.18973, ACC: 41.46% \r\n"
          ]
        },
        {
          "metadata": {
            "tags": null
          },
          "name": "stderr",
          "output_type": "stream",
          "text": [
            "57it [05:16,  5.55s/it]"
          ]
        },
        {
          "metadata": {
            "tags": null
          },
          "name": "stdout",
          "output_type": "stream",
          "text": [
            "06-20 05:06:05 [33] Lr: 0.000377, Training: 100.00%,  Loss: 3.19298, ACC: 30.27% \r\n",
            "\n",
            "\n"
          ]
        },
        {
          "metadata": {
            "tags": null
          },
          "name": "stderr",
          "output_type": "stream",
          "text": [
            "\n",
            "  0%|          | 0/973 [00:00<?, ?it/s]<ipython-input-15-b61162519fae>:62: DeprecationWarning: `np.float` is a deprecated alias for the builtin `float`. To silence this warning, use `float` by itself. Doing this will not modify any behavior and is safe. If you specifically wanted the numpy scalar type, use `np.float64` here.\n",
            "Deprecated in NumPy 1.20; for more details and guidance: https://numpy.org/devdocs/release/1.20.0-notes.html#deprecations\n",
            "  feats = numpy.stack(feats, axis = 0).astype(numpy.float)\n",
            "100%|██████████| 973/973 [04:29<00:00,  3.61it/s]\n"
          ]
        },
        {
          "metadata": {
            "tags": null
          },
          "name": "stdout",
          "output_type": "stream",
          "text": [
            "2023-06-20 05:10:43 33 epoch, ACC 30.27%, EER 6.37%, bestEER 6.37%\n",
            "Epoch: 34\n"
          ]
        },
        {
          "metadata": {
            "tags": null
          },
          "name": "stderr",
          "output_type": "stream",
          "text": [
            "/usr/local/lib/python3.10/dist-packages/torch/optim/lr_scheduler.py:152: UserWarning: The epoch parameter in `scheduler.step()` was not necessary and is being deprecated where possible. Please use `scheduler.step()` to step the scheduler. During the deprecation, if epoch is different from None, the closed form is used instead of the new chainable form, where available. Please open an issue if you are unable to replicate your use case: https://github.com/pytorch/pytorch/issues/new/choose.\n",
            "  warnings.warn(EPOCH_DEPRECATION_WARNING, UserWarning)\n",
            "0it [00:00, ?it/s]/usr/local/lib/python3.10/dist-packages/torch/nn/functional.py:4999: UserWarning: Support for mismatched key_padding_mask and attn_mask is deprecated. Use same type for both instead.\n",
            "  warnings.warn(\n",
            "1it [00:06,  6.70s/it]"
          ]
        },
        {
          "metadata": {
            "tags": null
          },
          "name": "stdout",
          "output_type": "stream",
          "text": [
            "06-20 05:10:50 [34] Lr: 0.000366, Training: 1.75%,  Loss: 3.27314, ACC: 41.33% \r\n"
          ]
        },
        {
          "metadata": {
            "tags": null
          },
          "name": "stderr",
          "output_type": "stream",
          "text": [
            "\r2it [00:12,  6.01s/it]"
          ]
        },
        {
          "metadata": {
            "tags": null
          },
          "name": "stdout",
          "output_type": "stream",
          "text": [
            "06-20 05:10:55 [34] Lr: 0.000366, Training: 3.51%,  Loss: 3.00562, ACC: 45.33% \r\n"
          ]
        },
        {
          "metadata": {
            "tags": null
          },
          "name": "stderr",
          "output_type": "stream",
          "text": [
            "\r3it [00:17,  5.82s/it]"
          ]
        },
        {
          "metadata": {
            "tags": null
          },
          "name": "stdout",
          "output_type": "stream",
          "text": [
            "06-20 05:11:01 [34] Lr: 0.000366, Training: 5.26%,  Loss: 3.13524, ACC: 42.44% \r\n"
          ]
        },
        {
          "metadata": {
            "tags": null
          },
          "name": "stderr",
          "output_type": "stream",
          "text": [
            "\r4it [00:23,  5.75s/it]"
          ]
        },
        {
          "metadata": {
            "tags": null
          },
          "name": "stdout",
          "output_type": "stream",
          "text": [
            "06-20 05:11:06 [34] Lr: 0.000366, Training: 7.02%,  Loss: 3.15422, ACC: 41.33% \r\n"
          ]
        },
        {
          "metadata": {
            "tags": null
          },
          "name": "stderr",
          "output_type": "stream",
          "text": [
            "\r5it [00:29,  5.71s/it]"
          ]
        },
        {
          "metadata": {
            "tags": null
          },
          "name": "stdout",
          "output_type": "stream",
          "text": [
            "06-20 05:11:12 [34] Lr: 0.000366, Training: 8.77%,  Loss: 3.18328, ACC: 40.40% \r\n"
          ]
        },
        {
          "metadata": {
            "tags": null
          },
          "name": "stderr",
          "output_type": "stream",
          "text": [
            "\r6it [00:34,  5.68s/it]"
          ]
        },
        {
          "metadata": {
            "tags": null
          },
          "name": "stdout",
          "output_type": "stream",
          "text": [
            "06-20 05:11:18 [34] Lr: 0.000366, Training: 10.53%,  Loss: 3.22146, ACC: 40.89% \r\n"
          ]
        },
        {
          "metadata": {
            "tags": null
          },
          "name": "stderr",
          "output_type": "stream",
          "text": [
            "\r7it [00:40,  5.66s/it]"
          ]
        },
        {
          "metadata": {
            "tags": null
          },
          "name": "stdout",
          "output_type": "stream",
          "text": [
            "06-20 05:11:23 [34] Lr: 0.000366, Training: 12.28%,  Loss: 3.20569, ACC: 41.14% \r\n"
          ]
        },
        {
          "metadata": {
            "tags": null
          },
          "name": "stderr",
          "output_type": "stream",
          "text": [
            "\r8it [00:45,  5.63s/it]"
          ]
        },
        {
          "metadata": {
            "tags": null
          },
          "name": "stdout",
          "output_type": "stream",
          "text": [
            "06-20 05:11:29 [34] Lr: 0.000366, Training: 14.04%,  Loss: 3.17251, ACC: 41.75% \r\n"
          ]
        },
        {
          "metadata": {
            "tags": null
          },
          "name": "stderr",
          "output_type": "stream",
          "text": [
            "\r9it [00:51,  5.62s/it]"
          ]
        },
        {
          "metadata": {
            "tags": null
          },
          "name": "stdout",
          "output_type": "stream",
          "text": [
            "06-20 05:11:34 [34] Lr: 0.000366, Training: 15.79%,  Loss: 3.16159, ACC: 41.78% \r\n"
          ]
        },
        {
          "metadata": {
            "tags": null
          },
          "name": "stderr",
          "output_type": "stream",
          "text": [
            "\r10it [00:57,  5.60s/it]"
          ]
        },
        {
          "metadata": {
            "tags": null
          },
          "name": "stdout",
          "output_type": "stream",
          "text": [
            "06-20 05:11:40 [34] Lr: 0.000366, Training: 17.54%,  Loss: 3.11157, ACC: 42.87% \r\n"
          ]
        },
        {
          "metadata": {
            "tags": null
          },
          "name": "stderr",
          "output_type": "stream",
          "text": [
            "\r11it [01:02,  5.57s/it]"
          ]
        },
        {
          "metadata": {
            "tags": null
          },
          "name": "stdout",
          "output_type": "stream",
          "text": [
            "06-20 05:11:46 [34] Lr: 0.000366, Training: 19.30%,  Loss: 3.11057, ACC: 42.61% \r\n"
          ]
        },
        {
          "metadata": {
            "tags": null
          },
          "name": "stderr",
          "output_type": "stream",
          "text": [
            "\r12it [01:08,  5.56s/it]"
          ]
        },
        {
          "metadata": {
            "tags": null
          },
          "name": "stdout",
          "output_type": "stream",
          "text": [
            "06-20 05:11:51 [34] Lr: 0.000366, Training: 21.05%,  Loss: 3.10931, ACC: 42.22% \r\n"
          ]
        },
        {
          "metadata": {
            "tags": null
          },
          "name": "stderr",
          "output_type": "stream",
          "text": [
            "\r13it [01:13,  5.55s/it]"
          ]
        },
        {
          "metadata": {
            "tags": null
          },
          "name": "stdout",
          "output_type": "stream",
          "text": [
            "06-20 05:11:57 [34] Lr: 0.000366, Training: 22.81%,  Loss: 3.10876, ACC: 42.05% \r\n"
          ]
        },
        {
          "metadata": {
            "tags": null
          },
          "name": "stderr",
          "output_type": "stream",
          "text": [
            "\r14it [01:19,  5.55s/it]"
          ]
        },
        {
          "metadata": {
            "tags": null
          },
          "name": "stdout",
          "output_type": "stream",
          "text": [
            "06-20 05:12:02 [34] Lr: 0.000366, Training: 24.56%,  Loss: 3.10067, ACC: 42.29% \r\n"
          ]
        },
        {
          "metadata": {
            "tags": null
          },
          "name": "stderr",
          "output_type": "stream",
          "text": [
            "\r15it [01:24,  5.55s/it]"
          ]
        },
        {
          "metadata": {
            "tags": null
          },
          "name": "stdout",
          "output_type": "stream",
          "text": [
            "06-20 05:12:08 [34] Lr: 0.000366, Training: 26.32%,  Loss: 3.11531, ACC: 42.36% \r\n"
          ]
        },
        {
          "metadata": {
            "tags": null
          },
          "name": "stderr",
          "output_type": "stream",
          "text": [
            "\r16it [01:30,  5.56s/it]"
          ]
        },
        {
          "metadata": {
            "tags": null
          },
          "name": "stdout",
          "output_type": "stream",
          "text": [
            "06-20 05:12:13 [34] Lr: 0.000366, Training: 28.07%,  Loss: 3.11945, ACC: 42.00% \r\n"
          ]
        },
        {
          "metadata": {
            "tags": null
          },
          "name": "stderr",
          "output_type": "stream",
          "text": [
            "\r17it [01:35,  5.57s/it]"
          ]
        },
        {
          "metadata": {
            "tags": null
          },
          "name": "stdout",
          "output_type": "stream",
          "text": [
            "06-20 05:12:19 [34] Lr: 0.000366, Training: 29.82%,  Loss: 3.12849, ACC: 41.84% \r\n"
          ]
        },
        {
          "metadata": {
            "tags": null
          },
          "name": "stderr",
          "output_type": "stream",
          "text": [
            "\r18it [01:41,  5.57s/it]"
          ]
        },
        {
          "metadata": {
            "tags": null
          },
          "name": "stdout",
          "output_type": "stream",
          "text": [
            "06-20 05:12:24 [34] Lr: 0.000366, Training: 31.58%,  Loss: 3.13349, ACC: 41.85% \r\n"
          ]
        },
        {
          "metadata": {
            "tags": null
          },
          "name": "stderr",
          "output_type": "stream",
          "text": [
            "\r19it [01:47,  5.57s/it]"
          ]
        },
        {
          "metadata": {
            "tags": null
          },
          "name": "stdout",
          "output_type": "stream",
          "text": [
            "06-20 05:12:30 [34] Lr: 0.000366, Training: 33.33%,  Loss: 3.15433, ACC: 41.37% \r\n"
          ]
        },
        {
          "metadata": {
            "tags": null
          },
          "name": "stderr",
          "output_type": "stream",
          "text": [
            "\r20it [01:52,  5.57s/it]"
          ]
        },
        {
          "metadata": {
            "tags": null
          },
          "name": "stdout",
          "output_type": "stream",
          "text": [
            "06-20 05:12:36 [34] Lr: 0.000366, Training: 35.09%,  Loss: 3.13663, ACC: 41.60% \r\n"
          ]
        },
        {
          "metadata": {
            "tags": null
          },
          "name": "stderr",
          "output_type": "stream",
          "text": [
            "\r21it [01:58,  5.57s/it]"
          ]
        },
        {
          "metadata": {
            "tags": null
          },
          "name": "stdout",
          "output_type": "stream",
          "text": [
            "06-20 05:12:41 [34] Lr: 0.000366, Training: 36.84%,  Loss: 3.13832, ACC: 41.56% \r\n"
          ]
        },
        {
          "metadata": {
            "tags": null
          },
          "name": "stderr",
          "output_type": "stream",
          "text": [
            "\r22it [02:03,  5.56s/it]"
          ]
        },
        {
          "metadata": {
            "tags": null
          },
          "name": "stdout",
          "output_type": "stream",
          "text": [
            "06-20 05:12:47 [34] Lr: 0.000366, Training: 38.60%,  Loss: 3.14046, ACC: 41.79% \r\n"
          ]
        },
        {
          "metadata": {
            "tags": null
          },
          "name": "stderr",
          "output_type": "stream",
          "text": [
            "\r23it [02:09,  5.55s/it]"
          ]
        },
        {
          "metadata": {
            "tags": null
          },
          "name": "stdout",
          "output_type": "stream",
          "text": [
            "06-20 05:12:52 [34] Lr: 0.000366, Training: 40.35%,  Loss: 3.13266, ACC: 42.12% \r\n"
          ]
        },
        {
          "metadata": {
            "tags": null
          },
          "name": "stderr",
          "output_type": "stream",
          "text": [
            "\r24it [02:14,  5.54s/it]"
          ]
        },
        {
          "metadata": {
            "tags": null
          },
          "name": "stdout",
          "output_type": "stream",
          "text": [
            "06-20 05:12:58 [34] Lr: 0.000366, Training: 42.11%,  Loss: 3.12926, ACC: 42.28% \r\n"
          ]
        },
        {
          "metadata": {
            "tags": null
          },
          "name": "stderr",
          "output_type": "stream",
          "text": [
            "\r25it [02:20,  5.53s/it]"
          ]
        },
        {
          "metadata": {
            "tags": null
          },
          "name": "stdout",
          "output_type": "stream",
          "text": [
            "06-20 05:13:03 [34] Lr: 0.000366, Training: 43.86%,  Loss: 3.12012, ACC: 42.16% \r\n"
          ]
        },
        {
          "metadata": {
            "tags": null
          },
          "name": "stderr",
          "output_type": "stream",
          "text": [
            "\r26it [02:25,  5.52s/it]"
          ]
        },
        {
          "metadata": {
            "tags": null
          },
          "name": "stdout",
          "output_type": "stream",
          "text": [
            "06-20 05:13:09 [34] Lr: 0.000366, Training: 45.61%,  Loss: 3.12571, ACC: 42.33% \r\n"
          ]
        },
        {
          "metadata": {
            "tags": null
          },
          "name": "stderr",
          "output_type": "stream",
          "text": [
            "\r27it [02:31,  5.52s/it]"
          ]
        },
        {
          "metadata": {
            "tags": null
          },
          "name": "stdout",
          "output_type": "stream",
          "text": [
            "06-20 05:13:14 [34] Lr: 0.000366, Training: 47.37%,  Loss: 3.12294, ACC: 42.27% \r\n"
          ]
        },
        {
          "metadata": {
            "tags": null
          },
          "name": "stderr",
          "output_type": "stream",
          "text": [
            "\r28it [02:36,  5.52s/it]"
          ]
        },
        {
          "metadata": {
            "tags": null
          },
          "name": "stdout",
          "output_type": "stream",
          "text": [
            "06-20 05:13:20 [34] Lr: 0.000366, Training: 49.12%,  Loss: 3.12461, ACC: 42.29% \r\n"
          ]
        },
        {
          "metadata": {
            "tags": null
          },
          "name": "stderr",
          "output_type": "stream",
          "text": [
            "\r29it [02:42,  5.53s/it]"
          ]
        },
        {
          "metadata": {
            "tags": null
          },
          "name": "stdout",
          "output_type": "stream",
          "text": [
            "06-20 05:13:25 [34] Lr: 0.000366, Training: 50.88%,  Loss: 3.12432, ACC: 42.32% \r\n"
          ]
        },
        {
          "metadata": {
            "tags": null
          },
          "name": "stderr",
          "output_type": "stream",
          "text": [
            "\r30it [02:47,  5.53s/it]"
          ]
        },
        {
          "metadata": {
            "tags": null
          },
          "name": "stdout",
          "output_type": "stream",
          "text": [
            "06-20 05:13:31 [34] Lr: 0.000366, Training: 52.63%,  Loss: 3.12693, ACC: 42.24% \r\n"
          ]
        },
        {
          "metadata": {
            "tags": null
          },
          "name": "stderr",
          "output_type": "stream",
          "text": [
            "\r31it [02:53,  5.53s/it]"
          ]
        },
        {
          "metadata": {
            "tags": null
          },
          "name": "stdout",
          "output_type": "stream",
          "text": [
            "06-20 05:13:36 [34] Lr: 0.000366, Training: 54.39%,  Loss: 3.11419, ACC: 42.19% \r\n"
          ]
        },
        {
          "metadata": {
            "tags": null
          },
          "name": "stderr",
          "output_type": "stream",
          "text": [
            "\r32it [02:58,  5.54s/it]"
          ]
        },
        {
          "metadata": {
            "tags": null
          },
          "name": "stdout",
          "output_type": "stream",
          "text": [
            "06-20 05:13:42 [34] Lr: 0.000366, Training: 56.14%,  Loss: 3.11939, ACC: 42.25% \r\n"
          ]
        },
        {
          "metadata": {
            "tags": null
          },
          "name": "stderr",
          "output_type": "stream",
          "text": [
            "\r33it [03:04,  5.54s/it]"
          ]
        },
        {
          "metadata": {
            "tags": null
          },
          "name": "stdout",
          "output_type": "stream",
          "text": [
            "06-20 05:13:47 [34] Lr: 0.000366, Training: 57.89%,  Loss: 3.12900, ACC: 42.14% \r\n"
          ]
        },
        {
          "metadata": {
            "tags": null
          },
          "name": "stderr",
          "output_type": "stream",
          "text": [
            "\r34it [03:10,  5.54s/it]"
          ]
        },
        {
          "metadata": {
            "tags": null
          },
          "name": "stdout",
          "output_type": "stream",
          "text": [
            "06-20 05:13:53 [34] Lr: 0.000366, Training: 59.65%,  Loss: 3.11260, ACC: 42.33% \r\n"
          ]
        },
        {
          "metadata": {
            "tags": null
          },
          "name": "stderr",
          "output_type": "stream",
          "text": [
            "\r35it [03:15,  5.57s/it]"
          ]
        },
        {
          "metadata": {
            "tags": null
          },
          "name": "stdout",
          "output_type": "stream",
          "text": [
            "06-20 05:13:59 [34] Lr: 0.000366, Training: 61.40%,  Loss: 3.10554, ACC: 42.50% \r\n"
          ]
        },
        {
          "metadata": {
            "tags": null
          },
          "name": "stderr",
          "output_type": "stream",
          "text": [
            "\r36it [03:21,  5.56s/it]"
          ]
        },
        {
          "metadata": {
            "tags": null
          },
          "name": "stdout",
          "output_type": "stream",
          "text": [
            "06-20 05:14:04 [34] Lr: 0.000366, Training: 63.16%,  Loss: 3.11463, ACC: 42.41% \r\n"
          ]
        },
        {
          "metadata": {
            "tags": null
          },
          "name": "stderr",
          "output_type": "stream",
          "text": [
            "\r37it [03:26,  5.56s/it]"
          ]
        },
        {
          "metadata": {
            "tags": null
          },
          "name": "stdout",
          "output_type": "stream",
          "text": [
            "06-20 05:14:10 [34] Lr: 0.000366, Training: 64.91%,  Loss: 3.12410, ACC: 42.25% \r\n"
          ]
        },
        {
          "metadata": {
            "tags": null
          },
          "name": "stderr",
          "output_type": "stream",
          "text": [
            "\r38it [03:32,  5.57s/it]"
          ]
        },
        {
          "metadata": {
            "tags": null
          },
          "name": "stdout",
          "output_type": "stream",
          "text": [
            "06-20 05:14:15 [34] Lr: 0.000366, Training: 66.67%,  Loss: 3.13526, ACC: 42.23% \r\n"
          ]
        },
        {
          "metadata": {
            "tags": null
          },
          "name": "stderr",
          "output_type": "stream",
          "text": [
            "\r39it [03:37,  5.56s/it]"
          ]
        },
        {
          "metadata": {
            "tags": null
          },
          "name": "stdout",
          "output_type": "stream",
          "text": [
            "06-20 05:14:21 [34] Lr: 0.000366, Training: 68.42%,  Loss: 3.13194, ACC: 42.17% \r\n"
          ]
        },
        {
          "metadata": {
            "tags": null
          },
          "name": "stderr",
          "output_type": "stream",
          "text": [
            "\r40it [03:43,  5.56s/it]"
          ]
        },
        {
          "metadata": {
            "tags": null
          },
          "name": "stdout",
          "output_type": "stream",
          "text": [
            "06-20 05:14:26 [34] Lr: 0.000366, Training: 70.18%,  Loss: 3.13727, ACC: 42.13% \r\n"
          ]
        },
        {
          "metadata": {
            "tags": null
          },
          "name": "stderr",
          "output_type": "stream",
          "text": [
            "\r41it [03:49,  5.57s/it]"
          ]
        },
        {
          "metadata": {
            "tags": null
          },
          "name": "stdout",
          "output_type": "stream",
          "text": [
            "06-20 05:14:32 [34] Lr: 0.000366, Training: 71.93%,  Loss: 3.13187, ACC: 42.21% \r\n"
          ]
        },
        {
          "metadata": {
            "tags": null
          },
          "name": "stderr",
          "output_type": "stream",
          "text": [
            "\r42it [03:54,  5.57s/it]"
          ]
        },
        {
          "metadata": {
            "tags": null
          },
          "name": "stdout",
          "output_type": "stream",
          "text": [
            "06-20 05:14:38 [34] Lr: 0.000366, Training: 73.68%,  Loss: 3.13529, ACC: 42.16% \r\n"
          ]
        },
        {
          "metadata": {
            "tags": null
          },
          "name": "stderr",
          "output_type": "stream",
          "text": [
            "\r43it [04:00,  5.56s/it]"
          ]
        },
        {
          "metadata": {
            "tags": null
          },
          "name": "stdout",
          "output_type": "stream",
          "text": [
            "06-20 05:14:43 [34] Lr: 0.000366, Training: 75.44%,  Loss: 3.13132, ACC: 42.26% \r\n"
          ]
        },
        {
          "metadata": {
            "tags": null
          },
          "name": "stderr",
          "output_type": "stream",
          "text": [
            "\r44it [04:05,  5.57s/it]"
          ]
        },
        {
          "metadata": {
            "tags": null
          },
          "name": "stdout",
          "output_type": "stream",
          "text": [
            "06-20 05:14:49 [34] Lr: 0.000366, Training: 77.19%,  Loss: 3.13036, ACC: 42.33% \r\n"
          ]
        },
        {
          "metadata": {
            "tags": null
          },
          "name": "stderr",
          "output_type": "stream",
          "text": [
            "\r45it [04:11,  5.57s/it]"
          ]
        },
        {
          "metadata": {
            "tags": null
          },
          "name": "stdout",
          "output_type": "stream",
          "text": [
            "06-20 05:14:54 [34] Lr: 0.000366, Training: 78.95%,  Loss: 3.12392, ACC: 42.39% \r\n"
          ]
        },
        {
          "metadata": {
            "tags": null
          },
          "name": "stderr",
          "output_type": "stream",
          "text": [
            "\r46it [04:16,  5.57s/it]"
          ]
        },
        {
          "metadata": {
            "tags": null
          },
          "name": "stdout",
          "output_type": "stream",
          "text": [
            "06-20 05:15:00 [34] Lr: 0.000366, Training: 80.70%,  Loss: 3.12952, ACC: 42.30% \r\n"
          ]
        },
        {
          "metadata": {
            "tags": null
          },
          "name": "stderr",
          "output_type": "stream",
          "text": [
            "\r47it [04:22,  5.57s/it]"
          ]
        },
        {
          "metadata": {
            "tags": null
          },
          "name": "stdout",
          "output_type": "stream",
          "text": [
            "06-20 05:15:05 [34] Lr: 0.000366, Training: 82.46%,  Loss: 3.13608, ACC: 42.24% \r\n"
          ]
        },
        {
          "metadata": {
            "tags": null
          },
          "name": "stderr",
          "output_type": "stream",
          "text": [
            "\r48it [04:28,  5.57s/it]"
          ]
        },
        {
          "metadata": {
            "tags": null
          },
          "name": "stdout",
          "output_type": "stream",
          "text": [
            "06-20 05:15:11 [34] Lr: 0.000366, Training: 84.21%,  Loss: 3.13940, ACC: 42.18% \r\n"
          ]
        },
        {
          "metadata": {
            "tags": null
          },
          "name": "stderr",
          "output_type": "stream",
          "text": [
            "\r49it [04:33,  5.57s/it]"
          ]
        },
        {
          "metadata": {
            "tags": null
          },
          "name": "stdout",
          "output_type": "stream",
          "text": [
            "06-20 05:15:17 [34] Lr: 0.000366, Training: 85.96%,  Loss: 3.13872, ACC: 42.22% \r\n"
          ]
        },
        {
          "metadata": {
            "tags": null
          },
          "name": "stderr",
          "output_type": "stream",
          "text": [
            "\r50it [04:39,  5.57s/it]"
          ]
        },
        {
          "metadata": {
            "tags": null
          },
          "name": "stdout",
          "output_type": "stream",
          "text": [
            "06-20 05:15:22 [34] Lr: 0.000366, Training: 87.72%,  Loss: 3.14815, ACC: 42.16% \r\n"
          ]
        },
        {
          "metadata": {
            "tags": null
          },
          "name": "stderr",
          "output_type": "stream",
          "text": [
            "\r51it [04:44,  5.57s/it]"
          ]
        },
        {
          "metadata": {
            "tags": null
          },
          "name": "stdout",
          "output_type": "stream",
          "text": [
            "06-20 05:15:28 [34] Lr: 0.000366, Training: 89.47%,  Loss: 3.14668, ACC: 42.16% \r\n"
          ]
        },
        {
          "metadata": {
            "tags": null
          },
          "name": "stderr",
          "output_type": "stream",
          "text": [
            "\r52it [04:50,  5.56s/it]"
          ]
        },
        {
          "metadata": {
            "tags": null
          },
          "name": "stdout",
          "output_type": "stream",
          "text": [
            "06-20 05:15:33 [34] Lr: 0.000366, Training: 91.23%,  Loss: 3.14020, ACC: 42.33% \r\n"
          ]
        },
        {
          "metadata": {
            "tags": null
          },
          "name": "stderr",
          "output_type": "stream",
          "text": [
            "\r53it [04:55,  5.57s/it]"
          ]
        },
        {
          "metadata": {
            "tags": null
          },
          "name": "stdout",
          "output_type": "stream",
          "text": [
            "06-20 05:15:39 [34] Lr: 0.000366, Training: 92.98%,  Loss: 3.13879, ACC: 42.44% \r\n"
          ]
        },
        {
          "metadata": {
            "tags": null
          },
          "name": "stderr",
          "output_type": "stream",
          "text": [
            "\r54it [05:01,  5.57s/it]"
          ]
        },
        {
          "metadata": {
            "tags": null
          },
          "name": "stdout",
          "output_type": "stream",
          "text": [
            "06-20 05:15:44 [34] Lr: 0.000366, Training: 94.74%,  Loss: 3.13442, ACC: 42.47% \r\n"
          ]
        },
        {
          "metadata": {
            "tags": null
          },
          "name": "stderr",
          "output_type": "stream",
          "text": [
            "\r55it [05:06,  5.56s/it]"
          ]
        },
        {
          "metadata": {
            "tags": null
          },
          "name": "stdout",
          "output_type": "stream",
          "text": [
            "06-20 05:15:50 [34] Lr: 0.000366, Training: 96.49%,  Loss: 3.14014, ACC: 42.36% \r\n"
          ]
        },
        {
          "metadata": {
            "tags": null
          },
          "name": "stderr",
          "output_type": "stream",
          "text": [
            "\r56it [05:12,  5.56s/it]"
          ]
        },
        {
          "metadata": {
            "tags": null
          },
          "name": "stdout",
          "output_type": "stream",
          "text": [
            "06-20 05:15:55 [34] Lr: 0.000366, Training: 98.25%,  Loss: 3.13703, ACC: 42.50% \r\n"
          ]
        },
        {
          "metadata": {
            "tags": null
          },
          "name": "stderr",
          "output_type": "stream",
          "text": [
            "\r57it [27:30, 405.33s/it]"
          ]
        },
        {
          "metadata": {
            "tags": null
          },
          "name": "stdout",
          "output_type": "stream",
          "text": [
            "06-20 05:38:14 [34] Lr: 0.000366, Training: 100.00%,  Loss: 3.13596, ACC: 31.05% \r\n"
          ]
        },
        {
          "metadata": {
            "tags": null
          },
          "name": "stderr",
          "output_type": "stream",
          "text": [
            "\r57it [27:30, 28.96s/it] \n"
          ]
        },
        {
          "metadata": {
            "tags": null
          },
          "name": "stdout",
          "output_type": "stream",
          "text": [
            "\n",
            "\n"
          ]
        },
        {
          "metadata": {
            "tags": null
          },
          "name": "stderr",
          "output_type": "stream",
          "text": [
            "  0%|          | 0/973 [00:00<?, ?it/s]<ipython-input-15-b61162519fae>:62: DeprecationWarning: `np.float` is a deprecated alias for the builtin `float`. To silence this warning, use `float` by itself. Doing this will not modify any behavior and is safe. If you specifically wanted the numpy scalar type, use `np.float64` here.\n",
            "Deprecated in NumPy 1.20; for more details and guidance: https://numpy.org/devdocs/release/1.20.0-notes.html#deprecations\n",
            "  feats = numpy.stack(feats, axis = 0).astype(numpy.float)\n",
            "100%|██████████| 973/973 [04:26<00:00,  3.66it/s]\n"
          ]
        },
        {
          "metadata": {
            "tags": null
          },
          "name": "stdout",
          "output_type": "stream",
          "text": [
            "2023-06-20 05:42:49 34 epoch, ACC 31.05%, EER 6.35%, bestEER 6.35%\n",
            "Epoch: 35\n"
          ]
        },
        {
          "metadata": {
            "tags": null
          },
          "name": "stderr",
          "output_type": "stream",
          "text": [
            "/usr/local/lib/python3.10/dist-packages/torch/optim/lr_scheduler.py:152: UserWarning: The epoch parameter in `scheduler.step()` was not necessary and is being deprecated where possible. Please use `scheduler.step()` to step the scheduler. During the deprecation, if epoch is different from None, the closed form is used instead of the new chainable form, where available. Please open an issue if you are unable to replicate your use case: https://github.com/pytorch/pytorch/issues/new/choose.\n",
            "  warnings.warn(EPOCH_DEPRECATION_WARNING, UserWarning)\n",
            "0it [00:00, ?it/s]/usr/local/lib/python3.10/dist-packages/torch/nn/functional.py:4999: UserWarning: Support for mismatched key_padding_mask and attn_mask is deprecated. Use same type for both instead.\n",
            "  warnings.warn(\n",
            "1it [00:06,  6.32s/it]"
          ]
        },
        {
          "metadata": {
            "tags": null
          },
          "name": "stdout",
          "output_type": "stream",
          "text": [
            "06-20 05:42:56 [35] Lr: 0.000355, Training: 1.75%,  Loss: 3.03013, ACC: 43.33% \r\n"
          ]
        },
        {
          "metadata": {
            "tags": null
          },
          "name": "stderr",
          "output_type": "stream",
          "text": [
            "\r2it [00:11,  5.84s/it]"
          ]
        },
        {
          "metadata": {
            "tags": null
          },
          "name": "stdout",
          "output_type": "stream",
          "text": [
            "06-20 05:43:01 [35] Lr: 0.000355, Training: 3.51%,  Loss: 3.05731, ACC: 41.33% \r\n"
          ]
        },
        {
          "metadata": {
            "tags": null
          },
          "name": "stderr",
          "output_type": "stream",
          "text": [
            "\r3it [00:17,  5.73s/it]"
          ]
        },
        {
          "metadata": {
            "tags": null
          },
          "name": "stdout",
          "output_type": "stream",
          "text": [
            "06-20 05:43:07 [35] Lr: 0.000355, Training: 5.26%,  Loss: 3.03437, ACC: 43.11% \r\n"
          ]
        },
        {
          "metadata": {
            "tags": null
          },
          "name": "stderr",
          "output_type": "stream",
          "text": [
            "\r4it [00:22,  5.66s/it]"
          ]
        },
        {
          "metadata": {
            "tags": null
          },
          "name": "stdout",
          "output_type": "stream",
          "text": [
            "06-20 05:43:13 [35] Lr: 0.000355, Training: 7.02%,  Loss: 3.04291, ACC: 43.50% \r\n"
          ]
        },
        {
          "metadata": {
            "tags": null
          },
          "name": "stderr",
          "output_type": "stream",
          "text": [
            "\r5it [00:28,  5.64s/it]"
          ]
        },
        {
          "metadata": {
            "tags": null
          },
          "name": "stdout",
          "output_type": "stream",
          "text": [
            "06-20 05:43:18 [35] Lr: 0.000355, Training: 8.77%,  Loss: 2.92479, ACC: 45.20% \r\n"
          ]
        },
        {
          "metadata": {
            "tags": null
          },
          "name": "stderr",
          "output_type": "stream",
          "text": [
            "\r6it [00:34,  5.62s/it]"
          ]
        },
        {
          "metadata": {
            "tags": null
          },
          "name": "stdout",
          "output_type": "stream",
          "text": [
            "06-20 05:43:24 [35] Lr: 0.000355, Training: 10.53%,  Loss: 2.93650, ACC: 44.67% \r\n"
          ]
        },
        {
          "metadata": {
            "tags": null
          },
          "name": "stderr",
          "output_type": "stream",
          "text": [
            "\r7it [00:39,  5.61s/it]"
          ]
        },
        {
          "metadata": {
            "tags": null
          },
          "name": "stdout",
          "output_type": "stream",
          "text": [
            "06-20 05:43:29 [35] Lr: 0.000355, Training: 12.28%,  Loss: 2.88752, ACC: 45.24% \r\n"
          ]
        },
        {
          "metadata": {
            "tags": null
          },
          "name": "stderr",
          "output_type": "stream",
          "text": [
            "\r8it [00:45,  5.60s/it]"
          ]
        },
        {
          "metadata": {
            "tags": null
          },
          "name": "stdout",
          "output_type": "stream",
          "text": [
            "06-20 05:43:35 [35] Lr: 0.000355, Training: 14.04%,  Loss: 2.95394, ACC: 44.83% \r\n"
          ]
        },
        {
          "metadata": {
            "tags": null
          },
          "name": "stderr",
          "output_type": "stream",
          "text": [
            "\r9it [00:50,  5.59s/it]"
          ]
        },
        {
          "metadata": {
            "tags": null
          },
          "name": "stdout",
          "output_type": "stream",
          "text": [
            "06-20 05:43:40 [35] Lr: 0.000355, Training: 15.79%,  Loss: 2.95091, ACC: 45.04% \r\n"
          ]
        },
        {
          "metadata": {
            "tags": null
          },
          "name": "stderr",
          "output_type": "stream",
          "text": [
            "\r10it [00:56,  5.57s/it]"
          ]
        },
        {
          "metadata": {
            "tags": null
          },
          "name": "stdout",
          "output_type": "stream",
          "text": [
            "06-20 05:43:46 [35] Lr: 0.000355, Training: 17.54%,  Loss: 2.99430, ACC: 44.67% \r\n"
          ]
        },
        {
          "metadata": {
            "tags": null
          },
          "name": "stderr",
          "output_type": "stream",
          "text": [
            "\r11it [01:01,  5.56s/it]"
          ]
        },
        {
          "metadata": {
            "tags": null
          },
          "name": "stdout",
          "output_type": "stream",
          "text": [
            "06-20 05:43:52 [35] Lr: 0.000355, Training: 19.30%,  Loss: 3.03838, ACC: 44.18% \r\n"
          ]
        },
        {
          "metadata": {
            "tags": null
          },
          "name": "stderr",
          "output_type": "stream",
          "text": [
            "\r12it [01:07,  5.55s/it]"
          ]
        },
        {
          "metadata": {
            "tags": null
          },
          "name": "stdout",
          "output_type": "stream",
          "text": [
            "06-20 05:43:57 [35] Lr: 0.000355, Training: 21.05%,  Loss: 3.08104, ACC: 43.33% \r\n"
          ]
        },
        {
          "metadata": {
            "tags": null
          },
          "name": "stderr",
          "output_type": "stream",
          "text": [
            "\r13it [01:12,  5.54s/it]"
          ]
        },
        {
          "metadata": {
            "tags": null
          },
          "name": "stdout",
          "output_type": "stream",
          "text": [
            "06-20 05:44:03 [35] Lr: 0.000355, Training: 22.81%,  Loss: 3.10258, ACC: 43.18% \r\n"
          ]
        },
        {
          "metadata": {
            "tags": null
          },
          "name": "stderr",
          "output_type": "stream",
          "text": [
            "\r14it [01:18,  5.53s/it]"
          ]
        },
        {
          "metadata": {
            "tags": null
          },
          "name": "stdout",
          "output_type": "stream",
          "text": [
            "06-20 05:44:08 [35] Lr: 0.000355, Training: 24.56%,  Loss: 3.11461, ACC: 43.24% \r\n"
          ]
        },
        {
          "metadata": {
            "tags": null
          },
          "name": "stderr",
          "output_type": "stream",
          "text": [
            "\r15it [01:24,  5.54s/it]"
          ]
        },
        {
          "metadata": {
            "tags": null
          },
          "name": "stdout",
          "output_type": "stream",
          "text": [
            "06-20 05:44:14 [35] Lr: 0.000355, Training: 26.32%,  Loss: 3.12242, ACC: 43.02% \r\n"
          ]
        },
        {
          "metadata": {
            "tags": null
          },
          "name": "stderr",
          "output_type": "stream",
          "text": [
            "\r16it [01:29,  5.53s/it]"
          ]
        },
        {
          "metadata": {
            "tags": null
          },
          "name": "stdout",
          "output_type": "stream",
          "text": [
            "06-20 05:44:19 [35] Lr: 0.000355, Training: 28.07%,  Loss: 3.10112, ACC: 43.17% \r\n"
          ]
        },
        {
          "metadata": {
            "tags": null
          },
          "name": "stderr",
          "output_type": "stream",
          "text": [
            "\r17it [01:35,  5.53s/it]"
          ]
        },
        {
          "metadata": {
            "tags": null
          },
          "name": "stdout",
          "output_type": "stream",
          "text": [
            "06-20 05:44:25 [35] Lr: 0.000355, Training: 29.82%,  Loss: 3.08995, ACC: 43.41% \r\n"
          ]
        },
        {
          "metadata": {
            "tags": null
          },
          "name": "stderr",
          "output_type": "stream",
          "text": [
            "\r18it [01:40,  5.53s/it]"
          ]
        },
        {
          "metadata": {
            "tags": null
          },
          "name": "stdout",
          "output_type": "stream",
          "text": [
            "06-20 05:44:30 [35] Lr: 0.000355, Training: 31.58%,  Loss: 3.07462, ACC: 43.74% \r\n"
          ]
        },
        {
          "metadata": {
            "tags": null
          },
          "name": "stderr",
          "output_type": "stream",
          "text": [
            "\r19it [01:46,  5.54s/it]"
          ]
        },
        {
          "metadata": {
            "tags": null
          },
          "name": "stdout",
          "output_type": "stream",
          "text": [
            "06-20 05:44:36 [35] Lr: 0.000355, Training: 33.33%,  Loss: 3.06936, ACC: 43.79% \r\n"
          ]
        },
        {
          "metadata": {
            "tags": null
          },
          "name": "stderr",
          "output_type": "stream",
          "text": [
            "\r20it [01:51,  5.54s/it]"
          ]
        },
        {
          "metadata": {
            "tags": null
          },
          "name": "stdout",
          "output_type": "stream",
          "text": [
            "06-20 05:44:41 [35] Lr: 0.000355, Training: 35.09%,  Loss: 3.05936, ACC: 44.17% \r\n"
          ]
        },
        {
          "metadata": {
            "tags": null
          },
          "name": "stderr",
          "output_type": "stream",
          "text": [
            "\r21it [01:57,  5.54s/it]"
          ]
        },
        {
          "metadata": {
            "tags": null
          },
          "name": "stdout",
          "output_type": "stream",
          "text": [
            "06-20 05:44:47 [35] Lr: 0.000355, Training: 36.84%,  Loss: 3.05881, ACC: 44.06% \r\n"
          ]
        },
        {
          "metadata": {
            "tags": null
          },
          "name": "stderr",
          "output_type": "stream",
          "text": [
            "\r22it [02:02,  5.54s/it]"
          ]
        },
        {
          "metadata": {
            "tags": null
          },
          "name": "stdout",
          "output_type": "stream",
          "text": [
            "06-20 05:44:52 [35] Lr: 0.000355, Training: 38.60%,  Loss: 3.04631, ACC: 44.24% \r\n"
          ]
        },
        {
          "metadata": {
            "tags": null
          },
          "name": "stderr",
          "output_type": "stream",
          "text": [
            "\r23it [02:08,  5.56s/it]"
          ]
        },
        {
          "metadata": {
            "tags": null
          },
          "name": "stdout",
          "output_type": "stream",
          "text": [
            "06-20 05:44:58 [35] Lr: 0.000355, Training: 40.35%,  Loss: 3.04325, ACC: 44.23% \r\n"
          ]
        },
        {
          "metadata": {
            "tags": null
          },
          "name": "stderr",
          "output_type": "stream",
          "text": [
            "\r24it [02:13,  5.56s/it]"
          ]
        },
        {
          "metadata": {
            "tags": null
          },
          "name": "stdout",
          "output_type": "stream",
          "text": [
            "06-20 05:45:04 [35] Lr: 0.000355, Training: 42.11%,  Loss: 3.03678, ACC: 43.97% \r\n"
          ]
        },
        {
          "metadata": {
            "tags": null
          },
          "name": "stderr",
          "output_type": "stream",
          "text": [
            "\r25it [02:19,  5.57s/it]"
          ]
        },
        {
          "metadata": {
            "tags": null
          },
          "name": "stdout",
          "output_type": "stream",
          "text": [
            "06-20 05:45:09 [35] Lr: 0.000355, Training: 43.86%,  Loss: 3.04454, ACC: 43.89% \r\n"
          ]
        },
        {
          "metadata": {
            "tags": null
          },
          "name": "stderr",
          "output_type": "stream",
          "text": [
            "\r26it [02:25,  5.56s/it]"
          ]
        },
        {
          "metadata": {
            "tags": null
          },
          "name": "stdout",
          "output_type": "stream",
          "text": [
            "06-20 05:45:15 [35] Lr: 0.000355, Training: 45.61%,  Loss: 3.04742, ACC: 43.72% \r\n"
          ]
        },
        {
          "metadata": {
            "tags": null
          },
          "name": "stderr",
          "output_type": "stream",
          "text": [
            "\r27it [02:30,  5.57s/it]"
          ]
        },
        {
          "metadata": {
            "tags": null
          },
          "name": "stdout",
          "output_type": "stream",
          "text": [
            "06-20 05:45:20 [35] Lr: 0.000355, Training: 47.37%,  Loss: 3.05404, ACC: 43.56% \r\n"
          ]
        },
        {
          "metadata": {
            "tags": null
          },
          "name": "stderr",
          "output_type": "stream",
          "text": [
            "\r28it [02:36,  5.56s/it]"
          ]
        },
        {
          "metadata": {
            "tags": null
          },
          "name": "stdout",
          "output_type": "stream",
          "text": [
            "06-20 05:45:26 [35] Lr: 0.000355, Training: 49.12%,  Loss: 3.06388, ACC: 43.38% \r\n"
          ]
        },
        {
          "metadata": {
            "tags": null
          },
          "name": "stderr",
          "output_type": "stream",
          "text": [
            "\r29it [02:41,  5.56s/it]"
          ]
        },
        {
          "metadata": {
            "tags": null
          },
          "name": "stdout",
          "output_type": "stream",
          "text": [
            "06-20 05:45:31 [35] Lr: 0.000355, Training: 50.88%,  Loss: 3.06502, ACC: 43.31% \r\n"
          ]
        },
        {
          "metadata": {
            "tags": null
          },
          "name": "stderr",
          "output_type": "stream",
          "text": [
            "\r30it [02:47,  5.55s/it]"
          ]
        },
        {
          "metadata": {
            "tags": null
          },
          "name": "stdout",
          "output_type": "stream",
          "text": [
            "06-20 05:45:37 [35] Lr: 0.000355, Training: 52.63%,  Loss: 3.06292, ACC: 43.20% \r\n"
          ]
        },
        {
          "metadata": {
            "tags": null
          },
          "name": "stderr",
          "output_type": "stream",
          "text": [
            "\r31it [02:52,  5.55s/it]"
          ]
        },
        {
          "metadata": {
            "tags": null
          },
          "name": "stdout",
          "output_type": "stream",
          "text": [
            "06-20 05:45:42 [35] Lr: 0.000355, Training: 54.39%,  Loss: 3.07184, ACC: 43.05% \r\n"
          ]
        },
        {
          "metadata": {
            "tags": null
          },
          "name": "stderr",
          "output_type": "stream",
          "text": [
            "\r32it [02:58,  5.54s/it]"
          ]
        },
        {
          "metadata": {
            "tags": null
          },
          "name": "stdout",
          "output_type": "stream",
          "text": [
            "06-20 05:45:48 [35] Lr: 0.000355, Training: 56.14%,  Loss: 3.06666, ACC: 43.04% \r\n"
          ]
        },
        {
          "metadata": {
            "tags": null
          },
          "name": "stderr",
          "output_type": "stream",
          "text": [
            "\r33it [03:03,  5.54s/it]"
          ]
        },
        {
          "metadata": {
            "tags": null
          },
          "name": "stdout",
          "output_type": "stream",
          "text": [
            "06-20 05:45:54 [35] Lr: 0.000355, Training: 57.89%,  Loss: 3.06530, ACC: 43.09% \r\n"
          ]
        },
        {
          "metadata": {
            "tags": null
          },
          "name": "stderr",
          "output_type": "stream",
          "text": [
            "\r34it [03:09,  5.54s/it]"
          ]
        },
        {
          "metadata": {
            "tags": null
          },
          "name": "stdout",
          "output_type": "stream",
          "text": [
            "06-20 05:45:59 [35] Lr: 0.000355, Training: 59.65%,  Loss: 3.06356, ACC: 43.18% \r\n"
          ]
        },
        {
          "metadata": {
            "tags": null
          },
          "name": "stderr",
          "output_type": "stream",
          "text": [
            "\r35it [03:14,  5.53s/it]"
          ]
        },
        {
          "metadata": {
            "tags": null
          },
          "name": "stdout",
          "output_type": "stream",
          "text": [
            "06-20 05:46:05 [35] Lr: 0.000355, Training: 61.40%,  Loss: 3.06767, ACC: 43.03% \r\n"
          ]
        },
        {
          "metadata": {
            "tags": null
          },
          "name": "stderr",
          "output_type": "stream",
          "text": [
            "\r36it [03:20,  5.53s/it]"
          ]
        },
        {
          "metadata": {
            "tags": null
          },
          "name": "stdout",
          "output_type": "stream",
          "text": [
            "06-20 05:46:10 [35] Lr: 0.000355, Training: 63.16%,  Loss: 3.05674, ACC: 43.19% \r\n"
          ]
        },
        {
          "metadata": {
            "tags": null
          },
          "name": "stderr",
          "output_type": "stream",
          "text": [
            "\r37it [03:26,  5.53s/it]"
          ]
        },
        {
          "metadata": {
            "tags": null
          },
          "name": "stdout",
          "output_type": "stream",
          "text": [
            "06-20 05:46:16 [35] Lr: 0.000355, Training: 64.91%,  Loss: 3.06329, ACC: 43.10% \r\n"
          ]
        },
        {
          "metadata": {
            "tags": null
          },
          "name": "stderr",
          "output_type": "stream",
          "text": [
            "\r38it [03:31,  5.53s/it]"
          ]
        },
        {
          "metadata": {
            "tags": null
          },
          "name": "stdout",
          "output_type": "stream",
          "text": [
            "06-20 05:46:21 [35] Lr: 0.000355, Training: 66.67%,  Loss: 3.06700, ACC: 43.11% \r\n"
          ]
        },
        {
          "metadata": {
            "tags": null
          },
          "name": "stderr",
          "output_type": "stream",
          "text": [
            "\r39it [03:37,  5.53s/it]"
          ]
        },
        {
          "metadata": {
            "tags": null
          },
          "name": "stdout",
          "output_type": "stream",
          "text": [
            "06-20 05:46:27 [35] Lr: 0.000355, Training: 68.42%,  Loss: 3.06477, ACC: 43.13% \r\n"
          ]
        },
        {
          "metadata": {
            "tags": null
          },
          "name": "stderr",
          "output_type": "stream",
          "text": [
            "\r40it [03:42,  5.52s/it]"
          ]
        },
        {
          "metadata": {
            "tags": null
          },
          "name": "stdout",
          "output_type": "stream",
          "text": [
            "06-20 05:46:32 [35] Lr: 0.000355, Training: 70.18%,  Loss: 3.07284, ACC: 43.00% \r\n"
          ]
        },
        {
          "metadata": {
            "tags": null
          },
          "name": "stderr",
          "output_type": "stream",
          "text": [
            "\r41it [03:48,  5.52s/it]"
          ]
        },
        {
          "metadata": {
            "tags": null
          },
          "name": "stdout",
          "output_type": "stream",
          "text": [
            "06-20 05:46:38 [35] Lr: 0.000355, Training: 71.93%,  Loss: 3.06730, ACC: 43.02% \r\n"
          ]
        },
        {
          "metadata": {
            "tags": null
          },
          "name": "stderr",
          "output_type": "stream",
          "text": [
            "\r42it [03:53,  5.52s/it]"
          ]
        },
        {
          "metadata": {
            "tags": null
          },
          "name": "stdout",
          "output_type": "stream",
          "text": [
            "06-20 05:46:43 [35] Lr: 0.000355, Training: 73.68%,  Loss: 3.06638, ACC: 42.94% \r\n"
          ]
        },
        {
          "metadata": {
            "tags": null
          },
          "name": "stderr",
          "output_type": "stream",
          "text": [
            "\r43it [03:59,  5.52s/it]"
          ]
        },
        {
          "metadata": {
            "tags": null
          },
          "name": "stdout",
          "output_type": "stream",
          "text": [
            "06-20 05:46:49 [35] Lr: 0.000355, Training: 75.44%,  Loss: 3.06679, ACC: 42.91% \r\n"
          ]
        },
        {
          "metadata": {
            "tags": null
          },
          "name": "stderr",
          "output_type": "stream",
          "text": [
            "\r44it [04:04,  5.52s/it]"
          ]
        },
        {
          "metadata": {
            "tags": null
          },
          "name": "stdout",
          "output_type": "stream",
          "text": [
            "06-20 05:46:54 [35] Lr: 0.000355, Training: 77.19%,  Loss: 3.06435, ACC: 43.05% \r\n"
          ]
        },
        {
          "metadata": {
            "tags": null
          },
          "name": "stderr",
          "output_type": "stream",
          "text": [
            "\r45it [04:10,  5.52s/it]"
          ]
        },
        {
          "metadata": {
            "tags": null
          },
          "name": "stdout",
          "output_type": "stream",
          "text": [
            "06-20 05:47:00 [35] Lr: 0.000355, Training: 78.95%,  Loss: 3.06281, ACC: 43.14% \r\n"
          ]
        },
        {
          "metadata": {
            "tags": null
          },
          "name": "stderr",
          "output_type": "stream",
          "text": [
            "\r46it [04:15,  5.52s/it]"
          ]
        },
        {
          "metadata": {
            "tags": null
          },
          "name": "stdout",
          "output_type": "stream",
          "text": [
            "06-20 05:47:05 [35] Lr: 0.000355, Training: 80.70%,  Loss: 3.06005, ACC: 43.32% \r\n"
          ]
        },
        {
          "metadata": {
            "tags": null
          },
          "name": "stderr",
          "output_type": "stream",
          "text": [
            "\r47it [04:21,  5.52s/it]"
          ]
        },
        {
          "metadata": {
            "tags": null
          },
          "name": "stdout",
          "output_type": "stream",
          "text": [
            "06-20 05:47:11 [35] Lr: 0.000355, Training: 82.46%,  Loss: 3.05502, ACC: 43.33% \r\n"
          ]
        },
        {
          "metadata": {
            "tags": null
          },
          "name": "stderr",
          "output_type": "stream",
          "text": [
            "\r48it [04:26,  5.52s/it]"
          ]
        },
        {
          "metadata": {
            "tags": null
          },
          "name": "stdout",
          "output_type": "stream",
          "text": [
            "06-20 05:47:16 [35] Lr: 0.000355, Training: 84.21%,  Loss: 3.06713, ACC: 43.15% \r\n"
          ]
        },
        {
          "metadata": {
            "tags": null
          },
          "name": "stderr",
          "output_type": "stream",
          "text": [
            "\r49it [04:32,  5.53s/it]"
          ]
        },
        {
          "metadata": {
            "tags": null
          },
          "name": "stdout",
          "output_type": "stream",
          "text": [
            "06-20 05:47:22 [35] Lr: 0.000355, Training: 85.96%,  Loss: 3.06382, ACC: 43.18% \r\n"
          ]
        },
        {
          "metadata": {
            "tags": null
          },
          "name": "stderr",
          "output_type": "stream",
          "text": [
            "\r50it [04:37,  5.52s/it]"
          ]
        },
        {
          "metadata": {
            "tags": null
          },
          "name": "stdout",
          "output_type": "stream",
          "text": [
            "06-20 05:47:27 [35] Lr: 0.000355, Training: 87.72%,  Loss: 3.06816, ACC: 43.20% \r\n"
          ]
        },
        {
          "metadata": {
            "tags": null
          },
          "name": "stderr",
          "output_type": "stream",
          "text": [
            "\r51it [04:43,  5.52s/it]"
          ]
        },
        {
          "metadata": {
            "tags": null
          },
          "name": "stdout",
          "output_type": "stream",
          "text": [
            "06-20 05:47:33 [35] Lr: 0.000355, Training: 89.47%,  Loss: 3.07501, ACC: 43.11% \r\n"
          ]
        },
        {
          "metadata": {
            "tags": null
          },
          "name": "stderr",
          "output_type": "stream",
          "text": [
            "\r52it [04:48,  5.53s/it]"
          ]
        },
        {
          "metadata": {
            "tags": null
          },
          "name": "stdout",
          "output_type": "stream",
          "text": [
            "06-20 05:47:38 [35] Lr: 0.000355, Training: 91.23%,  Loss: 3.07809, ACC: 43.13% \r\n"
          ]
        },
        {
          "metadata": {
            "tags": null
          },
          "name": "stderr",
          "output_type": "stream",
          "text": [
            "\r53it [04:54,  5.53s/it]"
          ]
        },
        {
          "metadata": {
            "tags": null
          },
          "name": "stdout",
          "output_type": "stream",
          "text": [
            "06-20 05:47:44 [35] Lr: 0.000355, Training: 92.98%,  Loss: 3.08137, ACC: 43.11% \r\n"
          ]
        },
        {
          "metadata": {
            "tags": null
          },
          "name": "stderr",
          "output_type": "stream",
          "text": [
            "\r54it [04:59,  5.52s/it]"
          ]
        },
        {
          "metadata": {
            "tags": null
          },
          "name": "stdout",
          "output_type": "stream",
          "text": [
            "06-20 05:47:49 [35] Lr: 0.000355, Training: 94.74%,  Loss: 3.07793, ACC: 43.17% \r\n"
          ]
        },
        {
          "metadata": {
            "tags": null
          },
          "name": "stderr",
          "output_type": "stream",
          "text": [
            "\r55it [05:05,  5.52s/it]"
          ]
        },
        {
          "metadata": {
            "tags": null
          },
          "name": "stdout",
          "output_type": "stream",
          "text": [
            "06-20 05:47:55 [35] Lr: 0.000355, Training: 96.49%,  Loss: 3.08200, ACC: 43.08% \r\n"
          ]
        },
        {
          "metadata": {
            "tags": null
          },
          "name": "stderr",
          "output_type": "stream",
          "text": [
            "\r56it [05:10,  5.52s/it]"
          ]
        },
        {
          "metadata": {
            "tags": null
          },
          "name": "stdout",
          "output_type": "stream",
          "text": [
            "06-20 05:48:01 [35] Lr: 0.000355, Training: 98.25%,  Loss: 3.08230, ACC: 43.15% \r\n"
          ]
        },
        {
          "metadata": {
            "tags": null
          },
          "name": "stderr",
          "output_type": "stream",
          "text": [
            "\r57it [05:14,  5.02s/it]"
          ]
        },
        {
          "metadata": {
            "tags": null
          },
          "name": "stdout",
          "output_type": "stream",
          "text": [
            "06-20 05:48:04 [35] Lr: 0.000355, Training: 100.00%,  Loss: 3.08939, ACC: 31.38% \r\n"
          ]
        },
        {
          "metadata": {
            "tags": null
          },
          "name": "stderr",
          "output_type": "stream",
          "text": [
            "\r57it [05:15,  5.53s/it]\n"
          ]
        },
        {
          "metadata": {
            "tags": null
          },
          "name": "stdout",
          "output_type": "stream",
          "text": [
            "\n",
            "\n"
          ]
        },
        {
          "metadata": {
            "tags": null
          },
          "name": "stderr",
          "output_type": "stream",
          "text": [
            "  0%|          | 0/973 [00:00<?, ?it/s]<ipython-input-15-b61162519fae>:62: DeprecationWarning: `np.float` is a deprecated alias for the builtin `float`. To silence this warning, use `float` by itself. Doing this will not modify any behavior and is safe. If you specifically wanted the numpy scalar type, use `np.float64` here.\n",
            "Deprecated in NumPy 1.20; for more details and guidance: https://numpy.org/devdocs/release/1.20.0-notes.html#deprecations\n",
            "  feats = numpy.stack(feats, axis = 0).astype(numpy.float)\n",
            "100%|██████████| 973/973 [04:32<00:00,  3.57it/s]\n"
          ]
        },
        {
          "metadata": {
            "tags": null
          },
          "name": "stdout",
          "output_type": "stream",
          "text": [
            "2023-06-20 05:52:48 35 epoch, ACC 31.38%, EER 6.33%, bestEER 6.33%\n",
            "Epoch: 36\n"
          ]
        },
        {
          "metadata": {
            "tags": null
          },
          "name": "stderr",
          "output_type": "stream",
          "text": [
            "/usr/local/lib/python3.10/dist-packages/torch/optim/lr_scheduler.py:152: UserWarning: The epoch parameter in `scheduler.step()` was not necessary and is being deprecated where possible. Please use `scheduler.step()` to step the scheduler. During the deprecation, if epoch is different from None, the closed form is used instead of the new chainable form, where available. Please open an issue if you are unable to replicate your use case: https://github.com/pytorch/pytorch/issues/new/choose.\n",
            "  warnings.warn(EPOCH_DEPRECATION_WARNING, UserWarning)\n",
            "0it [00:00, ?it/s]/usr/local/lib/python3.10/dist-packages/torch/nn/functional.py:4999: UserWarning: Support for mismatched key_padding_mask and attn_mask is deprecated. Use same type for both instead.\n",
            "  warnings.warn(\n",
            "1it [00:06,  6.53s/it]"
          ]
        },
        {
          "metadata": {
            "tags": null
          },
          "name": "stdout",
          "output_type": "stream",
          "text": [
            "06-20 05:52:55 [36] Lr: 0.000344, Training: 1.75%,  Loss: 3.03498, ACC: 40.00% \r\n"
          ]
        },
        {
          "metadata": {
            "tags": null
          },
          "name": "stderr",
          "output_type": "stream",
          "text": [
            "\r2it [00:12,  5.92s/it]"
          ]
        },
        {
          "metadata": {
            "tags": null
          },
          "name": "stdout",
          "output_type": "stream",
          "text": [
            "06-20 05:53:00 [36] Lr: 0.000344, Training: 3.51%,  Loss: 3.32970, ACC: 43.33% \r\n"
          ]
        },
        {
          "metadata": {
            "tags": null
          },
          "name": "stderr",
          "output_type": "stream",
          "text": [
            "\r3it [00:17,  5.75s/it]"
          ]
        },
        {
          "metadata": {
            "tags": null
          },
          "name": "stdout",
          "output_type": "stream",
          "text": [
            "06-20 05:53:06 [36] Lr: 0.000344, Training: 5.26%,  Loss: 3.14240, ACC: 45.56% \r\n"
          ]
        },
        {
          "metadata": {
            "tags": null
          },
          "name": "stderr",
          "output_type": "stream",
          "text": [
            "\r4it [00:23,  5.70s/it]"
          ]
        },
        {
          "metadata": {
            "tags": null
          },
          "name": "stdout",
          "output_type": "stream",
          "text": [
            "06-20 05:53:12 [36] Lr: 0.000344, Training: 7.02%,  Loss: 3.14667, ACC: 43.67% \r\n"
          ]
        },
        {
          "metadata": {
            "tags": null
          },
          "name": "stderr",
          "output_type": "stream",
          "text": [
            "\r5it [00:28,  5.66s/it]"
          ]
        },
        {
          "metadata": {
            "tags": null
          },
          "name": "stdout",
          "output_type": "stream",
          "text": [
            "06-20 05:53:17 [36] Lr: 0.000344, Training: 8.77%,  Loss: 3.07136, ACC: 44.93% \r\n"
          ]
        },
        {
          "metadata": {
            "tags": null
          },
          "name": "stderr",
          "output_type": "stream",
          "text": [
            "\r6it [00:34,  5.64s/it]"
          ]
        },
        {
          "metadata": {
            "tags": null
          },
          "name": "stdout",
          "output_type": "stream",
          "text": [
            "06-20 05:53:23 [36] Lr: 0.000344, Training: 10.53%,  Loss: 3.11087, ACC: 43.67% \r\n"
          ]
        },
        {
          "metadata": {
            "tags": null
          },
          "name": "stderr",
          "output_type": "stream",
          "text": [
            "\r7it [00:39,  5.63s/it]"
          ]
        },
        {
          "metadata": {
            "tags": null
          },
          "name": "stdout",
          "output_type": "stream",
          "text": [
            "06-20 05:53:28 [36] Lr: 0.000344, Training: 12.28%,  Loss: 3.07953, ACC: 43.81% \r\n"
          ]
        },
        {
          "metadata": {
            "tags": null
          },
          "name": "stderr",
          "output_type": "stream",
          "text": [
            "\r8it [00:45,  5.62s/it]"
          ]
        },
        {
          "metadata": {
            "tags": null
          },
          "name": "stdout",
          "output_type": "stream",
          "text": [
            "06-20 05:53:34 [36] Lr: 0.000344, Training: 14.04%,  Loss: 3.12317, ACC: 43.50% \r\n"
          ]
        },
        {
          "metadata": {
            "tags": null
          },
          "name": "stderr",
          "output_type": "stream",
          "text": [
            "\r9it [00:51,  5.61s/it]"
          ]
        },
        {
          "metadata": {
            "tags": null
          },
          "name": "stdout",
          "output_type": "stream",
          "text": [
            "06-20 05:53:39 [36] Lr: 0.000344, Training: 15.79%,  Loss: 3.13297, ACC: 43.56% \r\n"
          ]
        },
        {
          "metadata": {
            "tags": null
          },
          "name": "stderr",
          "output_type": "stream",
          "text": [
            "\r10it [00:56,  5.60s/it]"
          ]
        },
        {
          "metadata": {
            "tags": null
          },
          "name": "stdout",
          "output_type": "stream",
          "text": [
            "06-20 05:53:45 [36] Lr: 0.000344, Training: 17.54%,  Loss: 3.10802, ACC: 43.93% \r\n"
          ]
        },
        {
          "metadata": {
            "tags": null
          },
          "name": "stderr",
          "output_type": "stream",
          "text": [
            "\r11it [01:02,  5.58s/it]"
          ]
        },
        {
          "metadata": {
            "tags": null
          },
          "name": "stdout",
          "output_type": "stream",
          "text": [
            "06-20 05:53:51 [36] Lr: 0.000344, Training: 19.30%,  Loss: 3.06399, ACC: 44.24% \r\n"
          ]
        },
        {
          "metadata": {
            "tags": null
          },
          "name": "stderr",
          "output_type": "stream",
          "text": [
            "\r12it [01:07,  5.56s/it]"
          ]
        },
        {
          "metadata": {
            "tags": null
          },
          "name": "stdout",
          "output_type": "stream",
          "text": [
            "06-20 05:53:56 [36] Lr: 0.000344, Training: 21.05%,  Loss: 3.06687, ACC: 44.06% \r\n"
          ]
        },
        {
          "metadata": {
            "tags": null
          },
          "name": "stderr",
          "output_type": "stream",
          "text": [
            "\r13it [01:13,  5.55s/it]"
          ]
        },
        {
          "metadata": {
            "tags": null
          },
          "name": "stdout",
          "output_type": "stream",
          "text": [
            "06-20 05:54:02 [36] Lr: 0.000344, Training: 22.81%,  Loss: 3.06841, ACC: 43.74% \r\n"
          ]
        },
        {
          "metadata": {
            "tags": null
          },
          "name": "stderr",
          "output_type": "stream",
          "text": [
            "\r14it [01:18,  5.53s/it]"
          ]
        },
        {
          "metadata": {
            "tags": null
          },
          "name": "stdout",
          "output_type": "stream",
          "text": [
            "06-20 05:54:07 [36] Lr: 0.000344, Training: 24.56%,  Loss: 3.07734, ACC: 43.48% \r\n"
          ]
        },
        {
          "metadata": {
            "tags": null
          },
          "name": "stderr",
          "output_type": "stream",
          "text": [
            "\r15it [01:24,  5.53s/it]"
          ]
        },
        {
          "metadata": {
            "tags": null
          },
          "name": "stdout",
          "output_type": "stream",
          "text": [
            "06-20 05:54:13 [36] Lr: 0.000344, Training: 26.32%,  Loss: 3.07599, ACC: 43.78% \r\n"
          ]
        },
        {
          "metadata": {
            "tags": null
          },
          "name": "stderr",
          "output_type": "stream",
          "text": [
            "\r16it [01:29,  5.52s/it]"
          ]
        },
        {
          "metadata": {
            "tags": null
          },
          "name": "stdout",
          "output_type": "stream",
          "text": [
            "06-20 05:54:18 [36] Lr: 0.000344, Training: 28.07%,  Loss: 3.07347, ACC: 43.67% \r\n"
          ]
        },
        {
          "metadata": {
            "tags": null
          },
          "name": "stderr",
          "output_type": "stream",
          "text": [
            "\r17it [01:35,  5.52s/it]"
          ]
        },
        {
          "metadata": {
            "tags": null
          },
          "name": "stdout",
          "output_type": "stream",
          "text": [
            "06-20 05:54:24 [36] Lr: 0.000344, Training: 29.82%,  Loss: 3.08759, ACC: 43.65% \r\n"
          ]
        },
        {
          "metadata": {
            "tags": null
          },
          "name": "stderr",
          "output_type": "stream",
          "text": [
            "\r18it [01:40,  5.52s/it]"
          ]
        },
        {
          "metadata": {
            "tags": null
          },
          "name": "stdout",
          "output_type": "stream",
          "text": [
            "06-20 05:54:29 [36] Lr: 0.000344, Training: 31.58%,  Loss: 3.06227, ACC: 43.48% \r\n"
          ]
        },
        {
          "metadata": {
            "tags": null
          },
          "name": "stderr",
          "output_type": "stream",
          "text": [
            "\r19it [01:46,  5.53s/it]"
          ]
        },
        {
          "metadata": {
            "tags": null
          },
          "name": "stdout",
          "output_type": "stream",
          "text": [
            "06-20 05:54:35 [36] Lr: 0.000344, Training: 33.33%,  Loss: 3.04025, ACC: 43.93% \r\n"
          ]
        },
        {
          "metadata": {
            "tags": null
          },
          "name": "stderr",
          "output_type": "stream",
          "text": [
            "\r20it [01:51,  5.54s/it]"
          ]
        },
        {
          "metadata": {
            "tags": null
          },
          "name": "stdout",
          "output_type": "stream",
          "text": [
            "06-20 05:54:40 [36] Lr: 0.000344, Training: 35.09%,  Loss: 3.03657, ACC: 43.80% \r\n"
          ]
        },
        {
          "metadata": {
            "tags": null
          },
          "name": "stderr",
          "output_type": "stream",
          "text": [
            "\r21it [01:57,  5.54s/it]"
          ]
        },
        {
          "metadata": {
            "tags": null
          },
          "name": "stdout",
          "output_type": "stream",
          "text": [
            "06-20 05:54:46 [36] Lr: 0.000344, Training: 36.84%,  Loss: 3.04436, ACC: 43.81% \r\n"
          ]
        },
        {
          "metadata": {
            "tags": null
          },
          "name": "stderr",
          "output_type": "stream",
          "text": [
            "\r22it [02:03,  5.55s/it]"
          ]
        },
        {
          "metadata": {
            "tags": null
          },
          "name": "stdout",
          "output_type": "stream",
          "text": [
            "06-20 05:54:51 [36] Lr: 0.000344, Training: 38.60%,  Loss: 3.04274, ACC: 43.88% \r\n"
          ]
        },
        {
          "metadata": {
            "tags": null
          },
          "name": "stderr",
          "output_type": "stream",
          "text": [
            "\r23it [02:08,  5.57s/it]"
          ]
        },
        {
          "metadata": {
            "tags": null
          },
          "name": "stdout",
          "output_type": "stream",
          "text": [
            "06-20 05:54:57 [36] Lr: 0.000344, Training: 40.35%,  Loss: 3.04335, ACC: 43.86% \r\n"
          ]
        },
        {
          "metadata": {
            "tags": null
          },
          "name": "stderr",
          "output_type": "stream",
          "text": [
            "\r24it [02:14,  5.56s/it]"
          ]
        },
        {
          "metadata": {
            "tags": null
          },
          "name": "stdout",
          "output_type": "stream",
          "text": [
            "06-20 05:55:03 [36] Lr: 0.000344, Training: 42.11%,  Loss: 3.05341, ACC: 43.53% \r\n"
          ]
        },
        {
          "metadata": {
            "tags": null
          },
          "name": "stderr",
          "output_type": "stream",
          "text": [
            "\r25it [02:19,  5.58s/it]"
          ]
        },
        {
          "metadata": {
            "tags": null
          },
          "name": "stdout",
          "output_type": "stream",
          "text": [
            "06-20 05:55:08 [36] Lr: 0.000344, Training: 43.86%,  Loss: 3.03702, ACC: 43.84% \r\n"
          ]
        },
        {
          "metadata": {
            "tags": null
          },
          "name": "stderr",
          "output_type": "stream",
          "text": [
            "\r26it [02:25,  5.57s/it]"
          ]
        },
        {
          "metadata": {
            "tags": null
          },
          "name": "stdout",
          "output_type": "stream",
          "text": [
            "06-20 05:55:14 [36] Lr: 0.000344, Training: 45.61%,  Loss: 3.02237, ACC: 44.03% \r\n"
          ]
        },
        {
          "metadata": {
            "tags": null
          },
          "name": "stderr",
          "output_type": "stream",
          "text": [
            "\r27it [02:30,  5.57s/it]"
          ]
        },
        {
          "metadata": {
            "tags": null
          },
          "name": "stdout",
          "output_type": "stream",
          "text": [
            "06-20 05:55:19 [36] Lr: 0.000344, Training: 47.37%,  Loss: 3.03735, ACC: 43.98% \r\n"
          ]
        },
        {
          "metadata": {
            "tags": null
          },
          "name": "stderr",
          "output_type": "stream",
          "text": [
            "\r28it [02:36,  5.56s/it]"
          ]
        },
        {
          "metadata": {
            "tags": null
          },
          "name": "stdout",
          "output_type": "stream",
          "text": [
            "06-20 05:55:25 [36] Lr: 0.000344, Training: 49.12%,  Loss: 3.02785, ACC: 44.24% \r\n"
          ]
        },
        {
          "metadata": {
            "tags": null
          },
          "name": "stderr",
          "output_type": "stream",
          "text": [
            "\r29it [02:42,  5.57s/it]"
          ]
        },
        {
          "metadata": {
            "tags": null
          },
          "name": "stdout",
          "output_type": "stream",
          "text": [
            "06-20 05:55:30 [36] Lr: 0.000344, Training: 50.88%,  Loss: 3.04474, ACC: 43.91% \r\n"
          ]
        },
        {
          "metadata": {
            "tags": null
          },
          "name": "stderr",
          "output_type": "stream",
          "text": [
            "\r30it [02:47,  5.56s/it]"
          ]
        },
        {
          "metadata": {
            "tags": null
          },
          "name": "stdout",
          "output_type": "stream",
          "text": [
            "06-20 05:55:36 [36] Lr: 0.000344, Training: 52.63%,  Loss: 3.02348, ACC: 44.11% \r\n"
          ]
        },
        {
          "metadata": {
            "tags": null
          },
          "name": "stderr",
          "output_type": "stream",
          "text": [
            "\r31it [02:53,  5.55s/it]"
          ]
        },
        {
          "metadata": {
            "tags": null
          },
          "name": "stdout",
          "output_type": "stream",
          "text": [
            "06-20 05:55:42 [36] Lr: 0.000344, Training: 54.39%,  Loss: 3.02652, ACC: 44.11% \r\n"
          ]
        },
        {
          "metadata": {
            "tags": null
          },
          "name": "stderr",
          "output_type": "stream",
          "text": [
            "\r32it [02:58,  5.56s/it]"
          ]
        },
        {
          "metadata": {
            "tags": null
          },
          "name": "stdout",
          "output_type": "stream",
          "text": [
            "06-20 05:55:47 [36] Lr: 0.000344, Training: 56.14%,  Loss: 3.01461, ACC: 44.29% \r\n"
          ]
        },
        {
          "metadata": {
            "tags": null
          },
          "name": "stderr",
          "output_type": "stream",
          "text": [
            "\r33it [03:04,  5.55s/it]"
          ]
        },
        {
          "metadata": {
            "tags": null
          },
          "name": "stdout",
          "output_type": "stream",
          "text": [
            "06-20 05:55:53 [36] Lr: 0.000344, Training: 57.89%,  Loss: 3.03263, ACC: 44.02% \r\n"
          ]
        },
        {
          "metadata": {
            "tags": null
          },
          "name": "stderr",
          "output_type": "stream",
          "text": [
            "\r34it [03:09,  5.55s/it]"
          ]
        },
        {
          "metadata": {
            "tags": null
          },
          "name": "stdout",
          "output_type": "stream",
          "text": [
            "06-20 05:55:58 [36] Lr: 0.000344, Training: 59.65%,  Loss: 3.03672, ACC: 43.76% \r\n"
          ]
        },
        {
          "metadata": {
            "tags": null
          },
          "name": "stderr",
          "output_type": "stream",
          "text": [
            "\r35it [03:15,  5.56s/it]"
          ]
        },
        {
          "metadata": {
            "tags": null
          },
          "name": "stdout",
          "output_type": "stream",
          "text": [
            "06-20 05:56:04 [36] Lr: 0.000344, Training: 61.40%,  Loss: 3.02704, ACC: 43.89% \r\n"
          ]
        },
        {
          "metadata": {
            "tags": null
          },
          "name": "stderr",
          "output_type": "stream",
          "text": [
            "\r36it [03:20,  5.55s/it]"
          ]
        },
        {
          "metadata": {
            "tags": null
          },
          "name": "stdout",
          "output_type": "stream",
          "text": [
            "06-20 05:56:09 [36] Lr: 0.000344, Training: 63.16%,  Loss: 3.02343, ACC: 43.94% \r\n"
          ]
        },
        {
          "metadata": {
            "tags": null
          },
          "name": "stderr",
          "output_type": "stream",
          "text": [
            "\r37it [03:26,  5.55s/it]"
          ]
        },
        {
          "metadata": {
            "tags": null
          },
          "name": "stdout",
          "output_type": "stream",
          "text": [
            "06-20 05:56:15 [36] Lr: 0.000344, Training: 64.91%,  Loss: 3.02863, ACC: 43.89% \r\n"
          ]
        },
        {
          "metadata": {
            "tags": null
          },
          "name": "stderr",
          "output_type": "stream",
          "text": [
            "\r38it [03:32,  5.54s/it]"
          ]
        },
        {
          "metadata": {
            "tags": null
          },
          "name": "stdout",
          "output_type": "stream",
          "text": [
            "06-20 05:56:20 [36] Lr: 0.000344, Training: 66.67%,  Loss: 3.01900, ACC: 44.14% \r\n"
          ]
        },
        {
          "metadata": {
            "tags": null
          },
          "name": "stderr",
          "output_type": "stream",
          "text": [
            "\r39it [03:37,  5.54s/it]"
          ]
        },
        {
          "metadata": {
            "tags": null
          },
          "name": "stdout",
          "output_type": "stream",
          "text": [
            "06-20 05:56:26 [36] Lr: 0.000344, Training: 68.42%,  Loss: 3.01243, ACC: 44.17% \r\n"
          ]
        },
        {
          "metadata": {
            "tags": null
          },
          "name": "stderr",
          "output_type": "stream",
          "text": [
            "\r40it [03:43,  5.54s/it]"
          ]
        },
        {
          "metadata": {
            "tags": null
          },
          "name": "stdout",
          "output_type": "stream",
          "text": [
            "06-20 05:56:31 [36] Lr: 0.000344, Training: 70.18%,  Loss: 3.01194, ACC: 44.20% \r\n"
          ]
        },
        {
          "metadata": {
            "tags": null
          },
          "name": "stderr",
          "output_type": "stream",
          "text": [
            "\r41it [03:48,  5.56s/it]"
          ]
        },
        {
          "metadata": {
            "tags": null
          },
          "name": "stdout",
          "output_type": "stream",
          "text": [
            "06-20 05:56:37 [36] Lr: 0.000344, Training: 71.93%,  Loss: 3.01424, ACC: 44.13% \r\n"
          ]
        },
        {
          "metadata": {
            "tags": null
          },
          "name": "stderr",
          "output_type": "stream",
          "text": [
            "\r42it [03:54,  5.55s/it]"
          ]
        },
        {
          "metadata": {
            "tags": null
          },
          "name": "stdout",
          "output_type": "stream",
          "text": [
            "06-20 05:56:43 [36] Lr: 0.000344, Training: 73.68%,  Loss: 3.01585, ACC: 44.19% \r\n"
          ]
        },
        {
          "metadata": {
            "tags": null
          },
          "name": "stderr",
          "output_type": "stream",
          "text": [
            "\r43it [03:59,  5.55s/it]"
          ]
        },
        {
          "metadata": {
            "tags": null
          },
          "name": "stdout",
          "output_type": "stream",
          "text": [
            "06-20 05:56:48 [36] Lr: 0.000344, Training: 75.44%,  Loss: 3.02640, ACC: 44.28% \r\n"
          ]
        },
        {
          "metadata": {
            "tags": null
          },
          "name": "stderr",
          "output_type": "stream",
          "text": [
            "\r44it [04:05,  5.55s/it]"
          ]
        },
        {
          "metadata": {
            "tags": null
          },
          "name": "stdout",
          "output_type": "stream",
          "text": [
            "06-20 05:56:54 [36] Lr: 0.000344, Training: 77.19%,  Loss: 3.02787, ACC: 44.36% \r\n"
          ]
        },
        {
          "metadata": {
            "tags": null
          },
          "name": "stderr",
          "output_type": "stream",
          "text": [
            "\r45it [04:10,  5.54s/it]"
          ]
        },
        {
          "metadata": {
            "tags": null
          },
          "name": "stdout",
          "output_type": "stream",
          "text": [
            "06-20 05:56:59 [36] Lr: 0.000344, Training: 78.95%,  Loss: 3.02546, ACC: 44.41% \r\n"
          ]
        },
        {
          "metadata": {
            "tags": null
          },
          "name": "stderr",
          "output_type": "stream",
          "text": [
            "\r46it [04:16,  5.54s/it]"
          ]
        },
        {
          "metadata": {
            "tags": null
          },
          "name": "stdout",
          "output_type": "stream",
          "text": [
            "06-20 05:57:05 [36] Lr: 0.000344, Training: 80.70%,  Loss: 3.02733, ACC: 44.38% \r\n"
          ]
        },
        {
          "metadata": {
            "tags": null
          },
          "name": "stderr",
          "output_type": "stream",
          "text": [
            "\r47it [04:21,  5.56s/it]"
          ]
        },
        {
          "metadata": {
            "tags": null
          },
          "name": "stdout",
          "output_type": "stream",
          "text": [
            "06-20 05:57:10 [36] Lr: 0.000344, Training: 82.46%,  Loss: 3.03259, ACC: 44.35% \r\n"
          ]
        },
        {
          "metadata": {
            "tags": null
          },
          "name": "stderr",
          "output_type": "stream",
          "text": [
            "\r48it [04:27,  5.55s/it]"
          ]
        },
        {
          "metadata": {
            "tags": null
          },
          "name": "stdout",
          "output_type": "stream",
          "text": [
            "06-20 05:57:16 [36] Lr: 0.000344, Training: 84.21%,  Loss: 3.03064, ACC: 44.33% \r\n"
          ]
        },
        {
          "metadata": {
            "tags": null
          },
          "name": "stderr",
          "output_type": "stream",
          "text": [
            "\r49it [04:33,  5.56s/it]"
          ]
        },
        {
          "metadata": {
            "tags": null
          },
          "name": "stdout",
          "output_type": "stream",
          "text": [
            "06-20 05:57:21 [36] Lr: 0.000344, Training: 85.96%,  Loss: 3.03429, ACC: 44.19% \r\n"
          ]
        },
        {
          "metadata": {
            "tags": null
          },
          "name": "stderr",
          "output_type": "stream",
          "text": [
            "\r50it [04:38,  5.55s/it]"
          ]
        },
        {
          "metadata": {
            "tags": null
          },
          "name": "stdout",
          "output_type": "stream",
          "text": [
            "06-20 05:57:27 [36] Lr: 0.000344, Training: 87.72%,  Loss: 3.03272, ACC: 44.16% \r\n"
          ]
        },
        {
          "metadata": {
            "tags": null
          },
          "name": "stderr",
          "output_type": "stream",
          "text": [
            "\r51it [04:44,  5.55s/it]"
          ]
        },
        {
          "metadata": {
            "tags": null
          },
          "name": "stdout",
          "output_type": "stream",
          "text": [
            "06-20 05:57:33 [36] Lr: 0.000344, Training: 89.47%,  Loss: 3.03775, ACC: 44.13% \r\n"
          ]
        },
        {
          "metadata": {
            "tags": null
          },
          "name": "stderr",
          "output_type": "stream",
          "text": [
            "\r52it [04:49,  5.55s/it]"
          ]
        },
        {
          "metadata": {
            "tags": null
          },
          "name": "stdout",
          "output_type": "stream",
          "text": [
            "06-20 05:57:38 [36] Lr: 0.000344, Training: 91.23%,  Loss: 3.04008, ACC: 44.06% \r\n"
          ]
        },
        {
          "metadata": {
            "tags": null
          },
          "name": "stderr",
          "output_type": "stream",
          "text": [
            "\r53it [04:55,  5.56s/it]"
          ]
        },
        {
          "metadata": {
            "tags": null
          },
          "name": "stdout",
          "output_type": "stream",
          "text": [
            "06-20 05:57:44 [36] Lr: 0.000344, Training: 92.98%,  Loss: 3.03693, ACC: 44.06% \r\n"
          ]
        },
        {
          "metadata": {
            "tags": null
          },
          "name": "stderr",
          "output_type": "stream",
          "text": [
            "\r54it [05:00,  5.55s/it]"
          ]
        },
        {
          "metadata": {
            "tags": null
          },
          "name": "stdout",
          "output_type": "stream",
          "text": [
            "06-20 05:57:49 [36] Lr: 0.000344, Training: 94.74%,  Loss: 3.02981, ACC: 44.19% \r\n"
          ]
        },
        {
          "metadata": {
            "tags": null
          },
          "name": "stderr",
          "output_type": "stream",
          "text": [
            "\r55it [05:06,  5.55s/it]"
          ]
        },
        {
          "metadata": {
            "tags": null
          },
          "name": "stdout",
          "output_type": "stream",
          "text": [
            "06-20 05:57:55 [36] Lr: 0.000344, Training: 96.49%,  Loss: 3.03585, ACC: 44.13% \r\n"
          ]
        },
        {
          "metadata": {
            "tags": null
          },
          "name": "stderr",
          "output_type": "stream",
          "text": [
            "\r56it [05:11,  5.55s/it]"
          ]
        },
        {
          "metadata": {
            "tags": null
          },
          "name": "stdout",
          "output_type": "stream",
          "text": [
            "06-20 05:58:00 [36] Lr: 0.000344, Training: 98.25%,  Loss: 3.03128, ACC: 44.20% \r\n"
          ]
        },
        {
          "metadata": {
            "tags": null
          },
          "name": "stderr",
          "output_type": "stream",
          "text": [
            "57it [05:15,  5.54s/it]"
          ]
        },
        {
          "metadata": {
            "tags": null
          },
          "name": "stdout",
          "output_type": "stream",
          "text": [
            "06-20 05:58:04 [36] Lr: 0.000344, Training: 100.00%,  Loss: 3.03394, ACC: 32.24% \r\n",
            "\n",
            "\n"
          ]
        },
        {
          "metadata": {
            "tags": null
          },
          "name": "stderr",
          "output_type": "stream",
          "text": [
            "\n",
            "  0%|          | 0/973 [00:00<?, ?it/s]<ipython-input-15-b61162519fae>:62: DeprecationWarning: `np.float` is a deprecated alias for the builtin `float`. To silence this warning, use `float` by itself. Doing this will not modify any behavior and is safe. If you specifically wanted the numpy scalar type, use `np.float64` here.\n",
            "Deprecated in NumPy 1.20; for more details and guidance: https://numpy.org/devdocs/release/1.20.0-notes.html#deprecations\n",
            "  feats = numpy.stack(feats, axis = 0).astype(numpy.float)\n",
            "100%|██████████| 973/973 [04:36<00:00,  3.52it/s]\n"
          ]
        },
        {
          "metadata": {
            "tags": null
          },
          "name": "stdout",
          "output_type": "stream",
          "text": [
            "2023-06-20 06:02:49 36 epoch, ACC 32.24%, EER 6.32%, bestEER 6.32%\n",
            "Epoch: 37\n"
          ]
        },
        {
          "metadata": {
            "tags": null
          },
          "name": "stderr",
          "output_type": "stream",
          "text": [
            "/usr/local/lib/python3.10/dist-packages/torch/optim/lr_scheduler.py:152: UserWarning: The epoch parameter in `scheduler.step()` was not necessary and is being deprecated where possible. Please use `scheduler.step()` to step the scheduler. During the deprecation, if epoch is different from None, the closed form is used instead of the new chainable form, where available. Please open an issue if you are unable to replicate your use case: https://github.com/pytorch/pytorch/issues/new/choose.\n",
            "  warnings.warn(EPOCH_DEPRECATION_WARNING, UserWarning)\n",
            "0it [00:00, ?it/s]/usr/local/lib/python3.10/dist-packages/torch/nn/functional.py:4999: UserWarning: Support for mismatched key_padding_mask and attn_mask is deprecated. Use same type for both instead.\n",
            "  warnings.warn(\n",
            "1it [00:06,  6.28s/it]"
          ]
        },
        {
          "metadata": {
            "tags": null
          },
          "name": "stdout",
          "output_type": "stream",
          "text": [
            "06-20 06:02:55 [37] Lr: 0.000334, Training: 1.75%,  Loss: 3.12434, ACC: 44.00% \r\n"
          ]
        },
        {
          "metadata": {
            "tags": null
          },
          "name": "stderr",
          "output_type": "stream",
          "text": [
            "\r2it [00:11,  5.83s/it]"
          ]
        },
        {
          "metadata": {
            "tags": null
          },
          "name": "stdout",
          "output_type": "stream",
          "text": [
            "06-20 06:03:01 [37] Lr: 0.000334, Training: 3.51%,  Loss: 3.07046, ACC: 42.67% \r\n"
          ]
        },
        {
          "metadata": {
            "tags": null
          },
          "name": "stderr",
          "output_type": "stream",
          "text": [
            "\r3it [00:17,  5.71s/it]"
          ]
        },
        {
          "metadata": {
            "tags": null
          },
          "name": "stdout",
          "output_type": "stream",
          "text": [
            "06-20 06:03:06 [37] Lr: 0.000334, Training: 5.26%,  Loss: 2.97154, ACC: 42.89% \r\n"
          ]
        },
        {
          "metadata": {
            "tags": null
          },
          "name": "stderr",
          "output_type": "stream",
          "text": [
            "\r4it [00:22,  5.66s/it]"
          ]
        },
        {
          "metadata": {
            "tags": null
          },
          "name": "stdout",
          "output_type": "stream",
          "text": [
            "06-20 06:03:12 [37] Lr: 0.000334, Training: 7.02%,  Loss: 3.03531, ACC: 43.33% \r\n"
          ]
        },
        {
          "metadata": {
            "tags": null
          },
          "name": "stderr",
          "output_type": "stream",
          "text": [
            "\r5it [00:28,  5.66s/it]"
          ]
        },
        {
          "metadata": {
            "tags": null
          },
          "name": "stdout",
          "output_type": "stream",
          "text": [
            "06-20 06:03:17 [37] Lr: 0.000334, Training: 8.77%,  Loss: 3.09253, ACC: 42.80% \r\n"
          ]
        },
        {
          "metadata": {
            "tags": null
          },
          "name": "stderr",
          "output_type": "stream",
          "text": [
            "\r6it [00:34,  5.63s/it]"
          ]
        },
        {
          "metadata": {
            "tags": null
          },
          "name": "stdout",
          "output_type": "stream",
          "text": [
            "06-20 06:03:23 [37] Lr: 0.000334, Training: 10.53%,  Loss: 3.04447, ACC: 43.56% \r\n"
          ]
        },
        {
          "metadata": {
            "tags": null
          },
          "name": "stderr",
          "output_type": "stream",
          "text": [
            "\r7it [00:39,  5.61s/it]"
          ]
        },
        {
          "metadata": {
            "tags": null
          },
          "name": "stdout",
          "output_type": "stream",
          "text": [
            "06-20 06:03:29 [37] Lr: 0.000334, Training: 12.28%,  Loss: 3.03864, ACC: 43.43% \r\n"
          ]
        },
        {
          "metadata": {
            "tags": null
          },
          "name": "stderr",
          "output_type": "stream",
          "text": [
            "\r8it [00:45,  5.59s/it]"
          ]
        },
        {
          "metadata": {
            "tags": null
          },
          "name": "stdout",
          "output_type": "stream",
          "text": [
            "06-20 06:03:34 [37] Lr: 0.000334, Training: 14.04%,  Loss: 3.01794, ACC: 43.50% \r\n"
          ]
        },
        {
          "metadata": {
            "tags": null
          },
          "name": "stderr",
          "output_type": "stream",
          "text": [
            "\r9it [00:50,  5.57s/it]"
          ]
        },
        {
          "metadata": {
            "tags": null
          },
          "name": "stdout",
          "output_type": "stream",
          "text": [
            "06-20 06:03:40 [37] Lr: 0.000334, Training: 15.79%,  Loss: 3.01925, ACC: 44.00% \r\n"
          ]
        },
        {
          "metadata": {
            "tags": null
          },
          "name": "stderr",
          "output_type": "stream",
          "text": [
            "\r10it [00:56,  5.56s/it]"
          ]
        },
        {
          "metadata": {
            "tags": null
          },
          "name": "stdout",
          "output_type": "stream",
          "text": [
            "06-20 06:03:45 [37] Lr: 0.000334, Training: 17.54%,  Loss: 3.00539, ACC: 44.53% \r\n"
          ]
        },
        {
          "metadata": {
            "tags": null
          },
          "name": "stderr",
          "output_type": "stream",
          "text": [
            "\r11it [01:01,  5.56s/it]"
          ]
        },
        {
          "metadata": {
            "tags": null
          },
          "name": "stdout",
          "output_type": "stream",
          "text": [
            "06-20 06:03:51 [37] Lr: 0.000334, Training: 19.30%,  Loss: 3.02570, ACC: 44.24% \r\n"
          ]
        },
        {
          "metadata": {
            "tags": null
          },
          "name": "stderr",
          "output_type": "stream",
          "text": [
            "\r12it [01:07,  5.55s/it]"
          ]
        },
        {
          "metadata": {
            "tags": null
          },
          "name": "stdout",
          "output_type": "stream",
          "text": [
            "06-20 06:03:56 [37] Lr: 0.000334, Training: 21.05%,  Loss: 2.99711, ACC: 44.39% \r\n"
          ]
        },
        {
          "metadata": {
            "tags": null
          },
          "name": "stderr",
          "output_type": "stream",
          "text": [
            "\r13it [01:12,  5.53s/it]"
          ]
        },
        {
          "metadata": {
            "tags": null
          },
          "name": "stdout",
          "output_type": "stream",
          "text": [
            "06-20 06:04:02 [37] Lr: 0.000334, Training: 22.81%,  Loss: 3.01212, ACC: 44.36% \r\n"
          ]
        },
        {
          "metadata": {
            "tags": null
          },
          "name": "stderr",
          "output_type": "stream",
          "text": [
            "\r14it [01:18,  5.52s/it]"
          ]
        },
        {
          "metadata": {
            "tags": null
          },
          "name": "stdout",
          "output_type": "stream",
          "text": [
            "06-20 06:04:07 [37] Lr: 0.000334, Training: 24.56%,  Loss: 3.02492, ACC: 44.14% \r\n"
          ]
        },
        {
          "metadata": {
            "tags": null
          },
          "name": "stderr",
          "output_type": "stream",
          "text": [
            "\r15it [01:23,  5.52s/it]"
          ]
        },
        {
          "metadata": {
            "tags": null
          },
          "name": "stdout",
          "output_type": "stream",
          "text": [
            "06-20 06:04:13 [37] Lr: 0.000334, Training: 26.32%,  Loss: 3.02147, ACC: 43.82% \r\n"
          ]
        },
        {
          "metadata": {
            "tags": null
          },
          "name": "stderr",
          "output_type": "stream",
          "text": [
            "\r16it [01:29,  5.51s/it]"
          ]
        },
        {
          "metadata": {
            "tags": null
          },
          "name": "stdout",
          "output_type": "stream",
          "text": [
            "06-20 06:04:18 [37] Lr: 0.000334, Training: 28.07%,  Loss: 2.98828, ACC: 44.46% \r\n"
          ]
        },
        {
          "metadata": {
            "tags": null
          },
          "name": "stderr",
          "output_type": "stream",
          "text": [
            "\r17it [01:34,  5.51s/it]"
          ]
        },
        {
          "metadata": {
            "tags": null
          },
          "name": "stdout",
          "output_type": "stream",
          "text": [
            "06-20 06:04:24 [37] Lr: 0.000334, Training: 29.82%,  Loss: 2.96409, ACC: 44.51% \r\n"
          ]
        },
        {
          "metadata": {
            "tags": null
          },
          "name": "stderr",
          "output_type": "stream",
          "text": [
            "\r18it [01:40,  5.51s/it]"
          ]
        },
        {
          "metadata": {
            "tags": null
          },
          "name": "stdout",
          "output_type": "stream",
          "text": [
            "06-20 06:04:29 [37] Lr: 0.000334, Training: 31.58%,  Loss: 2.96863, ACC: 44.52% \r\n"
          ]
        },
        {
          "metadata": {
            "tags": null
          },
          "name": "stderr",
          "output_type": "stream",
          "text": [
            "\r19it [01:45,  5.51s/it]"
          ]
        },
        {
          "metadata": {
            "tags": null
          },
          "name": "stdout",
          "output_type": "stream",
          "text": [
            "06-20 06:04:35 [37] Lr: 0.000334, Training: 33.33%,  Loss: 2.94826, ACC: 44.91% \r\n"
          ]
        },
        {
          "metadata": {
            "tags": null
          },
          "name": "stderr",
          "output_type": "stream",
          "text": [
            "\r20it [01:51,  5.53s/it]"
          ]
        },
        {
          "metadata": {
            "tags": null
          },
          "name": "stdout",
          "output_type": "stream",
          "text": [
            "06-20 06:04:40 [37] Lr: 0.000334, Training: 35.09%,  Loss: 2.96405, ACC: 44.90% \r\n"
          ]
        },
        {
          "metadata": {
            "tags": null
          },
          "name": "stderr",
          "output_type": "stream",
          "text": [
            "\r21it [01:57,  5.53s/it]"
          ]
        },
        {
          "metadata": {
            "tags": null
          },
          "name": "stdout",
          "output_type": "stream",
          "text": [
            "06-20 06:04:46 [37] Lr: 0.000334, Training: 36.84%,  Loss: 2.97948, ACC: 44.60% \r\n"
          ]
        },
        {
          "metadata": {
            "tags": null
          },
          "name": "stderr",
          "output_type": "stream",
          "text": [
            "\r22it [02:02,  5.53s/it]"
          ]
        },
        {
          "metadata": {
            "tags": null
          },
          "name": "stdout",
          "output_type": "stream",
          "text": [
            "06-20 06:04:51 [37] Lr: 0.000334, Training: 38.60%,  Loss: 2.97463, ACC: 44.94% \r\n"
          ]
        },
        {
          "metadata": {
            "tags": null
          },
          "name": "stderr",
          "output_type": "stream",
          "text": [
            "\r23it [02:08,  5.54s/it]"
          ]
        },
        {
          "metadata": {
            "tags": null
          },
          "name": "stdout",
          "output_type": "stream",
          "text": [
            "06-20 06:04:57 [37] Lr: 0.000334, Training: 40.35%,  Loss: 2.98350, ACC: 44.81% \r\n"
          ]
        },
        {
          "metadata": {
            "tags": null
          },
          "name": "stderr",
          "output_type": "stream",
          "text": [
            "\r24it [02:13,  5.55s/it]"
          ]
        },
        {
          "metadata": {
            "tags": null
          },
          "name": "stdout",
          "output_type": "stream",
          "text": [
            "06-20 06:05:03 [37] Lr: 0.000334, Training: 42.11%,  Loss: 2.98130, ACC: 44.72% \r\n"
          ]
        },
        {
          "metadata": {
            "tags": null
          },
          "name": "stderr",
          "output_type": "stream",
          "text": [
            "\r25it [02:19,  5.55s/it]"
          ]
        },
        {
          "metadata": {
            "tags": null
          },
          "name": "stdout",
          "output_type": "stream",
          "text": [
            "06-20 06:05:08 [37] Lr: 0.000334, Training: 43.86%,  Loss: 2.98036, ACC: 44.75% \r\n"
          ]
        },
        {
          "metadata": {
            "tags": null
          },
          "name": "stderr",
          "output_type": "stream",
          "text": [
            "\r26it [02:24,  5.55s/it]"
          ]
        },
        {
          "metadata": {
            "tags": null
          },
          "name": "stdout",
          "output_type": "stream",
          "text": [
            "06-20 06:05:14 [37] Lr: 0.000334, Training: 45.61%,  Loss: 2.97680, ACC: 44.69% \r\n"
          ]
        },
        {
          "metadata": {
            "tags": null
          },
          "name": "stderr",
          "output_type": "stream",
          "text": [
            "\r27it [02:30,  5.56s/it]"
          ]
        },
        {
          "metadata": {
            "tags": null
          },
          "name": "stdout",
          "output_type": "stream",
          "text": [
            "06-20 06:05:19 [37] Lr: 0.000334, Training: 47.37%,  Loss: 2.99664, ACC: 44.37% \r\n"
          ]
        },
        {
          "metadata": {
            "tags": null
          },
          "name": "stderr",
          "output_type": "stream",
          "text": [
            "\r28it [02:35,  5.55s/it]"
          ]
        },
        {
          "metadata": {
            "tags": null
          },
          "name": "stdout",
          "output_type": "stream",
          "text": [
            "06-20 06:05:25 [37] Lr: 0.000334, Training: 49.12%,  Loss: 2.99369, ACC: 44.48% \r\n"
          ]
        },
        {
          "metadata": {
            "tags": null
          },
          "name": "stderr",
          "output_type": "stream",
          "text": [
            "\r29it [02:41,  5.55s/it]"
          ]
        },
        {
          "metadata": {
            "tags": null
          },
          "name": "stdout",
          "output_type": "stream",
          "text": [
            "06-20 06:05:30 [37] Lr: 0.000334, Training: 50.88%,  Loss: 2.98614, ACC: 44.44% \r\n"
          ]
        },
        {
          "metadata": {
            "tags": null
          },
          "name": "stderr",
          "output_type": "stream",
          "text": [
            "\r30it [02:47,  5.56s/it]"
          ]
        },
        {
          "metadata": {
            "tags": null
          },
          "name": "stdout",
          "output_type": "stream",
          "text": [
            "06-20 06:05:36 [37] Lr: 0.000334, Training: 52.63%,  Loss: 2.97197, ACC: 44.73% \r\n"
          ]
        },
        {
          "metadata": {
            "tags": null
          },
          "name": "stderr",
          "output_type": "stream",
          "text": [
            "\r31it [02:52,  5.56s/it]"
          ]
        },
        {
          "metadata": {
            "tags": null
          },
          "name": "stdout",
          "output_type": "stream",
          "text": [
            "06-20 06:05:41 [37] Lr: 0.000334, Training: 54.39%,  Loss: 2.97251, ACC: 44.75% \r\n"
          ]
        },
        {
          "metadata": {
            "tags": null
          },
          "name": "stderr",
          "output_type": "stream",
          "text": [
            "\r32it [02:58,  5.55s/it]"
          ]
        },
        {
          "metadata": {
            "tags": null
          },
          "name": "stdout",
          "output_type": "stream",
          "text": [
            "06-20 06:05:47 [37] Lr: 0.000334, Training: 56.14%,  Loss: 2.97918, ACC: 44.60% \r\n"
          ]
        },
        {
          "metadata": {
            "tags": null
          },
          "name": "stderr",
          "output_type": "stream",
          "text": [
            "\r33it [03:03,  5.55s/it]"
          ]
        },
        {
          "metadata": {
            "tags": null
          },
          "name": "stdout",
          "output_type": "stream",
          "text": [
            "06-20 06:05:53 [37] Lr: 0.000334, Training: 57.89%,  Loss: 2.97999, ACC: 44.63% \r\n"
          ]
        },
        {
          "metadata": {
            "tags": null
          },
          "name": "stderr",
          "output_type": "stream",
          "text": [
            "\r34it [03:09,  5.54s/it]"
          ]
        },
        {
          "metadata": {
            "tags": null
          },
          "name": "stdout",
          "output_type": "stream",
          "text": [
            "06-20 06:05:58 [37] Lr: 0.000334, Training: 59.65%,  Loss: 2.99071, ACC: 44.61% \r\n"
          ]
        },
        {
          "metadata": {
            "tags": null
          },
          "name": "stderr",
          "output_type": "stream",
          "text": [
            "\r35it [03:14,  5.54s/it]"
          ]
        },
        {
          "metadata": {
            "tags": null
          },
          "name": "stdout",
          "output_type": "stream",
          "text": [
            "06-20 06:06:04 [37] Lr: 0.000334, Training: 61.40%,  Loss: 2.97157, ACC: 44.88% \r\n"
          ]
        },
        {
          "metadata": {
            "tags": null
          },
          "name": "stderr",
          "output_type": "stream",
          "text": [
            "\r36it [03:20,  5.54s/it]"
          ]
        },
        {
          "metadata": {
            "tags": null
          },
          "name": "stdout",
          "output_type": "stream",
          "text": [
            "06-20 06:06:09 [37] Lr: 0.000334, Training: 63.16%,  Loss: 2.98266, ACC: 44.89% \r\n"
          ]
        },
        {
          "metadata": {
            "tags": null
          },
          "name": "stderr",
          "output_type": "stream",
          "text": [
            "\r37it [03:25,  5.54s/it]"
          ]
        },
        {
          "metadata": {
            "tags": null
          },
          "name": "stdout",
          "output_type": "stream",
          "text": [
            "06-20 06:06:15 [37] Lr: 0.000334, Training: 64.91%,  Loss: 2.97583, ACC: 44.95% \r\n"
          ]
        },
        {
          "metadata": {
            "tags": null
          },
          "name": "stderr",
          "output_type": "stream",
          "text": [
            "\r38it [03:31,  5.54s/it]"
          ]
        },
        {
          "metadata": {
            "tags": null
          },
          "name": "stdout",
          "output_type": "stream",
          "text": [
            "06-20 06:06:20 [37] Lr: 0.000334, Training: 66.67%,  Loss: 2.97019, ACC: 44.96% \r\n"
          ]
        },
        {
          "metadata": {
            "tags": null
          },
          "name": "stderr",
          "output_type": "stream",
          "text": [
            "\r39it [03:36,  5.54s/it]"
          ]
        },
        {
          "metadata": {
            "tags": null
          },
          "name": "stdout",
          "output_type": "stream",
          "text": [
            "06-20 06:06:26 [37] Lr: 0.000334, Training: 68.42%,  Loss: 2.97262, ACC: 44.91% \r\n"
          ]
        },
        {
          "metadata": {
            "tags": null
          },
          "name": "stderr",
          "output_type": "stream",
          "text": [
            "\r40it [03:42,  5.53s/it]"
          ]
        },
        {
          "metadata": {
            "tags": null
          },
          "name": "stdout",
          "output_type": "stream",
          "text": [
            "06-20 06:06:31 [37] Lr: 0.000334, Training: 70.18%,  Loss: 2.97127, ACC: 45.02% \r\n"
          ]
        },
        {
          "metadata": {
            "tags": null
          },
          "name": "stderr",
          "output_type": "stream",
          "text": [
            "\r41it [03:47,  5.53s/it]"
          ]
        },
        {
          "metadata": {
            "tags": null
          },
          "name": "stdout",
          "output_type": "stream",
          "text": [
            "06-20 06:06:37 [37] Lr: 0.000334, Training: 71.93%,  Loss: 2.97491, ACC: 44.93% \r\n"
          ]
        },
        {
          "metadata": {
            "tags": null
          },
          "name": "stderr",
          "output_type": "stream",
          "text": [
            "\r42it [03:53,  5.54s/it]"
          ]
        },
        {
          "metadata": {
            "tags": null
          },
          "name": "stdout",
          "output_type": "stream",
          "text": [
            "06-20 06:06:42 [37] Lr: 0.000334, Training: 73.68%,  Loss: 2.97599, ACC: 44.92% \r\n"
          ]
        },
        {
          "metadata": {
            "tags": null
          },
          "name": "stderr",
          "output_type": "stream",
          "text": [
            "\r43it [03:59,  5.53s/it]"
          ]
        },
        {
          "metadata": {
            "tags": null
          },
          "name": "stdout",
          "output_type": "stream",
          "text": [
            "06-20 06:06:48 [37] Lr: 0.000334, Training: 75.44%,  Loss: 2.97136, ACC: 44.88% \r\n"
          ]
        },
        {
          "metadata": {
            "tags": null
          },
          "name": "stderr",
          "output_type": "stream",
          "text": [
            "\r44it [04:04,  5.53s/it]"
          ]
        },
        {
          "metadata": {
            "tags": null
          },
          "name": "stdout",
          "output_type": "stream",
          "text": [
            "06-20 06:06:53 [37] Lr: 0.000334, Training: 77.19%,  Loss: 2.97500, ACC: 44.95% \r\n"
          ]
        },
        {
          "metadata": {
            "tags": null
          },
          "name": "stderr",
          "output_type": "stream",
          "text": [
            "\r45it [04:10,  5.54s/it]"
          ]
        },
        {
          "metadata": {
            "tags": null
          },
          "name": "stdout",
          "output_type": "stream",
          "text": [
            "06-20 06:06:59 [37] Lr: 0.000334, Training: 78.95%,  Loss: 2.97278, ACC: 44.96% \r\n"
          ]
        },
        {
          "metadata": {
            "tags": null
          },
          "name": "stderr",
          "output_type": "stream",
          "text": [
            "\r46it [04:15,  5.53s/it]"
          ]
        },
        {
          "metadata": {
            "tags": null
          },
          "name": "stdout",
          "output_type": "stream",
          "text": [
            "06-20 06:07:04 [37] Lr: 0.000334, Training: 80.70%,  Loss: 2.97633, ACC: 44.87% \r\n"
          ]
        },
        {
          "metadata": {
            "tags": null
          },
          "name": "stderr",
          "output_type": "stream",
          "text": [
            "\r47it [04:21,  5.53s/it]"
          ]
        },
        {
          "metadata": {
            "tags": null
          },
          "name": "stdout",
          "output_type": "stream",
          "text": [
            "06-20 06:07:10 [37] Lr: 0.000334, Training: 82.46%,  Loss: 2.97101, ACC: 44.88% \r\n"
          ]
        },
        {
          "metadata": {
            "tags": null
          },
          "name": "stderr",
          "output_type": "stream",
          "text": [
            "\r48it [04:26,  5.54s/it]"
          ]
        },
        {
          "metadata": {
            "tags": null
          },
          "name": "stdout",
          "output_type": "stream",
          "text": [
            "06-20 06:07:16 [37] Lr: 0.000334, Training: 84.21%,  Loss: 2.97848, ACC: 44.74% \r\n"
          ]
        },
        {
          "metadata": {
            "tags": null
          },
          "name": "stderr",
          "output_type": "stream",
          "text": [
            "\r49it [04:32,  5.53s/it]"
          ]
        },
        {
          "metadata": {
            "tags": null
          },
          "name": "stdout",
          "output_type": "stream",
          "text": [
            "06-20 06:07:21 [37] Lr: 0.000334, Training: 85.96%,  Loss: 2.97979, ACC: 44.84% \r\n"
          ]
        },
        {
          "metadata": {
            "tags": null
          },
          "name": "stderr",
          "output_type": "stream",
          "text": [
            "\r50it [04:37,  5.53s/it]"
          ]
        },
        {
          "metadata": {
            "tags": null
          },
          "name": "stdout",
          "output_type": "stream",
          "text": [
            "06-20 06:07:27 [37] Lr: 0.000334, Training: 87.72%,  Loss: 2.98226, ACC: 44.73% \r\n"
          ]
        },
        {
          "metadata": {
            "tags": null
          },
          "name": "stderr",
          "output_type": "stream",
          "text": [
            "\r51it [04:43,  5.55s/it]"
          ]
        },
        {
          "metadata": {
            "tags": null
          },
          "name": "stdout",
          "output_type": "stream",
          "text": [
            "06-20 06:07:32 [37] Lr: 0.000334, Training: 89.47%,  Loss: 2.97676, ACC: 44.89% \r\n"
          ]
        },
        {
          "metadata": {
            "tags": null
          },
          "name": "stderr",
          "output_type": "stream",
          "text": [
            "\r52it [04:48,  5.53s/it]"
          ]
        },
        {
          "metadata": {
            "tags": null
          },
          "name": "stdout",
          "output_type": "stream",
          "text": [
            "06-20 06:07:38 [37] Lr: 0.000334, Training: 91.23%,  Loss: 2.97750, ACC: 44.87% \r\n"
          ]
        },
        {
          "metadata": {
            "tags": null
          },
          "name": "stderr",
          "output_type": "stream",
          "text": [
            "\r53it [04:54,  5.53s/it]"
          ]
        },
        {
          "metadata": {
            "tags": null
          },
          "name": "stdout",
          "output_type": "stream",
          "text": [
            "06-20 06:07:43 [37] Lr: 0.000334, Training: 92.98%,  Loss: 2.97595, ACC: 44.92% \r\n"
          ]
        },
        {
          "metadata": {
            "tags": null
          },
          "name": "stderr",
          "output_type": "stream",
          "text": [
            "\r54it [04:59,  5.52s/it]"
          ]
        },
        {
          "metadata": {
            "tags": null
          },
          "name": "stdout",
          "output_type": "stream",
          "text": [
            "06-20 06:07:49 [37] Lr: 0.000334, Training: 94.74%,  Loss: 2.96935, ACC: 44.96% \r\n"
          ]
        },
        {
          "metadata": {
            "tags": null
          },
          "name": "stderr",
          "output_type": "stream",
          "text": [
            "\r55it [05:05,  5.52s/it]"
          ]
        },
        {
          "metadata": {
            "tags": null
          },
          "name": "stdout",
          "output_type": "stream",
          "text": [
            "06-20 06:07:54 [37] Lr: 0.000334, Training: 96.49%,  Loss: 2.97288, ACC: 44.97% \r\n"
          ]
        },
        {
          "metadata": {
            "tags": null
          },
          "name": "stderr",
          "output_type": "stream",
          "text": [
            "\r56it [05:10,  5.51s/it]"
          ]
        },
        {
          "metadata": {
            "tags": null
          },
          "name": "stdout",
          "output_type": "stream",
          "text": [
            "06-20 06:08:00 [37] Lr: 0.000334, Training: 98.25%,  Loss: 2.98335, ACC: 44.81% \r\n"
          ]
        },
        {
          "metadata": {
            "tags": null
          },
          "name": "stderr",
          "output_type": "stream",
          "text": [
            "\r57it [05:14,  5.00s/it]"
          ]
        },
        {
          "metadata": {
            "tags": null
          },
          "name": "stdout",
          "output_type": "stream",
          "text": [
            "06-20 06:08:04 [37] Lr: 0.000334, Training: 100.00%,  Loss: 2.98478, ACC: 32.67% \r\n"
          ]
        },
        {
          "metadata": {
            "tags": null
          },
          "name": "stderr",
          "output_type": "stream",
          "text": [
            "\r57it [05:14,  5.52s/it]\n"
          ]
        },
        {
          "metadata": {
            "tags": null
          },
          "name": "stdout",
          "output_type": "stream",
          "text": [
            "\n",
            "\n"
          ]
        },
        {
          "metadata": {
            "tags": null
          },
          "name": "stderr",
          "output_type": "stream",
          "text": [
            "  0%|          | 0/973 [00:00<?, ?it/s]<ipython-input-15-b61162519fae>:62: DeprecationWarning: `np.float` is a deprecated alias for the builtin `float`. To silence this warning, use `float` by itself. Doing this will not modify any behavior and is safe. If you specifically wanted the numpy scalar type, use `np.float64` here.\n",
            "Deprecated in NumPy 1.20; for more details and guidance: https://numpy.org/devdocs/release/1.20.0-notes.html#deprecations\n",
            "  feats = numpy.stack(feats, axis = 0).astype(numpy.float)\n",
            "100%|██████████| 973/973 [04:38<00:00,  3.49it/s]\n"
          ]
        },
        {
          "metadata": {
            "tags": null
          },
          "name": "stdout",
          "output_type": "stream",
          "text": [
            "2023-06-20 06:12:55 37 epoch, ACC 32.67%, EER 6.28%, bestEER 6.28%\n",
            "Epoch: 38\n"
          ]
        },
        {
          "metadata": {
            "tags": null
          },
          "name": "stderr",
          "output_type": "stream",
          "text": [
            "/usr/local/lib/python3.10/dist-packages/torch/optim/lr_scheduler.py:152: UserWarning: The epoch parameter in `scheduler.step()` was not necessary and is being deprecated where possible. Please use `scheduler.step()` to step the scheduler. During the deprecation, if epoch is different from None, the closed form is used instead of the new chainable form, where available. Please open an issue if you are unable to replicate your use case: https://github.com/pytorch/pytorch/issues/new/choose.\n",
            "  warnings.warn(EPOCH_DEPRECATION_WARNING, UserWarning)\n",
            "0it [00:00, ?it/s]/usr/local/lib/python3.10/dist-packages/torch/nn/functional.py:4999: UserWarning: Support for mismatched key_padding_mask and attn_mask is deprecated. Use same type for both instead.\n",
            "  warnings.warn(\n",
            "1it [00:06,  6.26s/it]"
          ]
        },
        {
          "metadata": {
            "tags": null
          },
          "name": "stdout",
          "output_type": "stream",
          "text": [
            "06-20 06:13:01 [38] Lr: 0.000324, Training: 1.75%,  Loss: 3.04782, ACC: 42.00% \r\n"
          ]
        },
        {
          "metadata": {
            "tags": null
          },
          "name": "stderr",
          "output_type": "stream",
          "text": [
            "\r2it [00:11,  5.82s/it]"
          ]
        },
        {
          "metadata": {
            "tags": null
          },
          "name": "stdout",
          "output_type": "stream",
          "text": [
            "06-20 06:13:06 [38] Lr: 0.000324, Training: 3.51%,  Loss: 2.86634, ACC: 48.00% \r\n"
          ]
        },
        {
          "metadata": {
            "tags": null
          },
          "name": "stderr",
          "output_type": "stream",
          "text": [
            "\r3it [00:17,  5.71s/it]"
          ]
        },
        {
          "metadata": {
            "tags": null
          },
          "name": "stdout",
          "output_type": "stream",
          "text": [
            "06-20 06:13:12 [38] Lr: 0.000324, Training: 5.26%,  Loss: 2.91888, ACC: 46.44% \r\n"
          ]
        },
        {
          "metadata": {
            "tags": null
          },
          "name": "stderr",
          "output_type": "stream",
          "text": [
            "\r4it [00:22,  5.65s/it]"
          ]
        },
        {
          "metadata": {
            "tags": null
          },
          "name": "stdout",
          "output_type": "stream",
          "text": [
            "06-20 06:13:18 [38] Lr: 0.000324, Training: 7.02%,  Loss: 2.91035, ACC: 46.33% \r\n"
          ]
        },
        {
          "metadata": {
            "tags": null
          },
          "name": "stderr",
          "output_type": "stream",
          "text": [
            "\r5it [00:28,  5.64s/it]"
          ]
        },
        {
          "metadata": {
            "tags": null
          },
          "name": "stdout",
          "output_type": "stream",
          "text": [
            "06-20 06:13:23 [38] Lr: 0.000324, Training: 8.77%,  Loss: 2.92264, ACC: 46.27% \r\n"
          ]
        },
        {
          "metadata": {
            "tags": null
          },
          "name": "stderr",
          "output_type": "stream",
          "text": [
            "\r6it [00:34,  5.61s/it]"
          ]
        },
        {
          "metadata": {
            "tags": null
          },
          "name": "stdout",
          "output_type": "stream",
          "text": [
            "06-20 06:13:29 [38] Lr: 0.000324, Training: 10.53%,  Loss: 2.94332, ACC: 45.78% \r\n"
          ]
        },
        {
          "metadata": {
            "tags": null
          },
          "name": "stderr",
          "output_type": "stream",
          "text": [
            "\r7it [00:39,  5.60s/it]"
          ]
        },
        {
          "metadata": {
            "tags": null
          },
          "name": "stdout",
          "output_type": "stream",
          "text": [
            "06-20 06:13:34 [38] Lr: 0.000324, Training: 12.28%,  Loss: 2.92534, ACC: 45.43% \r\n"
          ]
        },
        {
          "metadata": {
            "tags": null
          },
          "name": "stderr",
          "output_type": "stream",
          "text": [
            "\r8it [00:45,  5.59s/it]"
          ]
        },
        {
          "metadata": {
            "tags": null
          },
          "name": "stdout",
          "output_type": "stream",
          "text": [
            "06-20 06:13:40 [38] Lr: 0.000324, Training: 14.04%,  Loss: 2.93341, ACC: 45.92% \r\n"
          ]
        },
        {
          "metadata": {
            "tags": null
          },
          "name": "stderr",
          "output_type": "stream",
          "text": [
            "\r9it [00:50,  5.57s/it]"
          ]
        },
        {
          "metadata": {
            "tags": null
          },
          "name": "stdout",
          "output_type": "stream",
          "text": [
            "06-20 06:13:45 [38] Lr: 0.000324, Training: 15.79%,  Loss: 2.93160, ACC: 46.22% \r\n"
          ]
        },
        {
          "metadata": {
            "tags": null
          },
          "name": "stderr",
          "output_type": "stream",
          "text": [
            "\r10it [00:56,  5.56s/it]"
          ]
        },
        {
          "metadata": {
            "tags": null
          },
          "name": "stdout",
          "output_type": "stream",
          "text": [
            "06-20 06:13:51 [38] Lr: 0.000324, Training: 17.54%,  Loss: 2.91934, ACC: 46.07% \r\n"
          ]
        },
        {
          "metadata": {
            "tags": null
          },
          "name": "stderr",
          "output_type": "stream",
          "text": [
            "\r11it [01:01,  5.55s/it]"
          ]
        },
        {
          "metadata": {
            "tags": null
          },
          "name": "stdout",
          "output_type": "stream",
          "text": [
            "06-20 06:13:57 [38] Lr: 0.000324, Training: 19.30%,  Loss: 2.92011, ACC: 46.00% \r\n"
          ]
        },
        {
          "metadata": {
            "tags": null
          },
          "name": "stderr",
          "output_type": "stream",
          "text": [
            "\r12it [01:07,  5.53s/it]"
          ]
        },
        {
          "metadata": {
            "tags": null
          },
          "name": "stdout",
          "output_type": "stream",
          "text": [
            "06-20 06:14:02 [38] Lr: 0.000324, Training: 21.05%,  Loss: 2.94191, ACC: 45.33% \r\n"
          ]
        },
        {
          "metadata": {
            "tags": null
          },
          "name": "stderr",
          "output_type": "stream",
          "text": [
            "\r13it [01:12,  5.53s/it]"
          ]
        },
        {
          "metadata": {
            "tags": null
          },
          "name": "stdout",
          "output_type": "stream",
          "text": [
            "06-20 06:14:08 [38] Lr: 0.000324, Training: 22.81%,  Loss: 2.90077, ACC: 45.90% \r\n"
          ]
        },
        {
          "metadata": {
            "tags": null
          },
          "name": "stderr",
          "output_type": "stream",
          "text": [
            "\r14it [01:18,  5.52s/it]"
          ]
        },
        {
          "metadata": {
            "tags": null
          },
          "name": "stdout",
          "output_type": "stream",
          "text": [
            "06-20 06:14:13 [38] Lr: 0.000324, Training: 24.56%,  Loss: 2.89929, ACC: 45.71% \r\n"
          ]
        },
        {
          "metadata": {
            "tags": null
          },
          "name": "stderr",
          "output_type": "stream",
          "text": [
            "\r15it [01:23,  5.52s/it]"
          ]
        },
        {
          "metadata": {
            "tags": null
          },
          "name": "stdout",
          "output_type": "stream",
          "text": [
            "06-20 06:14:19 [38] Lr: 0.000324, Training: 26.32%,  Loss: 2.90191, ACC: 45.64% \r\n"
          ]
        },
        {
          "metadata": {
            "tags": null
          },
          "name": "stderr",
          "output_type": "stream",
          "text": [
            "\r16it [01:29,  5.51s/it]"
          ]
        },
        {
          "metadata": {
            "tags": null
          },
          "name": "stdout",
          "output_type": "stream",
          "text": [
            "06-20 06:14:24 [38] Lr: 0.000324, Training: 28.07%,  Loss: 2.94088, ACC: 45.29% \r\n"
          ]
        },
        {
          "metadata": {
            "tags": null
          },
          "name": "stderr",
          "output_type": "stream",
          "text": [
            "\r17it [01:34,  5.53s/it]"
          ]
        },
        {
          "metadata": {
            "tags": null
          },
          "name": "stdout",
          "output_type": "stream",
          "text": [
            "06-20 06:14:30 [38] Lr: 0.000324, Training: 29.82%,  Loss: 2.93018, ACC: 45.37% \r\n"
          ]
        },
        {
          "metadata": {
            "tags": null
          },
          "name": "stderr",
          "output_type": "stream",
          "text": [
            "\r18it [01:40,  5.52s/it]"
          ]
        },
        {
          "metadata": {
            "tags": null
          },
          "name": "stdout",
          "output_type": "stream",
          "text": [
            "06-20 06:14:35 [38] Lr: 0.000324, Training: 31.58%,  Loss: 2.91481, ACC: 45.48% \r\n"
          ]
        },
        {
          "metadata": {
            "tags": null
          },
          "name": "stderr",
          "output_type": "stream",
          "text": [
            "\r19it [01:45,  5.52s/it]"
          ]
        },
        {
          "metadata": {
            "tags": null
          },
          "name": "stdout",
          "output_type": "stream",
          "text": [
            "06-20 06:14:41 [38] Lr: 0.000324, Training: 33.33%,  Loss: 2.93991, ACC: 45.09% \r\n"
          ]
        },
        {
          "metadata": {
            "tags": null
          },
          "name": "stderr",
          "output_type": "stream",
          "text": [
            "\r20it [01:51,  5.52s/it]"
          ]
        },
        {
          "metadata": {
            "tags": null
          },
          "name": "stdout",
          "output_type": "stream",
          "text": [
            "06-20 06:14:46 [38] Lr: 0.000324, Training: 35.09%,  Loss: 2.95862, ACC: 44.90% \r\n"
          ]
        },
        {
          "metadata": {
            "tags": null
          },
          "name": "stderr",
          "output_type": "stream",
          "text": [
            "\r21it [01:56,  5.52s/it]"
          ]
        },
        {
          "metadata": {
            "tags": null
          },
          "name": "stdout",
          "output_type": "stream",
          "text": [
            "06-20 06:14:52 [38] Lr: 0.000324, Training: 36.84%,  Loss: 2.97032, ACC: 44.76% \r\n"
          ]
        },
        {
          "metadata": {
            "tags": null
          },
          "name": "stderr",
          "output_type": "stream",
          "text": [
            "\r22it [02:02,  5.52s/it]"
          ]
        },
        {
          "metadata": {
            "tags": null
          },
          "name": "stdout",
          "output_type": "stream",
          "text": [
            "06-20 06:14:57 [38] Lr: 0.000324, Training: 38.60%,  Loss: 2.97785, ACC: 44.76% \r\n"
          ]
        },
        {
          "metadata": {
            "tags": null
          },
          "name": "stderr",
          "output_type": "stream",
          "text": [
            "\r23it [02:08,  5.52s/it]"
          ]
        },
        {
          "metadata": {
            "tags": null
          },
          "name": "stdout",
          "output_type": "stream",
          "text": [
            "06-20 06:15:03 [38] Lr: 0.000324, Training: 40.35%,  Loss: 2.98238, ACC: 44.43% \r\n"
          ]
        },
        {
          "metadata": {
            "tags": null
          },
          "name": "stderr",
          "output_type": "stream",
          "text": [
            "\r24it [02:13,  5.52s/it]"
          ]
        },
        {
          "metadata": {
            "tags": null
          },
          "name": "stdout",
          "output_type": "stream",
          "text": [
            "06-20 06:15:08 [38] Lr: 0.000324, Training: 42.11%,  Loss: 2.97233, ACC: 44.53% \r\n"
          ]
        },
        {
          "metadata": {
            "tags": null
          },
          "name": "stderr",
          "output_type": "stream",
          "text": [
            "\r25it [02:19,  5.52s/it]"
          ]
        },
        {
          "metadata": {
            "tags": null
          },
          "name": "stdout",
          "output_type": "stream",
          "text": [
            "06-20 06:15:14 [38] Lr: 0.000324, Training: 43.86%,  Loss: 2.96428, ACC: 44.72% \r\n"
          ]
        },
        {
          "metadata": {
            "tags": null
          },
          "name": "stderr",
          "output_type": "stream",
          "text": [
            "\r26it [02:24,  5.53s/it]"
          ]
        },
        {
          "metadata": {
            "tags": null
          },
          "name": "stdout",
          "output_type": "stream",
          "text": [
            "06-20 06:15:19 [38] Lr: 0.000324, Training: 45.61%,  Loss: 2.97467, ACC: 44.74% \r\n"
          ]
        },
        {
          "metadata": {
            "tags": null
          },
          "name": "stderr",
          "output_type": "stream",
          "text": [
            "\r27it [02:30,  5.53s/it]"
          ]
        },
        {
          "metadata": {
            "tags": null
          },
          "name": "stdout",
          "output_type": "stream",
          "text": [
            "06-20 06:15:25 [38] Lr: 0.000324, Training: 47.37%,  Loss: 2.97687, ACC: 44.77% \r\n"
          ]
        },
        {
          "metadata": {
            "tags": null
          },
          "name": "stderr",
          "output_type": "stream",
          "text": [
            "\r28it [02:35,  5.53s/it]"
          ]
        },
        {
          "metadata": {
            "tags": null
          },
          "name": "stdout",
          "output_type": "stream",
          "text": [
            "06-20 06:15:30 [38] Lr: 0.000324, Training: 49.12%,  Loss: 2.98443, ACC: 44.76% \r\n"
          ]
        },
        {
          "metadata": {
            "tags": null
          },
          "name": "stderr",
          "output_type": "stream",
          "text": [
            "\r29it [02:41,  5.54s/it]"
          ]
        },
        {
          "metadata": {
            "tags": null
          },
          "name": "stdout",
          "output_type": "stream",
          "text": [
            "06-20 06:15:36 [38] Lr: 0.000324, Training: 50.88%,  Loss: 2.98261, ACC: 44.85% \r\n"
          ]
        },
        {
          "metadata": {
            "tags": null
          },
          "name": "stderr",
          "output_type": "stream",
          "text": [
            "\r30it [02:46,  5.54s/it]"
          ]
        },
        {
          "metadata": {
            "tags": null
          },
          "name": "stdout",
          "output_type": "stream",
          "text": [
            "06-20 06:15:41 [38] Lr: 0.000324, Training: 52.63%,  Loss: 2.98484, ACC: 44.78% \r\n"
          ]
        },
        {
          "metadata": {
            "tags": null
          },
          "name": "stderr",
          "output_type": "stream",
          "text": [
            "\r31it [02:52,  5.54s/it]"
          ]
        },
        {
          "metadata": {
            "tags": null
          },
          "name": "stdout",
          "output_type": "stream",
          "text": [
            "06-20 06:15:47 [38] Lr: 0.000324, Training: 54.39%,  Loss: 2.97928, ACC: 44.82% \r\n"
          ]
        },
        {
          "metadata": {
            "tags": null
          },
          "name": "stderr",
          "output_type": "stream",
          "text": [
            "\r32it [02:57,  5.54s/it]"
          ]
        },
        {
          "metadata": {
            "tags": null
          },
          "name": "stdout",
          "output_type": "stream",
          "text": [
            "06-20 06:15:53 [38] Lr: 0.000324, Training: 56.14%,  Loss: 2.97415, ACC: 44.83% \r\n"
          ]
        },
        {
          "metadata": {
            "tags": null
          },
          "name": "stderr",
          "output_type": "stream",
          "text": [
            "\r33it [03:03,  5.54s/it]"
          ]
        },
        {
          "metadata": {
            "tags": null
          },
          "name": "stdout",
          "output_type": "stream",
          "text": [
            "06-20 06:15:58 [38] Lr: 0.000324, Training: 57.89%,  Loss: 2.98424, ACC: 44.77% \r\n"
          ]
        },
        {
          "metadata": {
            "tags": null
          },
          "name": "stderr",
          "output_type": "stream",
          "text": [
            "\r34it [03:08,  5.54s/it]"
          ]
        },
        {
          "metadata": {
            "tags": null
          },
          "name": "stdout",
          "output_type": "stream",
          "text": [
            "06-20 06:16:04 [38] Lr: 0.000324, Training: 59.65%,  Loss: 2.97254, ACC: 44.94% \r\n"
          ]
        },
        {
          "metadata": {
            "tags": null
          },
          "name": "stderr",
          "output_type": "stream",
          "text": [
            "\r35it [03:14,  5.54s/it]"
          ]
        },
        {
          "metadata": {
            "tags": null
          },
          "name": "stdout",
          "output_type": "stream",
          "text": [
            "06-20 06:16:09 [38] Lr: 0.000324, Training: 61.40%,  Loss: 2.97735, ACC: 44.95% \r\n"
          ]
        },
        {
          "metadata": {
            "tags": null
          },
          "name": "stderr",
          "output_type": "stream",
          "text": [
            "\r36it [03:20,  5.55s/it]"
          ]
        },
        {
          "metadata": {
            "tags": null
          },
          "name": "stdout",
          "output_type": "stream",
          "text": [
            "06-20 06:16:15 [38] Lr: 0.000324, Training: 63.16%,  Loss: 2.97316, ACC: 44.85% \r\n"
          ]
        },
        {
          "metadata": {
            "tags": null
          },
          "name": "stderr",
          "output_type": "stream",
          "text": [
            "\r37it [03:25,  5.55s/it]"
          ]
        },
        {
          "metadata": {
            "tags": null
          },
          "name": "stdout",
          "output_type": "stream",
          "text": [
            "06-20 06:16:20 [38] Lr: 0.000324, Training: 64.91%,  Loss: 2.96305, ACC: 44.92% \r\n"
          ]
        },
        {
          "metadata": {
            "tags": null
          },
          "name": "stderr",
          "output_type": "stream",
          "text": [
            "\r38it [03:31,  5.55s/it]"
          ]
        },
        {
          "metadata": {
            "tags": null
          },
          "name": "stdout",
          "output_type": "stream",
          "text": [
            "06-20 06:16:26 [38] Lr: 0.000324, Training: 66.67%,  Loss: 2.96530, ACC: 44.89% \r\n"
          ]
        },
        {
          "metadata": {
            "tags": null
          },
          "name": "stderr",
          "output_type": "stream",
          "text": [
            "\r39it [03:36,  5.54s/it]"
          ]
        },
        {
          "metadata": {
            "tags": null
          },
          "name": "stdout",
          "output_type": "stream",
          "text": [
            "06-20 06:16:31 [38] Lr: 0.000324, Training: 68.42%,  Loss: 2.96133, ACC: 44.97% \r\n"
          ]
        },
        {
          "metadata": {
            "tags": null
          },
          "name": "stderr",
          "output_type": "stream",
          "text": [
            "\r40it [03:42,  5.55s/it]"
          ]
        },
        {
          "metadata": {
            "tags": null
          },
          "name": "stdout",
          "output_type": "stream",
          "text": [
            "06-20 06:16:37 [38] Lr: 0.000324, Training: 70.18%,  Loss: 2.95983, ACC: 44.98% \r\n"
          ]
        },
        {
          "metadata": {
            "tags": null
          },
          "name": "stderr",
          "output_type": "stream",
          "text": [
            "\r41it [03:47,  5.55s/it]"
          ]
        },
        {
          "metadata": {
            "tags": null
          },
          "name": "stdout",
          "output_type": "stream",
          "text": [
            "06-20 06:16:42 [38] Lr: 0.000324, Training: 71.93%,  Loss: 2.97005, ACC: 44.85% \r\n"
          ]
        },
        {
          "metadata": {
            "tags": null
          },
          "name": "stderr",
          "output_type": "stream",
          "text": [
            "\r42it [03:53,  5.56s/it]"
          ]
        },
        {
          "metadata": {
            "tags": null
          },
          "name": "stdout",
          "output_type": "stream",
          "text": [
            "06-20 06:16:48 [38] Lr: 0.000324, Training: 73.68%,  Loss: 2.96081, ACC: 44.95% \r\n"
          ]
        },
        {
          "metadata": {
            "tags": null
          },
          "name": "stderr",
          "output_type": "stream",
          "text": [
            "\r43it [03:58,  5.56s/it]"
          ]
        },
        {
          "metadata": {
            "tags": null
          },
          "name": "stdout",
          "output_type": "stream",
          "text": [
            "06-20 06:16:54 [38] Lr: 0.000324, Training: 75.44%,  Loss: 2.96047, ACC: 45.05% \r\n"
          ]
        },
        {
          "metadata": {
            "tags": null
          },
          "name": "stderr",
          "output_type": "stream",
          "text": [
            "\r44it [04:04,  5.56s/it]"
          ]
        },
        {
          "metadata": {
            "tags": null
          },
          "name": "stdout",
          "output_type": "stream",
          "text": [
            "06-20 06:16:59 [38] Lr: 0.000324, Training: 77.19%,  Loss: 2.95717, ACC: 44.98% \r\n"
          ]
        },
        {
          "metadata": {
            "tags": null
          },
          "name": "stderr",
          "output_type": "stream",
          "text": [
            "\r45it [04:10,  5.56s/it]"
          ]
        },
        {
          "metadata": {
            "tags": null
          },
          "name": "stdout",
          "output_type": "stream",
          "text": [
            "06-20 06:17:05 [38] Lr: 0.000324, Training: 78.95%,  Loss: 2.95220, ACC: 45.08% \r\n"
          ]
        },
        {
          "metadata": {
            "tags": null
          },
          "name": "stderr",
          "output_type": "stream",
          "text": [
            "\r46it [04:15,  5.56s/it]"
          ]
        },
        {
          "metadata": {
            "tags": null
          },
          "name": "stdout",
          "output_type": "stream",
          "text": [
            "06-20 06:17:10 [38] Lr: 0.000324, Training: 80.70%,  Loss: 2.95908, ACC: 45.06% \r\n"
          ]
        },
        {
          "metadata": {
            "tags": null
          },
          "name": "stderr",
          "output_type": "stream",
          "text": [
            "\r47it [04:21,  5.56s/it]"
          ]
        },
        {
          "metadata": {
            "tags": null
          },
          "name": "stdout",
          "output_type": "stream",
          "text": [
            "06-20 06:17:16 [38] Lr: 0.000324, Training: 82.46%,  Loss: 2.95504, ACC: 45.11% \r\n"
          ]
        },
        {
          "metadata": {
            "tags": null
          },
          "name": "stderr",
          "output_type": "stream",
          "text": [
            "\r48it [04:26,  5.56s/it]"
          ]
        },
        {
          "metadata": {
            "tags": null
          },
          "name": "stdout",
          "output_type": "stream",
          "text": [
            "06-20 06:17:21 [38] Lr: 0.000324, Training: 84.21%,  Loss: 2.95257, ACC: 45.19% \r\n"
          ]
        },
        {
          "metadata": {
            "tags": null
          },
          "name": "stderr",
          "output_type": "stream",
          "text": [
            "\r49it [04:32,  5.56s/it]"
          ]
        },
        {
          "metadata": {
            "tags": null
          },
          "name": "stdout",
          "output_type": "stream",
          "text": [
            "06-20 06:17:27 [38] Lr: 0.000324, Training: 85.96%,  Loss: 2.94943, ACC: 45.24% \r\n"
          ]
        },
        {
          "metadata": {
            "tags": null
          },
          "name": "stderr",
          "output_type": "stream",
          "text": [
            "\r50it [04:37,  5.55s/it]"
          ]
        },
        {
          "metadata": {
            "tags": null
          },
          "name": "stdout",
          "output_type": "stream",
          "text": [
            "06-20 06:17:33 [38] Lr: 0.000324, Training: 87.72%,  Loss: 2.94721, ACC: 45.35% \r\n"
          ]
        },
        {
          "metadata": {
            "tags": null
          },
          "name": "stderr",
          "output_type": "stream",
          "text": [
            "\r51it [04:43,  5.55s/it]"
          ]
        },
        {
          "metadata": {
            "tags": null
          },
          "name": "stdout",
          "output_type": "stream",
          "text": [
            "06-20 06:17:38 [38] Lr: 0.000324, Training: 89.47%,  Loss: 2.94629, ACC: 45.33% \r\n"
          ]
        },
        {
          "metadata": {
            "tags": null
          },
          "name": "stderr",
          "output_type": "stream",
          "text": [
            "\r52it [04:48,  5.56s/it]"
          ]
        },
        {
          "metadata": {
            "tags": null
          },
          "name": "stdout",
          "output_type": "stream",
          "text": [
            "06-20 06:17:44 [38] Lr: 0.000324, Training: 91.23%,  Loss: 2.93744, ACC: 45.50% \r\n"
          ]
        },
        {
          "metadata": {
            "tags": null
          },
          "name": "stderr",
          "output_type": "stream",
          "text": [
            "\r53it [04:54,  5.56s/it]"
          ]
        },
        {
          "metadata": {
            "tags": null
          },
          "name": "stdout",
          "output_type": "stream",
          "text": [
            "06-20 06:17:49 [38] Lr: 0.000324, Training: 92.98%,  Loss: 2.94535, ACC: 45.35% \r\n"
          ]
        },
        {
          "metadata": {
            "tags": null
          },
          "name": "stderr",
          "output_type": "stream",
          "text": [
            "\r54it [05:00,  5.55s/it]"
          ]
        },
        {
          "metadata": {
            "tags": null
          },
          "name": "stdout",
          "output_type": "stream",
          "text": [
            "06-20 06:17:55 [38] Lr: 0.000324, Training: 94.74%,  Loss: 2.94437, ACC: 45.33% \r\n"
          ]
        },
        {
          "metadata": {
            "tags": null
          },
          "name": "stderr",
          "output_type": "stream",
          "text": [
            "\r55it [05:05,  5.55s/it]"
          ]
        },
        {
          "metadata": {
            "tags": null
          },
          "name": "stdout",
          "output_type": "stream",
          "text": [
            "06-20 06:18:00 [38] Lr: 0.000324, Training: 96.49%,  Loss: 2.94579, ACC: 45.20% \r\n"
          ]
        },
        {
          "metadata": {
            "tags": null
          },
          "name": "stderr",
          "output_type": "stream",
          "text": [
            "\r56it [05:11,  5.54s/it]"
          ]
        },
        {
          "metadata": {
            "tags": null
          },
          "name": "stdout",
          "output_type": "stream",
          "text": [
            "06-20 06:18:06 [38] Lr: 0.000324, Training: 98.25%,  Loss: 2.94432, ACC: 45.18% \r\n"
          ]
        },
        {
          "metadata": {
            "tags": null
          },
          "name": "stderr",
          "output_type": "stream",
          "text": [
            "\r57it [05:14,  5.03s/it]"
          ]
        },
        {
          "metadata": {
            "tags": null
          },
          "name": "stdout",
          "output_type": "stream",
          "text": [
            "06-20 06:18:10 [38] Lr: 0.000324, Training: 100.00%,  Loss: 2.95174, ACC: 32.95% \r\n"
          ]
        },
        {
          "metadata": {
            "tags": null
          },
          "name": "stderr",
          "output_type": "stream",
          "text": [
            "\r57it [05:15,  5.53s/it]\n"
          ]
        },
        {
          "metadata": {
            "tags": null
          },
          "name": "stdout",
          "output_type": "stream",
          "text": [
            "\n",
            "\n"
          ]
        },
        {
          "metadata": {
            "tags": null
          },
          "name": "stderr",
          "output_type": "stream",
          "text": [
            "  0%|          | 0/973 [00:00<?, ?it/s]<ipython-input-15-b61162519fae>:62: DeprecationWarning: `np.float` is a deprecated alias for the builtin `float`. To silence this warning, use `float` by itself. Doing this will not modify any behavior and is safe. If you specifically wanted the numpy scalar type, use `np.float64` here.\n",
            "Deprecated in NumPy 1.20; for more details and guidance: https://numpy.org/devdocs/release/1.20.0-notes.html#deprecations\n",
            "  feats = numpy.stack(feats, axis = 0).astype(numpy.float)\n",
            "100%|██████████| 973/973 [04:38<00:00,  3.50it/s]\n"
          ]
        },
        {
          "metadata": {
            "tags": null
          },
          "name": "stdout",
          "output_type": "stream",
          "text": [
            "2023-06-20 06:23:03 38 epoch, ACC 32.95%, EER 6.31%, bestEER 6.28%\n",
            "Epoch: 39\n"
          ]
        },
        {
          "metadata": {
            "tags": null
          },
          "name": "stderr",
          "output_type": "stream",
          "text": [
            "/usr/local/lib/python3.10/dist-packages/torch/optim/lr_scheduler.py:152: UserWarning: The epoch parameter in `scheduler.step()` was not necessary and is being deprecated where possible. Please use `scheduler.step()` to step the scheduler. During the deprecation, if epoch is different from None, the closed form is used instead of the new chainable form, where available. Please open an issue if you are unable to replicate your use case: https://github.com/pytorch/pytorch/issues/new/choose.\n",
            "  warnings.warn(EPOCH_DEPRECATION_WARNING, UserWarning)\n",
            "0it [00:00, ?it/s]/usr/local/lib/python3.10/dist-packages/torch/nn/functional.py:4999: UserWarning: Support for mismatched key_padding_mask and attn_mask is deprecated. Use same type for both instead.\n",
            "  warnings.warn(\n",
            "1it [00:06,  6.28s/it]"
          ]
        },
        {
          "metadata": {
            "tags": null
          },
          "name": "stdout",
          "output_type": "stream",
          "text": [
            "06-20 06:23:09 [39] Lr: 0.000314, Training: 1.75%,  Loss: 2.76354, ACC: 44.67% \r\n"
          ]
        },
        {
          "metadata": {
            "tags": null
          },
          "name": "stderr",
          "output_type": "stream",
          "text": [
            "\r2it [00:11,  5.82s/it]"
          ]
        },
        {
          "metadata": {
            "tags": null
          },
          "name": "stdout",
          "output_type": "stream",
          "text": [
            "06-20 06:23:15 [39] Lr: 0.000314, Training: 3.51%,  Loss: 2.76663, ACC: 48.00% \r\n"
          ]
        },
        {
          "metadata": {
            "tags": null
          },
          "name": "stderr",
          "output_type": "stream",
          "text": [
            "\r3it [01:53, 49.48s/it]"
          ]
        },
        {
          "metadata": {
            "tags": null
          },
          "name": "stdout",
          "output_type": "stream",
          "text": [
            "06-20 06:24:56 [39] Lr: 0.000314, Training: 5.26%,  Loss: 2.79863, ACC: 48.89% \r\n"
          ]
        },
        {
          "metadata": {
            "tags": null
          },
          "name": "stderr",
          "output_type": "stream",
          "text": [
            "\r4it [01:58, 32.14s/it]"
          ]
        },
        {
          "metadata": {
            "tags": null
          },
          "name": "stdout",
          "output_type": "stream",
          "text": [
            "06-20 06:25:02 [39] Lr: 0.000314, Training: 7.02%,  Loss: 2.77990, ACC: 48.83% \r\n"
          ]
        },
        {
          "metadata": {
            "tags": null
          },
          "name": "stderr",
          "output_type": "stream",
          "text": [
            "\r5it [02:04, 22.61s/it]"
          ]
        },
        {
          "metadata": {
            "tags": null
          },
          "name": "stdout",
          "output_type": "stream",
          "text": [
            "06-20 06:25:08 [39] Lr: 0.000314, Training: 8.77%,  Loss: 2.86995, ACC: 47.20% \r\n"
          ]
        },
        {
          "metadata": {
            "tags": null
          },
          "name": "stderr",
          "output_type": "stream",
          "text": [
            "\r6it [02:10, 16.88s/it]"
          ]
        },
        {
          "metadata": {
            "tags": null
          },
          "name": "stdout",
          "output_type": "stream",
          "text": [
            "06-20 06:25:13 [39] Lr: 0.000314, Training: 10.53%,  Loss: 2.87109, ACC: 47.22% \r\n"
          ]
        },
        {
          "metadata": {
            "tags": null
          },
          "name": "stderr",
          "output_type": "stream",
          "text": [
            "\r7it [02:16, 13.27s/it]"
          ]
        },
        {
          "metadata": {
            "tags": null
          },
          "name": "stdout",
          "output_type": "stream",
          "text": [
            "06-20 06:25:19 [39] Lr: 0.000314, Training: 12.28%,  Loss: 2.83025, ACC: 48.10% \r\n"
          ]
        },
        {
          "metadata": {
            "tags": null
          },
          "name": "stderr",
          "output_type": "stream",
          "text": [
            "\r8it [02:21, 10.89s/it]"
          ]
        },
        {
          "metadata": {
            "tags": null
          },
          "name": "stdout",
          "output_type": "stream",
          "text": [
            "06-20 06:25:25 [39] Lr: 0.000314, Training: 14.04%,  Loss: 2.88263, ACC: 47.08% \r\n"
          ]
        },
        {
          "metadata": {
            "tags": null
          },
          "name": "stderr",
          "output_type": "stream",
          "text": [
            "\r9it [02:27,  9.26s/it]"
          ]
        },
        {
          "metadata": {
            "tags": null
          },
          "name": "stdout",
          "output_type": "stream",
          "text": [
            "06-20 06:25:31 [39] Lr: 0.000314, Training: 15.79%,  Loss: 2.86764, ACC: 47.70% \r\n"
          ]
        },
        {
          "metadata": {
            "tags": null
          },
          "name": "stderr",
          "output_type": "stream",
          "text": [
            "\r10it [02:33,  8.14s/it]"
          ]
        },
        {
          "metadata": {
            "tags": null
          },
          "name": "stdout",
          "output_type": "stream",
          "text": [
            "06-20 06:25:36 [39] Lr: 0.000314, Training: 17.54%,  Loss: 2.88394, ACC: 47.20% \r\n"
          ]
        },
        {
          "metadata": {
            "tags": null
          },
          "name": "stderr",
          "output_type": "stream",
          "text": [
            "\r11it [02:38,  7.35s/it]"
          ]
        },
        {
          "metadata": {
            "tags": null
          },
          "name": "stdout",
          "output_type": "stream",
          "text": [
            "06-20 06:25:42 [39] Lr: 0.000314, Training: 19.30%,  Loss: 2.86604, ACC: 47.39% \r\n"
          ]
        },
        {
          "metadata": {
            "tags": null
          },
          "name": "stderr",
          "output_type": "stream",
          "text": [
            "\r12it [02:44,  6.78s/it]"
          ]
        },
        {
          "metadata": {
            "tags": null
          },
          "name": "stdout",
          "output_type": "stream",
          "text": [
            "06-20 06:25:47 [39] Lr: 0.000314, Training: 21.05%,  Loss: 2.88049, ACC: 47.33% \r\n"
          ]
        },
        {
          "metadata": {
            "tags": null
          },
          "name": "stderr",
          "output_type": "stream",
          "text": [
            "\r13it [02:49,  6.38s/it]"
          ]
        },
        {
          "metadata": {
            "tags": null
          },
          "name": "stdout",
          "output_type": "stream",
          "text": [
            "06-20 06:25:53 [39] Lr: 0.000314, Training: 22.81%,  Loss: 2.90804, ACC: 46.56% \r\n"
          ]
        },
        {
          "metadata": {
            "tags": null
          },
          "name": "stderr",
          "output_type": "stream",
          "text": [
            "\r14it [02:55,  6.10s/it]"
          ]
        },
        {
          "metadata": {
            "tags": null
          },
          "name": "stdout",
          "output_type": "stream",
          "text": [
            "06-20 06:25:58 [39] Lr: 0.000314, Training: 24.56%,  Loss: 2.92855, ACC: 45.90% \r\n"
          ]
        },
        {
          "metadata": {
            "tags": null
          },
          "name": "stderr",
          "output_type": "stream",
          "text": [
            "\r15it [03:00,  5.89s/it]"
          ]
        },
        {
          "metadata": {
            "tags": null
          },
          "name": "stdout",
          "output_type": "stream",
          "text": [
            "06-20 06:26:04 [39] Lr: 0.000314, Training: 26.32%,  Loss: 2.93421, ACC: 46.00% \r\n"
          ]
        },
        {
          "metadata": {
            "tags": null
          },
          "name": "stderr",
          "output_type": "stream",
          "text": [
            "\r16it [03:05,  5.75s/it]"
          ]
        },
        {
          "metadata": {
            "tags": null
          },
          "name": "stdout",
          "output_type": "stream",
          "text": [
            "06-20 06:26:09 [39] Lr: 0.000314, Training: 28.07%,  Loss: 2.93129, ACC: 45.96% \r\n"
          ]
        },
        {
          "metadata": {
            "tags": null
          },
          "name": "stderr",
          "output_type": "stream",
          "text": [
            "\r17it [03:11,  5.67s/it]"
          ]
        },
        {
          "metadata": {
            "tags": null
          },
          "name": "stdout",
          "output_type": "stream",
          "text": [
            "06-20 06:26:15 [39] Lr: 0.000314, Training: 29.82%,  Loss: 2.92932, ACC: 46.12% \r\n"
          ]
        },
        {
          "metadata": {
            "tags": null
          },
          "name": "stderr",
          "output_type": "stream",
          "text": [
            "\r18it [03:16,  5.60s/it]"
          ]
        },
        {
          "metadata": {
            "tags": null
          },
          "name": "stdout",
          "output_type": "stream",
          "text": [
            "06-20 06:26:20 [39] Lr: 0.000314, Training: 31.58%,  Loss: 2.90267, ACC: 46.15% \r\n"
          ]
        },
        {
          "metadata": {
            "tags": null
          },
          "name": "stderr",
          "output_type": "stream",
          "text": [
            "\r19it [03:22,  5.57s/it]"
          ]
        },
        {
          "metadata": {
            "tags": null
          },
          "name": "stdout",
          "output_type": "stream",
          "text": [
            "06-20 06:26:26 [39] Lr: 0.000314, Training: 33.33%,  Loss: 2.92094, ACC: 46.11% \r\n"
          ]
        },
        {
          "metadata": {
            "tags": null
          },
          "name": "stderr",
          "output_type": "stream",
          "text": [
            "\r20it [03:27,  5.56s/it]"
          ]
        },
        {
          "metadata": {
            "tags": null
          },
          "name": "stdout",
          "output_type": "stream",
          "text": [
            "06-20 06:26:31 [39] Lr: 0.000314, Training: 35.09%,  Loss: 2.91519, ACC: 46.10% \r\n"
          ]
        },
        {
          "metadata": {
            "tags": null
          },
          "name": "stderr",
          "output_type": "stream",
          "text": [
            "\r21it [03:33,  5.56s/it]"
          ]
        },
        {
          "metadata": {
            "tags": null
          },
          "name": "stdout",
          "output_type": "stream",
          "text": [
            "06-20 06:26:37 [39] Lr: 0.000314, Training: 36.84%,  Loss: 2.90630, ACC: 46.19% \r\n"
          ]
        },
        {
          "metadata": {
            "tags": null
          },
          "name": "stderr",
          "output_type": "stream",
          "text": [
            "\r22it [03:39,  5.56s/it]"
          ]
        },
        {
          "metadata": {
            "tags": null
          },
          "name": "stdout",
          "output_type": "stream",
          "text": [
            "06-20 06:26:42 [39] Lr: 0.000314, Training: 38.60%,  Loss: 2.90452, ACC: 46.27% \r\n"
          ]
        },
        {
          "metadata": {
            "tags": null
          },
          "name": "stderr",
          "output_type": "stream",
          "text": [
            "\r23it [03:44,  5.57s/it]"
          ]
        },
        {
          "metadata": {
            "tags": null
          },
          "name": "stdout",
          "output_type": "stream",
          "text": [
            "06-20 06:26:48 [39] Lr: 0.000314, Training: 40.35%,  Loss: 2.90707, ACC: 46.09% \r\n"
          ]
        },
        {
          "metadata": {
            "tags": null
          },
          "name": "stderr",
          "output_type": "stream",
          "text": [
            "\r24it [03:50,  5.57s/it]"
          ]
        },
        {
          "metadata": {
            "tags": null
          },
          "name": "stdout",
          "output_type": "stream",
          "text": [
            "06-20 06:26:53 [39] Lr: 0.000314, Training: 42.11%,  Loss: 2.91076, ACC: 46.31% \r\n"
          ]
        },
        {
          "metadata": {
            "tags": null
          },
          "name": "stderr",
          "output_type": "stream",
          "text": [
            "\r25it [03:55,  5.57s/it]"
          ]
        },
        {
          "metadata": {
            "tags": null
          },
          "name": "stdout",
          "output_type": "stream",
          "text": [
            "06-20 06:26:59 [39] Lr: 0.000314, Training: 43.86%,  Loss: 2.91638, ACC: 46.05% \r\n"
          ]
        },
        {
          "metadata": {
            "tags": null
          },
          "name": "stderr",
          "output_type": "stream",
          "text": [
            "\r26it [04:01,  5.56s/it]"
          ]
        },
        {
          "metadata": {
            "tags": null
          },
          "name": "stdout",
          "output_type": "stream",
          "text": [
            "06-20 06:27:04 [39] Lr: 0.000314, Training: 45.61%,  Loss: 2.92592, ACC: 45.97% \r\n"
          ]
        },
        {
          "metadata": {
            "tags": null
          },
          "name": "stderr",
          "output_type": "stream",
          "text": [
            "\r27it [04:06,  5.56s/it]"
          ]
        },
        {
          "metadata": {
            "tags": null
          },
          "name": "stdout",
          "output_type": "stream",
          "text": [
            "06-20 06:27:10 [39] Lr: 0.000314, Training: 47.37%,  Loss: 2.94200, ACC: 45.83% \r\n"
          ]
        },
        {
          "metadata": {
            "tags": null
          },
          "name": "stderr",
          "output_type": "stream",
          "text": [
            "\r28it [04:12,  5.54s/it]"
          ]
        },
        {
          "metadata": {
            "tags": null
          },
          "name": "stdout",
          "output_type": "stream",
          "text": [
            "06-20 06:27:15 [39] Lr: 0.000314, Training: 49.12%,  Loss: 2.95273, ACC: 45.48% \r\n"
          ]
        },
        {
          "metadata": {
            "tags": null
          },
          "name": "stderr",
          "output_type": "stream",
          "text": [
            "\r29it [04:17,  5.55s/it]"
          ]
        },
        {
          "metadata": {
            "tags": null
          },
          "name": "stdout",
          "output_type": "stream",
          "text": [
            "06-20 06:27:21 [39] Lr: 0.000314, Training: 50.88%,  Loss: 2.94022, ACC: 45.70% \r\n"
          ]
        },
        {
          "metadata": {
            "tags": null
          },
          "name": "stderr",
          "output_type": "stream",
          "text": [
            "\r30it [04:23,  5.53s/it]"
          ]
        },
        {
          "metadata": {
            "tags": null
          },
          "name": "stdout",
          "output_type": "stream",
          "text": [
            "06-20 06:27:27 [39] Lr: 0.000314, Training: 52.63%,  Loss: 2.92368, ACC: 45.84% \r\n"
          ]
        },
        {
          "metadata": {
            "tags": null
          },
          "name": "stderr",
          "output_type": "stream",
          "text": [
            "\r31it [04:28,  5.51s/it]"
          ]
        },
        {
          "metadata": {
            "tags": null
          },
          "name": "stdout",
          "output_type": "stream",
          "text": [
            "06-20 06:27:32 [39] Lr: 0.000314, Training: 54.39%,  Loss: 2.93763, ACC: 45.74% \r\n"
          ]
        },
        {
          "metadata": {
            "tags": null
          },
          "name": "stderr",
          "output_type": "stream",
          "text": [
            "\r32it [04:34,  5.52s/it]"
          ]
        },
        {
          "metadata": {
            "tags": null
          },
          "name": "stdout",
          "output_type": "stream",
          "text": [
            "06-20 06:27:38 [39] Lr: 0.000314, Training: 56.14%,  Loss: 2.92519, ACC: 45.81% \r\n"
          ]
        },
        {
          "metadata": {
            "tags": null
          },
          "name": "stderr",
          "output_type": "stream",
          "text": [
            "\r33it [04:39,  5.51s/it]"
          ]
        },
        {
          "metadata": {
            "tags": null
          },
          "name": "stdout",
          "output_type": "stream",
          "text": [
            "06-20 06:27:43 [39] Lr: 0.000314, Training: 57.89%,  Loss: 2.92012, ACC: 45.78% \r\n"
          ]
        },
        {
          "metadata": {
            "tags": null
          },
          "name": "stderr",
          "output_type": "stream",
          "text": [
            "\r34it [04:45,  5.51s/it]"
          ]
        },
        {
          "metadata": {
            "tags": null
          },
          "name": "stdout",
          "output_type": "stream",
          "text": [
            "06-20 06:27:49 [39] Lr: 0.000314, Training: 59.65%,  Loss: 2.90950, ACC: 46.04% \r\n"
          ]
        },
        {
          "metadata": {
            "tags": null
          },
          "name": "stderr",
          "output_type": "stream",
          "text": [
            "\r35it [04:50,  5.51s/it]"
          ]
        },
        {
          "metadata": {
            "tags": null
          },
          "name": "stdout",
          "output_type": "stream",
          "text": [
            "06-20 06:27:54 [39] Lr: 0.000314, Training: 61.40%,  Loss: 2.90507, ACC: 46.21% \r\n"
          ]
        },
        {
          "metadata": {
            "tags": null
          },
          "name": "stderr",
          "output_type": "stream",
          "text": [
            "\r36it [04:56,  5.51s/it]"
          ]
        },
        {
          "metadata": {
            "tags": null
          },
          "name": "stdout",
          "output_type": "stream",
          "text": [
            "06-20 06:28:00 [39] Lr: 0.000314, Training: 63.16%,  Loss: 2.90815, ACC: 46.13% \r\n"
          ]
        },
        {
          "metadata": {
            "tags": null
          },
          "name": "stderr",
          "output_type": "stream",
          "text": [
            "\r37it [05:02,  5.52s/it]"
          ]
        },
        {
          "metadata": {
            "tags": null
          },
          "name": "stdout",
          "output_type": "stream",
          "text": [
            "06-20 06:28:05 [39] Lr: 0.000314, Training: 64.91%,  Loss: 2.91007, ACC: 46.18% \r\n"
          ]
        },
        {
          "metadata": {
            "tags": null
          },
          "name": "stderr",
          "output_type": "stream",
          "text": [
            "\r38it [05:07,  5.52s/it]"
          ]
        },
        {
          "metadata": {
            "tags": null
          },
          "name": "stdout",
          "output_type": "stream",
          "text": [
            "06-20 06:28:11 [39] Lr: 0.000314, Training: 66.67%,  Loss: 2.90621, ACC: 46.23% \r\n"
          ]
        },
        {
          "metadata": {
            "tags": null
          },
          "name": "stderr",
          "output_type": "stream",
          "text": [
            "\r39it [05:13,  5.54s/it]"
          ]
        },
        {
          "metadata": {
            "tags": null
          },
          "name": "stdout",
          "output_type": "stream",
          "text": [
            "06-20 06:28:16 [39] Lr: 0.000314, Training: 68.42%,  Loss: 2.90189, ACC: 46.22% \r\n"
          ]
        },
        {
          "metadata": {
            "tags": null
          },
          "name": "stderr",
          "output_type": "stream",
          "text": [
            "\r40it [05:18,  5.54s/it]"
          ]
        },
        {
          "metadata": {
            "tags": null
          },
          "name": "stdout",
          "output_type": "stream",
          "text": [
            "06-20 06:28:22 [39] Lr: 0.000314, Training: 70.18%,  Loss: 2.90847, ACC: 46.10% \r\n"
          ]
        },
        {
          "metadata": {
            "tags": null
          },
          "name": "stderr",
          "output_type": "stream",
          "text": [
            "\r41it [05:24,  5.55s/it]"
          ]
        },
        {
          "metadata": {
            "tags": null
          },
          "name": "stdout",
          "output_type": "stream",
          "text": [
            "06-20 06:28:27 [39] Lr: 0.000314, Training: 71.93%,  Loss: 2.90777, ACC: 46.23% \r\n"
          ]
        },
        {
          "metadata": {
            "tags": null
          },
          "name": "stderr",
          "output_type": "stream",
          "text": [
            "\r42it [05:29,  5.56s/it]"
          ]
        },
        {
          "metadata": {
            "tags": null
          },
          "name": "stdout",
          "output_type": "stream",
          "text": [
            "06-20 06:28:33 [39] Lr: 0.000314, Training: 73.68%,  Loss: 2.90260, ACC: 46.24% \r\n"
          ]
        },
        {
          "metadata": {
            "tags": null
          },
          "name": "stderr",
          "output_type": "stream",
          "text": [
            "\r43it [05:35,  5.56s/it]"
          ]
        },
        {
          "metadata": {
            "tags": null
          },
          "name": "stdout",
          "output_type": "stream",
          "text": [
            "06-20 06:28:38 [39] Lr: 0.000314, Training: 75.44%,  Loss: 2.90642, ACC: 46.11% \r\n"
          ]
        },
        {
          "metadata": {
            "tags": null
          },
          "name": "stderr",
          "output_type": "stream",
          "text": [
            "\r44it [05:40,  5.55s/it]"
          ]
        },
        {
          "metadata": {
            "tags": null
          },
          "name": "stdout",
          "output_type": "stream",
          "text": [
            "06-20 06:28:44 [39] Lr: 0.000314, Training: 77.19%,  Loss: 2.90499, ACC: 46.03% \r\n"
          ]
        },
        {
          "metadata": {
            "tags": null
          },
          "name": "stderr",
          "output_type": "stream",
          "text": [
            "\r45it [05:46,  5.56s/it]"
          ]
        },
        {
          "metadata": {
            "tags": null
          },
          "name": "stdout",
          "output_type": "stream",
          "text": [
            "06-20 06:28:50 [39] Lr: 0.000314, Training: 78.95%,  Loss: 2.90575, ACC: 46.00% \r\n"
          ]
        },
        {
          "metadata": {
            "tags": null
          },
          "name": "stderr",
          "output_type": "stream",
          "text": [
            "\r46it [05:52,  5.55s/it]"
          ]
        },
        {
          "metadata": {
            "tags": null
          },
          "name": "stdout",
          "output_type": "stream",
          "text": [
            "06-20 06:28:55 [39] Lr: 0.000314, Training: 80.70%,  Loss: 2.91024, ACC: 45.93% \r\n"
          ]
        },
        {
          "metadata": {
            "tags": null
          },
          "name": "stderr",
          "output_type": "stream",
          "text": [
            "\r47it [05:57,  5.55s/it]"
          ]
        },
        {
          "metadata": {
            "tags": null
          },
          "name": "stdout",
          "output_type": "stream",
          "text": [
            "06-20 06:29:01 [39] Lr: 0.000314, Training: 82.46%,  Loss: 2.90354, ACC: 46.03% \r\n"
          ]
        },
        {
          "metadata": {
            "tags": null
          },
          "name": "stderr",
          "output_type": "stream",
          "text": [
            "\r48it [06:03,  5.54s/it]"
          ]
        },
        {
          "metadata": {
            "tags": null
          },
          "name": "stdout",
          "output_type": "stream",
          "text": [
            "06-20 06:29:06 [39] Lr: 0.000314, Training: 84.21%,  Loss: 2.90120, ACC: 46.07% \r\n"
          ]
        },
        {
          "metadata": {
            "tags": null
          },
          "name": "stderr",
          "output_type": "stream",
          "text": [
            "\r49it [06:08,  5.54s/it]"
          ]
        },
        {
          "metadata": {
            "tags": null
          },
          "name": "stdout",
          "output_type": "stream",
          "text": [
            "06-20 06:29:12 [39] Lr: 0.000314, Training: 85.96%,  Loss: 2.90155, ACC: 46.08% \r\n"
          ]
        },
        {
          "metadata": {
            "tags": null
          },
          "name": "stderr",
          "output_type": "stream",
          "text": [
            "\r50it [06:14,  5.54s/it]"
          ]
        },
        {
          "metadata": {
            "tags": null
          },
          "name": "stdout",
          "output_type": "stream",
          "text": [
            "06-20 06:29:17 [39] Lr: 0.000314, Training: 87.72%,  Loss: 2.91164, ACC: 46.00% \r\n"
          ]
        },
        {
          "metadata": {
            "tags": null
          },
          "name": "stderr",
          "output_type": "stream",
          "text": [
            "\r51it [06:19,  5.55s/it]"
          ]
        },
        {
          "metadata": {
            "tags": null
          },
          "name": "stdout",
          "output_type": "stream",
          "text": [
            "06-20 06:29:23 [39] Lr: 0.000314, Training: 89.47%,  Loss: 2.90960, ACC: 45.90% \r\n"
          ]
        },
        {
          "metadata": {
            "tags": null
          },
          "name": "stderr",
          "output_type": "stream",
          "text": [
            "\r52it [06:25,  5.54s/it]"
          ]
        },
        {
          "metadata": {
            "tags": null
          },
          "name": "stdout",
          "output_type": "stream",
          "text": [
            "06-20 06:29:28 [39] Lr: 0.000314, Training: 91.23%,  Loss: 2.91236, ACC: 45.83% \r\n"
          ]
        },
        {
          "metadata": {
            "tags": null
          },
          "name": "stderr",
          "output_type": "stream",
          "text": [
            "\r53it [06:30,  5.54s/it]"
          ]
        },
        {
          "metadata": {
            "tags": null
          },
          "name": "stdout",
          "output_type": "stream",
          "text": [
            "06-20 06:29:34 [39] Lr: 0.000314, Training: 92.98%,  Loss: 2.91114, ACC: 45.90% \r\n"
          ]
        },
        {
          "metadata": {
            "tags": null
          },
          "name": "stderr",
          "output_type": "stream",
          "text": [
            "\r54it [06:36,  5.53s/it]"
          ]
        },
        {
          "metadata": {
            "tags": null
          },
          "name": "stdout",
          "output_type": "stream",
          "text": [
            "06-20 06:29:39 [39] Lr: 0.000314, Training: 94.74%,  Loss: 2.90811, ACC: 45.96% \r\n"
          ]
        },
        {
          "metadata": {
            "tags": null
          },
          "name": "stderr",
          "output_type": "stream",
          "text": [
            "\r55it [06:41,  5.52s/it]"
          ]
        },
        {
          "metadata": {
            "tags": null
          },
          "name": "stdout",
          "output_type": "stream",
          "text": [
            "06-20 06:29:45 [39] Lr: 0.000314, Training: 96.49%,  Loss: 2.90565, ACC: 46.04% \r\n"
          ]
        },
        {
          "metadata": {
            "tags": null
          },
          "name": "stderr",
          "output_type": "stream",
          "text": [
            "\r56it [06:47,  5.52s/it]"
          ]
        },
        {
          "metadata": {
            "tags": null
          },
          "name": "stdout",
          "output_type": "stream",
          "text": [
            "06-20 06:29:50 [39] Lr: 0.000314, Training: 98.25%,  Loss: 2.91074, ACC: 45.92% \r\n"
          ]
        },
        {
          "metadata": {
            "tags": null
          },
          "name": "stderr",
          "output_type": "stream",
          "text": [
            "57it [06:51,  7.22s/it]"
          ]
        },
        {
          "metadata": {
            "tags": null
          },
          "name": "stdout",
          "output_type": "stream",
          "text": [
            "06-20 06:29:54 [39] Lr: 0.000314, Training: 100.00%,  Loss: 2.90513, ACC: 33.60% \r\n",
            "\n",
            "\n"
          ]
        },
        {
          "metadata": {
            "tags": null
          },
          "name": "stderr",
          "output_type": "stream",
          "text": [
            "\n",
            "  0%|          | 0/973 [00:00<?, ?it/s]<ipython-input-15-b61162519fae>:62: DeprecationWarning: `np.float` is a deprecated alias for the builtin `float`. To silence this warning, use `float` by itself. Doing this will not modify any behavior and is safe. If you specifically wanted the numpy scalar type, use `np.float64` here.\n",
            "Deprecated in NumPy 1.20; for more details and guidance: https://numpy.org/devdocs/release/1.20.0-notes.html#deprecations\n",
            "  feats = numpy.stack(feats, axis = 0).astype(numpy.float)\n",
            "100%|██████████| 973/973 [04:35<00:00,  3.53it/s]\n"
          ]
        },
        {
          "metadata": {
            "tags": null
          },
          "name": "stdout",
          "output_type": "stream",
          "text": [
            "2023-06-20 06:34:38 39 epoch, ACC 33.60%, EER 6.26%, bestEER 6.26%\n",
            "Epoch: 40\n"
          ]
        },
        {
          "metadata": {
            "tags": null
          },
          "name": "stderr",
          "output_type": "stream",
          "text": [
            "/usr/local/lib/python3.10/dist-packages/torch/optim/lr_scheduler.py:152: UserWarning: The epoch parameter in `scheduler.step()` was not necessary and is being deprecated where possible. Please use `scheduler.step()` to step the scheduler. During the deprecation, if epoch is different from None, the closed form is used instead of the new chainable form, where available. Please open an issue if you are unable to replicate your use case: https://github.com/pytorch/pytorch/issues/new/choose.\n",
            "  warnings.warn(EPOCH_DEPRECATION_WARNING, UserWarning)\n",
            "0it [00:00, ?it/s]/usr/local/lib/python3.10/dist-packages/torch/nn/functional.py:4999: UserWarning: Support for mismatched key_padding_mask and attn_mask is deprecated. Use same type for both instead.\n",
            "  warnings.warn(\n",
            "1it [00:06,  6.25s/it]"
          ]
        },
        {
          "metadata": {
            "tags": null
          },
          "name": "stdout",
          "output_type": "stream",
          "text": [
            "06-20 06:34:44 [40] Lr: 0.000305, Training: 1.75%,  Loss: 2.73320, ACC: 48.00% \r\n"
          ]
        },
        {
          "metadata": {
            "tags": null
          },
          "name": "stderr",
          "output_type": "stream",
          "text": [
            "\r2it [00:11,  5.80s/it]"
          ]
        },
        {
          "metadata": {
            "tags": null
          },
          "name": "stdout",
          "output_type": "stream",
          "text": [
            "06-20 06:34:49 [40] Lr: 0.000305, Training: 3.51%,  Loss: 2.87126, ACC: 46.00% \r\n"
          ]
        },
        {
          "metadata": {
            "tags": null
          },
          "name": "stderr",
          "output_type": "stream",
          "text": [
            "\r3it [00:17,  5.68s/it]"
          ]
        },
        {
          "metadata": {
            "tags": null
          },
          "name": "stdout",
          "output_type": "stream",
          "text": [
            "06-20 06:34:55 [40] Lr: 0.000305, Training: 5.26%,  Loss: 2.98493, ACC: 44.00% \r\n"
          ]
        },
        {
          "metadata": {
            "tags": null
          },
          "name": "stderr",
          "output_type": "stream",
          "text": [
            "\r4it [00:22,  5.63s/it]"
          ]
        },
        {
          "metadata": {
            "tags": null
          },
          "name": "stdout",
          "output_type": "stream",
          "text": [
            "06-20 06:35:01 [40] Lr: 0.000305, Training: 7.02%,  Loss: 2.89036, ACC: 45.67% \r\n"
          ]
        },
        {
          "metadata": {
            "tags": null
          },
          "name": "stderr",
          "output_type": "stream",
          "text": [
            "\r5it [00:28,  5.61s/it]"
          ]
        },
        {
          "metadata": {
            "tags": null
          },
          "name": "stdout",
          "output_type": "stream",
          "text": [
            "06-20 06:35:06 [40] Lr: 0.000305, Training: 8.77%,  Loss: 2.88190, ACC: 45.73% \r\n"
          ]
        },
        {
          "metadata": {
            "tags": null
          },
          "name": "stderr",
          "output_type": "stream",
          "text": [
            "\r6it [00:33,  5.60s/it]"
          ]
        },
        {
          "metadata": {
            "tags": null
          },
          "name": "stdout",
          "output_type": "stream",
          "text": [
            "06-20 06:35:12 [40] Lr: 0.000305, Training: 10.53%,  Loss: 2.92543, ACC: 45.67% \r\n"
          ]
        },
        {
          "metadata": {
            "tags": null
          },
          "name": "stderr",
          "output_type": "stream",
          "text": [
            "\r7it [00:39,  5.60s/it]"
          ]
        },
        {
          "metadata": {
            "tags": null
          },
          "name": "stdout",
          "output_type": "stream",
          "text": [
            "06-20 06:35:17 [40] Lr: 0.000305, Training: 12.28%,  Loss: 2.92593, ACC: 45.33% \r\n"
          ]
        },
        {
          "metadata": {
            "tags": null
          },
          "name": "stderr",
          "output_type": "stream",
          "text": [
            "\r8it [00:45,  5.58s/it]"
          ]
        },
        {
          "metadata": {
            "tags": null
          },
          "name": "stdout",
          "output_type": "stream",
          "text": [
            "06-20 06:35:23 [40] Lr: 0.000305, Training: 14.04%,  Loss: 2.93922, ACC: 45.00% \r\n"
          ]
        },
        {
          "metadata": {
            "tags": null
          },
          "name": "stderr",
          "output_type": "stream",
          "text": [
            "\r9it [00:50,  5.60s/it]"
          ]
        },
        {
          "metadata": {
            "tags": null
          },
          "name": "stdout",
          "output_type": "stream",
          "text": [
            "06-20 06:35:29 [40] Lr: 0.000305, Training: 15.79%,  Loss: 2.91753, ACC: 45.56% \r\n"
          ]
        },
        {
          "metadata": {
            "tags": null
          },
          "name": "stderr",
          "output_type": "stream",
          "text": [
            "\r10it [00:56,  5.58s/it]"
          ]
        },
        {
          "metadata": {
            "tags": null
          },
          "name": "stdout",
          "output_type": "stream",
          "text": [
            "06-20 06:35:34 [40] Lr: 0.000305, Training: 17.54%,  Loss: 2.93583, ACC: 45.07% \r\n"
          ]
        },
        {
          "metadata": {
            "tags": null
          },
          "name": "stderr",
          "output_type": "stream",
          "text": [
            "\r11it [01:01,  5.56s/it]"
          ]
        },
        {
          "metadata": {
            "tags": null
          },
          "name": "stdout",
          "output_type": "stream",
          "text": [
            "06-20 06:35:40 [40] Lr: 0.000305, Training: 19.30%,  Loss: 2.90334, ACC: 45.45% \r\n"
          ]
        },
        {
          "metadata": {
            "tags": null
          },
          "name": "stderr",
          "output_type": "stream",
          "text": [
            "\r12it [01:07,  5.55s/it]"
          ]
        },
        {
          "metadata": {
            "tags": null
          },
          "name": "stdout",
          "output_type": "stream",
          "text": [
            "06-20 06:35:45 [40] Lr: 0.000305, Training: 21.05%,  Loss: 2.91176, ACC: 45.44% \r\n"
          ]
        },
        {
          "metadata": {
            "tags": null
          },
          "name": "stderr",
          "output_type": "stream",
          "text": [
            "\r13it [01:12,  5.53s/it]"
          ]
        },
        {
          "metadata": {
            "tags": null
          },
          "name": "stdout",
          "output_type": "stream",
          "text": [
            "06-20 06:35:51 [40] Lr: 0.000305, Training: 22.81%,  Loss: 2.92179, ACC: 45.64% \r\n"
          ]
        },
        {
          "metadata": {
            "tags": null
          },
          "name": "stderr",
          "output_type": "stream",
          "text": [
            "\r14it [01:18,  5.51s/it]"
          ]
        },
        {
          "metadata": {
            "tags": null
          },
          "name": "stdout",
          "output_type": "stream",
          "text": [
            "06-20 06:35:56 [40] Lr: 0.000305, Training: 24.56%,  Loss: 2.92457, ACC: 45.14% \r\n"
          ]
        },
        {
          "metadata": {
            "tags": null
          },
          "name": "stderr",
          "output_type": "stream",
          "text": [
            "\r15it [01:23,  5.51s/it]"
          ]
        },
        {
          "metadata": {
            "tags": null
          },
          "name": "stdout",
          "output_type": "stream",
          "text": [
            "06-20 06:36:02 [40] Lr: 0.000305, Training: 26.32%,  Loss: 2.89877, ACC: 45.47% \r\n"
          ]
        },
        {
          "metadata": {
            "tags": null
          },
          "name": "stderr",
          "output_type": "stream",
          "text": [
            "\r16it [01:29,  5.51s/it]"
          ]
        },
        {
          "metadata": {
            "tags": null
          },
          "name": "stdout",
          "output_type": "stream",
          "text": [
            "06-20 06:36:07 [40] Lr: 0.000305, Training: 28.07%,  Loss: 2.90569, ACC: 45.33% \r\n"
          ]
        },
        {
          "metadata": {
            "tags": null
          },
          "name": "stderr",
          "output_type": "stream",
          "text": [
            "\r17it [01:34,  5.51s/it]"
          ]
        },
        {
          "metadata": {
            "tags": null
          },
          "name": "stdout",
          "output_type": "stream",
          "text": [
            "06-20 06:36:13 [40] Lr: 0.000305, Training: 29.82%,  Loss: 2.89258, ACC: 45.45% \r\n"
          ]
        },
        {
          "metadata": {
            "tags": null
          },
          "name": "stderr",
          "output_type": "stream",
          "text": [
            "\r18it [01:40,  5.53s/it]"
          ]
        },
        {
          "metadata": {
            "tags": null
          },
          "name": "stdout",
          "output_type": "stream",
          "text": [
            "06-20 06:36:18 [40] Lr: 0.000305, Training: 31.58%,  Loss: 2.88223, ACC: 45.37% \r\n"
          ]
        },
        {
          "metadata": {
            "tags": null
          },
          "name": "stderr",
          "output_type": "stream",
          "text": [
            "\r19it [01:45,  5.52s/it]"
          ]
        },
        {
          "metadata": {
            "tags": null
          },
          "name": "stdout",
          "output_type": "stream",
          "text": [
            "06-20 06:36:24 [40] Lr: 0.000305, Training: 33.33%,  Loss: 2.88286, ACC: 45.40% \r\n"
          ]
        },
        {
          "metadata": {
            "tags": null
          },
          "name": "stderr",
          "output_type": "stream",
          "text": [
            "\r20it [01:51,  5.53s/it]"
          ]
        },
        {
          "metadata": {
            "tags": null
          },
          "name": "stdout",
          "output_type": "stream",
          "text": [
            "06-20 06:36:29 [40] Lr: 0.000305, Training: 35.09%,  Loss: 2.89211, ACC: 45.47% \r\n"
          ]
        },
        {
          "metadata": {
            "tags": null
          },
          "name": "stderr",
          "output_type": "stream",
          "text": [
            "\r21it [01:56,  5.53s/it]"
          ]
        },
        {
          "metadata": {
            "tags": null
          },
          "name": "stdout",
          "output_type": "stream",
          "text": [
            "06-20 06:36:35 [40] Lr: 0.000305, Training: 36.84%,  Loss: 2.88477, ACC: 45.52% \r\n"
          ]
        },
        {
          "metadata": {
            "tags": null
          },
          "name": "stderr",
          "output_type": "stream",
          "text": [
            "\r22it [02:02,  5.53s/it]"
          ]
        },
        {
          "metadata": {
            "tags": null
          },
          "name": "stdout",
          "output_type": "stream",
          "text": [
            "06-20 06:36:40 [40] Lr: 0.000305, Training: 38.60%,  Loss: 2.88269, ACC: 45.45% \r\n"
          ]
        },
        {
          "metadata": {
            "tags": null
          },
          "name": "stderr",
          "output_type": "stream",
          "text": [
            "\r23it [02:08,  5.53s/it]"
          ]
        },
        {
          "metadata": {
            "tags": null
          },
          "name": "stdout",
          "output_type": "stream",
          "text": [
            "06-20 06:36:46 [40] Lr: 0.000305, Training: 40.35%,  Loss: 2.87642, ACC: 45.65% \r\n"
          ]
        },
        {
          "metadata": {
            "tags": null
          },
          "name": "stderr",
          "output_type": "stream",
          "text": [
            "\r24it [02:13,  5.54s/it]"
          ]
        },
        {
          "metadata": {
            "tags": null
          },
          "name": "stdout",
          "output_type": "stream",
          "text": [
            "06-20 06:36:51 [40] Lr: 0.000305, Training: 42.11%,  Loss: 2.86742, ACC: 45.83% \r\n"
          ]
        },
        {
          "metadata": {
            "tags": null
          },
          "name": "stderr",
          "output_type": "stream",
          "text": [
            "\r25it [02:19,  5.55s/it]"
          ]
        },
        {
          "metadata": {
            "tags": null
          },
          "name": "stdout",
          "output_type": "stream",
          "text": [
            "06-20 06:36:57 [40] Lr: 0.000305, Training: 43.86%,  Loss: 2.86881, ACC: 45.76% \r\n"
          ]
        },
        {
          "metadata": {
            "tags": null
          },
          "name": "stderr",
          "output_type": "stream",
          "text": [
            "\r26it [02:24,  5.55s/it]"
          ]
        },
        {
          "metadata": {
            "tags": null
          },
          "name": "stdout",
          "output_type": "stream",
          "text": [
            "06-20 06:37:02 [40] Lr: 0.000305, Training: 45.61%,  Loss: 2.86996, ACC: 45.85% \r\n"
          ]
        },
        {
          "metadata": {
            "tags": null
          },
          "name": "stderr",
          "output_type": "stream",
          "text": [
            "\r27it [02:30,  5.56s/it]"
          ]
        },
        {
          "metadata": {
            "tags": null
          },
          "name": "stdout",
          "output_type": "stream",
          "text": [
            "06-20 06:37:08 [40] Lr: 0.000305, Training: 47.37%,  Loss: 2.88451, ACC: 45.58% \r\n"
          ]
        },
        {
          "metadata": {
            "tags": null
          },
          "name": "stderr",
          "output_type": "stream",
          "text": [
            "\r28it [02:35,  5.56s/it]"
          ]
        },
        {
          "metadata": {
            "tags": null
          },
          "name": "stdout",
          "output_type": "stream",
          "text": [
            "06-20 06:37:14 [40] Lr: 0.000305, Training: 49.12%,  Loss: 2.87318, ACC: 45.93% \r\n"
          ]
        },
        {
          "metadata": {
            "tags": null
          },
          "name": "stderr",
          "output_type": "stream",
          "text": [
            "\r29it [02:41,  5.55s/it]"
          ]
        },
        {
          "metadata": {
            "tags": null
          },
          "name": "stdout",
          "output_type": "stream",
          "text": [
            "06-20 06:37:19 [40] Lr: 0.000305, Training: 50.88%,  Loss: 2.86941, ACC: 46.11% \r\n"
          ]
        },
        {
          "metadata": {
            "tags": null
          },
          "name": "stderr",
          "output_type": "stream",
          "text": [
            "\r30it [02:46,  5.55s/it]"
          ]
        },
        {
          "metadata": {
            "tags": null
          },
          "name": "stdout",
          "output_type": "stream",
          "text": [
            "06-20 06:37:25 [40] Lr: 0.000305, Training: 52.63%,  Loss: 2.87341, ACC: 46.27% \r\n"
          ]
        },
        {
          "metadata": {
            "tags": null
          },
          "name": "stderr",
          "output_type": "stream",
          "text": [
            "\r31it [02:52,  5.56s/it]"
          ]
        },
        {
          "metadata": {
            "tags": null
          },
          "name": "stdout",
          "output_type": "stream",
          "text": [
            "06-20 06:37:30 [40] Lr: 0.000305, Training: 54.39%,  Loss: 2.87900, ACC: 46.26% \r\n"
          ]
        },
        {
          "metadata": {
            "tags": null
          },
          "name": "stderr",
          "output_type": "stream",
          "text": [
            "\r32it [02:58,  5.55s/it]"
          ]
        },
        {
          "metadata": {
            "tags": null
          },
          "name": "stdout",
          "output_type": "stream",
          "text": [
            "06-20 06:37:36 [40] Lr: 0.000305, Training: 56.14%,  Loss: 2.88195, ACC: 46.25% \r\n"
          ]
        },
        {
          "metadata": {
            "tags": null
          },
          "name": "stderr",
          "output_type": "stream",
          "text": [
            "\r33it [03:03,  5.55s/it]"
          ]
        },
        {
          "metadata": {
            "tags": null
          },
          "name": "stdout",
          "output_type": "stream",
          "text": [
            "06-20 06:37:41 [40] Lr: 0.000305, Training: 57.89%,  Loss: 2.88310, ACC: 46.24% \r\n"
          ]
        },
        {
          "metadata": {
            "tags": null
          },
          "name": "stderr",
          "output_type": "stream",
          "text": [
            "\r34it [03:09,  5.55s/it]"
          ]
        },
        {
          "metadata": {
            "tags": null
          },
          "name": "stdout",
          "output_type": "stream",
          "text": [
            "06-20 06:37:47 [40] Lr: 0.000305, Training: 59.65%,  Loss: 2.87862, ACC: 46.29% \r\n"
          ]
        },
        {
          "metadata": {
            "tags": null
          },
          "name": "stderr",
          "output_type": "stream",
          "text": [
            "\r35it [03:14,  5.54s/it]"
          ]
        },
        {
          "metadata": {
            "tags": null
          },
          "name": "stdout",
          "output_type": "stream",
          "text": [
            "06-20 06:37:52 [40] Lr: 0.000305, Training: 61.40%,  Loss: 2.88469, ACC: 46.29% \r\n"
          ]
        },
        {
          "metadata": {
            "tags": null
          },
          "name": "stderr",
          "output_type": "stream",
          "text": [
            "\r36it [03:20,  5.54s/it]"
          ]
        },
        {
          "metadata": {
            "tags": null
          },
          "name": "stdout",
          "output_type": "stream",
          "text": [
            "06-20 06:37:58 [40] Lr: 0.000305, Training: 63.16%,  Loss: 2.88428, ACC: 46.30% \r\n"
          ]
        },
        {
          "metadata": {
            "tags": null
          },
          "name": "stderr",
          "output_type": "stream",
          "text": [
            "\r37it [03:25,  5.55s/it]"
          ]
        },
        {
          "metadata": {
            "tags": null
          },
          "name": "stdout",
          "output_type": "stream",
          "text": [
            "06-20 06:38:04 [40] Lr: 0.000305, Training: 64.91%,  Loss: 2.88140, ACC: 46.38% \r\n"
          ]
        },
        {
          "metadata": {
            "tags": null
          },
          "name": "stderr",
          "output_type": "stream",
          "text": [
            "\r38it [03:31,  5.54s/it]"
          ]
        },
        {
          "metadata": {
            "tags": null
          },
          "name": "stdout",
          "output_type": "stream",
          "text": [
            "06-20 06:38:09 [40] Lr: 0.000305, Training: 66.67%,  Loss: 2.88320, ACC: 46.42% \r\n"
          ]
        },
        {
          "metadata": {
            "tags": null
          },
          "name": "stderr",
          "output_type": "stream",
          "text": [
            "\r39it [03:36,  5.54s/it]"
          ]
        },
        {
          "metadata": {
            "tags": null
          },
          "name": "stdout",
          "output_type": "stream",
          "text": [
            "06-20 06:38:15 [40] Lr: 0.000305, Training: 68.42%,  Loss: 2.88195, ACC: 46.32% \r\n"
          ]
        },
        {
          "metadata": {
            "tags": null
          },
          "name": "stderr",
          "output_type": "stream",
          "text": [
            "\r40it [03:42,  5.54s/it]"
          ]
        },
        {
          "metadata": {
            "tags": null
          },
          "name": "stdout",
          "output_type": "stream",
          "text": [
            "06-20 06:38:20 [40] Lr: 0.000305, Training: 70.18%,  Loss: 2.88509, ACC: 46.32% \r\n"
          ]
        },
        {
          "metadata": {
            "tags": null
          },
          "name": "stderr",
          "output_type": "stream",
          "text": [
            "\r41it [03:47,  5.54s/it]"
          ]
        },
        {
          "metadata": {
            "tags": null
          },
          "name": "stdout",
          "output_type": "stream",
          "text": [
            "06-20 06:38:26 [40] Lr: 0.000305, Training: 71.93%,  Loss: 2.88349, ACC: 46.36% \r\n"
          ]
        },
        {
          "metadata": {
            "tags": null
          },
          "name": "stderr",
          "output_type": "stream",
          "text": [
            "\r42it [03:53,  5.54s/it]"
          ]
        },
        {
          "metadata": {
            "tags": null
          },
          "name": "stdout",
          "output_type": "stream",
          "text": [
            "06-20 06:38:31 [40] Lr: 0.000305, Training: 73.68%,  Loss: 2.88519, ACC: 46.29% \r\n"
          ]
        },
        {
          "metadata": {
            "tags": null
          },
          "name": "stderr",
          "output_type": "stream",
          "text": [
            "\r43it [03:59,  5.54s/it]"
          ]
        },
        {
          "metadata": {
            "tags": null
          },
          "name": "stdout",
          "output_type": "stream",
          "text": [
            "06-20 06:38:37 [40] Lr: 0.000305, Training: 75.44%,  Loss: 2.88275, ACC: 46.23% \r\n"
          ]
        },
        {
          "metadata": {
            "tags": null
          },
          "name": "stderr",
          "output_type": "stream",
          "text": [
            "\r44it [04:04,  5.54s/it]"
          ]
        },
        {
          "metadata": {
            "tags": null
          },
          "name": "stdout",
          "output_type": "stream",
          "text": [
            "06-20 06:38:42 [40] Lr: 0.000305, Training: 77.19%,  Loss: 2.88059, ACC: 46.33% \r\n"
          ]
        },
        {
          "metadata": {
            "tags": null
          },
          "name": "stderr",
          "output_type": "stream",
          "text": [
            "\r45it [04:10,  5.54s/it]"
          ]
        },
        {
          "metadata": {
            "tags": null
          },
          "name": "stdout",
          "output_type": "stream",
          "text": [
            "06-20 06:38:48 [40] Lr: 0.000305, Training: 78.95%,  Loss: 2.88766, ACC: 46.31% \r\n"
          ]
        },
        {
          "metadata": {
            "tags": null
          },
          "name": "stderr",
          "output_type": "stream",
          "text": [
            "\r46it [04:15,  5.54s/it]"
          ]
        },
        {
          "metadata": {
            "tags": null
          },
          "name": "stdout",
          "output_type": "stream",
          "text": [
            "06-20 06:38:53 [40] Lr: 0.000305, Training: 80.70%,  Loss: 2.88898, ACC: 46.26% \r\n"
          ]
        },
        {
          "metadata": {
            "tags": null
          },
          "name": "stderr",
          "output_type": "stream",
          "text": [
            "\r47it [04:21,  5.54s/it]"
          ]
        },
        {
          "metadata": {
            "tags": null
          },
          "name": "stdout",
          "output_type": "stream",
          "text": [
            "06-20 06:38:59 [40] Lr: 0.000305, Training: 82.46%,  Loss: 2.88469, ACC: 46.27% \r\n"
          ]
        },
        {
          "metadata": {
            "tags": null
          },
          "name": "stderr",
          "output_type": "stream",
          "text": [
            "\r48it [04:26,  5.54s/it]"
          ]
        },
        {
          "metadata": {
            "tags": null
          },
          "name": "stdout",
          "output_type": "stream",
          "text": [
            "06-20 06:39:04 [40] Lr: 0.000305, Training: 84.21%,  Loss: 2.87886, ACC: 46.29% \r\n"
          ]
        },
        {
          "metadata": {
            "tags": null
          },
          "name": "stderr",
          "output_type": "stream",
          "text": [
            "\r49it [04:32,  5.54s/it]"
          ]
        },
        {
          "metadata": {
            "tags": null
          },
          "name": "stdout",
          "output_type": "stream",
          "text": [
            "06-20 06:39:10 [40] Lr: 0.000305, Training: 85.96%,  Loss: 2.88836, ACC: 46.16% \r\n"
          ]
        },
        {
          "metadata": {
            "tags": null
          },
          "name": "stderr",
          "output_type": "stream",
          "text": [
            "\r50it [04:37,  5.54s/it]"
          ]
        },
        {
          "metadata": {
            "tags": null
          },
          "name": "stdout",
          "output_type": "stream",
          "text": [
            "06-20 06:39:16 [40] Lr: 0.000305, Training: 87.72%,  Loss: 2.88333, ACC: 46.15% \r\n"
          ]
        },
        {
          "metadata": {
            "tags": null
          },
          "name": "stderr",
          "output_type": "stream",
          "text": [
            "\r51it [04:43,  5.54s/it]"
          ]
        },
        {
          "metadata": {
            "tags": null
          },
          "name": "stdout",
          "output_type": "stream",
          "text": [
            "06-20 06:39:21 [40] Lr: 0.000305, Training: 89.47%,  Loss: 2.88488, ACC: 46.18% \r\n"
          ]
        },
        {
          "metadata": {
            "tags": null
          },
          "name": "stderr",
          "output_type": "stream",
          "text": [
            "\r52it [04:48,  5.54s/it]"
          ]
        },
        {
          "metadata": {
            "tags": null
          },
          "name": "stdout",
          "output_type": "stream",
          "text": [
            "06-20 06:39:27 [40] Lr: 0.000305, Training: 91.23%,  Loss: 2.87664, ACC: 46.32% \r\n"
          ]
        },
        {
          "metadata": {
            "tags": null
          },
          "name": "stderr",
          "output_type": "stream",
          "text": [
            "\r53it [04:54,  5.54s/it]"
          ]
        },
        {
          "metadata": {
            "tags": null
          },
          "name": "stdout",
          "output_type": "stream",
          "text": [
            "06-20 06:39:32 [40] Lr: 0.000305, Training: 92.98%,  Loss: 2.88409, ACC: 46.30% \r\n"
          ]
        },
        {
          "metadata": {
            "tags": null
          },
          "name": "stderr",
          "output_type": "stream",
          "text": [
            "\r54it [04:59,  5.54s/it]"
          ]
        },
        {
          "metadata": {
            "tags": null
          },
          "name": "stdout",
          "output_type": "stream",
          "text": [
            "06-20 06:39:38 [40] Lr: 0.000305, Training: 94.74%,  Loss: 2.88254, ACC: 46.32% \r\n"
          ]
        },
        {
          "metadata": {
            "tags": null
          },
          "name": "stderr",
          "output_type": "stream",
          "text": [
            "\r55it [05:05,  5.54s/it]"
          ]
        },
        {
          "metadata": {
            "tags": null
          },
          "name": "stdout",
          "output_type": "stream",
          "text": [
            "06-20 06:39:43 [40] Lr: 0.000305, Training: 96.49%,  Loss: 2.87397, ACC: 46.42% \r\n"
          ]
        },
        {
          "metadata": {
            "tags": null
          },
          "name": "stderr",
          "output_type": "stream",
          "text": [
            "\r56it [05:11,  5.53s/it]"
          ]
        },
        {
          "metadata": {
            "tags": null
          },
          "name": "stdout",
          "output_type": "stream",
          "text": [
            "06-20 06:39:49 [40] Lr: 0.000305, Training: 98.25%,  Loss: 2.87049, ACC: 46.48% \r\n"
          ]
        },
        {
          "metadata": {
            "tags": null
          },
          "name": "stderr",
          "output_type": "stream",
          "text": [
            "\r57it [05:14,  5.02s/it]"
          ]
        },
        {
          "metadata": {
            "tags": null
          },
          "name": "stdout",
          "output_type": "stream",
          "text": [
            "06-20 06:39:53 [40] Lr: 0.000305, Training: 100.00%,  Loss: 2.87319, ACC: 33.89% \r\n"
          ]
        },
        {
          "metadata": {
            "tags": null
          },
          "name": "stderr",
          "output_type": "stream",
          "text": [
            "\r57it [05:15,  5.53s/it]\n"
          ]
        },
        {
          "metadata": {
            "tags": null
          },
          "name": "stdout",
          "output_type": "stream",
          "text": [
            "\n",
            "\n"
          ]
        },
        {
          "metadata": {
            "tags": null
          },
          "name": "stderr",
          "output_type": "stream",
          "text": [
            "  0%|          | 0/973 [00:00<?, ?it/s]<ipython-input-15-b61162519fae>:62: DeprecationWarning: `np.float` is a deprecated alias for the builtin `float`. To silence this warning, use `float` by itself. Doing this will not modify any behavior and is safe. If you specifically wanted the numpy scalar type, use `np.float64` here.\n",
            "Deprecated in NumPy 1.20; for more details and guidance: https://numpy.org/devdocs/release/1.20.0-notes.html#deprecations\n",
            "  feats = numpy.stack(feats, axis = 0).astype(numpy.float)\n",
            "100%|██████████| 973/973 [04:59<00:00,  3.25it/s]\n"
          ]
        },
        {
          "metadata": {
            "tags": null
          },
          "name": "stdout",
          "output_type": "stream",
          "text": [
            "2023-06-20 06:45:03 40 epoch, ACC 33.89%, EER 6.31%, bestEER 6.26%\n",
            "Epoch: 41\n"
          ]
        },
        {
          "metadata": {
            "tags": null
          },
          "name": "stderr",
          "output_type": "stream",
          "text": [
            "/usr/local/lib/python3.10/dist-packages/torch/optim/lr_scheduler.py:152: UserWarning: The epoch parameter in `scheduler.step()` was not necessary and is being deprecated where possible. Please use `scheduler.step()` to step the scheduler. During the deprecation, if epoch is different from None, the closed form is used instead of the new chainable form, where available. Please open an issue if you are unable to replicate your use case: https://github.com/pytorch/pytorch/issues/new/choose.\n",
            "  warnings.warn(EPOCH_DEPRECATION_WARNING, UserWarning)\n",
            "0it [00:00, ?it/s]/usr/local/lib/python3.10/dist-packages/torch/nn/functional.py:4999: UserWarning: Support for mismatched key_padding_mask and attn_mask is deprecated. Use same type for both instead.\n",
            "  warnings.warn(\n",
            "1it [00:06,  6.55s/it]"
          ]
        },
        {
          "metadata": {
            "tags": null
          },
          "name": "stdout",
          "output_type": "stream",
          "text": [
            "06-20 06:45:10 [41] Lr: 0.000296, Training: 1.75%,  Loss: 2.77798, ACC: 48.00% \r\n"
          ]
        },
        {
          "metadata": {
            "tags": null
          },
          "name": "stderr",
          "output_type": "stream",
          "text": [
            "\r2it [00:12,  5.93s/it]"
          ]
        },
        {
          "metadata": {
            "tags": null
          },
          "name": "stdout",
          "output_type": "stream",
          "text": [
            "06-20 06:45:15 [41] Lr: 0.000296, Training: 3.51%,  Loss: 2.73526, ACC: 49.67% \r\n"
          ]
        },
        {
          "metadata": {
            "tags": null
          },
          "name": "stderr",
          "output_type": "stream",
          "text": [
            "\r3it [00:17,  5.76s/it]"
          ]
        },
        {
          "metadata": {
            "tags": null
          },
          "name": "stdout",
          "output_type": "stream",
          "text": [
            "06-20 06:45:21 [41] Lr: 0.000296, Training: 5.26%,  Loss: 2.62698, ACC: 50.44% \r\n"
          ]
        },
        {
          "metadata": {
            "tags": null
          },
          "name": "stderr",
          "output_type": "stream",
          "text": [
            "\r4it [00:23,  5.68s/it]"
          ]
        },
        {
          "metadata": {
            "tags": null
          },
          "name": "stdout",
          "output_type": "stream",
          "text": [
            "06-20 06:45:26 [41] Lr: 0.000296, Training: 7.02%,  Loss: 2.61393, ACC: 50.17% \r\n"
          ]
        },
        {
          "metadata": {
            "tags": null
          },
          "name": "stderr",
          "output_type": "stream",
          "text": [
            "\r5it [00:28,  5.65s/it]"
          ]
        },
        {
          "metadata": {
            "tags": null
          },
          "name": "stdout",
          "output_type": "stream",
          "text": [
            "06-20 06:45:32 [41] Lr: 0.000296, Training: 8.77%,  Loss: 2.69006, ACC: 49.60% \r\n"
          ]
        },
        {
          "metadata": {
            "tags": null
          },
          "name": "stderr",
          "output_type": "stream",
          "text": [
            "\r6it [00:34,  5.62s/it]"
          ]
        },
        {
          "metadata": {
            "tags": null
          },
          "name": "stdout",
          "output_type": "stream",
          "text": [
            "06-20 06:45:37 [41] Lr: 0.000296, Training: 10.53%,  Loss: 2.68783, ACC: 49.44% \r\n"
          ]
        },
        {
          "metadata": {
            "tags": null
          },
          "name": "stderr",
          "output_type": "stream",
          "text": [
            "\r7it [00:39,  5.62s/it]"
          ]
        },
        {
          "metadata": {
            "tags": null
          },
          "name": "stdout",
          "output_type": "stream",
          "text": [
            "06-20 06:45:43 [41] Lr: 0.000296, Training: 12.28%,  Loss: 2.79165, ACC: 47.90% \r\n"
          ]
        },
        {
          "metadata": {
            "tags": null
          },
          "name": "stderr",
          "output_type": "stream",
          "text": [
            "\r8it [00:45,  5.59s/it]"
          ]
        },
        {
          "metadata": {
            "tags": null
          },
          "name": "stdout",
          "output_type": "stream",
          "text": [
            "06-20 06:45:49 [41] Lr: 0.000296, Training: 14.04%,  Loss: 2.78637, ACC: 47.50% \r\n"
          ]
        },
        {
          "metadata": {
            "tags": null
          },
          "name": "stderr",
          "output_type": "stream",
          "text": [
            "\r9it [00:51,  5.58s/it]"
          ]
        },
        {
          "metadata": {
            "tags": null
          },
          "name": "stdout",
          "output_type": "stream",
          "text": [
            "06-20 06:45:54 [41] Lr: 0.000296, Training: 15.79%,  Loss: 2.78756, ACC: 47.19% \r\n"
          ]
        },
        {
          "metadata": {
            "tags": null
          },
          "name": "stderr",
          "output_type": "stream",
          "text": [
            "\r10it [00:56,  5.56s/it]"
          ]
        },
        {
          "metadata": {
            "tags": null
          },
          "name": "stdout",
          "output_type": "stream",
          "text": [
            "06-20 06:46:00 [41] Lr: 0.000296, Training: 17.54%,  Loss: 2.78983, ACC: 47.20% \r\n"
          ]
        },
        {
          "metadata": {
            "tags": null
          },
          "name": "stderr",
          "output_type": "stream",
          "text": [
            "\r11it [01:02,  5.55s/it]"
          ]
        },
        {
          "metadata": {
            "tags": null
          },
          "name": "stdout",
          "output_type": "stream",
          "text": [
            "06-20 06:46:05 [41] Lr: 0.000296, Training: 19.30%,  Loss: 2.79598, ACC: 47.45% \r\n"
          ]
        },
        {
          "metadata": {
            "tags": null
          },
          "name": "stderr",
          "output_type": "stream",
          "text": [
            "\r12it [01:07,  5.53s/it]"
          ]
        },
        {
          "metadata": {
            "tags": null
          },
          "name": "stdout",
          "output_type": "stream",
          "text": [
            "06-20 06:46:11 [41] Lr: 0.000296, Training: 21.05%,  Loss: 2.77940, ACC: 47.89% \r\n"
          ]
        },
        {
          "metadata": {
            "tags": null
          },
          "name": "stderr",
          "output_type": "stream",
          "text": [
            "\r13it [01:13,  5.53s/it]"
          ]
        },
        {
          "metadata": {
            "tags": null
          },
          "name": "stdout",
          "output_type": "stream",
          "text": [
            "06-20 06:46:16 [41] Lr: 0.000296, Training: 22.81%,  Loss: 2.78600, ACC: 47.44% \r\n"
          ]
        },
        {
          "metadata": {
            "tags": null
          },
          "name": "stderr",
          "output_type": "stream",
          "text": [
            "\r14it [01:18,  5.53s/it]"
          ]
        },
        {
          "metadata": {
            "tags": null
          },
          "name": "stdout",
          "output_type": "stream",
          "text": [
            "06-20 06:46:22 [41] Lr: 0.000296, Training: 24.56%,  Loss: 2.80239, ACC: 46.90% \r\n"
          ]
        },
        {
          "metadata": {
            "tags": null
          },
          "name": "stderr",
          "output_type": "stream",
          "text": [
            "\r15it [01:24,  5.52s/it]"
          ]
        },
        {
          "metadata": {
            "tags": null
          },
          "name": "stdout",
          "output_type": "stream",
          "text": [
            "06-20 06:46:27 [41] Lr: 0.000296, Training: 26.32%,  Loss: 2.80969, ACC: 46.89% \r\n"
          ]
        },
        {
          "metadata": {
            "tags": null
          },
          "name": "stderr",
          "output_type": "stream",
          "text": [
            "\r16it [01:29,  5.51s/it]"
          ]
        },
        {
          "metadata": {
            "tags": null
          },
          "name": "stdout",
          "output_type": "stream",
          "text": [
            "06-20 06:46:33 [41] Lr: 0.000296, Training: 28.07%,  Loss: 2.78957, ACC: 47.63% \r\n"
          ]
        },
        {
          "metadata": {
            "tags": null
          },
          "name": "stderr",
          "output_type": "stream",
          "text": [
            "\r17it [01:35,  5.52s/it]"
          ]
        },
        {
          "metadata": {
            "tags": null
          },
          "name": "stdout",
          "output_type": "stream",
          "text": [
            "06-20 06:46:38 [41] Lr: 0.000296, Training: 29.82%,  Loss: 2.78607, ACC: 47.57% \r\n"
          ]
        },
        {
          "metadata": {
            "tags": null
          },
          "name": "stderr",
          "output_type": "stream",
          "text": [
            "\r18it [01:40,  5.51s/it]"
          ]
        },
        {
          "metadata": {
            "tags": null
          },
          "name": "stdout",
          "output_type": "stream",
          "text": [
            "06-20 06:46:44 [41] Lr: 0.000296, Training: 31.58%,  Loss: 2.80711, ACC: 47.67% \r\n"
          ]
        },
        {
          "metadata": {
            "tags": null
          },
          "name": "stderr",
          "output_type": "stream",
          "text": [
            "\r19it [01:46,  5.51s/it]"
          ]
        },
        {
          "metadata": {
            "tags": null
          },
          "name": "stdout",
          "output_type": "stream",
          "text": [
            "06-20 06:46:49 [41] Lr: 0.000296, Training: 33.33%,  Loss: 2.80224, ACC: 47.65% \r\n"
          ]
        },
        {
          "metadata": {
            "tags": null
          },
          "name": "stderr",
          "output_type": "stream",
          "text": [
            "\r20it [01:51,  5.52s/it]"
          ]
        },
        {
          "metadata": {
            "tags": null
          },
          "name": "stdout",
          "output_type": "stream",
          "text": [
            "06-20 06:46:55 [41] Lr: 0.000296, Training: 35.09%,  Loss: 2.80927, ACC: 47.57% \r\n"
          ]
        },
        {
          "metadata": {
            "tags": null
          },
          "name": "stderr",
          "output_type": "stream",
          "text": [
            "\r21it [01:57,  5.52s/it]"
          ]
        },
        {
          "metadata": {
            "tags": null
          },
          "name": "stdout",
          "output_type": "stream",
          "text": [
            "06-20 06:47:00 [41] Lr: 0.000296, Training: 36.84%,  Loss: 2.80880, ACC: 47.43% \r\n"
          ]
        },
        {
          "metadata": {
            "tags": null
          },
          "name": "stderr",
          "output_type": "stream",
          "text": [
            "\r22it [02:02,  5.52s/it]"
          ]
        },
        {
          "metadata": {
            "tags": null
          },
          "name": "stdout",
          "output_type": "stream",
          "text": [
            "06-20 06:47:06 [41] Lr: 0.000296, Training: 38.60%,  Loss: 2.79945, ACC: 47.55% \r\n"
          ]
        },
        {
          "metadata": {
            "tags": null
          },
          "name": "stderr",
          "output_type": "stream",
          "text": [
            "\r23it [02:08,  5.54s/it]"
          ]
        },
        {
          "metadata": {
            "tags": null
          },
          "name": "stdout",
          "output_type": "stream",
          "text": [
            "06-20 06:47:11 [41] Lr: 0.000296, Training: 40.35%,  Loss: 2.81489, ACC: 47.25% \r\n"
          ]
        },
        {
          "metadata": {
            "tags": null
          },
          "name": "stderr",
          "output_type": "stream",
          "text": [
            "\r24it [02:13,  5.54s/it]"
          ]
        },
        {
          "metadata": {
            "tags": null
          },
          "name": "stdout",
          "output_type": "stream",
          "text": [
            "06-20 06:47:17 [41] Lr: 0.000296, Training: 42.11%,  Loss: 2.83590, ACC: 47.08% \r\n"
          ]
        },
        {
          "metadata": {
            "tags": null
          },
          "name": "stderr",
          "output_type": "stream",
          "text": [
            "\r25it [02:19,  5.53s/it]"
          ]
        },
        {
          "metadata": {
            "tags": null
          },
          "name": "stdout",
          "output_type": "stream",
          "text": [
            "06-20 06:47:22 [41] Lr: 0.000296, Training: 43.86%,  Loss: 2.82048, ACC: 47.28% \r\n"
          ]
        },
        {
          "metadata": {
            "tags": null
          },
          "name": "stderr",
          "output_type": "stream",
          "text": [
            "\r26it [02:24,  5.53s/it]"
          ]
        },
        {
          "metadata": {
            "tags": null
          },
          "name": "stdout",
          "output_type": "stream",
          "text": [
            "06-20 06:47:28 [41] Lr: 0.000296, Training: 45.61%,  Loss: 2.82524, ACC: 47.31% \r\n"
          ]
        },
        {
          "metadata": {
            "tags": null
          },
          "name": "stderr",
          "output_type": "stream",
          "text": [
            "\r27it [02:30,  5.54s/it]"
          ]
        },
        {
          "metadata": {
            "tags": null
          },
          "name": "stdout",
          "output_type": "stream",
          "text": [
            "06-20 06:47:33 [41] Lr: 0.000296, Training: 47.37%,  Loss: 2.81274, ACC: 47.41% \r\n"
          ]
        },
        {
          "metadata": {
            "tags": null
          },
          "name": "stderr",
          "output_type": "stream",
          "text": [
            "\r28it [02:35,  5.53s/it]"
          ]
        },
        {
          "metadata": {
            "tags": null
          },
          "name": "stdout",
          "output_type": "stream",
          "text": [
            "06-20 06:47:39 [41] Lr: 0.000296, Training: 49.12%,  Loss: 2.81321, ACC: 47.43% \r\n"
          ]
        },
        {
          "metadata": {
            "tags": null
          },
          "name": "stderr",
          "output_type": "stream",
          "text": [
            "\r29it [02:41,  5.54s/it]"
          ]
        },
        {
          "metadata": {
            "tags": null
          },
          "name": "stdout",
          "output_type": "stream",
          "text": [
            "06-20 06:47:45 [41] Lr: 0.000296, Training: 50.88%,  Loss: 2.81873, ACC: 47.31% \r\n"
          ]
        },
        {
          "metadata": {
            "tags": null
          },
          "name": "stderr",
          "output_type": "stream",
          "text": [
            "\r30it [02:47,  5.54s/it]"
          ]
        },
        {
          "metadata": {
            "tags": null
          },
          "name": "stdout",
          "output_type": "stream",
          "text": [
            "06-20 06:47:50 [41] Lr: 0.000296, Training: 52.63%,  Loss: 2.81544, ACC: 47.36% \r\n"
          ]
        },
        {
          "metadata": {
            "tags": null
          },
          "name": "stderr",
          "output_type": "stream",
          "text": [
            "\r31it [02:52,  5.53s/it]"
          ]
        },
        {
          "metadata": {
            "tags": null
          },
          "name": "stdout",
          "output_type": "stream",
          "text": [
            "06-20 06:47:56 [41] Lr: 0.000296, Training: 54.39%,  Loss: 2.80716, ACC: 47.46% \r\n"
          ]
        },
        {
          "metadata": {
            "tags": null
          },
          "name": "stderr",
          "output_type": "stream",
          "text": [
            "\r32it [02:58,  5.53s/it]"
          ]
        },
        {
          "metadata": {
            "tags": null
          },
          "name": "stdout",
          "output_type": "stream",
          "text": [
            "06-20 06:48:01 [41] Lr: 0.000296, Training: 56.14%,  Loss: 2.79573, ACC: 47.58% \r\n"
          ]
        },
        {
          "metadata": {
            "tags": null
          },
          "name": "stderr",
          "output_type": "stream",
          "text": [
            "\r33it [03:03,  5.53s/it]"
          ]
        },
        {
          "metadata": {
            "tags": null
          },
          "name": "stdout",
          "output_type": "stream",
          "text": [
            "06-20 06:48:07 [41] Lr: 0.000296, Training: 57.89%,  Loss: 2.78414, ACC: 47.70% \r\n"
          ]
        },
        {
          "metadata": {
            "tags": null
          },
          "name": "stderr",
          "output_type": "stream",
          "text": [
            "\r34it [03:09,  5.53s/it]"
          ]
        },
        {
          "metadata": {
            "tags": null
          },
          "name": "stdout",
          "output_type": "stream",
          "text": [
            "06-20 06:48:12 [41] Lr: 0.000296, Training: 59.65%,  Loss: 2.78443, ACC: 47.76% \r\n"
          ]
        },
        {
          "metadata": {
            "tags": null
          },
          "name": "stderr",
          "output_type": "stream",
          "text": [
            "\r35it [03:14,  5.54s/it]"
          ]
        },
        {
          "metadata": {
            "tags": null
          },
          "name": "stdout",
          "output_type": "stream",
          "text": [
            "06-20 06:48:18 [41] Lr: 0.000296, Training: 61.40%,  Loss: 2.79237, ACC: 47.64% \r\n"
          ]
        },
        {
          "metadata": {
            "tags": null
          },
          "name": "stderr",
          "output_type": "stream",
          "text": [
            "\r36it [03:20,  5.54s/it]"
          ]
        },
        {
          "metadata": {
            "tags": null
          },
          "name": "stdout",
          "output_type": "stream",
          "text": [
            "06-20 06:48:23 [41] Lr: 0.000296, Training: 63.16%,  Loss: 2.79081, ACC: 47.59% \r\n"
          ]
        },
        {
          "metadata": {
            "tags": null
          },
          "name": "stderr",
          "output_type": "stream",
          "text": [
            "\r37it [03:25,  5.54s/it]"
          ]
        },
        {
          "metadata": {
            "tags": null
          },
          "name": "stdout",
          "output_type": "stream",
          "text": [
            "06-20 06:48:29 [41] Lr: 0.000296, Training: 64.91%,  Loss: 2.79523, ACC: 47.51% \r\n"
          ]
        },
        {
          "metadata": {
            "tags": null
          },
          "name": "stderr",
          "output_type": "stream",
          "text": [
            "\r38it [03:31,  5.54s/it]"
          ]
        },
        {
          "metadata": {
            "tags": null
          },
          "name": "stdout",
          "output_type": "stream",
          "text": [
            "06-20 06:48:34 [41] Lr: 0.000296, Training: 66.67%,  Loss: 2.80538, ACC: 47.37% \r\n"
          ]
        },
        {
          "metadata": {
            "tags": null
          },
          "name": "stderr",
          "output_type": "stream",
          "text": [
            "\r39it [03:36,  5.54s/it]"
          ]
        },
        {
          "metadata": {
            "tags": null
          },
          "name": "stdout",
          "output_type": "stream",
          "text": [
            "06-20 06:48:40 [41] Lr: 0.000296, Training: 68.42%,  Loss: 2.80823, ACC: 47.38% \r\n"
          ]
        },
        {
          "metadata": {
            "tags": null
          },
          "name": "stderr",
          "output_type": "stream",
          "text": [
            "\r40it [03:42,  5.54s/it]"
          ]
        },
        {
          "metadata": {
            "tags": null
          },
          "name": "stdout",
          "output_type": "stream",
          "text": [
            "06-20 06:48:46 [41] Lr: 0.000296, Training: 70.18%,  Loss: 2.81053, ACC: 47.28% \r\n"
          ]
        },
        {
          "metadata": {
            "tags": null
          },
          "name": "stderr",
          "output_type": "stream",
          "text": [
            "\r41it [03:48,  5.55s/it]"
          ]
        },
        {
          "metadata": {
            "tags": null
          },
          "name": "stdout",
          "output_type": "stream",
          "text": [
            "06-20 06:48:51 [41] Lr: 0.000296, Training: 71.93%,  Loss: 2.81478, ACC: 47.24% \r\n"
          ]
        },
        {
          "metadata": {
            "tags": null
          },
          "name": "stderr",
          "output_type": "stream",
          "text": [
            "\r42it [03:53,  5.54s/it]"
          ]
        },
        {
          "metadata": {
            "tags": null
          },
          "name": "stdout",
          "output_type": "stream",
          "text": [
            "06-20 06:48:57 [41] Lr: 0.000296, Training: 73.68%,  Loss: 2.80957, ACC: 47.22% \r\n"
          ]
        },
        {
          "metadata": {
            "tags": null
          },
          "name": "stderr",
          "output_type": "stream",
          "text": [
            "\r43it [03:59,  5.54s/it]"
          ]
        },
        {
          "metadata": {
            "tags": null
          },
          "name": "stdout",
          "output_type": "stream",
          "text": [
            "06-20 06:49:02 [41] Lr: 0.000296, Training: 75.44%,  Loss: 2.81631, ACC: 47.15% \r\n"
          ]
        },
        {
          "metadata": {
            "tags": null
          },
          "name": "stderr",
          "output_type": "stream",
          "text": [
            "\r44it [04:04,  5.55s/it]"
          ]
        },
        {
          "metadata": {
            "tags": null
          },
          "name": "stdout",
          "output_type": "stream",
          "text": [
            "06-20 06:49:08 [41] Lr: 0.000296, Training: 77.19%,  Loss: 2.81427, ACC: 47.20% \r\n"
          ]
        },
        {
          "metadata": {
            "tags": null
          },
          "name": "stderr",
          "output_type": "stream",
          "text": [
            "\r45it [04:10,  5.55s/it]"
          ]
        },
        {
          "metadata": {
            "tags": null
          },
          "name": "stdout",
          "output_type": "stream",
          "text": [
            "06-20 06:49:13 [41] Lr: 0.000296, Training: 78.95%,  Loss: 2.82858, ACC: 47.08% \r\n"
          ]
        },
        {
          "metadata": {
            "tags": null
          },
          "name": "stderr",
          "output_type": "stream",
          "text": [
            "\r46it [04:15,  5.54s/it]"
          ]
        },
        {
          "metadata": {
            "tags": null
          },
          "name": "stdout",
          "output_type": "stream",
          "text": [
            "06-20 06:49:19 [41] Lr: 0.000296, Training: 80.70%,  Loss: 2.82701, ACC: 47.09% \r\n"
          ]
        },
        {
          "metadata": {
            "tags": null
          },
          "name": "stderr",
          "output_type": "stream",
          "text": [
            "\r47it [04:21,  5.55s/it]"
          ]
        },
        {
          "metadata": {
            "tags": null
          },
          "name": "stdout",
          "output_type": "stream",
          "text": [
            "06-20 06:49:24 [41] Lr: 0.000296, Training: 82.46%,  Loss: 2.82585, ACC: 47.12% \r\n"
          ]
        },
        {
          "metadata": {
            "tags": null
          },
          "name": "stderr",
          "output_type": "stream",
          "text": [
            "\r48it [04:26,  5.55s/it]"
          ]
        },
        {
          "metadata": {
            "tags": null
          },
          "name": "stdout",
          "output_type": "stream",
          "text": [
            "06-20 06:49:30 [41] Lr: 0.000296, Training: 84.21%,  Loss: 2.82249, ACC: 47.15% \r\n"
          ]
        },
        {
          "metadata": {
            "tags": null
          },
          "name": "stderr",
          "output_type": "stream",
          "text": [
            "\r49it [04:32,  5.55s/it]"
          ]
        },
        {
          "metadata": {
            "tags": null
          },
          "name": "stdout",
          "output_type": "stream",
          "text": [
            "06-20 06:49:35 [41] Lr: 0.000296, Training: 85.96%,  Loss: 2.82060, ACC: 47.22% \r\n"
          ]
        },
        {
          "metadata": {
            "tags": null
          },
          "name": "stderr",
          "output_type": "stream",
          "text": [
            "\r50it [04:37,  5.56s/it]"
          ]
        },
        {
          "metadata": {
            "tags": null
          },
          "name": "stdout",
          "output_type": "stream",
          "text": [
            "06-20 06:49:41 [41] Lr: 0.000296, Training: 87.72%,  Loss: 2.83217, ACC: 47.13% \r\n"
          ]
        },
        {
          "metadata": {
            "tags": null
          },
          "name": "stderr",
          "output_type": "stream",
          "text": [
            "\r51it [04:43,  5.55s/it]"
          ]
        },
        {
          "metadata": {
            "tags": null
          },
          "name": "stdout",
          "output_type": "stream",
          "text": [
            "06-20 06:49:47 [41] Lr: 0.000296, Training: 89.47%,  Loss: 2.83554, ACC: 46.98% \r\n"
          ]
        },
        {
          "metadata": {
            "tags": null
          },
          "name": "stderr",
          "output_type": "stream",
          "text": [
            "\r52it [04:49,  5.54s/it]"
          ]
        },
        {
          "metadata": {
            "tags": null
          },
          "name": "stdout",
          "output_type": "stream",
          "text": [
            "06-20 06:49:52 [41] Lr: 0.000296, Training: 91.23%,  Loss: 2.82768, ACC: 47.12% \r\n"
          ]
        },
        {
          "metadata": {
            "tags": null
          },
          "name": "stderr",
          "output_type": "stream",
          "text": [
            "\r53it [04:54,  5.54s/it]"
          ]
        },
        {
          "metadata": {
            "tags": null
          },
          "name": "stdout",
          "output_type": "stream",
          "text": [
            "06-20 06:49:58 [41] Lr: 0.000296, Training: 92.98%,  Loss: 2.83217, ACC: 46.99% \r\n"
          ]
        },
        {
          "metadata": {
            "tags": null
          },
          "name": "stderr",
          "output_type": "stream",
          "text": [
            "\r54it [05:00,  5.53s/it]"
          ]
        },
        {
          "metadata": {
            "tags": null
          },
          "name": "stdout",
          "output_type": "stream",
          "text": [
            "06-20 06:50:03 [41] Lr: 0.000296, Training: 94.74%,  Loss: 2.82983, ACC: 46.96% \r\n"
          ]
        },
        {
          "metadata": {
            "tags": null
          },
          "name": "stderr",
          "output_type": "stream",
          "text": [
            "\r55it [05:05,  5.53s/it]"
          ]
        },
        {
          "metadata": {
            "tags": null
          },
          "name": "stdout",
          "output_type": "stream",
          "text": [
            "06-20 06:50:09 [41] Lr: 0.000296, Training: 96.49%,  Loss: 2.83616, ACC: 46.93% \r\n"
          ]
        },
        {
          "metadata": {
            "tags": null
          },
          "name": "stderr",
          "output_type": "stream",
          "text": [
            "\r56it [05:11,  5.53s/it]"
          ]
        },
        {
          "metadata": {
            "tags": null
          },
          "name": "stdout",
          "output_type": "stream",
          "text": [
            "06-20 06:50:14 [41] Lr: 0.000296, Training: 98.25%,  Loss: 2.82953, ACC: 47.05% \r\n"
          ]
        },
        {
          "metadata": {
            "tags": null
          },
          "name": "stderr",
          "output_type": "stream",
          "text": [
            "57it [05:15,  5.53s/it]"
          ]
        },
        {
          "metadata": {
            "tags": null
          },
          "name": "stdout",
          "output_type": "stream",
          "text": [
            "06-20 06:50:18 [41] Lr: 0.000296, Training: 100.00%,  Loss: 2.83291, ACC: 34.29% \r\n",
            "\n",
            "\n"
          ]
        },
        {
          "metadata": {
            "tags": null
          },
          "name": "stderr",
          "output_type": "stream",
          "text": [
            "\n",
            "  0%|          | 0/973 [00:00<?, ?it/s]<ipython-input-15-b61162519fae>:62: DeprecationWarning: `np.float` is a deprecated alias for the builtin `float`. To silence this warning, use `float` by itself. Doing this will not modify any behavior and is safe. If you specifically wanted the numpy scalar type, use `np.float64` here.\n",
            "Deprecated in NumPy 1.20; for more details and guidance: https://numpy.org/devdocs/release/1.20.0-notes.html#deprecations\n",
            "  feats = numpy.stack(feats, axis = 0).astype(numpy.float)\n",
            "100%|██████████| 973/973 [04:43<00:00,  3.43it/s]\n"
          ]
        },
        {
          "metadata": {
            "tags": null
          },
          "name": "stdout",
          "output_type": "stream",
          "text": [
            "2023-06-20 06:55:13 41 epoch, ACC 34.29%, EER 6.28%, bestEER 6.26%\n",
            "Epoch: 42\n"
          ]
        },
        {
          "metadata": {
            "tags": null
          },
          "name": "stderr",
          "output_type": "stream",
          "text": [
            "/usr/local/lib/python3.10/dist-packages/torch/optim/lr_scheduler.py:152: UserWarning: The epoch parameter in `scheduler.step()` was not necessary and is being deprecated where possible. Please use `scheduler.step()` to step the scheduler. During the deprecation, if epoch is different from None, the closed form is used instead of the new chainable form, where available. Please open an issue if you are unable to replicate your use case: https://github.com/pytorch/pytorch/issues/new/choose.\n",
            "  warnings.warn(EPOCH_DEPRECATION_WARNING, UserWarning)\n",
            "0it [00:00, ?it/s]/usr/local/lib/python3.10/dist-packages/torch/nn/functional.py:4999: UserWarning: Support for mismatched key_padding_mask and attn_mask is deprecated. Use same type for both instead.\n",
            "  warnings.warn(\n",
            "1it [00:06,  6.21s/it]"
          ]
        },
        {
          "metadata": {
            "tags": null
          },
          "name": "stdout",
          "output_type": "stream",
          "text": [
            "06-20 06:55:19 [42] Lr: 0.000287, Training: 1.75%,  Loss: 3.06423, ACC: 44.67% \r\n"
          ]
        },
        {
          "metadata": {
            "tags": null
          },
          "name": "stderr",
          "output_type": "stream",
          "text": [
            "\r2it [00:11,  5.78s/it]"
          ]
        },
        {
          "metadata": {
            "tags": null
          },
          "name": "stdout",
          "output_type": "stream",
          "text": [
            "06-20 06:55:24 [42] Lr: 0.000287, Training: 3.51%,  Loss: 2.95993, ACC: 45.67% \r\n"
          ]
        },
        {
          "metadata": {
            "tags": null
          },
          "name": "stderr",
          "output_type": "stream",
          "text": [
            "\r3it [00:17,  5.69s/it]"
          ]
        },
        {
          "metadata": {
            "tags": null
          },
          "name": "stdout",
          "output_type": "stream",
          "text": [
            "06-20 06:55:30 [42] Lr: 0.000287, Training: 5.26%,  Loss: 2.94903, ACC: 45.78% \r\n"
          ]
        },
        {
          "metadata": {
            "tags": null
          },
          "name": "stderr",
          "output_type": "stream",
          "text": [
            "\r4it [00:22,  5.65s/it]"
          ]
        },
        {
          "metadata": {
            "tags": null
          },
          "name": "stdout",
          "output_type": "stream",
          "text": [
            "06-20 06:55:36 [42] Lr: 0.000287, Training: 7.02%,  Loss: 2.83746, ACC: 48.67% \r\n"
          ]
        },
        {
          "metadata": {
            "tags": null
          },
          "name": "stderr",
          "output_type": "stream",
          "text": [
            "\r5it [00:28,  5.65s/it]"
          ]
        },
        {
          "metadata": {
            "tags": null
          },
          "name": "stdout",
          "output_type": "stream",
          "text": [
            "06-20 06:55:41 [42] Lr: 0.000287, Training: 8.77%,  Loss: 2.84722, ACC: 48.67% \r\n"
          ]
        },
        {
          "metadata": {
            "tags": null
          },
          "name": "stderr",
          "output_type": "stream",
          "text": [
            "\r6it [00:34,  5.64s/it]"
          ]
        },
        {
          "metadata": {
            "tags": null
          },
          "name": "stdout",
          "output_type": "stream",
          "text": [
            "06-20 06:55:47 [42] Lr: 0.000287, Training: 10.53%,  Loss: 2.83099, ACC: 48.22% \r\n"
          ]
        },
        {
          "metadata": {
            "tags": null
          },
          "name": "stderr",
          "output_type": "stream",
          "text": [
            "\r7it [00:39,  5.64s/it]"
          ]
        },
        {
          "metadata": {
            "tags": null
          },
          "name": "stdout",
          "output_type": "stream",
          "text": [
            "06-20 06:55:53 [42] Lr: 0.000287, Training: 12.28%,  Loss: 2.87849, ACC: 47.71% \r\n"
          ]
        },
        {
          "metadata": {
            "tags": null
          },
          "name": "stderr",
          "output_type": "stream",
          "text": [
            "\r8it [00:45,  5.61s/it]"
          ]
        },
        {
          "metadata": {
            "tags": null
          },
          "name": "stdout",
          "output_type": "stream",
          "text": [
            "06-20 06:55:58 [42] Lr: 0.000287, Training: 14.04%,  Loss: 2.84778, ACC: 48.33% \r\n"
          ]
        },
        {
          "metadata": {
            "tags": null
          },
          "name": "stderr",
          "output_type": "stream",
          "text": [
            "\r9it [00:50,  5.60s/it]"
          ]
        },
        {
          "metadata": {
            "tags": null
          },
          "name": "stdout",
          "output_type": "stream",
          "text": [
            "06-20 06:56:04 [42] Lr: 0.000287, Training: 15.79%,  Loss: 2.79757, ACC: 48.89% \r\n"
          ]
        },
        {
          "metadata": {
            "tags": null
          },
          "name": "stderr",
          "output_type": "stream",
          "text": [
            "\r10it [00:56,  5.58s/it]"
          ]
        },
        {
          "metadata": {
            "tags": null
          },
          "name": "stdout",
          "output_type": "stream",
          "text": [
            "06-20 06:56:09 [42] Lr: 0.000287, Training: 17.54%,  Loss: 2.80206, ACC: 48.73% \r\n"
          ]
        },
        {
          "metadata": {
            "tags": null
          },
          "name": "stderr",
          "output_type": "stream",
          "text": [
            "\r11it [01:01,  5.56s/it]"
          ]
        },
        {
          "metadata": {
            "tags": null
          },
          "name": "stdout",
          "output_type": "stream",
          "text": [
            "06-20 06:56:15 [42] Lr: 0.000287, Training: 19.30%,  Loss: 2.80909, ACC: 48.73% \r\n"
          ]
        },
        {
          "metadata": {
            "tags": null
          },
          "name": "stderr",
          "output_type": "stream",
          "text": [
            "\r12it [01:07,  5.54s/it]"
          ]
        },
        {
          "metadata": {
            "tags": null
          },
          "name": "stdout",
          "output_type": "stream",
          "text": [
            "06-20 06:56:20 [42] Lr: 0.000287, Training: 21.05%,  Loss: 2.81870, ACC: 48.28% \r\n"
          ]
        },
        {
          "metadata": {
            "tags": null
          },
          "name": "stderr",
          "output_type": "stream",
          "text": [
            "\r13it [01:12,  5.54s/it]"
          ]
        },
        {
          "metadata": {
            "tags": null
          },
          "name": "stdout",
          "output_type": "stream",
          "text": [
            "06-20 06:56:26 [42] Lr: 0.000287, Training: 22.81%,  Loss: 2.79983, ACC: 48.51% \r\n"
          ]
        },
        {
          "metadata": {
            "tags": null
          },
          "name": "stderr",
          "output_type": "stream",
          "text": [
            "\r14it [01:18,  5.52s/it]"
          ]
        },
        {
          "metadata": {
            "tags": null
          },
          "name": "stdout",
          "output_type": "stream",
          "text": [
            "06-20 06:56:31 [42] Lr: 0.000287, Training: 24.56%,  Loss: 2.80012, ACC: 48.33% \r\n"
          ]
        },
        {
          "metadata": {
            "tags": null
          },
          "name": "stderr",
          "output_type": "stream",
          "text": [
            "\r15it [01:23,  5.52s/it]"
          ]
        },
        {
          "metadata": {
            "tags": null
          },
          "name": "stdout",
          "output_type": "stream",
          "text": [
            "06-20 06:56:37 [42] Lr: 0.000287, Training: 26.32%,  Loss: 2.79889, ACC: 48.04% \r\n"
          ]
        },
        {
          "metadata": {
            "tags": null
          },
          "name": "stderr",
          "output_type": "stream",
          "text": [
            "\r16it [01:29,  5.52s/it]"
          ]
        },
        {
          "metadata": {
            "tags": null
          },
          "name": "stdout",
          "output_type": "stream",
          "text": [
            "06-20 06:56:42 [42] Lr: 0.000287, Training: 28.07%,  Loss: 2.78391, ACC: 48.08% \r\n"
          ]
        },
        {
          "metadata": {
            "tags": null
          },
          "name": "stderr",
          "output_type": "stream",
          "text": [
            "\r17it [01:34,  5.51s/it]"
          ]
        },
        {
          "metadata": {
            "tags": null
          },
          "name": "stdout",
          "output_type": "stream",
          "text": [
            "06-20 06:56:48 [42] Lr: 0.000287, Training: 29.82%,  Loss: 2.78515, ACC: 48.27% \r\n"
          ]
        },
        {
          "metadata": {
            "tags": null
          },
          "name": "stderr",
          "output_type": "stream",
          "text": [
            "\r18it [01:40,  5.51s/it]"
          ]
        },
        {
          "metadata": {
            "tags": null
          },
          "name": "stdout",
          "output_type": "stream",
          "text": [
            "06-20 06:56:53 [42] Lr: 0.000287, Training: 31.58%,  Loss: 2.78057, ACC: 48.41% \r\n"
          ]
        },
        {
          "metadata": {
            "tags": null
          },
          "name": "stderr",
          "output_type": "stream",
          "text": [
            "\r19it [01:46,  5.54s/it]"
          ]
        },
        {
          "metadata": {
            "tags": null
          },
          "name": "stdout",
          "output_type": "stream",
          "text": [
            "06-20 06:56:59 [42] Lr: 0.000287, Training: 33.33%,  Loss: 2.76894, ACC: 48.49% \r\n"
          ]
        },
        {
          "metadata": {
            "tags": null
          },
          "name": "stderr",
          "output_type": "stream",
          "text": [
            "\r20it [01:51,  5.53s/it]"
          ]
        },
        {
          "metadata": {
            "tags": null
          },
          "name": "stdout",
          "output_type": "stream",
          "text": [
            "06-20 06:57:04 [42] Lr: 0.000287, Training: 35.09%,  Loss: 2.77516, ACC: 48.43% \r\n"
          ]
        },
        {
          "metadata": {
            "tags": null
          },
          "name": "stderr",
          "output_type": "stream",
          "text": [
            "\r21it [01:57,  5.54s/it]"
          ]
        },
        {
          "metadata": {
            "tags": null
          },
          "name": "stdout",
          "output_type": "stream",
          "text": [
            "06-20 06:57:10 [42] Lr: 0.000287, Training: 36.84%,  Loss: 2.77558, ACC: 48.51% \r\n"
          ]
        },
        {
          "metadata": {
            "tags": null
          },
          "name": "stderr",
          "output_type": "stream",
          "text": [
            "\r22it [02:02,  5.56s/it]"
          ]
        },
        {
          "metadata": {
            "tags": null
          },
          "name": "stdout",
          "output_type": "stream",
          "text": [
            "06-20 06:57:16 [42] Lr: 0.000287, Training: 38.60%,  Loss: 2.77559, ACC: 48.48% \r\n"
          ]
        },
        {
          "metadata": {
            "tags": null
          },
          "name": "stderr",
          "output_type": "stream",
          "text": [
            "\r23it [02:08,  5.56s/it]"
          ]
        },
        {
          "metadata": {
            "tags": null
          },
          "name": "stdout",
          "output_type": "stream",
          "text": [
            "06-20 06:57:21 [42] Lr: 0.000287, Training: 40.35%,  Loss: 2.75755, ACC: 48.67% \r\n"
          ]
        },
        {
          "metadata": {
            "tags": null
          },
          "name": "stderr",
          "output_type": "stream",
          "text": [
            "\r24it [02:13,  5.55s/it]"
          ]
        },
        {
          "metadata": {
            "tags": null
          },
          "name": "stdout",
          "output_type": "stream",
          "text": [
            "06-20 06:57:27 [42] Lr: 0.000287, Training: 42.11%,  Loss: 2.74637, ACC: 48.83% \r\n"
          ]
        },
        {
          "metadata": {
            "tags": null
          },
          "name": "stderr",
          "output_type": "stream",
          "text": [
            "\r25it [02:19,  5.56s/it]"
          ]
        },
        {
          "metadata": {
            "tags": null
          },
          "name": "stdout",
          "output_type": "stream",
          "text": [
            "06-20 06:57:32 [42] Lr: 0.000287, Training: 43.86%,  Loss: 2.76290, ACC: 48.64% \r\n"
          ]
        },
        {
          "metadata": {
            "tags": null
          },
          "name": "stderr",
          "output_type": "stream",
          "text": [
            "\r26it [02:24,  5.55s/it]"
          ]
        },
        {
          "metadata": {
            "tags": null
          },
          "name": "stdout",
          "output_type": "stream",
          "text": [
            "06-20 06:57:38 [42] Lr: 0.000287, Training: 45.61%,  Loss: 2.75761, ACC: 48.79% \r\n"
          ]
        },
        {
          "metadata": {
            "tags": null
          },
          "name": "stderr",
          "output_type": "stream",
          "text": [
            "\r27it [02:30,  5.55s/it]"
          ]
        },
        {
          "metadata": {
            "tags": null
          },
          "name": "stdout",
          "output_type": "stream",
          "text": [
            "06-20 06:57:43 [42] Lr: 0.000287, Training: 47.37%,  Loss: 2.74823, ACC: 48.79% \r\n"
          ]
        },
        {
          "metadata": {
            "tags": null
          },
          "name": "stderr",
          "output_type": "stream",
          "text": [
            "\r28it [02:36,  5.55s/it]"
          ]
        },
        {
          "metadata": {
            "tags": null
          },
          "name": "stdout",
          "output_type": "stream",
          "text": [
            "06-20 06:57:49 [42] Lr: 0.000287, Training: 49.12%,  Loss: 2.74721, ACC: 48.81% \r\n"
          ]
        },
        {
          "metadata": {
            "tags": null
          },
          "name": "stderr",
          "output_type": "stream",
          "text": [
            "\r29it [02:41,  5.55s/it]"
          ]
        },
        {
          "metadata": {
            "tags": null
          },
          "name": "stdout",
          "output_type": "stream",
          "text": [
            "06-20 06:57:54 [42] Lr: 0.000287, Training: 50.88%,  Loss: 2.74263, ACC: 48.90% \r\n"
          ]
        },
        {
          "metadata": {
            "tags": null
          },
          "name": "stderr",
          "output_type": "stream",
          "text": [
            "\r30it [02:47,  5.54s/it]"
          ]
        },
        {
          "metadata": {
            "tags": null
          },
          "name": "stdout",
          "output_type": "stream",
          "text": [
            "06-20 06:58:00 [42] Lr: 0.000287, Training: 52.63%,  Loss: 2.73277, ACC: 49.00% \r\n"
          ]
        },
        {
          "metadata": {
            "tags": null
          },
          "name": "stderr",
          "output_type": "stream",
          "text": [
            "\r31it [02:52,  5.55s/it]"
          ]
        },
        {
          "metadata": {
            "tags": null
          },
          "name": "stdout",
          "output_type": "stream",
          "text": [
            "06-20 06:58:05 [42] Lr: 0.000287, Training: 54.39%,  Loss: 2.74479, ACC: 49.01% \r\n"
          ]
        },
        {
          "metadata": {
            "tags": null
          },
          "name": "stderr",
          "output_type": "stream",
          "text": [
            "\r32it [02:58,  5.54s/it]"
          ]
        },
        {
          "metadata": {
            "tags": null
          },
          "name": "stdout",
          "output_type": "stream",
          "text": [
            "06-20 06:58:11 [42] Lr: 0.000287, Training: 56.14%,  Loss: 2.74627, ACC: 48.81% \r\n"
          ]
        },
        {
          "metadata": {
            "tags": null
          },
          "name": "stderr",
          "output_type": "stream",
          "text": [
            "\r33it [03:03,  5.54s/it]"
          ]
        },
        {
          "metadata": {
            "tags": null
          },
          "name": "stdout",
          "output_type": "stream",
          "text": [
            "06-20 06:58:16 [42] Lr: 0.000287, Training: 57.89%,  Loss: 2.75286, ACC: 48.89% \r\n"
          ]
        },
        {
          "metadata": {
            "tags": null
          },
          "name": "stderr",
          "output_type": "stream",
          "text": [
            "\r34it [03:09,  5.54s/it]"
          ]
        },
        {
          "metadata": {
            "tags": null
          },
          "name": "stdout",
          "output_type": "stream",
          "text": [
            "06-20 06:58:22 [42] Lr: 0.000287, Training: 59.65%,  Loss: 2.76855, ACC: 48.57% \r\n"
          ]
        },
        {
          "metadata": {
            "tags": null
          },
          "name": "stderr",
          "output_type": "stream",
          "text": [
            "\r35it [03:14,  5.54s/it]"
          ]
        },
        {
          "metadata": {
            "tags": null
          },
          "name": "stdout",
          "output_type": "stream",
          "text": [
            "06-20 06:58:28 [42] Lr: 0.000287, Training: 61.40%,  Loss: 2.79204, ACC: 48.17% \r\n"
          ]
        },
        {
          "metadata": {
            "tags": null
          },
          "name": "stderr",
          "output_type": "stream",
          "text": [
            "\r36it [03:20,  5.54s/it]"
          ]
        },
        {
          "metadata": {
            "tags": null
          },
          "name": "stdout",
          "output_type": "stream",
          "text": [
            "06-20 06:58:33 [42] Lr: 0.000287, Training: 63.16%,  Loss: 2.81213, ACC: 47.93% \r\n"
          ]
        },
        {
          "metadata": {
            "tags": null
          },
          "name": "stderr",
          "output_type": "stream",
          "text": [
            "\r37it [03:25,  5.54s/it]"
          ]
        },
        {
          "metadata": {
            "tags": null
          },
          "name": "stdout",
          "output_type": "stream",
          "text": [
            "06-20 06:58:39 [42] Lr: 0.000287, Training: 64.91%,  Loss: 2.80589, ACC: 47.93% \r\n"
          ]
        },
        {
          "metadata": {
            "tags": null
          },
          "name": "stderr",
          "output_type": "stream",
          "text": [
            "\r38it [03:31,  5.54s/it]"
          ]
        },
        {
          "metadata": {
            "tags": null
          },
          "name": "stdout",
          "output_type": "stream",
          "text": [
            "06-20 06:58:44 [42] Lr: 0.000287, Training: 66.67%,  Loss: 2.80691, ACC: 47.95% \r\n"
          ]
        },
        {
          "metadata": {
            "tags": null
          },
          "name": "stderr",
          "output_type": "stream",
          "text": [
            "\r39it [03:36,  5.54s/it]"
          ]
        },
        {
          "metadata": {
            "tags": null
          },
          "name": "stdout",
          "output_type": "stream",
          "text": [
            "06-20 06:58:50 [42] Lr: 0.000287, Training: 68.42%,  Loss: 2.81123, ACC: 47.79% \r\n"
          ]
        },
        {
          "metadata": {
            "tags": null
          },
          "name": "stderr",
          "output_type": "stream",
          "text": [
            "\r40it [03:42,  5.54s/it]"
          ]
        },
        {
          "metadata": {
            "tags": null
          },
          "name": "stdout",
          "output_type": "stream",
          "text": [
            "06-20 06:58:55 [42] Lr: 0.000287, Training: 70.18%,  Loss: 2.80353, ACC: 47.87% \r\n"
          ]
        },
        {
          "metadata": {
            "tags": null
          },
          "name": "stderr",
          "output_type": "stream",
          "text": [
            "\r41it [03:48,  5.53s/it]"
          ]
        },
        {
          "metadata": {
            "tags": null
          },
          "name": "stdout",
          "output_type": "stream",
          "text": [
            "06-20 06:59:01 [42] Lr: 0.000287, Training: 71.93%,  Loss: 2.81167, ACC: 47.84% \r\n"
          ]
        },
        {
          "metadata": {
            "tags": null
          },
          "name": "stderr",
          "output_type": "stream",
          "text": [
            "\r42it [03:53,  5.53s/it]"
          ]
        },
        {
          "metadata": {
            "tags": null
          },
          "name": "stdout",
          "output_type": "stream",
          "text": [
            "06-20 06:59:06 [42] Lr: 0.000287, Training: 73.68%,  Loss: 2.81720, ACC: 47.84% \r\n"
          ]
        },
        {
          "metadata": {
            "tags": null
          },
          "name": "stderr",
          "output_type": "stream",
          "text": [
            "\r43it [03:59,  5.54s/it]"
          ]
        },
        {
          "metadata": {
            "tags": null
          },
          "name": "stdout",
          "output_type": "stream",
          "text": [
            "06-20 06:59:12 [42] Lr: 0.000287, Training: 75.44%,  Loss: 2.81680, ACC: 47.84% \r\n"
          ]
        },
        {
          "metadata": {
            "tags": null
          },
          "name": "stderr",
          "output_type": "stream",
          "text": [
            "\r44it [04:04,  5.55s/it]"
          ]
        },
        {
          "metadata": {
            "tags": null
          },
          "name": "stdout",
          "output_type": "stream",
          "text": [
            "06-20 06:59:17 [42] Lr: 0.000287, Training: 77.19%,  Loss: 2.81477, ACC: 48.00% \r\n"
          ]
        },
        {
          "metadata": {
            "tags": null
          },
          "name": "stderr",
          "output_type": "stream",
          "text": [
            "\r45it [04:10,  5.55s/it]"
          ]
        },
        {
          "metadata": {
            "tags": null
          },
          "name": "stdout",
          "output_type": "stream",
          "text": [
            "06-20 06:59:23 [42] Lr: 0.000287, Training: 78.95%,  Loss: 2.81237, ACC: 48.10% \r\n"
          ]
        },
        {
          "metadata": {
            "tags": null
          },
          "name": "stderr",
          "output_type": "stream",
          "text": [
            "\r46it [04:15,  5.56s/it]"
          ]
        },
        {
          "metadata": {
            "tags": null
          },
          "name": "stdout",
          "output_type": "stream",
          "text": [
            "06-20 06:59:29 [42] Lr: 0.000287, Training: 80.70%,  Loss: 2.81154, ACC: 48.10% \r\n"
          ]
        },
        {
          "metadata": {
            "tags": null
          },
          "name": "stderr",
          "output_type": "stream",
          "text": [
            "\r47it [04:21,  5.56s/it]"
          ]
        },
        {
          "metadata": {
            "tags": null
          },
          "name": "stdout",
          "output_type": "stream",
          "text": [
            "06-20 06:59:34 [42] Lr: 0.000287, Training: 82.46%,  Loss: 2.81763, ACC: 48.03% \r\n"
          ]
        },
        {
          "metadata": {
            "tags": null
          },
          "name": "stderr",
          "output_type": "stream",
          "text": [
            "\r48it [04:26,  5.55s/it]"
          ]
        },
        {
          "metadata": {
            "tags": null
          },
          "name": "stdout",
          "output_type": "stream",
          "text": [
            "06-20 06:59:40 [42] Lr: 0.000287, Training: 84.21%,  Loss: 2.81234, ACC: 48.01% \r\n"
          ]
        },
        {
          "metadata": {
            "tags": null
          },
          "name": "stderr",
          "output_type": "stream",
          "text": [
            "\r49it [04:32,  5.56s/it]"
          ]
        },
        {
          "metadata": {
            "tags": null
          },
          "name": "stdout",
          "output_type": "stream",
          "text": [
            "06-20 06:59:45 [42] Lr: 0.000287, Training: 85.96%,  Loss: 2.81184, ACC: 48.00% \r\n"
          ]
        },
        {
          "metadata": {
            "tags": null
          },
          "name": "stderr",
          "output_type": "stream",
          "text": [
            "\r50it [04:38,  5.55s/it]"
          ]
        },
        {
          "metadata": {
            "tags": null
          },
          "name": "stdout",
          "output_type": "stream",
          "text": [
            "06-20 06:59:51 [42] Lr: 0.000287, Training: 87.72%,  Loss: 2.81162, ACC: 47.95% \r\n"
          ]
        },
        {
          "metadata": {
            "tags": null
          },
          "name": "stderr",
          "output_type": "stream",
          "text": [
            "\r51it [04:43,  5.55s/it]"
          ]
        },
        {
          "metadata": {
            "tags": null
          },
          "name": "stdout",
          "output_type": "stream",
          "text": [
            "06-20 06:59:56 [42] Lr: 0.000287, Training: 89.47%,  Loss: 2.81322, ACC: 47.90% \r\n"
          ]
        },
        {
          "metadata": {
            "tags": null
          },
          "name": "stderr",
          "output_type": "stream",
          "text": [
            "\r52it [04:49,  5.55s/it]"
          ]
        },
        {
          "metadata": {
            "tags": null
          },
          "name": "stdout",
          "output_type": "stream",
          "text": [
            "06-20 07:00:02 [42] Lr: 0.000287, Training: 91.23%,  Loss: 2.81270, ACC: 47.85% \r\n"
          ]
        },
        {
          "metadata": {
            "tags": null
          },
          "name": "stderr",
          "output_type": "stream",
          "text": [
            "\r53it [04:54,  5.54s/it]"
          ]
        },
        {
          "metadata": {
            "tags": null
          },
          "name": "stdout",
          "output_type": "stream",
          "text": [
            "06-20 07:00:07 [42] Lr: 0.000287, Training: 92.98%,  Loss: 2.82023, ACC: 47.67% \r\n"
          ]
        },
        {
          "metadata": {
            "tags": null
          },
          "name": "stderr",
          "output_type": "stream",
          "text": [
            "\r54it [05:00,  5.54s/it]"
          ]
        },
        {
          "metadata": {
            "tags": null
          },
          "name": "stdout",
          "output_type": "stream",
          "text": [
            "06-20 07:00:13 [42] Lr: 0.000287, Training: 94.74%,  Loss: 2.80698, ACC: 47.85% \r\n"
          ]
        },
        {
          "metadata": {
            "tags": null
          },
          "name": "stderr",
          "output_type": "stream",
          "text": [
            "\r55it [05:05,  5.54s/it]"
          ]
        },
        {
          "metadata": {
            "tags": null
          },
          "name": "stdout",
          "output_type": "stream",
          "text": [
            "06-20 07:00:18 [42] Lr: 0.000287, Training: 96.49%,  Loss: 2.81331, ACC: 47.61% \r\n"
          ]
        },
        {
          "metadata": {
            "tags": null
          },
          "name": "stderr",
          "output_type": "stream",
          "text": [
            "\r56it [05:11,  5.53s/it]"
          ]
        },
        {
          "metadata": {
            "tags": null
          },
          "name": "stdout",
          "output_type": "stream",
          "text": [
            "06-20 07:00:24 [42] Lr: 0.000287, Training: 98.25%,  Loss: 2.80708, ACC: 47.74% \r\n"
          ]
        },
        {
          "metadata": {
            "tags": null
          },
          "name": "stderr",
          "output_type": "stream",
          "text": [
            "57it [05:15,  5.53s/it]"
          ]
        },
        {
          "metadata": {
            "tags": null
          },
          "name": "stdout",
          "output_type": "stream",
          "text": [
            "06-20 07:00:28 [42] Lr: 0.000287, Training: 100.00%,  Loss: 2.80631, ACC: 34.94% \r\n",
            "\n",
            "\n"
          ]
        },
        {
          "metadata": {
            "tags": null
          },
          "name": "stderr",
          "output_type": "stream",
          "text": [
            "\n",
            "  0%|          | 0/973 [00:00<?, ?it/s]<ipython-input-15-b61162519fae>:62: DeprecationWarning: `np.float` is a deprecated alias for the builtin `float`. To silence this warning, use `float` by itself. Doing this will not modify any behavior and is safe. If you specifically wanted the numpy scalar type, use `np.float64` here.\n",
            "Deprecated in NumPy 1.20; for more details and guidance: https://numpy.org/devdocs/release/1.20.0-notes.html#deprecations\n",
            "  feats = numpy.stack(feats, axis = 0).astype(numpy.float)\n",
            "100%|██████████| 973/973 [04:32<00:00,  3.57it/s]\n"
          ]
        },
        {
          "metadata": {
            "tags": null
          },
          "name": "stdout",
          "output_type": "stream",
          "text": [
            "2023-06-20 07:05:09 42 epoch, ACC 34.94%, EER 6.27%, bestEER 6.26%\n",
            "Epoch: 43\n"
          ]
        },
        {
          "metadata": {
            "tags": null
          },
          "name": "stderr",
          "output_type": "stream",
          "text": [
            "/usr/local/lib/python3.10/dist-packages/torch/optim/lr_scheduler.py:152: UserWarning: The epoch parameter in `scheduler.step()` was not necessary and is being deprecated where possible. Please use `scheduler.step()` to step the scheduler. During the deprecation, if epoch is different from None, the closed form is used instead of the new chainable form, where available. Please open an issue if you are unable to replicate your use case: https://github.com/pytorch/pytorch/issues/new/choose.\n",
            "  warnings.warn(EPOCH_DEPRECATION_WARNING, UserWarning)\n",
            "0it [00:00, ?it/s]/usr/local/lib/python3.10/dist-packages/torch/nn/functional.py:4999: UserWarning: Support for mismatched key_padding_mask and attn_mask is deprecated. Use same type for both instead.\n",
            "  warnings.warn(\n",
            "1it [00:06,  6.24s/it]"
          ]
        },
        {
          "metadata": {
            "tags": null
          },
          "name": "stdout",
          "output_type": "stream",
          "text": [
            "06-20 07:05:16 [43] Lr: 0.000278, Training: 1.75%,  Loss: 3.32543, ACC: 40.00% \r\n"
          ]
        },
        {
          "metadata": {
            "tags": null
          },
          "name": "stderr",
          "output_type": "stream",
          "text": [
            "\r2it [00:11,  5.82s/it]"
          ]
        },
        {
          "metadata": {
            "tags": null
          },
          "name": "stdout",
          "output_type": "stream",
          "text": [
            "06-20 07:05:21 [43] Lr: 0.000278, Training: 3.51%,  Loss: 2.84292, ACC: 47.67% \r\n"
          ]
        },
        {
          "metadata": {
            "tags": null
          },
          "name": "stderr",
          "output_type": "stream",
          "text": [
            "\r3it [00:17,  5.70s/it]"
          ]
        },
        {
          "metadata": {
            "tags": null
          },
          "name": "stdout",
          "output_type": "stream",
          "text": [
            "06-20 07:05:27 [43] Lr: 0.000278, Training: 5.26%,  Loss: 2.82437, ACC: 47.33% \r\n"
          ]
        },
        {
          "metadata": {
            "tags": null
          },
          "name": "stderr",
          "output_type": "stream",
          "text": [
            "\r4it [00:22,  5.64s/it]"
          ]
        },
        {
          "metadata": {
            "tags": null
          },
          "name": "stdout",
          "output_type": "stream",
          "text": [
            "06-20 07:05:33 [43] Lr: 0.000278, Training: 7.02%,  Loss: 2.73148, ACC: 49.33% \r\n"
          ]
        },
        {
          "metadata": {
            "tags": null
          },
          "name": "stderr",
          "output_type": "stream",
          "text": [
            "\r5it [00:28,  5.63s/it]"
          ]
        },
        {
          "metadata": {
            "tags": null
          },
          "name": "stdout",
          "output_type": "stream",
          "text": [
            "06-20 07:05:38 [43] Lr: 0.000278, Training: 8.77%,  Loss: 2.71912, ACC: 48.53% \r\n"
          ]
        },
        {
          "metadata": {
            "tags": null
          },
          "name": "stderr",
          "output_type": "stream",
          "text": [
            "\r6it [00:34,  5.61s/it]"
          ]
        },
        {
          "metadata": {
            "tags": null
          },
          "name": "stdout",
          "output_type": "stream",
          "text": [
            "06-20 07:05:44 [43] Lr: 0.000278, Training: 10.53%,  Loss: 2.70034, ACC: 48.89% \r\n"
          ]
        },
        {
          "metadata": {
            "tags": null
          },
          "name": "stderr",
          "output_type": "stream",
          "text": [
            "\r7it [00:39,  5.60s/it]"
          ]
        },
        {
          "metadata": {
            "tags": null
          },
          "name": "stdout",
          "output_type": "stream",
          "text": [
            "06-20 07:05:49 [43] Lr: 0.000278, Training: 12.28%,  Loss: 2.75353, ACC: 48.38% \r\n"
          ]
        },
        {
          "metadata": {
            "tags": null
          },
          "name": "stderr",
          "output_type": "stream",
          "text": [
            "\r8it [00:45,  5.58s/it]"
          ]
        },
        {
          "metadata": {
            "tags": null
          },
          "name": "stdout",
          "output_type": "stream",
          "text": [
            "06-20 07:05:55 [43] Lr: 0.000278, Training: 14.04%,  Loss: 2.75008, ACC: 47.83% \r\n"
          ]
        },
        {
          "metadata": {
            "tags": null
          },
          "name": "stderr",
          "output_type": "stream",
          "text": [
            "\r9it [00:50,  5.57s/it]"
          ]
        },
        {
          "metadata": {
            "tags": null
          },
          "name": "stdout",
          "output_type": "stream",
          "text": [
            "06-20 07:06:00 [43] Lr: 0.000278, Training: 15.79%,  Loss: 2.81309, ACC: 47.93% \r\n"
          ]
        },
        {
          "metadata": {
            "tags": null
          },
          "name": "stderr",
          "output_type": "stream",
          "text": [
            "\r10it [00:56,  5.56s/it]"
          ]
        },
        {
          "metadata": {
            "tags": null
          },
          "name": "stdout",
          "output_type": "stream",
          "text": [
            "06-20 07:06:06 [43] Lr: 0.000278, Training: 17.54%,  Loss: 2.81498, ACC: 47.80% \r\n"
          ]
        },
        {
          "metadata": {
            "tags": null
          },
          "name": "stderr",
          "output_type": "stream",
          "text": [
            "\r11it [01:01,  5.55s/it]"
          ]
        },
        {
          "metadata": {
            "tags": null
          },
          "name": "stdout",
          "output_type": "stream",
          "text": [
            "06-20 07:06:11 [43] Lr: 0.000278, Training: 19.30%,  Loss: 2.81200, ACC: 47.64% \r\n"
          ]
        },
        {
          "metadata": {
            "tags": null
          },
          "name": "stderr",
          "output_type": "stream",
          "text": [
            "\r12it [01:07,  5.54s/it]"
          ]
        },
        {
          "metadata": {
            "tags": null
          },
          "name": "stdout",
          "output_type": "stream",
          "text": [
            "06-20 07:06:17 [43] Lr: 0.000278, Training: 21.05%,  Loss: 2.76978, ACC: 48.39% \r\n"
          ]
        },
        {
          "metadata": {
            "tags": null
          },
          "name": "stderr",
          "output_type": "stream",
          "text": [
            "\r13it [01:12,  5.53s/it]"
          ]
        },
        {
          "metadata": {
            "tags": null
          },
          "name": "stdout",
          "output_type": "stream",
          "text": [
            "06-20 07:06:22 [43] Lr: 0.000278, Training: 22.81%,  Loss: 2.81233, ACC: 47.79% \r\n"
          ]
        },
        {
          "metadata": {
            "tags": null
          },
          "name": "stderr",
          "output_type": "stream",
          "text": [
            "\r14it [01:18,  5.53s/it]"
          ]
        },
        {
          "metadata": {
            "tags": null
          },
          "name": "stdout",
          "output_type": "stream",
          "text": [
            "06-20 07:06:28 [43] Lr: 0.000278, Training: 24.56%,  Loss: 2.78412, ACC: 48.33% \r\n"
          ]
        },
        {
          "metadata": {
            "tags": null
          },
          "name": "stderr",
          "output_type": "stream",
          "text": [
            "\r15it [01:23,  5.52s/it]"
          ]
        },
        {
          "metadata": {
            "tags": null
          },
          "name": "stdout",
          "output_type": "stream",
          "text": [
            "06-20 07:06:33 [43] Lr: 0.000278, Training: 26.32%,  Loss: 2.79380, ACC: 48.27% \r\n"
          ]
        },
        {
          "metadata": {
            "tags": null
          },
          "name": "stderr",
          "output_type": "stream",
          "text": [
            "\r16it [01:29,  5.52s/it]"
          ]
        },
        {
          "metadata": {
            "tags": null
          },
          "name": "stdout",
          "output_type": "stream",
          "text": [
            "06-20 07:06:39 [43] Lr: 0.000278, Training: 28.07%,  Loss: 2.76795, ACC: 48.63% \r\n"
          ]
        },
        {
          "metadata": {
            "tags": null
          },
          "name": "stderr",
          "output_type": "stream",
          "text": [
            "\r17it [01:34,  5.52s/it]"
          ]
        },
        {
          "metadata": {
            "tags": null
          },
          "name": "stdout",
          "output_type": "stream",
          "text": [
            "06-20 07:06:45 [43] Lr: 0.000278, Training: 29.82%,  Loss: 2.76326, ACC: 48.82% \r\n"
          ]
        },
        {
          "metadata": {
            "tags": null
          },
          "name": "stderr",
          "output_type": "stream",
          "text": [
            "\r18it [01:40,  5.52s/it]"
          ]
        },
        {
          "metadata": {
            "tags": null
          },
          "name": "stdout",
          "output_type": "stream",
          "text": [
            "06-20 07:06:50 [43] Lr: 0.000278, Training: 31.58%,  Loss: 2.75632, ACC: 49.04% \r\n"
          ]
        },
        {
          "metadata": {
            "tags": null
          },
          "name": "stderr",
          "output_type": "stream",
          "text": [
            "\r19it [01:45,  5.52s/it]"
          ]
        },
        {
          "metadata": {
            "tags": null
          },
          "name": "stdout",
          "output_type": "stream",
          "text": [
            "06-20 07:06:56 [43] Lr: 0.000278, Training: 33.33%,  Loss: 2.76248, ACC: 48.74% \r\n"
          ]
        },
        {
          "metadata": {
            "tags": null
          },
          "name": "stderr",
          "output_type": "stream",
          "text": [
            "\r20it [01:51,  5.52s/it]"
          ]
        },
        {
          "metadata": {
            "tags": null
          },
          "name": "stdout",
          "output_type": "stream",
          "text": [
            "06-20 07:07:01 [43] Lr: 0.000278, Training: 35.09%,  Loss: 2.76603, ACC: 48.73% \r\n"
          ]
        },
        {
          "metadata": {
            "tags": null
          },
          "name": "stderr",
          "output_type": "stream",
          "text": [
            "\r21it [01:56,  5.53s/it]"
          ]
        },
        {
          "metadata": {
            "tags": null
          },
          "name": "stdout",
          "output_type": "stream",
          "text": [
            "06-20 07:07:07 [43] Lr: 0.000278, Training: 36.84%,  Loss: 2.75975, ACC: 48.67% \r\n"
          ]
        },
        {
          "metadata": {
            "tags": null
          },
          "name": "stderr",
          "output_type": "stream",
          "text": [
            "\r22it [02:02,  5.53s/it]"
          ]
        },
        {
          "metadata": {
            "tags": null
          },
          "name": "stdout",
          "output_type": "stream",
          "text": [
            "06-20 07:07:12 [43] Lr: 0.000278, Training: 38.60%,  Loss: 2.75989, ACC: 48.91% \r\n"
          ]
        },
        {
          "metadata": {
            "tags": null
          },
          "name": "stderr",
          "output_type": "stream",
          "text": [
            "\r23it [02:08,  5.54s/it]"
          ]
        },
        {
          "metadata": {
            "tags": null
          },
          "name": "stdout",
          "output_type": "stream",
          "text": [
            "06-20 07:07:18 [43] Lr: 0.000278, Training: 40.35%,  Loss: 2.76803, ACC: 48.70% \r\n"
          ]
        },
        {
          "metadata": {
            "tags": null
          },
          "name": "stderr",
          "output_type": "stream",
          "text": [
            "\r24it [02:13,  5.54s/it]"
          ]
        },
        {
          "metadata": {
            "tags": null
          },
          "name": "stdout",
          "output_type": "stream",
          "text": [
            "06-20 07:07:23 [43] Lr: 0.000278, Training: 42.11%,  Loss: 2.76829, ACC: 48.81% \r\n"
          ]
        },
        {
          "metadata": {
            "tags": null
          },
          "name": "stderr",
          "output_type": "stream",
          "text": [
            "\r25it [02:19,  5.55s/it]"
          ]
        },
        {
          "metadata": {
            "tags": null
          },
          "name": "stdout",
          "output_type": "stream",
          "text": [
            "06-20 07:07:29 [43] Lr: 0.000278, Training: 43.86%,  Loss: 2.77072, ACC: 48.67% \r\n"
          ]
        },
        {
          "metadata": {
            "tags": null
          },
          "name": "stderr",
          "output_type": "stream",
          "text": [
            "\r26it [02:24,  5.54s/it]"
          ]
        },
        {
          "metadata": {
            "tags": null
          },
          "name": "stdout",
          "output_type": "stream",
          "text": [
            "06-20 07:07:34 [43] Lr: 0.000278, Training: 45.61%,  Loss: 2.77409, ACC: 48.62% \r\n"
          ]
        },
        {
          "metadata": {
            "tags": null
          },
          "name": "stderr",
          "output_type": "stream",
          "text": [
            "\r27it [02:30,  5.55s/it]"
          ]
        },
        {
          "metadata": {
            "tags": null
          },
          "name": "stdout",
          "output_type": "stream",
          "text": [
            "06-20 07:07:40 [43] Lr: 0.000278, Training: 47.37%,  Loss: 2.78386, ACC: 48.47% \r\n"
          ]
        },
        {
          "metadata": {
            "tags": null
          },
          "name": "stderr",
          "output_type": "stream",
          "text": [
            "\r28it [02:35,  5.54s/it]"
          ]
        },
        {
          "metadata": {
            "tags": null
          },
          "name": "stdout",
          "output_type": "stream",
          "text": [
            "06-20 07:07:45 [43] Lr: 0.000278, Training: 49.12%,  Loss: 2.78444, ACC: 48.55% \r\n"
          ]
        },
        {
          "metadata": {
            "tags": null
          },
          "name": "stderr",
          "output_type": "stream",
          "text": [
            "\r29it [02:41,  5.54s/it]"
          ]
        },
        {
          "metadata": {
            "tags": null
          },
          "name": "stdout",
          "output_type": "stream",
          "text": [
            "06-20 07:07:51 [43] Lr: 0.000278, Training: 50.88%,  Loss: 2.78533, ACC: 48.39% \r\n"
          ]
        },
        {
          "metadata": {
            "tags": null
          },
          "name": "stderr",
          "output_type": "stream",
          "text": [
            "\r30it [02:46,  5.55s/it]"
          ]
        },
        {
          "metadata": {
            "tags": null
          },
          "name": "stdout",
          "output_type": "stream",
          "text": [
            "06-20 07:07:57 [43] Lr: 0.000278, Training: 52.63%,  Loss: 2.79099, ACC: 48.31% \r\n"
          ]
        },
        {
          "metadata": {
            "tags": null
          },
          "name": "stderr",
          "output_type": "stream",
          "text": [
            "\r31it [02:52,  5.55s/it]"
          ]
        },
        {
          "metadata": {
            "tags": null
          },
          "name": "stdout",
          "output_type": "stream",
          "text": [
            "06-20 07:08:02 [43] Lr: 0.000278, Training: 54.39%,  Loss: 2.80246, ACC: 48.15% \r\n"
          ]
        },
        {
          "metadata": {
            "tags": null
          },
          "name": "stderr",
          "output_type": "stream",
          "text": [
            "\r32it [02:57,  5.54s/it]"
          ]
        },
        {
          "metadata": {
            "tags": null
          },
          "name": "stdout",
          "output_type": "stream",
          "text": [
            "06-20 07:08:08 [43] Lr: 0.000278, Training: 56.14%,  Loss: 2.79558, ACC: 48.33% \r\n"
          ]
        },
        {
          "metadata": {
            "tags": null
          },
          "name": "stderr",
          "output_type": "stream",
          "text": [
            "\r33it [03:03,  5.56s/it]"
          ]
        },
        {
          "metadata": {
            "tags": null
          },
          "name": "stdout",
          "output_type": "stream",
          "text": [
            "06-20 07:08:13 [43] Lr: 0.000278, Training: 57.89%,  Loss: 2.79344, ACC: 48.48% \r\n"
          ]
        },
        {
          "metadata": {
            "tags": null
          },
          "name": "stderr",
          "output_type": "stream",
          "text": [
            "\r34it [03:09,  5.55s/it]"
          ]
        },
        {
          "metadata": {
            "tags": null
          },
          "name": "stdout",
          "output_type": "stream",
          "text": [
            "06-20 07:08:19 [43] Lr: 0.000278, Training: 59.65%,  Loss: 2.79957, ACC: 48.41% \r\n"
          ]
        },
        {
          "metadata": {
            "tags": null
          },
          "name": "stderr",
          "output_type": "stream",
          "text": [
            "\r35it [03:14,  5.55s/it]"
          ]
        },
        {
          "metadata": {
            "tags": null
          },
          "name": "stdout",
          "output_type": "stream",
          "text": [
            "06-20 07:08:24 [43] Lr: 0.000278, Training: 61.40%,  Loss: 2.79357, ACC: 48.51% \r\n"
          ]
        },
        {
          "metadata": {
            "tags": null
          },
          "name": "stderr",
          "output_type": "stream",
          "text": [
            "\r36it [03:20,  5.55s/it]"
          ]
        },
        {
          "metadata": {
            "tags": null
          },
          "name": "stdout",
          "output_type": "stream",
          "text": [
            "06-20 07:08:30 [43] Lr: 0.000278, Training: 63.16%,  Loss: 2.78342, ACC: 48.56% \r\n"
          ]
        },
        {
          "metadata": {
            "tags": null
          },
          "name": "stderr",
          "output_type": "stream",
          "text": [
            "\r37it [03:25,  5.54s/it]"
          ]
        },
        {
          "metadata": {
            "tags": null
          },
          "name": "stdout",
          "output_type": "stream",
          "text": [
            "06-20 07:08:35 [43] Lr: 0.000278, Training: 64.91%,  Loss: 2.78881, ACC: 48.34% \r\n"
          ]
        },
        {
          "metadata": {
            "tags": null
          },
          "name": "stderr",
          "output_type": "stream",
          "text": [
            "\r38it [03:31,  5.54s/it]"
          ]
        },
        {
          "metadata": {
            "tags": null
          },
          "name": "stdout",
          "output_type": "stream",
          "text": [
            "06-20 07:08:41 [43] Lr: 0.000278, Training: 66.67%,  Loss: 2.78853, ACC: 48.33% \r\n"
          ]
        },
        {
          "metadata": {
            "tags": null
          },
          "name": "stderr",
          "output_type": "stream",
          "text": [
            "\r39it [03:36,  5.55s/it]"
          ]
        },
        {
          "metadata": {
            "tags": null
          },
          "name": "stdout",
          "output_type": "stream",
          "text": [
            "06-20 07:08:46 [43] Lr: 0.000278, Training: 68.42%,  Loss: 2.79315, ACC: 48.32% \r\n"
          ]
        },
        {
          "metadata": {
            "tags": null
          },
          "name": "stderr",
          "output_type": "stream",
          "text": [
            "\r40it [03:42,  5.54s/it]"
          ]
        },
        {
          "metadata": {
            "tags": null
          },
          "name": "stdout",
          "output_type": "stream",
          "text": [
            "06-20 07:08:52 [43] Lr: 0.000278, Training: 70.18%,  Loss: 2.79822, ACC: 48.28% \r\n"
          ]
        },
        {
          "metadata": {
            "tags": null
          },
          "name": "stderr",
          "output_type": "stream",
          "text": [
            "\r41it [03:47,  5.55s/it]"
          ]
        },
        {
          "metadata": {
            "tags": null
          },
          "name": "stdout",
          "output_type": "stream",
          "text": [
            "06-20 07:08:58 [43] Lr: 0.000278, Training: 71.93%,  Loss: 2.79354, ACC: 48.44% \r\n"
          ]
        },
        {
          "metadata": {
            "tags": null
          },
          "name": "stderr",
          "output_type": "stream",
          "text": [
            "\r42it [03:53,  5.55s/it]"
          ]
        },
        {
          "metadata": {
            "tags": null
          },
          "name": "stdout",
          "output_type": "stream",
          "text": [
            "06-20 07:09:03 [43] Lr: 0.000278, Training: 73.68%,  Loss: 2.79212, ACC: 48.33% \r\n"
          ]
        },
        {
          "metadata": {
            "tags": null
          },
          "name": "stderr",
          "output_type": "stream",
          "text": [
            "\r43it [03:59,  5.55s/it]"
          ]
        },
        {
          "metadata": {
            "tags": null
          },
          "name": "stdout",
          "output_type": "stream",
          "text": [
            "06-20 07:09:09 [43] Lr: 0.000278, Training: 75.44%,  Loss: 2.79681, ACC: 48.26% \r\n"
          ]
        },
        {
          "metadata": {
            "tags": null
          },
          "name": "stderr",
          "output_type": "stream",
          "text": [
            "\r44it [04:04,  5.54s/it]"
          ]
        },
        {
          "metadata": {
            "tags": null
          },
          "name": "stdout",
          "output_type": "stream",
          "text": [
            "06-20 07:09:14 [43] Lr: 0.000278, Training: 77.19%,  Loss: 2.80577, ACC: 48.15% \r\n"
          ]
        },
        {
          "metadata": {
            "tags": null
          },
          "name": "stderr",
          "output_type": "stream",
          "text": [
            "\r45it [04:10,  5.56s/it]"
          ]
        },
        {
          "metadata": {
            "tags": null
          },
          "name": "stdout",
          "output_type": "stream",
          "text": [
            "06-20 07:09:20 [43] Lr: 0.000278, Training: 78.95%,  Loss: 2.79508, ACC: 48.40% \r\n"
          ]
        },
        {
          "metadata": {
            "tags": null
          },
          "name": "stderr",
          "output_type": "stream",
          "text": [
            "\r46it [04:15,  5.55s/it]"
          ]
        },
        {
          "metadata": {
            "tags": null
          },
          "name": "stdout",
          "output_type": "stream",
          "text": [
            "06-20 07:09:25 [43] Lr: 0.000278, Training: 80.70%,  Loss: 2.79502, ACC: 48.28% \r\n"
          ]
        },
        {
          "metadata": {
            "tags": null
          },
          "name": "stderr",
          "output_type": "stream",
          "text": [
            "\r47it [04:21,  5.55s/it]"
          ]
        },
        {
          "metadata": {
            "tags": null
          },
          "name": "stdout",
          "output_type": "stream",
          "text": [
            "06-20 07:09:31 [43] Lr: 0.000278, Training: 82.46%,  Loss: 2.79491, ACC: 48.30% \r\n"
          ]
        },
        {
          "metadata": {
            "tags": null
          },
          "name": "stderr",
          "output_type": "stream",
          "text": [
            "\r48it [04:26,  5.55s/it]"
          ]
        },
        {
          "metadata": {
            "tags": null
          },
          "name": "stdout",
          "output_type": "stream",
          "text": [
            "06-20 07:09:36 [43] Lr: 0.000278, Training: 84.21%,  Loss: 2.79760, ACC: 48.21% \r\n"
          ]
        },
        {
          "metadata": {
            "tags": null
          },
          "name": "stderr",
          "output_type": "stream",
          "text": [
            "\r49it [04:32,  5.54s/it]"
          ]
        },
        {
          "metadata": {
            "tags": null
          },
          "name": "stdout",
          "output_type": "stream",
          "text": [
            "06-20 07:09:42 [43] Lr: 0.000278, Training: 85.96%,  Loss: 2.78799, ACC: 48.30% \r\n"
          ]
        },
        {
          "metadata": {
            "tags": null
          },
          "name": "stderr",
          "output_type": "stream",
          "text": [
            "\r50it [04:37,  5.54s/it]"
          ]
        },
        {
          "metadata": {
            "tags": null
          },
          "name": "stdout",
          "output_type": "stream",
          "text": [
            "06-20 07:09:47 [43] Lr: 0.000278, Training: 87.72%,  Loss: 2.77917, ACC: 48.41% \r\n"
          ]
        },
        {
          "metadata": {
            "tags": null
          },
          "name": "stderr",
          "output_type": "stream",
          "text": [
            "\r51it [04:43,  5.55s/it]"
          ]
        },
        {
          "metadata": {
            "tags": null
          },
          "name": "stdout",
          "output_type": "stream",
          "text": [
            "06-20 07:09:53 [43] Lr: 0.000278, Training: 89.47%,  Loss: 2.77680, ACC: 48.38% \r\n"
          ]
        },
        {
          "metadata": {
            "tags": null
          },
          "name": "stderr",
          "output_type": "stream",
          "text": [
            "\r52it [04:48,  5.55s/it]"
          ]
        },
        {
          "metadata": {
            "tags": null
          },
          "name": "stdout",
          "output_type": "stream",
          "text": [
            "06-20 07:09:59 [43] Lr: 0.000278, Training: 91.23%,  Loss: 2.78430, ACC: 48.35% \r\n"
          ]
        },
        {
          "metadata": {
            "tags": null
          },
          "name": "stderr",
          "output_type": "stream",
          "text": [
            "\r53it [04:54,  5.55s/it]"
          ]
        },
        {
          "metadata": {
            "tags": null
          },
          "name": "stdout",
          "output_type": "stream",
          "text": [
            "06-20 07:10:04 [43] Lr: 0.000278, Training: 92.98%,  Loss: 2.77853, ACC: 48.44% \r\n"
          ]
        },
        {
          "metadata": {
            "tags": null
          },
          "name": "stderr",
          "output_type": "stream",
          "text": [
            "\r54it [05:00,  5.55s/it]"
          ]
        },
        {
          "metadata": {
            "tags": null
          },
          "name": "stdout",
          "output_type": "stream",
          "text": [
            "06-20 07:10:10 [43] Lr: 0.000278, Training: 94.74%,  Loss: 2.77450, ACC: 48.56% \r\n"
          ]
        },
        {
          "metadata": {
            "tags": null
          },
          "name": "stderr",
          "output_type": "stream",
          "text": [
            "\r55it [05:05,  5.55s/it]"
          ]
        },
        {
          "metadata": {
            "tags": null
          },
          "name": "stdout",
          "output_type": "stream",
          "text": [
            "06-20 07:10:15 [43] Lr: 0.000278, Training: 96.49%,  Loss: 2.77584, ACC: 48.52% \r\n"
          ]
        },
        {
          "metadata": {
            "tags": null
          },
          "name": "stderr",
          "output_type": "stream",
          "text": [
            "\r56it [05:11,  5.54s/it]"
          ]
        },
        {
          "metadata": {
            "tags": null
          },
          "name": "stdout",
          "output_type": "stream",
          "text": [
            "06-20 07:10:21 [43] Lr: 0.000278, Training: 98.25%,  Loss: 2.76207, ACC: 48.65% \r\n"
          ]
        },
        {
          "metadata": {
            "tags": null
          },
          "name": "stderr",
          "output_type": "stream",
          "text": [
            "\r57it [05:14,  5.03s/it]"
          ]
        },
        {
          "metadata": {
            "tags": null
          },
          "name": "stdout",
          "output_type": "stream",
          "text": [
            "06-20 07:10:25 [43] Lr: 0.000278, Training: 100.00%,  Loss: 2.77007, ACC: 35.41% \r\n"
          ]
        },
        {
          "metadata": {
            "tags": null
          },
          "name": "stderr",
          "output_type": "stream",
          "text": [
            "\r57it [05:15,  5.53s/it]\n"
          ]
        },
        {
          "metadata": {
            "tags": null
          },
          "name": "stdout",
          "output_type": "stream",
          "text": [
            "\n",
            "\n"
          ]
        },
        {
          "metadata": {
            "tags": null
          },
          "name": "stderr",
          "output_type": "stream",
          "text": [
            "  0%|          | 0/973 [00:00<?, ?it/s]<ipython-input-15-b61162519fae>:62: DeprecationWarning: `np.float` is a deprecated alias for the builtin `float`. To silence this warning, use `float` by itself. Doing this will not modify any behavior and is safe. If you specifically wanted the numpy scalar type, use `np.float64` here.\n",
            "Deprecated in NumPy 1.20; for more details and guidance: https://numpy.org/devdocs/release/1.20.0-notes.html#deprecations\n",
            "  feats = numpy.stack(feats, axis = 0).astype(numpy.float)\n",
            "100%|██████████| 973/973 [04:53<00:00,  3.32it/s]\n"
          ]
        },
        {
          "metadata": {
            "tags": null
          },
          "name": "stdout",
          "output_type": "stream",
          "text": [
            "2023-06-20 07:15:32 43 epoch, ACC 35.41%, EER 6.24%, bestEER 6.24%\n",
            "Epoch: 44\n"
          ]
        },
        {
          "metadata": {
            "tags": null
          },
          "name": "stderr",
          "output_type": "stream",
          "text": [
            "/usr/local/lib/python3.10/dist-packages/torch/optim/lr_scheduler.py:152: UserWarning: The epoch parameter in `scheduler.step()` was not necessary and is being deprecated where possible. Please use `scheduler.step()` to step the scheduler. During the deprecation, if epoch is different from None, the closed form is used instead of the new chainable form, where available. Please open an issue if you are unable to replicate your use case: https://github.com/pytorch/pytorch/issues/new/choose.\n",
            "  warnings.warn(EPOCH_DEPRECATION_WARNING, UserWarning)\n",
            "0it [00:00, ?it/s]/usr/local/lib/python3.10/dist-packages/torch/nn/functional.py:4999: UserWarning: Support for mismatched key_padding_mask and attn_mask is deprecated. Use same type for both instead.\n",
            "  warnings.warn(\n",
            "1it [00:06,  6.27s/it]"
          ]
        },
        {
          "metadata": {
            "tags": null
          },
          "name": "stdout",
          "output_type": "stream",
          "text": [
            "06-20 07:15:39 [44] Lr: 0.000270, Training: 1.75%,  Loss: 3.14277, ACC: 48.00% \r\n"
          ]
        },
        {
          "metadata": {
            "tags": null
          },
          "name": "stderr",
          "output_type": "stream",
          "text": [
            "\r2it [00:11,  5.86s/it]"
          ]
        },
        {
          "metadata": {
            "tags": null
          },
          "name": "stdout",
          "output_type": "stream",
          "text": [
            "06-20 07:15:44 [44] Lr: 0.000270, Training: 3.51%,  Loss: 3.02508, ACC: 47.67% \r\n"
          ]
        },
        {
          "metadata": {
            "tags": null
          },
          "name": "stderr",
          "output_type": "stream",
          "text": [
            "\r3it [00:17,  5.72s/it]"
          ]
        },
        {
          "metadata": {
            "tags": null
          },
          "name": "stdout",
          "output_type": "stream",
          "text": [
            "06-20 07:15:50 [44] Lr: 0.000270, Training: 5.26%,  Loss: 2.93007, ACC: 48.00% \r\n"
          ]
        },
        {
          "metadata": {
            "tags": null
          },
          "name": "stderr",
          "output_type": "stream",
          "text": [
            "\r4it [00:22,  5.66s/it]"
          ]
        },
        {
          "metadata": {
            "tags": null
          },
          "name": "stdout",
          "output_type": "stream",
          "text": [
            "06-20 07:15:55 [44] Lr: 0.000270, Training: 7.02%,  Loss: 2.91574, ACC: 48.00% \r\n"
          ]
        },
        {
          "metadata": {
            "tags": null
          },
          "name": "stderr",
          "output_type": "stream",
          "text": [
            "\r5it [00:28,  5.65s/it]"
          ]
        },
        {
          "metadata": {
            "tags": null
          },
          "name": "stdout",
          "output_type": "stream",
          "text": [
            "06-20 07:16:01 [44] Lr: 0.000270, Training: 8.77%,  Loss: 2.80736, ACC: 49.73% \r\n"
          ]
        },
        {
          "metadata": {
            "tags": null
          },
          "name": "stderr",
          "output_type": "stream",
          "text": [
            "\r6it [00:34,  5.63s/it]"
          ]
        },
        {
          "metadata": {
            "tags": null
          },
          "name": "stdout",
          "output_type": "stream",
          "text": [
            "06-20 07:16:06 [44] Lr: 0.000270, Training: 10.53%,  Loss: 2.82168, ACC: 49.44% \r\n"
          ]
        },
        {
          "metadata": {
            "tags": null
          },
          "name": "stderr",
          "output_type": "stream",
          "text": [
            "\r7it [00:39,  5.62s/it]"
          ]
        },
        {
          "metadata": {
            "tags": null
          },
          "name": "stdout",
          "output_type": "stream",
          "text": [
            "06-20 07:16:12 [44] Lr: 0.000270, Training: 12.28%,  Loss: 2.78832, ACC: 49.62% \r\n"
          ]
        },
        {
          "metadata": {
            "tags": null
          },
          "name": "stderr",
          "output_type": "stream",
          "text": [
            "\r8it [00:45,  5.60s/it]"
          ]
        },
        {
          "metadata": {
            "tags": null
          },
          "name": "stdout",
          "output_type": "stream",
          "text": [
            "06-20 07:16:18 [44] Lr: 0.000270, Training: 14.04%,  Loss: 2.80897, ACC: 49.67% \r\n"
          ]
        },
        {
          "metadata": {
            "tags": null
          },
          "name": "stderr",
          "output_type": "stream",
          "text": [
            "\r9it [00:50,  5.59s/it]"
          ]
        },
        {
          "metadata": {
            "tags": null
          },
          "name": "stdout",
          "output_type": "stream",
          "text": [
            "06-20 07:16:23 [44] Lr: 0.000270, Training: 15.79%,  Loss: 2.79737, ACC: 49.85% \r\n"
          ]
        },
        {
          "metadata": {
            "tags": null
          },
          "name": "stderr",
          "output_type": "stream",
          "text": [
            "\r10it [00:56,  5.57s/it]"
          ]
        },
        {
          "metadata": {
            "tags": null
          },
          "name": "stdout",
          "output_type": "stream",
          "text": [
            "06-20 07:16:29 [44] Lr: 0.000270, Training: 17.54%,  Loss: 2.79065, ACC: 49.87% \r\n"
          ]
        },
        {
          "metadata": {
            "tags": null
          },
          "name": "stderr",
          "output_type": "stream",
          "text": [
            "\r11it [01:01,  5.56s/it]"
          ]
        },
        {
          "metadata": {
            "tags": null
          },
          "name": "stdout",
          "output_type": "stream",
          "text": [
            "06-20 07:16:34 [44] Lr: 0.000270, Training: 19.30%,  Loss: 2.79996, ACC: 49.58% \r\n"
          ]
        },
        {
          "metadata": {
            "tags": null
          },
          "name": "stderr",
          "output_type": "stream",
          "text": [
            "\r12it [01:07,  5.55s/it]"
          ]
        },
        {
          "metadata": {
            "tags": null
          },
          "name": "stdout",
          "output_type": "stream",
          "text": [
            "06-20 07:16:40 [44] Lr: 0.000270, Training: 21.05%,  Loss: 2.83880, ACC: 48.67% \r\n"
          ]
        },
        {
          "metadata": {
            "tags": null
          },
          "name": "stderr",
          "output_type": "stream",
          "text": [
            "\r13it [01:13,  5.55s/it]"
          ]
        },
        {
          "metadata": {
            "tags": null
          },
          "name": "stdout",
          "output_type": "stream",
          "text": [
            "06-20 07:16:45 [44] Lr: 0.000270, Training: 22.81%,  Loss: 2.80320, ACC: 49.18% \r\n"
          ]
        },
        {
          "metadata": {
            "tags": null
          },
          "name": "stderr",
          "output_type": "stream",
          "text": [
            "\r14it [01:18,  5.55s/it]"
          ]
        },
        {
          "metadata": {
            "tags": null
          },
          "name": "stdout",
          "output_type": "stream",
          "text": [
            "06-20 07:16:51 [44] Lr: 0.000270, Training: 24.56%,  Loss: 2.78967, ACC: 49.29% \r\n"
          ]
        },
        {
          "metadata": {
            "tags": null
          },
          "name": "stderr",
          "output_type": "stream",
          "text": [
            "\r15it [01:24,  5.54s/it]"
          ]
        },
        {
          "metadata": {
            "tags": null
          },
          "name": "stdout",
          "output_type": "stream",
          "text": [
            "06-20 07:16:56 [44] Lr: 0.000270, Training: 26.32%,  Loss: 2.78984, ACC: 49.16% \r\n"
          ]
        },
        {
          "metadata": {
            "tags": null
          },
          "name": "stderr",
          "output_type": "stream",
          "text": [
            "\r16it [01:29,  5.54s/it]"
          ]
        },
        {
          "metadata": {
            "tags": null
          },
          "name": "stdout",
          "output_type": "stream",
          "text": [
            "06-20 07:17:02 [44] Lr: 0.000270, Training: 28.07%,  Loss: 2.80232, ACC: 49.04% \r\n"
          ]
        },
        {
          "metadata": {
            "tags": null
          },
          "name": "stderr",
          "output_type": "stream",
          "text": [
            "\r17it [01:35,  5.54s/it]"
          ]
        },
        {
          "metadata": {
            "tags": null
          },
          "name": "stdout",
          "output_type": "stream",
          "text": [
            "06-20 07:17:07 [44] Lr: 0.000270, Training: 29.82%,  Loss: 2.80480, ACC: 48.90% \r\n"
          ]
        },
        {
          "metadata": {
            "tags": null
          },
          "name": "stderr",
          "output_type": "stream",
          "text": [
            "\r18it [01:40,  5.53s/it]"
          ]
        },
        {
          "metadata": {
            "tags": null
          },
          "name": "stdout",
          "output_type": "stream",
          "text": [
            "06-20 07:17:13 [44] Lr: 0.000270, Training: 31.58%,  Loss: 2.80874, ACC: 48.74% \r\n"
          ]
        },
        {
          "metadata": {
            "tags": null
          },
          "name": "stderr",
          "output_type": "stream",
          "text": [
            "\r19it [01:46,  5.53s/it]"
          ]
        },
        {
          "metadata": {
            "tags": null
          },
          "name": "stdout",
          "output_type": "stream",
          "text": [
            "06-20 07:17:19 [44] Lr: 0.000270, Training: 33.33%,  Loss: 2.78755, ACC: 48.88% \r\n"
          ]
        },
        {
          "metadata": {
            "tags": null
          },
          "name": "stderr",
          "output_type": "stream",
          "text": [
            "\r20it [01:51,  5.54s/it]"
          ]
        },
        {
          "metadata": {
            "tags": null
          },
          "name": "stdout",
          "output_type": "stream",
          "text": [
            "06-20 07:17:24 [44] Lr: 0.000270, Training: 35.09%,  Loss: 2.78740, ACC: 48.63% \r\n"
          ]
        },
        {
          "metadata": {
            "tags": null
          },
          "name": "stderr",
          "output_type": "stream",
          "text": [
            "\r21it [01:57,  5.53s/it]"
          ]
        },
        {
          "metadata": {
            "tags": null
          },
          "name": "stdout",
          "output_type": "stream",
          "text": [
            "06-20 07:17:30 [44] Lr: 0.000270, Training: 36.84%,  Loss: 2.78799, ACC: 48.51% \r\n"
          ]
        },
        {
          "metadata": {
            "tags": null
          },
          "name": "stderr",
          "output_type": "stream",
          "text": [
            "\r22it [02:02,  5.54s/it]"
          ]
        },
        {
          "metadata": {
            "tags": null
          },
          "name": "stdout",
          "output_type": "stream",
          "text": [
            "06-20 07:17:35 [44] Lr: 0.000270, Training: 38.60%,  Loss: 2.79802, ACC: 48.42% \r\n"
          ]
        },
        {
          "metadata": {
            "tags": null
          },
          "name": "stderr",
          "output_type": "stream",
          "text": [
            "\r23it [02:08,  5.54s/it]"
          ]
        },
        {
          "metadata": {
            "tags": null
          },
          "name": "stdout",
          "output_type": "stream",
          "text": [
            "06-20 07:17:41 [44] Lr: 0.000270, Training: 40.35%,  Loss: 2.80560, ACC: 48.17% \r\n"
          ]
        },
        {
          "metadata": {
            "tags": null
          },
          "name": "stderr",
          "output_type": "stream",
          "text": [
            "\r24it [02:13,  5.54s/it]"
          ]
        },
        {
          "metadata": {
            "tags": null
          },
          "name": "stdout",
          "output_type": "stream",
          "text": [
            "06-20 07:17:46 [44] Lr: 0.000270, Training: 42.11%,  Loss: 2.80555, ACC: 48.19% \r\n"
          ]
        },
        {
          "metadata": {
            "tags": null
          },
          "name": "stderr",
          "output_type": "stream",
          "text": [
            "\r25it [02:19,  5.54s/it]"
          ]
        },
        {
          "metadata": {
            "tags": null
          },
          "name": "stdout",
          "output_type": "stream",
          "text": [
            "06-20 07:17:52 [44] Lr: 0.000270, Training: 43.86%,  Loss: 2.80202, ACC: 48.03% \r\n"
          ]
        },
        {
          "metadata": {
            "tags": null
          },
          "name": "stderr",
          "output_type": "stream",
          "text": [
            "\r26it [02:25,  5.56s/it]"
          ]
        },
        {
          "metadata": {
            "tags": null
          },
          "name": "stdout",
          "output_type": "stream",
          "text": [
            "06-20 07:17:57 [44] Lr: 0.000270, Training: 45.61%,  Loss: 2.80933, ACC: 48.18% \r\n"
          ]
        },
        {
          "metadata": {
            "tags": null
          },
          "name": "stderr",
          "output_type": "stream",
          "text": [
            "\r27it [02:30,  5.56s/it]"
          ]
        },
        {
          "metadata": {
            "tags": null
          },
          "name": "stdout",
          "output_type": "stream",
          "text": [
            "06-20 07:18:03 [44] Lr: 0.000270, Training: 47.37%,  Loss: 2.81366, ACC: 48.17% \r\n"
          ]
        },
        {
          "metadata": {
            "tags": null
          },
          "name": "stderr",
          "output_type": "stream",
          "text": [
            "\r28it [02:36,  5.56s/it]"
          ]
        },
        {
          "metadata": {
            "tags": null
          },
          "name": "stdout",
          "output_type": "stream",
          "text": [
            "06-20 07:18:08 [44] Lr: 0.000270, Training: 49.12%,  Loss: 2.81633, ACC: 48.26% \r\n"
          ]
        },
        {
          "metadata": {
            "tags": null
          },
          "name": "stderr",
          "output_type": "stream",
          "text": [
            "\r29it [02:41,  5.57s/it]"
          ]
        },
        {
          "metadata": {
            "tags": null
          },
          "name": "stdout",
          "output_type": "stream",
          "text": [
            "06-20 07:18:14 [44] Lr: 0.000270, Training: 50.88%,  Loss: 2.79517, ACC: 48.57% \r\n"
          ]
        },
        {
          "metadata": {
            "tags": null
          },
          "name": "stderr",
          "output_type": "stream",
          "text": [
            "\r30it [02:47,  5.58s/it]"
          ]
        },
        {
          "metadata": {
            "tags": null
          },
          "name": "stdout",
          "output_type": "stream",
          "text": [
            "06-20 07:18:20 [44] Lr: 0.000270, Training: 52.63%,  Loss: 2.79794, ACC: 48.49% \r\n"
          ]
        },
        {
          "metadata": {
            "tags": null
          },
          "name": "stderr",
          "output_type": "stream",
          "text": [
            "\r31it [02:52,  5.58s/it]"
          ]
        },
        {
          "metadata": {
            "tags": null
          },
          "name": "stdout",
          "output_type": "stream",
          "text": [
            "06-20 07:18:25 [44] Lr: 0.000270, Training: 54.39%,  Loss: 2.80318, ACC: 48.45% \r\n"
          ]
        },
        {
          "metadata": {
            "tags": null
          },
          "name": "stderr",
          "output_type": "stream",
          "text": [
            "\r32it [02:58,  5.58s/it]"
          ]
        },
        {
          "metadata": {
            "tags": null
          },
          "name": "stdout",
          "output_type": "stream",
          "text": [
            "06-20 07:18:31 [44] Lr: 0.000270, Training: 56.14%,  Loss: 2.79883, ACC: 48.46% \r\n"
          ]
        },
        {
          "metadata": {
            "tags": null
          },
          "name": "stderr",
          "output_type": "stream",
          "text": [
            "\r33it [03:04,  5.58s/it]"
          ]
        },
        {
          "metadata": {
            "tags": null
          },
          "name": "stdout",
          "output_type": "stream",
          "text": [
            "06-20 07:18:36 [44] Lr: 0.000270, Training: 57.89%,  Loss: 2.79321, ACC: 48.57% \r\n"
          ]
        },
        {
          "metadata": {
            "tags": null
          },
          "name": "stderr",
          "output_type": "stream",
          "text": [
            "\r34it [03:09,  5.57s/it]"
          ]
        },
        {
          "metadata": {
            "tags": null
          },
          "name": "stdout",
          "output_type": "stream",
          "text": [
            "06-20 07:18:42 [44] Lr: 0.000270, Training: 59.65%,  Loss: 2.78517, ACC: 48.59% \r\n"
          ]
        },
        {
          "metadata": {
            "tags": null
          },
          "name": "stderr",
          "output_type": "stream",
          "text": [
            "\r35it [03:15,  5.58s/it]"
          ]
        },
        {
          "metadata": {
            "tags": null
          },
          "name": "stdout",
          "output_type": "stream",
          "text": [
            "06-20 07:18:48 [44] Lr: 0.000270, Training: 61.40%,  Loss: 2.78548, ACC: 48.48% \r\n"
          ]
        },
        {
          "metadata": {
            "tags": null
          },
          "name": "stderr",
          "output_type": "stream",
          "text": [
            "\r36it [03:20,  5.57s/it]"
          ]
        },
        {
          "metadata": {
            "tags": null
          },
          "name": "stdout",
          "output_type": "stream",
          "text": [
            "06-20 07:18:53 [44] Lr: 0.000270, Training: 63.16%,  Loss: 2.78388, ACC: 48.39% \r\n"
          ]
        },
        {
          "metadata": {
            "tags": null
          },
          "name": "stderr",
          "output_type": "stream",
          "text": [
            "\r37it [03:26,  5.57s/it]"
          ]
        },
        {
          "metadata": {
            "tags": null
          },
          "name": "stdout",
          "output_type": "stream",
          "text": [
            "06-20 07:18:59 [44] Lr: 0.000270, Training: 64.91%,  Loss: 2.77961, ACC: 48.43% \r\n"
          ]
        },
        {
          "metadata": {
            "tags": null
          },
          "name": "stderr",
          "output_type": "stream",
          "text": [
            "\r38it [03:32,  5.58s/it]"
          ]
        },
        {
          "metadata": {
            "tags": null
          },
          "name": "stdout",
          "output_type": "stream",
          "text": [
            "06-20 07:19:04 [44] Lr: 0.000270, Training: 66.67%,  Loss: 2.78296, ACC: 48.42% \r\n"
          ]
        },
        {
          "metadata": {
            "tags": null
          },
          "name": "stderr",
          "output_type": "stream",
          "text": [
            "\r39it [03:37,  5.58s/it]"
          ]
        },
        {
          "metadata": {
            "tags": null
          },
          "name": "stdout",
          "output_type": "stream",
          "text": [
            "06-20 07:19:10 [44] Lr: 0.000270, Training: 68.42%,  Loss: 2.78482, ACC: 48.41% \r\n"
          ]
        },
        {
          "metadata": {
            "tags": null
          },
          "name": "stderr",
          "output_type": "stream",
          "text": [
            "\r40it [03:43,  5.57s/it]"
          ]
        },
        {
          "metadata": {
            "tags": null
          },
          "name": "stdout",
          "output_type": "stream",
          "text": [
            "06-20 07:19:15 [44] Lr: 0.000270, Training: 70.18%,  Loss: 2.77888, ACC: 48.45% \r\n"
          ]
        },
        {
          "metadata": {
            "tags": null
          },
          "name": "stderr",
          "output_type": "stream",
          "text": [
            "\r41it [03:48,  5.57s/it]"
          ]
        },
        {
          "metadata": {
            "tags": null
          },
          "name": "stdout",
          "output_type": "stream",
          "text": [
            "06-20 07:19:21 [44] Lr: 0.000270, Training: 71.93%,  Loss: 2.77938, ACC: 48.34% \r\n"
          ]
        },
        {
          "metadata": {
            "tags": null
          },
          "name": "stderr",
          "output_type": "stream",
          "text": [
            "\r42it [03:54,  5.58s/it]"
          ]
        },
        {
          "metadata": {
            "tags": null
          },
          "name": "stdout",
          "output_type": "stream",
          "text": [
            "06-20 07:19:27 [44] Lr: 0.000270, Training: 73.68%,  Loss: 2.77127, ACC: 48.49% \r\n"
          ]
        },
        {
          "metadata": {
            "tags": null
          },
          "name": "stderr",
          "output_type": "stream",
          "text": [
            "\r43it [03:59,  5.57s/it]"
          ]
        },
        {
          "metadata": {
            "tags": null
          },
          "name": "stdout",
          "output_type": "stream",
          "text": [
            "06-20 07:19:32 [44] Lr: 0.000270, Training: 75.44%,  Loss: 2.76979, ACC: 48.47% \r\n"
          ]
        },
        {
          "metadata": {
            "tags": null
          },
          "name": "stderr",
          "output_type": "stream",
          "text": [
            "\r44it [04:05,  5.57s/it]"
          ]
        },
        {
          "metadata": {
            "tags": null
          },
          "name": "stdout",
          "output_type": "stream",
          "text": [
            "06-20 07:19:38 [44] Lr: 0.000270, Training: 77.19%,  Loss: 2.76627, ACC: 48.47% \r\n"
          ]
        },
        {
          "metadata": {
            "tags": null
          },
          "name": "stderr",
          "output_type": "stream",
          "text": [
            "\r45it [04:11,  5.57s/it]"
          ]
        },
        {
          "metadata": {
            "tags": null
          },
          "name": "stdout",
          "output_type": "stream",
          "text": [
            "06-20 07:19:43 [44] Lr: 0.000270, Training: 78.95%,  Loss: 2.76377, ACC: 48.55% \r\n"
          ]
        },
        {
          "metadata": {
            "tags": null
          },
          "name": "stderr",
          "output_type": "stream",
          "text": [
            "\r46it [04:16,  5.56s/it]"
          ]
        },
        {
          "metadata": {
            "tags": null
          },
          "name": "stdout",
          "output_type": "stream",
          "text": [
            "06-20 07:19:49 [44] Lr: 0.000270, Training: 80.70%,  Loss: 2.76338, ACC: 48.62% \r\n"
          ]
        },
        {
          "metadata": {
            "tags": null
          },
          "name": "stderr",
          "output_type": "stream",
          "text": [
            "\r47it [04:22,  5.57s/it]"
          ]
        },
        {
          "metadata": {
            "tags": null
          },
          "name": "stdout",
          "output_type": "stream",
          "text": [
            "06-20 07:19:54 [44] Lr: 0.000270, Training: 82.46%,  Loss: 2.76216, ACC: 48.60% \r\n"
          ]
        },
        {
          "metadata": {
            "tags": null
          },
          "name": "stderr",
          "output_type": "stream",
          "text": [
            "\r48it [04:27,  5.57s/it]"
          ]
        },
        {
          "metadata": {
            "tags": null
          },
          "name": "stdout",
          "output_type": "stream",
          "text": [
            "06-20 07:20:00 [44] Lr: 0.000270, Training: 84.21%,  Loss: 2.75675, ACC: 48.63% \r\n"
          ]
        },
        {
          "metadata": {
            "tags": null
          },
          "name": "stderr",
          "output_type": "stream",
          "text": [
            "\r49it [04:33,  5.56s/it]"
          ]
        },
        {
          "metadata": {
            "tags": null
          },
          "name": "stdout",
          "output_type": "stream",
          "text": [
            "06-20 07:20:06 [44] Lr: 0.000270, Training: 85.96%,  Loss: 2.75356, ACC: 48.52% \r\n"
          ]
        },
        {
          "metadata": {
            "tags": null
          },
          "name": "stderr",
          "output_type": "stream",
          "text": [
            "\r50it [04:38,  5.56s/it]"
          ]
        },
        {
          "metadata": {
            "tags": null
          },
          "name": "stdout",
          "output_type": "stream",
          "text": [
            "06-20 07:20:11 [44] Lr: 0.000270, Training: 87.72%,  Loss: 2.75436, ACC: 48.59% \r\n"
          ]
        },
        {
          "metadata": {
            "tags": null
          },
          "name": "stderr",
          "output_type": "stream",
          "text": [
            "\r51it [04:44,  5.56s/it]"
          ]
        },
        {
          "metadata": {
            "tags": null
          },
          "name": "stdout",
          "output_type": "stream",
          "text": [
            "06-20 07:20:17 [44] Lr: 0.000270, Training: 89.47%,  Loss: 2.75631, ACC: 48.52% \r\n"
          ]
        },
        {
          "metadata": {
            "tags": null
          },
          "name": "stderr",
          "output_type": "stream",
          "text": [
            "\r52it [04:49,  5.56s/it]"
          ]
        },
        {
          "metadata": {
            "tags": null
          },
          "name": "stdout",
          "output_type": "stream",
          "text": [
            "06-20 07:20:22 [44] Lr: 0.000270, Training: 91.23%,  Loss: 2.75590, ACC: 48.56% \r\n"
          ]
        },
        {
          "metadata": {
            "tags": null
          },
          "name": "stderr",
          "output_type": "stream",
          "text": [
            "\r53it [04:55,  5.57s/it]"
          ]
        },
        {
          "metadata": {
            "tags": null
          },
          "name": "stdout",
          "output_type": "stream",
          "text": [
            "06-20 07:20:28 [44] Lr: 0.000270, Training: 92.98%,  Loss: 2.75201, ACC: 48.63% \r\n"
          ]
        },
        {
          "metadata": {
            "tags": null
          },
          "name": "stderr",
          "output_type": "stream",
          "text": [
            "\r54it [05:01,  5.56s/it]"
          ]
        },
        {
          "metadata": {
            "tags": null
          },
          "name": "stdout",
          "output_type": "stream",
          "text": [
            "06-20 07:20:33 [44] Lr: 0.000270, Training: 94.74%,  Loss: 2.74616, ACC: 48.69% \r\n"
          ]
        },
        {
          "metadata": {
            "tags": null
          },
          "name": "stderr",
          "output_type": "stream",
          "text": [
            "\r55it [05:06,  5.56s/it]"
          ]
        },
        {
          "metadata": {
            "tags": null
          },
          "name": "stdout",
          "output_type": "stream",
          "text": [
            "06-20 07:20:39 [44] Lr: 0.000270, Training: 96.49%,  Loss: 2.74817, ACC: 48.65% \r\n"
          ]
        },
        {
          "metadata": {
            "tags": null
          },
          "name": "stderr",
          "output_type": "stream",
          "text": [
            "\r56it [05:12,  5.56s/it]"
          ]
        },
        {
          "metadata": {
            "tags": null
          },
          "name": "stdout",
          "output_type": "stream",
          "text": [
            "06-20 07:20:44 [44] Lr: 0.000270, Training: 98.25%,  Loss: 2.74370, ACC: 48.76% \r\n"
          ]
        },
        {
          "metadata": {
            "tags": null
          },
          "name": "stderr",
          "output_type": "stream",
          "text": [
            "57it [05:16,  5.55s/it]"
          ]
        },
        {
          "metadata": {
            "tags": null
          },
          "name": "stdout",
          "output_type": "stream",
          "text": [
            "06-20 07:20:48 [44] Lr: 0.000270, Training: 100.00%,  Loss: 2.73847, ACC: 35.60% \r\n",
            "\n",
            "\n"
          ]
        },
        {
          "metadata": {
            "tags": null
          },
          "name": "stderr",
          "output_type": "stream",
          "text": [
            "\n",
            "  0%|          | 0/973 [00:00<?, ?it/s]<ipython-input-15-b61162519fae>:62: DeprecationWarning: `np.float` is a deprecated alias for the builtin `float`. To silence this warning, use `float` by itself. Doing this will not modify any behavior and is safe. If you specifically wanted the numpy scalar type, use `np.float64` here.\n",
            "Deprecated in NumPy 1.20; for more details and guidance: https://numpy.org/devdocs/release/1.20.0-notes.html#deprecations\n",
            "  feats = numpy.stack(feats, axis = 0).astype(numpy.float)\n",
            "100%|██████████| 973/973 [04:28<00:00,  3.62it/s]\n"
          ]
        },
        {
          "metadata": {
            "tags": null
          },
          "name": "stdout",
          "output_type": "stream",
          "text": [
            "2023-06-20 07:25:33 44 epoch, ACC 35.60%, EER 6.28%, bestEER 6.24%\n",
            "Epoch: 45\n"
          ]
        },
        {
          "metadata": {
            "tags": null
          },
          "name": "stderr",
          "output_type": "stream",
          "text": [
            "/usr/local/lib/python3.10/dist-packages/torch/optim/lr_scheduler.py:152: UserWarning: The epoch parameter in `scheduler.step()` was not necessary and is being deprecated where possible. Please use `scheduler.step()` to step the scheduler. During the deprecation, if epoch is different from None, the closed form is used instead of the new chainable form, where available. Please open an issue if you are unable to replicate your use case: https://github.com/pytorch/pytorch/issues/new/choose.\n",
            "  warnings.warn(EPOCH_DEPRECATION_WARNING, UserWarning)\n",
            "0it [00:00, ?it/s]/usr/local/lib/python3.10/dist-packages/torch/nn/functional.py:4999: UserWarning: Support for mismatched key_padding_mask and attn_mask is deprecated. Use same type for both instead.\n",
            "  warnings.warn(\n",
            "1it [00:06,  6.18s/it]"
          ]
        },
        {
          "metadata": {
            "tags": null
          },
          "name": "stdout",
          "output_type": "stream",
          "text": [
            "06-20 07:25:39 [45] Lr: 0.000262, Training: 1.75%,  Loss: 2.99793, ACC: 40.67% \r\n"
          ]
        },
        {
          "metadata": {
            "tags": null
          },
          "name": "stderr",
          "output_type": "stream",
          "text": [
            "\r2it [00:11,  5.73s/it]"
          ]
        },
        {
          "metadata": {
            "tags": null
          },
          "name": "stdout",
          "output_type": "stream",
          "text": [
            "06-20 07:25:45 [45] Lr: 0.000262, Training: 3.51%,  Loss: 2.71289, ACC: 46.67% \r\n"
          ]
        },
        {
          "metadata": {
            "tags": null
          },
          "name": "stderr",
          "output_type": "stream",
          "text": [
            "\r3it [00:17,  5.62s/it]"
          ]
        },
        {
          "metadata": {
            "tags": null
          },
          "name": "stdout",
          "output_type": "stream",
          "text": [
            "06-20 07:25:50 [45] Lr: 0.000262, Training: 5.26%,  Loss: 2.60819, ACC: 48.44% \r\n"
          ]
        },
        {
          "metadata": {
            "tags": null
          },
          "name": "stderr",
          "output_type": "stream",
          "text": [
            "\r4it [00:22,  5.55s/it]"
          ]
        },
        {
          "metadata": {
            "tags": null
          },
          "name": "stdout",
          "output_type": "stream",
          "text": [
            "06-20 07:25:56 [45] Lr: 0.000262, Training: 7.02%,  Loss: 2.63261, ACC: 48.67% \r\n"
          ]
        },
        {
          "metadata": {
            "tags": null
          },
          "name": "stderr",
          "output_type": "stream",
          "text": [
            "\r5it [00:27,  5.52s/it]"
          ]
        },
        {
          "metadata": {
            "tags": null
          },
          "name": "stdout",
          "output_type": "stream",
          "text": [
            "06-20 07:26:01 [45] Lr: 0.000262, Training: 8.77%,  Loss: 2.69387, ACC: 47.47% \r\n"
          ]
        },
        {
          "metadata": {
            "tags": null
          },
          "name": "stderr",
          "output_type": "stream",
          "text": [
            "\r6it [00:33,  5.50s/it]"
          ]
        },
        {
          "metadata": {
            "tags": null
          },
          "name": "stdout",
          "output_type": "stream",
          "text": [
            "06-20 07:26:07 [45] Lr: 0.000262, Training: 10.53%,  Loss: 2.70998, ACC: 47.11% \r\n"
          ]
        },
        {
          "metadata": {
            "tags": null
          },
          "name": "stderr",
          "output_type": "stream",
          "text": [
            "\r7it [00:38,  5.49s/it]"
          ]
        },
        {
          "metadata": {
            "tags": null
          },
          "name": "stdout",
          "output_type": "stream",
          "text": [
            "06-20 07:26:12 [45] Lr: 0.000262, Training: 12.28%,  Loss: 2.66269, ACC: 48.38% \r\n"
          ]
        },
        {
          "metadata": {
            "tags": null
          },
          "name": "stderr",
          "output_type": "stream",
          "text": [
            "\r8it [00:44,  5.48s/it]"
          ]
        },
        {
          "metadata": {
            "tags": null
          },
          "name": "stdout",
          "output_type": "stream",
          "text": [
            "06-20 07:26:18 [45] Lr: 0.000262, Training: 14.04%,  Loss: 2.66705, ACC: 48.58% \r\n"
          ]
        },
        {
          "metadata": {
            "tags": null
          },
          "name": "stderr",
          "output_type": "stream",
          "text": [
            "\r9it [00:49,  5.51s/it]"
          ]
        },
        {
          "metadata": {
            "tags": null
          },
          "name": "stdout",
          "output_type": "stream",
          "text": [
            "06-20 07:26:23 [45] Lr: 0.000262, Training: 15.79%,  Loss: 2.71027, ACC: 48.22% \r\n"
          ]
        },
        {
          "metadata": {
            "tags": null
          },
          "name": "stderr",
          "output_type": "stream",
          "text": [
            "\r10it [00:55,  5.51s/it]"
          ]
        },
        {
          "metadata": {
            "tags": null
          },
          "name": "stdout",
          "output_type": "stream",
          "text": [
            "06-20 07:26:29 [45] Lr: 0.000262, Training: 17.54%,  Loss: 2.69821, ACC: 48.60% \r\n"
          ]
        },
        {
          "metadata": {
            "tags": null
          },
          "name": "stderr",
          "output_type": "stream",
          "text": [
            "\r11it [01:00,  5.51s/it]"
          ]
        },
        {
          "metadata": {
            "tags": null
          },
          "name": "stdout",
          "output_type": "stream",
          "text": [
            "06-20 07:26:34 [45] Lr: 0.000262, Training: 19.30%,  Loss: 2.73822, ACC: 48.61% \r\n"
          ]
        },
        {
          "metadata": {
            "tags": null
          },
          "name": "stderr",
          "output_type": "stream",
          "text": [
            "\r12it [01:06,  5.50s/it]"
          ]
        },
        {
          "metadata": {
            "tags": null
          },
          "name": "stdout",
          "output_type": "stream",
          "text": [
            "06-20 07:26:40 [45] Lr: 0.000262, Training: 21.05%,  Loss: 2.75102, ACC: 48.39% \r\n"
          ]
        },
        {
          "metadata": {
            "tags": null
          },
          "name": "stderr",
          "output_type": "stream",
          "text": [
            "\r13it [01:11,  5.50s/it]"
          ]
        },
        {
          "metadata": {
            "tags": null
          },
          "name": "stdout",
          "output_type": "stream",
          "text": [
            "06-20 07:26:45 [45] Lr: 0.000262, Training: 22.81%,  Loss: 2.74910, ACC: 48.10% \r\n"
          ]
        },
        {
          "metadata": {
            "tags": null
          },
          "name": "stderr",
          "output_type": "stream",
          "text": [
            "\r14it [01:17,  5.49s/it]"
          ]
        },
        {
          "metadata": {
            "tags": null
          },
          "name": "stdout",
          "output_type": "stream",
          "text": [
            "06-20 07:26:51 [45] Lr: 0.000262, Training: 24.56%,  Loss: 2.72638, ACC: 48.62% \r\n"
          ]
        },
        {
          "metadata": {
            "tags": null
          },
          "name": "stderr",
          "output_type": "stream",
          "text": [
            "\r15it [01:22,  5.49s/it]"
          ]
        },
        {
          "metadata": {
            "tags": null
          },
          "name": "stdout",
          "output_type": "stream",
          "text": [
            "06-20 07:26:56 [45] Lr: 0.000262, Training: 26.32%,  Loss: 2.71942, ACC: 48.67% \r\n"
          ]
        },
        {
          "metadata": {
            "tags": null
          },
          "name": "stderr",
          "output_type": "stream",
          "text": [
            "\r16it [01:28,  5.49s/it]"
          ]
        },
        {
          "metadata": {
            "tags": null
          },
          "name": "stdout",
          "output_type": "stream",
          "text": [
            "06-20 07:27:02 [45] Lr: 0.000262, Training: 28.07%,  Loss: 2.72140, ACC: 48.83% \r\n"
          ]
        },
        {
          "metadata": {
            "tags": null
          },
          "name": "stderr",
          "output_type": "stream",
          "text": [
            "\r17it [01:33,  5.49s/it]"
          ]
        },
        {
          "metadata": {
            "tags": null
          },
          "name": "stdout",
          "output_type": "stream",
          "text": [
            "06-20 07:27:07 [45] Lr: 0.000262, Training: 29.82%,  Loss: 2.72656, ACC: 48.75% \r\n"
          ]
        },
        {
          "metadata": {
            "tags": null
          },
          "name": "stderr",
          "output_type": "stream",
          "text": [
            "\r18it [01:39,  5.49s/it]"
          ]
        },
        {
          "metadata": {
            "tags": null
          },
          "name": "stdout",
          "output_type": "stream",
          "text": [
            "06-20 07:27:13 [45] Lr: 0.000262, Training: 31.58%,  Loss: 2.74229, ACC: 48.59% \r\n"
          ]
        },
        {
          "metadata": {
            "tags": null
          },
          "name": "stderr",
          "output_type": "stream",
          "text": [
            "\r19it [01:44,  5.50s/it]"
          ]
        },
        {
          "metadata": {
            "tags": null
          },
          "name": "stdout",
          "output_type": "stream",
          "text": [
            "06-20 07:27:18 [45] Lr: 0.000262, Training: 33.33%,  Loss: 2.75191, ACC: 48.39% \r\n"
          ]
        },
        {
          "metadata": {
            "tags": null
          },
          "name": "stderr",
          "output_type": "stream",
          "text": [
            "\r20it [01:50,  5.50s/it]"
          ]
        },
        {
          "metadata": {
            "tags": null
          },
          "name": "stdout",
          "output_type": "stream",
          "text": [
            "06-20 07:27:24 [45] Lr: 0.000262, Training: 35.09%,  Loss: 2.73473, ACC: 48.80% \r\n"
          ]
        },
        {
          "metadata": {
            "tags": null
          },
          "name": "stderr",
          "output_type": "stream",
          "text": [
            "\r21it [01:55,  5.50s/it]"
          ]
        },
        {
          "metadata": {
            "tags": null
          },
          "name": "stdout",
          "output_type": "stream",
          "text": [
            "06-20 07:27:29 [45] Lr: 0.000262, Training: 36.84%,  Loss: 2.73366, ACC: 48.92% \r\n"
          ]
        },
        {
          "metadata": {
            "tags": null
          },
          "name": "stderr",
          "output_type": "stream",
          "text": [
            "\r22it [02:01,  5.51s/it]"
          ]
        },
        {
          "metadata": {
            "tags": null
          },
          "name": "stdout",
          "output_type": "stream",
          "text": [
            "06-20 07:27:35 [45] Lr: 0.000262, Training: 38.60%,  Loss: 2.73002, ACC: 48.79% \r\n"
          ]
        },
        {
          "metadata": {
            "tags": null
          },
          "name": "stderr",
          "output_type": "stream",
          "text": [
            "\r23it [02:06,  5.51s/it]"
          ]
        },
        {
          "metadata": {
            "tags": null
          },
          "name": "stdout",
          "output_type": "stream",
          "text": [
            "06-20 07:27:40 [45] Lr: 0.000262, Training: 40.35%,  Loss: 2.73254, ACC: 48.72% \r\n"
          ]
        },
        {
          "metadata": {
            "tags": null
          },
          "name": "stderr",
          "output_type": "stream",
          "text": [
            "\r24it [02:12,  5.51s/it]"
          ]
        },
        {
          "metadata": {
            "tags": null
          },
          "name": "stdout",
          "output_type": "stream",
          "text": [
            "06-20 07:27:46 [45] Lr: 0.000262, Training: 42.11%,  Loss: 2.73042, ACC: 48.64% \r\n"
          ]
        },
        {
          "metadata": {
            "tags": null
          },
          "name": "stderr",
          "output_type": "stream",
          "text": [
            "\r25it [02:17,  5.52s/it]"
          ]
        },
        {
          "metadata": {
            "tags": null
          },
          "name": "stdout",
          "output_type": "stream",
          "text": [
            "06-20 07:27:51 [45] Lr: 0.000262, Training: 43.86%,  Loss: 2.71707, ACC: 48.93% \r\n"
          ]
        },
        {
          "metadata": {
            "tags": null
          },
          "name": "stderr",
          "output_type": "stream",
          "text": [
            "\r26it [02:23,  5.52s/it]"
          ]
        },
        {
          "metadata": {
            "tags": null
          },
          "name": "stdout",
          "output_type": "stream",
          "text": [
            "06-20 07:27:57 [45] Lr: 0.000262, Training: 45.61%,  Loss: 2.72014, ACC: 48.95% \r\n"
          ]
        },
        {
          "metadata": {
            "tags": null
          },
          "name": "stderr",
          "output_type": "stream",
          "text": [
            "\r27it [02:29,  5.52s/it]"
          ]
        },
        {
          "metadata": {
            "tags": null
          },
          "name": "stdout",
          "output_type": "stream",
          "text": [
            "06-20 07:28:02 [45] Lr: 0.000262, Training: 47.37%,  Loss: 2.70727, ACC: 49.14% \r\n"
          ]
        },
        {
          "metadata": {
            "tags": null
          },
          "name": "stderr",
          "output_type": "stream",
          "text": [
            "\r28it [02:34,  5.53s/it]"
          ]
        },
        {
          "metadata": {
            "tags": null
          },
          "name": "stdout",
          "output_type": "stream",
          "text": [
            "06-20 07:28:08 [45] Lr: 0.000262, Training: 49.12%,  Loss: 2.69531, ACC: 49.33% \r\n"
          ]
        },
        {
          "metadata": {
            "tags": null
          },
          "name": "stderr",
          "output_type": "stream",
          "text": [
            "\r29it [02:40,  5.53s/it]"
          ]
        },
        {
          "metadata": {
            "tags": null
          },
          "name": "stdout",
          "output_type": "stream",
          "text": [
            "06-20 07:28:13 [45] Lr: 0.000262, Training: 50.88%,  Loss: 2.69390, ACC: 49.54% \r\n"
          ]
        },
        {
          "metadata": {
            "tags": null
          },
          "name": "stderr",
          "output_type": "stream",
          "text": [
            "\r30it [02:45,  5.53s/it]"
          ]
        },
        {
          "metadata": {
            "tags": null
          },
          "name": "stdout",
          "output_type": "stream",
          "text": [
            "06-20 07:28:19 [45] Lr: 0.000262, Training: 52.63%,  Loss: 2.70083, ACC: 49.47% \r\n"
          ]
        },
        {
          "metadata": {
            "tags": null
          },
          "name": "stderr",
          "output_type": "stream",
          "text": [
            "\r31it [02:51,  5.55s/it]"
          ]
        },
        {
          "metadata": {
            "tags": null
          },
          "name": "stdout",
          "output_type": "stream",
          "text": [
            "06-20 07:28:24 [45] Lr: 0.000262, Training: 54.39%,  Loss: 2.68731, ACC: 49.63% \r\n"
          ]
        },
        {
          "metadata": {
            "tags": null
          },
          "name": "stderr",
          "output_type": "stream",
          "text": [
            "\r32it [02:56,  5.54s/it]"
          ]
        },
        {
          "metadata": {
            "tags": null
          },
          "name": "stdout",
          "output_type": "stream",
          "text": [
            "06-20 07:28:30 [45] Lr: 0.000262, Training: 56.14%,  Loss: 2.70092, ACC: 49.58% \r\n"
          ]
        },
        {
          "metadata": {
            "tags": null
          },
          "name": "stderr",
          "output_type": "stream",
          "text": [
            "\r33it [03:02,  5.54s/it]"
          ]
        },
        {
          "metadata": {
            "tags": null
          },
          "name": "stdout",
          "output_type": "stream",
          "text": [
            "06-20 07:28:36 [45] Lr: 0.000262, Training: 57.89%,  Loss: 2.70786, ACC: 49.45% \r\n"
          ]
        },
        {
          "metadata": {
            "tags": null
          },
          "name": "stderr",
          "output_type": "stream",
          "text": [
            "\r34it [03:07,  5.53s/it]"
          ]
        },
        {
          "metadata": {
            "tags": null
          },
          "name": "stdout",
          "output_type": "stream",
          "text": [
            "06-20 07:28:41 [45] Lr: 0.000262, Training: 59.65%,  Loss: 2.70847, ACC: 49.43% \r\n"
          ]
        },
        {
          "metadata": {
            "tags": null
          },
          "name": "stderr",
          "output_type": "stream",
          "text": [
            "\r35it [03:13,  5.54s/it]"
          ]
        },
        {
          "metadata": {
            "tags": null
          },
          "name": "stdout",
          "output_type": "stream",
          "text": [
            "06-20 07:28:47 [45] Lr: 0.000262, Training: 61.40%,  Loss: 2.71926, ACC: 49.39% \r\n"
          ]
        },
        {
          "metadata": {
            "tags": null
          },
          "name": "stderr",
          "output_type": "stream",
          "text": [
            "\r36it [03:18,  5.54s/it]"
          ]
        },
        {
          "metadata": {
            "tags": null
          },
          "name": "stdout",
          "output_type": "stream",
          "text": [
            "06-20 07:28:52 [45] Lr: 0.000262, Training: 63.16%,  Loss: 2.71046, ACC: 49.65% \r\n"
          ]
        },
        {
          "metadata": {
            "tags": null
          },
          "name": "stderr",
          "output_type": "stream",
          "text": [
            "\r37it [03:24,  5.54s/it]"
          ]
        },
        {
          "metadata": {
            "tags": null
          },
          "name": "stdout",
          "output_type": "stream",
          "text": [
            "06-20 07:28:58 [45] Lr: 0.000262, Training: 64.91%,  Loss: 2.71296, ACC: 49.59% \r\n"
          ]
        },
        {
          "metadata": {
            "tags": null
          },
          "name": "stderr",
          "output_type": "stream",
          "text": [
            "\r38it [03:30,  5.56s/it]"
          ]
        },
        {
          "metadata": {
            "tags": null
          },
          "name": "stdout",
          "output_type": "stream",
          "text": [
            "06-20 07:29:03 [45] Lr: 0.000262, Training: 66.67%,  Loss: 2.71659, ACC: 49.54% \r\n"
          ]
        },
        {
          "metadata": {
            "tags": null
          },
          "name": "stderr",
          "output_type": "stream",
          "text": [
            "\r39it [03:35,  5.56s/it]"
          ]
        },
        {
          "metadata": {
            "tags": null
          },
          "name": "stdout",
          "output_type": "stream",
          "text": [
            "06-20 07:29:09 [45] Lr: 0.000262, Training: 68.42%,  Loss: 2.71227, ACC: 49.54% \r\n"
          ]
        },
        {
          "metadata": {
            "tags": null
          },
          "name": "stderr",
          "output_type": "stream",
          "text": [
            "\r40it [03:41,  5.55s/it]"
          ]
        },
        {
          "metadata": {
            "tags": null
          },
          "name": "stdout",
          "output_type": "stream",
          "text": [
            "06-20 07:29:14 [45] Lr: 0.000262, Training: 70.18%,  Loss: 2.70381, ACC: 49.58% \r\n"
          ]
        },
        {
          "metadata": {
            "tags": null
          },
          "name": "stderr",
          "output_type": "stream",
          "text": [
            "\r41it [03:46,  5.57s/it]"
          ]
        },
        {
          "metadata": {
            "tags": null
          },
          "name": "stdout",
          "output_type": "stream",
          "text": [
            "06-20 07:29:20 [45] Lr: 0.000262, Training: 71.93%,  Loss: 2.70289, ACC: 49.50% \r\n"
          ]
        },
        {
          "metadata": {
            "tags": null
          },
          "name": "stderr",
          "output_type": "stream",
          "text": [
            "\r42it [03:52,  5.56s/it]"
          ]
        },
        {
          "metadata": {
            "tags": null
          },
          "name": "stdout",
          "output_type": "stream",
          "text": [
            "06-20 07:29:26 [45] Lr: 0.000262, Training: 73.68%,  Loss: 2.70237, ACC: 49.41% \r\n"
          ]
        },
        {
          "metadata": {
            "tags": null
          },
          "name": "stderr",
          "output_type": "stream",
          "text": [
            "\r43it [03:57,  5.56s/it]"
          ]
        },
        {
          "metadata": {
            "tags": null
          },
          "name": "stdout",
          "output_type": "stream",
          "text": [
            "06-20 07:29:31 [45] Lr: 0.000262, Training: 75.44%,  Loss: 2.69800, ACC: 49.67% \r\n"
          ]
        },
        {
          "metadata": {
            "tags": null
          },
          "name": "stderr",
          "output_type": "stream",
          "text": [
            "\r44it [04:03,  5.57s/it]"
          ]
        },
        {
          "metadata": {
            "tags": null
          },
          "name": "stdout",
          "output_type": "stream",
          "text": [
            "06-20 07:29:37 [45] Lr: 0.000262, Training: 77.19%,  Loss: 2.69334, ACC: 49.70% \r\n"
          ]
        },
        {
          "metadata": {
            "tags": null
          },
          "name": "stderr",
          "output_type": "stream",
          "text": [
            "\r45it [04:09,  5.56s/it]"
          ]
        },
        {
          "metadata": {
            "tags": null
          },
          "name": "stdout",
          "output_type": "stream",
          "text": [
            "06-20 07:29:42 [45] Lr: 0.000262, Training: 78.95%,  Loss: 2.69383, ACC: 49.59% \r\n"
          ]
        },
        {
          "metadata": {
            "tags": null
          },
          "name": "stderr",
          "output_type": "stream",
          "text": [
            "\r46it [04:14,  5.56s/it]"
          ]
        },
        {
          "metadata": {
            "tags": null
          },
          "name": "stdout",
          "output_type": "stream",
          "text": [
            "06-20 07:29:48 [45] Lr: 0.000262, Training: 80.70%,  Loss: 2.69540, ACC: 49.61% \r\n"
          ]
        },
        {
          "metadata": {
            "tags": null
          },
          "name": "stderr",
          "output_type": "stream",
          "text": [
            "\r47it [04:20,  5.56s/it]"
          ]
        },
        {
          "metadata": {
            "tags": null
          },
          "name": "stdout",
          "output_type": "stream",
          "text": [
            "06-20 07:29:53 [45] Lr: 0.000262, Training: 82.46%,  Loss: 2.69815, ACC: 49.63% \r\n"
          ]
        },
        {
          "metadata": {
            "tags": null
          },
          "name": "stderr",
          "output_type": "stream",
          "text": [
            "\r48it [04:25,  5.55s/it]"
          ]
        },
        {
          "metadata": {
            "tags": null
          },
          "name": "stdout",
          "output_type": "stream",
          "text": [
            "06-20 07:29:59 [45] Lr: 0.000262, Training: 84.21%,  Loss: 2.68914, ACC: 49.64% \r\n"
          ]
        },
        {
          "metadata": {
            "tags": null
          },
          "name": "stderr",
          "output_type": "stream",
          "text": [
            "\r49it [04:31,  5.56s/it]"
          ]
        },
        {
          "metadata": {
            "tags": null
          },
          "name": "stdout",
          "output_type": "stream",
          "text": [
            "06-20 07:30:04 [45] Lr: 0.000262, Training: 85.96%,  Loss: 2.68787, ACC: 49.61% \r\n"
          ]
        },
        {
          "metadata": {
            "tags": null
          },
          "name": "stderr",
          "output_type": "stream",
          "text": [
            "\r50it [04:36,  5.55s/it]"
          ]
        },
        {
          "metadata": {
            "tags": null
          },
          "name": "stdout",
          "output_type": "stream",
          "text": [
            "06-20 07:30:10 [45] Lr: 0.000262, Training: 87.72%,  Loss: 2.68992, ACC: 49.56% \r\n"
          ]
        },
        {
          "metadata": {
            "tags": null
          },
          "name": "stderr",
          "output_type": "stream",
          "text": [
            "\r51it [04:42,  5.55s/it]"
          ]
        },
        {
          "metadata": {
            "tags": null
          },
          "name": "stdout",
          "output_type": "stream",
          "text": [
            "06-20 07:30:16 [45] Lr: 0.000262, Training: 89.47%,  Loss: 2.68385, ACC: 49.69% \r\n"
          ]
        },
        {
          "metadata": {
            "tags": null
          },
          "name": "stderr",
          "output_type": "stream",
          "text": [
            "\r52it [04:47,  5.54s/it]"
          ]
        },
        {
          "metadata": {
            "tags": null
          },
          "name": "stdout",
          "output_type": "stream",
          "text": [
            "06-20 07:30:21 [45] Lr: 0.000262, Training: 91.23%,  Loss: 2.68605, ACC: 49.71% \r\n"
          ]
        },
        {
          "metadata": {
            "tags": null
          },
          "name": "stderr",
          "output_type": "stream",
          "text": [
            "\r53it [04:53,  5.56s/it]"
          ]
        },
        {
          "metadata": {
            "tags": null
          },
          "name": "stdout",
          "output_type": "stream",
          "text": [
            "06-20 07:30:27 [45] Lr: 0.000262, Training: 92.98%,  Loss: 2.70046, ACC: 49.51% \r\n"
          ]
        },
        {
          "metadata": {
            "tags": null
          },
          "name": "stderr",
          "output_type": "stream",
          "text": [
            "\r54it [04:58,  5.55s/it]"
          ]
        },
        {
          "metadata": {
            "tags": null
          },
          "name": "stdout",
          "output_type": "stream",
          "text": [
            "06-20 07:30:32 [45] Lr: 0.000262, Training: 94.74%,  Loss: 2.69951, ACC: 49.56% \r\n"
          ]
        },
        {
          "metadata": {
            "tags": null
          },
          "name": "stderr",
          "output_type": "stream",
          "text": [
            "\r55it [05:04,  5.55s/it]"
          ]
        },
        {
          "metadata": {
            "tags": null
          },
          "name": "stdout",
          "output_type": "stream",
          "text": [
            "06-20 07:30:38 [45] Lr: 0.000262, Training: 96.49%,  Loss: 2.70148, ACC: 49.54% \r\n"
          ]
        },
        {
          "metadata": {
            "tags": null
          },
          "name": "stderr",
          "output_type": "stream",
          "text": [
            "\r56it [05:10,  5.55s/it]"
          ]
        },
        {
          "metadata": {
            "tags": null
          },
          "name": "stdout",
          "output_type": "stream",
          "text": [
            "06-20 07:30:43 [45] Lr: 0.000262, Training: 98.25%,  Loss: 2.70546, ACC: 49.45% \r\n"
          ]
        },
        {
          "metadata": {
            "tags": null
          },
          "name": "stderr",
          "output_type": "stream",
          "text": [
            "57it [05:14,  5.51s/it]"
          ]
        },
        {
          "metadata": {
            "tags": null
          },
          "name": "stdout",
          "output_type": "stream",
          "text": [
            "06-20 07:30:47 [45] Lr: 0.000262, Training: 100.00%,  Loss: 2.70478, ACC: 36.06% \r\n",
            "\n",
            "\n"
          ]
        },
        {
          "metadata": {
            "tags": null
          },
          "name": "stderr",
          "output_type": "stream",
          "text": [
            "\n",
            "  0%|          | 0/973 [00:00<?, ?it/s]<ipython-input-15-b61162519fae>:62: DeprecationWarning: `np.float` is a deprecated alias for the builtin `float`. To silence this warning, use `float` by itself. Doing this will not modify any behavior and is safe. If you specifically wanted the numpy scalar type, use `np.float64` here.\n",
            "Deprecated in NumPy 1.20; for more details and guidance: https://numpy.org/devdocs/release/1.20.0-notes.html#deprecations\n",
            "  feats = numpy.stack(feats, axis = 0).astype(numpy.float)\n",
            "100%|██████████| 973/973 [04:42<00:00,  3.44it/s]\n"
          ]
        },
        {
          "metadata": {
            "tags": null
          },
          "name": "stdout",
          "output_type": "stream",
          "text": [
            "2023-06-20 07:35:40 45 epoch, ACC 36.06%, EER 6.20%, bestEER 6.20%\n",
            "Epoch: 46\n"
          ]
        },
        {
          "metadata": {
            "tags": null
          },
          "name": "stderr",
          "output_type": "stream",
          "text": [
            "/usr/local/lib/python3.10/dist-packages/torch/optim/lr_scheduler.py:152: UserWarning: The epoch parameter in `scheduler.step()` was not necessary and is being deprecated where possible. Please use `scheduler.step()` to step the scheduler. During the deprecation, if epoch is different from None, the closed form is used instead of the new chainable form, where available. Please open an issue if you are unable to replicate your use case: https://github.com/pytorch/pytorch/issues/new/choose.\n",
            "  warnings.warn(EPOCH_DEPRECATION_WARNING, UserWarning)\n",
            "0it [00:00, ?it/s]/usr/local/lib/python3.10/dist-packages/torch/nn/functional.py:4999: UserWarning: Support for mismatched key_padding_mask and attn_mask is deprecated. Use same type for both instead.\n",
            "  warnings.warn(\n",
            "1it [00:06,  6.18s/it]"
          ]
        },
        {
          "metadata": {
            "tags": null
          },
          "name": "stdout",
          "output_type": "stream",
          "text": [
            "06-20 07:35:46 [46] Lr: 0.000254, Training: 1.75%,  Loss: 2.75895, ACC: 50.67% \r\n"
          ]
        },
        {
          "metadata": {
            "tags": null
          },
          "name": "stderr",
          "output_type": "stream",
          "text": [
            "\r2it [00:11,  5.75s/it]"
          ]
        },
        {
          "metadata": {
            "tags": null
          },
          "name": "stdout",
          "output_type": "stream",
          "text": [
            "06-20 07:35:52 [46] Lr: 0.000254, Training: 3.51%,  Loss: 2.68141, ACC: 52.67% \r\n"
          ]
        },
        {
          "metadata": {
            "tags": null
          },
          "name": "stderr",
          "output_type": "stream",
          "text": [
            "\r3it [00:17,  5.63s/it]"
          ]
        },
        {
          "metadata": {
            "tags": null
          },
          "name": "stdout",
          "output_type": "stream",
          "text": [
            "06-20 07:35:57 [46] Lr: 0.000254, Training: 5.26%,  Loss: 2.81151, ACC: 49.11% \r\n"
          ]
        },
        {
          "metadata": {
            "tags": null
          },
          "name": "stderr",
          "output_type": "stream",
          "text": [
            "\r4it [00:22,  5.57s/it]"
          ]
        },
        {
          "metadata": {
            "tags": null
          },
          "name": "stdout",
          "output_type": "stream",
          "text": [
            "06-20 07:36:03 [46] Lr: 0.000254, Training: 7.02%,  Loss: 2.83488, ACC: 47.33% \r\n"
          ]
        },
        {
          "metadata": {
            "tags": null
          },
          "name": "stderr",
          "output_type": "stream",
          "text": [
            "\r5it [00:28,  5.54s/it]"
          ]
        },
        {
          "metadata": {
            "tags": null
          },
          "name": "stdout",
          "output_type": "stream",
          "text": [
            "06-20 07:36:08 [46] Lr: 0.000254, Training: 8.77%,  Loss: 2.77986, ACC: 48.00% \r\n"
          ]
        },
        {
          "metadata": {
            "tags": null
          },
          "name": "stderr",
          "output_type": "stream",
          "text": [
            "\r6it [00:33,  5.52s/it]"
          ]
        },
        {
          "metadata": {
            "tags": null
          },
          "name": "stdout",
          "output_type": "stream",
          "text": [
            "06-20 07:36:14 [46] Lr: 0.000254, Training: 10.53%,  Loss: 2.67517, ACC: 49.00% \r\n"
          ]
        },
        {
          "metadata": {
            "tags": null
          },
          "name": "stderr",
          "output_type": "stream",
          "text": [
            "\r7it [00:39,  5.51s/it]"
          ]
        },
        {
          "metadata": {
            "tags": null
          },
          "name": "stdout",
          "output_type": "stream",
          "text": [
            "06-20 07:36:19 [46] Lr: 0.000254, Training: 12.28%,  Loss: 2.69064, ACC: 48.76% \r\n"
          ]
        },
        {
          "metadata": {
            "tags": null
          },
          "name": "stderr",
          "output_type": "stream",
          "text": [
            "\r8it [00:44,  5.50s/it]"
          ]
        },
        {
          "metadata": {
            "tags": null
          },
          "name": "stdout",
          "output_type": "stream",
          "text": [
            "06-20 07:36:25 [46] Lr: 0.000254, Training: 14.04%,  Loss: 2.63880, ACC: 49.67% \r\n"
          ]
        },
        {
          "metadata": {
            "tags": null
          },
          "name": "stderr",
          "output_type": "stream",
          "text": [
            "\r9it [00:50,  5.50s/it]"
          ]
        },
        {
          "metadata": {
            "tags": null
          },
          "name": "stdout",
          "output_type": "stream",
          "text": [
            "06-20 07:36:30 [46] Lr: 0.000254, Training: 15.79%,  Loss: 2.65740, ACC: 49.63% \r\n"
          ]
        },
        {
          "metadata": {
            "tags": null
          },
          "name": "stderr",
          "output_type": "stream",
          "text": [
            "\r10it [00:55,  5.50s/it]"
          ]
        },
        {
          "metadata": {
            "tags": null
          },
          "name": "stdout",
          "output_type": "stream",
          "text": [
            "06-20 07:36:36 [46] Lr: 0.000254, Training: 17.54%,  Loss: 2.67887, ACC: 49.33% \r\n"
          ]
        },
        {
          "metadata": {
            "tags": null
          },
          "name": "stderr",
          "output_type": "stream",
          "text": [
            "\r11it [01:01,  5.50s/it]"
          ]
        },
        {
          "metadata": {
            "tags": null
          },
          "name": "stdout",
          "output_type": "stream",
          "text": [
            "06-20 07:36:41 [46] Lr: 0.000254, Training: 19.30%,  Loss: 2.68682, ACC: 49.33% \r\n"
          ]
        },
        {
          "metadata": {
            "tags": null
          },
          "name": "stderr",
          "output_type": "stream",
          "text": [
            "\r12it [01:06,  5.50s/it]"
          ]
        },
        {
          "metadata": {
            "tags": null
          },
          "name": "stdout",
          "output_type": "stream",
          "text": [
            "06-20 07:36:47 [46] Lr: 0.000254, Training: 21.05%,  Loss: 2.64523, ACC: 49.61% \r\n"
          ]
        },
        {
          "metadata": {
            "tags": null
          },
          "name": "stderr",
          "output_type": "stream",
          "text": [
            "\r13it [01:12,  5.52s/it]"
          ]
        },
        {
          "metadata": {
            "tags": null
          },
          "name": "stdout",
          "output_type": "stream",
          "text": [
            "06-20 07:36:52 [46] Lr: 0.000254, Training: 22.81%,  Loss: 2.65457, ACC: 49.23% \r\n"
          ]
        },
        {
          "metadata": {
            "tags": null
          },
          "name": "stderr",
          "output_type": "stream",
          "text": [
            "\r14it [01:17,  5.51s/it]"
          ]
        },
        {
          "metadata": {
            "tags": null
          },
          "name": "stdout",
          "output_type": "stream",
          "text": [
            "06-20 07:36:58 [46] Lr: 0.000254, Training: 24.56%,  Loss: 2.64152, ACC: 49.57% \r\n"
          ]
        },
        {
          "metadata": {
            "tags": null
          },
          "name": "stderr",
          "output_type": "stream",
          "text": [
            "\r15it [01:23,  5.51s/it]"
          ]
        },
        {
          "metadata": {
            "tags": null
          },
          "name": "stdout",
          "output_type": "stream",
          "text": [
            "06-20 07:37:03 [46] Lr: 0.000254, Training: 26.32%,  Loss: 2.64888, ACC: 49.60% \r\n"
          ]
        },
        {
          "metadata": {
            "tags": null
          },
          "name": "stderr",
          "output_type": "stream",
          "text": [
            "\r16it [01:28,  5.51s/it]"
          ]
        },
        {
          "metadata": {
            "tags": null
          },
          "name": "stdout",
          "output_type": "stream",
          "text": [
            "06-20 07:37:09 [46] Lr: 0.000254, Training: 28.07%,  Loss: 2.65921, ACC: 49.42% \r\n"
          ]
        },
        {
          "metadata": {
            "tags": null
          },
          "name": "stderr",
          "output_type": "stream",
          "text": [
            "\r17it [01:34,  5.51s/it]"
          ]
        },
        {
          "metadata": {
            "tags": null
          },
          "name": "stdout",
          "output_type": "stream",
          "text": [
            "06-20 07:37:14 [46] Lr: 0.000254, Training: 29.82%,  Loss: 2.67663, ACC: 49.22% \r\n"
          ]
        },
        {
          "metadata": {
            "tags": null
          },
          "name": "stderr",
          "output_type": "stream",
          "text": [
            "\r18it [01:39,  5.51s/it]"
          ]
        },
        {
          "metadata": {
            "tags": null
          },
          "name": "stdout",
          "output_type": "stream",
          "text": [
            "06-20 07:37:20 [46] Lr: 0.000254, Training: 31.58%,  Loss: 2.68422, ACC: 49.37% \r\n"
          ]
        },
        {
          "metadata": {
            "tags": null
          },
          "name": "stderr",
          "output_type": "stream",
          "text": [
            "\r19it [01:45,  5.53s/it]"
          ]
        },
        {
          "metadata": {
            "tags": null
          },
          "name": "stdout",
          "output_type": "stream",
          "text": [
            "06-20 07:37:25 [46] Lr: 0.000254, Training: 33.33%,  Loss: 2.66635, ACC: 49.61% \r\n"
          ]
        },
        {
          "metadata": {
            "tags": null
          },
          "name": "stderr",
          "output_type": "stream",
          "text": [
            "\r20it [01:50,  5.53s/it]"
          ]
        },
        {
          "metadata": {
            "tags": null
          },
          "name": "stdout",
          "output_type": "stream",
          "text": [
            "06-20 07:37:31 [46] Lr: 0.000254, Training: 35.09%,  Loss: 2.68275, ACC: 49.37% \r\n"
          ]
        },
        {
          "metadata": {
            "tags": null
          },
          "name": "stderr",
          "output_type": "stream",
          "text": [
            "\r21it [01:56,  5.53s/it]"
          ]
        },
        {
          "metadata": {
            "tags": null
          },
          "name": "stdout",
          "output_type": "stream",
          "text": [
            "06-20 07:37:36 [46] Lr: 0.000254, Training: 36.84%,  Loss: 2.68489, ACC: 49.46% \r\n"
          ]
        },
        {
          "metadata": {
            "tags": null
          },
          "name": "stderr",
          "output_type": "stream",
          "text": [
            "\r22it [02:01,  5.53s/it]"
          ]
        },
        {
          "metadata": {
            "tags": null
          },
          "name": "stdout",
          "output_type": "stream",
          "text": [
            "06-20 07:37:42 [46] Lr: 0.000254, Training: 38.60%,  Loss: 2.68066, ACC: 49.39% \r\n"
          ]
        },
        {
          "metadata": {
            "tags": null
          },
          "name": "stderr",
          "output_type": "stream",
          "text": [
            "\r23it [02:07,  5.54s/it]"
          ]
        },
        {
          "metadata": {
            "tags": null
          },
          "name": "stdout",
          "output_type": "stream",
          "text": [
            "06-20 07:37:48 [46] Lr: 0.000254, Training: 40.35%,  Loss: 2.69279, ACC: 49.36% \r\n"
          ]
        },
        {
          "metadata": {
            "tags": null
          },
          "name": "stderr",
          "output_type": "stream",
          "text": [
            "\r24it [02:12,  5.54s/it]"
          ]
        },
        {
          "metadata": {
            "tags": null
          },
          "name": "stdout",
          "output_type": "stream",
          "text": [
            "06-20 07:37:53 [46] Lr: 0.000254, Training: 42.11%,  Loss: 2.68648, ACC: 49.44% \r\n"
          ]
        },
        {
          "metadata": {
            "tags": null
          },
          "name": "stderr",
          "output_type": "stream",
          "text": [
            "\r25it [02:18,  5.55s/it]"
          ]
        },
        {
          "metadata": {
            "tags": null
          },
          "name": "stdout",
          "output_type": "stream",
          "text": [
            "06-20 07:37:59 [46] Lr: 0.000254, Training: 43.86%,  Loss: 2.68170, ACC: 49.57% \r\n"
          ]
        },
        {
          "metadata": {
            "tags": null
          },
          "name": "stderr",
          "output_type": "stream",
          "text": [
            "\r26it [02:24,  5.55s/it]"
          ]
        },
        {
          "metadata": {
            "tags": null
          },
          "name": "stdout",
          "output_type": "stream",
          "text": [
            "06-20 07:38:04 [46] Lr: 0.000254, Training: 45.61%,  Loss: 2.68973, ACC: 49.51% \r\n"
          ]
        },
        {
          "metadata": {
            "tags": null
          },
          "name": "stderr",
          "output_type": "stream",
          "text": [
            "\r27it [02:29,  5.55s/it]"
          ]
        },
        {
          "metadata": {
            "tags": null
          },
          "name": "stdout",
          "output_type": "stream",
          "text": [
            "06-20 07:38:10 [46] Lr: 0.000254, Training: 47.37%,  Loss: 2.67349, ACC: 49.60% \r\n"
          ]
        },
        {
          "metadata": {
            "tags": null
          },
          "name": "stderr",
          "output_type": "stream",
          "text": [
            "\r28it [02:35,  5.57s/it]"
          ]
        },
        {
          "metadata": {
            "tags": null
          },
          "name": "stdout",
          "output_type": "stream",
          "text": [
            "06-20 07:38:15 [46] Lr: 0.000254, Training: 49.12%,  Loss: 2.67863, ACC: 49.45% \r\n"
          ]
        },
        {
          "metadata": {
            "tags": null
          },
          "name": "stderr",
          "output_type": "stream",
          "text": [
            "\r29it [02:40,  5.57s/it]"
          ]
        },
        {
          "metadata": {
            "tags": null
          },
          "name": "stdout",
          "output_type": "stream",
          "text": [
            "06-20 07:38:21 [46] Lr: 0.000254, Training: 50.88%,  Loss: 2.67827, ACC: 49.47% \r\n"
          ]
        },
        {
          "metadata": {
            "tags": null
          },
          "name": "stderr",
          "output_type": "stream",
          "text": [
            "\r30it [02:46,  5.57s/it]"
          ]
        },
        {
          "metadata": {
            "tags": null
          },
          "name": "stdout",
          "output_type": "stream",
          "text": [
            "06-20 07:38:26 [46] Lr: 0.000254, Training: 52.63%,  Loss: 2.67707, ACC: 49.42% \r\n"
          ]
        },
        {
          "metadata": {
            "tags": null
          },
          "name": "stderr",
          "output_type": "stream",
          "text": [
            "\r31it [02:51,  5.58s/it]"
          ]
        },
        {
          "metadata": {
            "tags": null
          },
          "name": "stdout",
          "output_type": "stream",
          "text": [
            "06-20 07:38:32 [46] Lr: 0.000254, Training: 54.39%,  Loss: 2.67263, ACC: 49.35% \r\n"
          ]
        },
        {
          "metadata": {
            "tags": null
          },
          "name": "stderr",
          "output_type": "stream",
          "text": [
            "\r32it [02:57,  5.57s/it]"
          ]
        },
        {
          "metadata": {
            "tags": null
          },
          "name": "stdout",
          "output_type": "stream",
          "text": [
            "06-20 07:38:38 [46] Lr: 0.000254, Training: 56.14%,  Loss: 2.68192, ACC: 49.27% \r\n"
          ]
        },
        {
          "metadata": {
            "tags": null
          },
          "name": "stderr",
          "output_type": "stream",
          "text": [
            "\r33it [03:03,  5.57s/it]"
          ]
        },
        {
          "metadata": {
            "tags": null
          },
          "name": "stdout",
          "output_type": "stream",
          "text": [
            "06-20 07:38:43 [46] Lr: 0.000254, Training: 57.89%,  Loss: 2.69154, ACC: 49.23% \r\n"
          ]
        },
        {
          "metadata": {
            "tags": null
          },
          "name": "stderr",
          "output_type": "stream",
          "text": [
            "\r34it [03:08,  5.59s/it]"
          ]
        },
        {
          "metadata": {
            "tags": null
          },
          "name": "stdout",
          "output_type": "stream",
          "text": [
            "06-20 07:38:49 [46] Lr: 0.000254, Training: 59.65%,  Loss: 2.68149, ACC: 49.51% \r\n"
          ]
        },
        {
          "metadata": {
            "tags": null
          },
          "name": "stderr",
          "output_type": "stream",
          "text": [
            "\r35it [03:14,  5.59s/it]"
          ]
        },
        {
          "metadata": {
            "tags": null
          },
          "name": "stdout",
          "output_type": "stream",
          "text": [
            "06-20 07:38:54 [46] Lr: 0.000254, Training: 61.40%,  Loss: 2.67147, ACC: 49.68% \r\n"
          ]
        },
        {
          "metadata": {
            "tags": null
          },
          "name": "stderr",
          "output_type": "stream",
          "text": [
            "\r36it [03:19,  5.58s/it]"
          ]
        },
        {
          "metadata": {
            "tags": null
          },
          "name": "stdout",
          "output_type": "stream",
          "text": [
            "06-20 07:39:00 [46] Lr: 0.000254, Training: 63.16%,  Loss: 2.68234, ACC: 49.52% \r\n"
          ]
        },
        {
          "metadata": {
            "tags": null
          },
          "name": "stderr",
          "output_type": "stream",
          "text": [
            "\r37it [03:25,  5.60s/it]"
          ]
        },
        {
          "metadata": {
            "tags": null
          },
          "name": "stdout",
          "output_type": "stream",
          "text": [
            "06-20 07:39:06 [46] Lr: 0.000254, Training: 64.91%,  Loss: 2.68488, ACC: 49.51% \r\n"
          ]
        },
        {
          "metadata": {
            "tags": null
          },
          "name": "stderr",
          "output_type": "stream",
          "text": [
            "\r38it [03:31,  5.59s/it]"
          ]
        },
        {
          "metadata": {
            "tags": null
          },
          "name": "stdout",
          "output_type": "stream",
          "text": [
            "06-20 07:39:11 [46] Lr: 0.000254, Training: 66.67%,  Loss: 2.68764, ACC: 49.47% \r\n"
          ]
        },
        {
          "metadata": {
            "tags": null
          },
          "name": "stderr",
          "output_type": "stream",
          "text": [
            "\r39it [03:36,  5.59s/it]"
          ]
        },
        {
          "metadata": {
            "tags": null
          },
          "name": "stdout",
          "output_type": "stream",
          "text": [
            "06-20 07:39:17 [46] Lr: 0.000254, Training: 68.42%,  Loss: 2.68339, ACC: 49.40% \r\n"
          ]
        },
        {
          "metadata": {
            "tags": null
          },
          "name": "stderr",
          "output_type": "stream",
          "text": [
            "\r40it [03:42,  5.59s/it]"
          ]
        },
        {
          "metadata": {
            "tags": null
          },
          "name": "stdout",
          "output_type": "stream",
          "text": [
            "06-20 07:39:22 [46] Lr: 0.000254, Training: 70.18%,  Loss: 2.68406, ACC: 49.38% \r\n"
          ]
        },
        {
          "metadata": {
            "tags": null
          },
          "name": "stderr",
          "output_type": "stream",
          "text": [
            "\r41it [03:47,  5.59s/it]"
          ]
        },
        {
          "metadata": {
            "tags": null
          },
          "name": "stdout",
          "output_type": "stream",
          "text": [
            "06-20 07:39:28 [46] Lr: 0.000254, Training: 71.93%,  Loss: 2.67860, ACC: 49.51% \r\n"
          ]
        },
        {
          "metadata": {
            "tags": null
          },
          "name": "stderr",
          "output_type": "stream",
          "text": [
            "\r42it [03:53,  5.58s/it]"
          ]
        },
        {
          "metadata": {
            "tags": null
          },
          "name": "stdout",
          "output_type": "stream",
          "text": [
            "06-20 07:39:34 [46] Lr: 0.000254, Training: 73.68%,  Loss: 2.68404, ACC: 49.48% \r\n"
          ]
        },
        {
          "metadata": {
            "tags": null
          },
          "name": "stderr",
          "output_type": "stream",
          "text": [
            "\r43it [03:58,  5.59s/it]"
          ]
        },
        {
          "metadata": {
            "tags": null
          },
          "name": "stdout",
          "output_type": "stream",
          "text": [
            "06-20 07:39:39 [46] Lr: 0.000254, Training: 75.44%,  Loss: 2.67966, ACC: 49.60% \r\n"
          ]
        },
        {
          "metadata": {
            "tags": null
          },
          "name": "stderr",
          "output_type": "stream",
          "text": [
            "\r44it [04:04,  5.58s/it]"
          ]
        },
        {
          "metadata": {
            "tags": null
          },
          "name": "stdout",
          "output_type": "stream",
          "text": [
            "06-20 07:39:45 [46] Lr: 0.000254, Training: 77.19%,  Loss: 2.68624, ACC: 49.52% \r\n"
          ]
        },
        {
          "metadata": {
            "tags": null
          },
          "name": "stderr",
          "output_type": "stream",
          "text": [
            "\r45it [04:10,  5.57s/it]"
          ]
        },
        {
          "metadata": {
            "tags": null
          },
          "name": "stdout",
          "output_type": "stream",
          "text": [
            "06-20 07:39:50 [46] Lr: 0.000254, Training: 78.95%,  Loss: 2.69256, ACC: 49.44% \r\n"
          ]
        },
        {
          "metadata": {
            "tags": null
          },
          "name": "stderr",
          "output_type": "stream",
          "text": [
            "\r46it [04:15,  5.58s/it]"
          ]
        },
        {
          "metadata": {
            "tags": null
          },
          "name": "stdout",
          "output_type": "stream",
          "text": [
            "06-20 07:39:56 [46] Lr: 0.000254, Training: 80.70%,  Loss: 2.68968, ACC: 49.52% \r\n"
          ]
        },
        {
          "metadata": {
            "tags": null
          },
          "name": "stderr",
          "output_type": "stream",
          "text": [
            "\r47it [04:21,  5.58s/it]"
          ]
        },
        {
          "metadata": {
            "tags": null
          },
          "name": "stdout",
          "output_type": "stream",
          "text": [
            "06-20 07:40:01 [46] Lr: 0.000254, Training: 82.46%,  Loss: 2.69904, ACC: 49.43% \r\n"
          ]
        },
        {
          "metadata": {
            "tags": null
          },
          "name": "stderr",
          "output_type": "stream",
          "text": [
            "\r48it [04:26,  5.56s/it]"
          ]
        },
        {
          "metadata": {
            "tags": null
          },
          "name": "stdout",
          "output_type": "stream",
          "text": [
            "06-20 07:40:07 [46] Lr: 0.000254, Training: 84.21%,  Loss: 2.69651, ACC: 49.47% \r\n"
          ]
        },
        {
          "metadata": {
            "tags": null
          },
          "name": "stderr",
          "output_type": "stream",
          "text": [
            "\r49it [04:32,  5.57s/it]"
          ]
        },
        {
          "metadata": {
            "tags": null
          },
          "name": "stdout",
          "output_type": "stream",
          "text": [
            "06-20 07:40:13 [46] Lr: 0.000254, Training: 85.96%,  Loss: 2.69038, ACC: 49.43% \r\n"
          ]
        },
        {
          "metadata": {
            "tags": null
          },
          "name": "stderr",
          "output_type": "stream",
          "text": [
            "\r50it [04:37,  5.57s/it]"
          ]
        },
        {
          "metadata": {
            "tags": null
          },
          "name": "stdout",
          "output_type": "stream",
          "text": [
            "06-20 07:40:18 [46] Lr: 0.000254, Training: 87.72%,  Loss: 2.68366, ACC: 49.56% \r\n"
          ]
        },
        {
          "metadata": {
            "tags": null
          },
          "name": "stderr",
          "output_type": "stream",
          "text": [
            "\r51it [04:43,  5.56s/it]"
          ]
        },
        {
          "metadata": {
            "tags": null
          },
          "name": "stdout",
          "output_type": "stream",
          "text": [
            "06-20 07:40:24 [46] Lr: 0.000254, Training: 89.47%,  Loss: 2.68561, ACC: 49.49% \r\n"
          ]
        },
        {
          "metadata": {
            "tags": null
          },
          "name": "stderr",
          "output_type": "stream",
          "text": [
            "\r52it [04:49,  5.57s/it]"
          ]
        },
        {
          "metadata": {
            "tags": null
          },
          "name": "stdout",
          "output_type": "stream",
          "text": [
            "06-20 07:40:29 [46] Lr: 0.000254, Training: 91.23%,  Loss: 2.68984, ACC: 49.49% \r\n"
          ]
        },
        {
          "metadata": {
            "tags": null
          },
          "name": "stderr",
          "output_type": "stream",
          "text": [
            "\r53it [04:54,  5.57s/it]"
          ]
        },
        {
          "metadata": {
            "tags": null
          },
          "name": "stdout",
          "output_type": "stream",
          "text": [
            "06-20 07:40:35 [46] Lr: 0.000254, Training: 92.98%,  Loss: 2.68905, ACC: 49.50% \r\n"
          ]
        },
        {
          "metadata": {
            "tags": null
          },
          "name": "stderr",
          "output_type": "stream",
          "text": [
            "\r54it [05:00,  5.56s/it]"
          ]
        },
        {
          "metadata": {
            "tags": null
          },
          "name": "stdout",
          "output_type": "stream",
          "text": [
            "06-20 07:40:40 [46] Lr: 0.000254, Training: 94.74%,  Loss: 2.69002, ACC: 49.47% \r\n"
          ]
        },
        {
          "metadata": {
            "tags": null
          },
          "name": "stderr",
          "output_type": "stream",
          "text": [
            "\r55it [05:05,  5.55s/it]"
          ]
        },
        {
          "metadata": {
            "tags": null
          },
          "name": "stdout",
          "output_type": "stream",
          "text": [
            "06-20 07:40:46 [46] Lr: 0.000254, Training: 96.49%,  Loss: 2.69340, ACC: 49.45% \r\n"
          ]
        },
        {
          "metadata": {
            "tags": null
          },
          "name": "stderr",
          "output_type": "stream",
          "text": [
            "\r56it [05:11,  5.55s/it]"
          ]
        },
        {
          "metadata": {
            "tags": null
          },
          "name": "stdout",
          "output_type": "stream",
          "text": [
            "06-20 07:40:51 [46] Lr: 0.000254, Training: 98.25%,  Loss: 2.69581, ACC: 49.39% \r\n"
          ]
        },
        {
          "metadata": {
            "tags": null
          },
          "name": "stderr",
          "output_type": "stream",
          "text": [
            "57it [05:15,  5.53s/it]"
          ]
        },
        {
          "metadata": {
            "tags": null
          },
          "name": "stdout",
          "output_type": "stream",
          "text": [
            "06-20 07:40:55 [46] Lr: 0.000254, Training: 100.00%,  Loss: 2.69038, ACC: 36.06% \r\n",
            "\n",
            "\n"
          ]
        },
        {
          "metadata": {
            "tags": null
          },
          "name": "stderr",
          "output_type": "stream",
          "text": [
            "\n",
            "  0%|          | 0/973 [00:00<?, ?it/s]<ipython-input-15-b61162519fae>:62: DeprecationWarning: `np.float` is a deprecated alias for the builtin `float`. To silence this warning, use `float` by itself. Doing this will not modify any behavior and is safe. If you specifically wanted the numpy scalar type, use `np.float64` here.\n",
            "Deprecated in NumPy 1.20; for more details and guidance: https://numpy.org/devdocs/release/1.20.0-notes.html#deprecations\n",
            "  feats = numpy.stack(feats, axis = 0).astype(numpy.float)\n",
            "100%|██████████| 973/973 [04:34<00:00,  3.55it/s]\n"
          ]
        },
        {
          "metadata": {
            "tags": null
          },
          "name": "stdout",
          "output_type": "stream",
          "text": [
            "2023-06-20 07:45:40 46 epoch, ACC 36.06%, EER 6.18%, bestEER 6.18%\n",
            "Epoch: 47\n"
          ]
        },
        {
          "metadata": {
            "tags": null
          },
          "name": "stderr",
          "output_type": "stream",
          "text": [
            "/usr/local/lib/python3.10/dist-packages/torch/optim/lr_scheduler.py:152: UserWarning: The epoch parameter in `scheduler.step()` was not necessary and is being deprecated where possible. Please use `scheduler.step()` to step the scheduler. During the deprecation, if epoch is different from None, the closed form is used instead of the new chainable form, where available. Please open an issue if you are unable to replicate your use case: https://github.com/pytorch/pytorch/issues/new/choose.\n",
            "  warnings.warn(EPOCH_DEPRECATION_WARNING, UserWarning)\n",
            "0it [00:00, ?it/s]/usr/local/lib/python3.10/dist-packages/torch/nn/functional.py:4999: UserWarning: Support for mismatched key_padding_mask and attn_mask is deprecated. Use same type for both instead.\n",
            "  warnings.warn(\n",
            "1it [00:06,  6.22s/it]"
          ]
        },
        {
          "metadata": {
            "tags": null
          },
          "name": "stdout",
          "output_type": "stream",
          "text": [
            "06-20 07:45:46 [47] Lr: 0.000246, Training: 1.75%,  Loss: 2.48384, ACC: 52.00% \r\n"
          ]
        },
        {
          "metadata": {
            "tags": null
          },
          "name": "stderr",
          "output_type": "stream",
          "text": [
            "\r2it [00:11,  5.82s/it]"
          ]
        },
        {
          "metadata": {
            "tags": null
          },
          "name": "stdout",
          "output_type": "stream",
          "text": [
            "06-20 07:45:52 [47] Lr: 0.000246, Training: 3.51%,  Loss: 2.55921, ACC: 49.00% \r\n"
          ]
        },
        {
          "metadata": {
            "tags": null
          },
          "name": "stderr",
          "output_type": "stream",
          "text": [
            "\r3it [00:17,  5.70s/it]"
          ]
        },
        {
          "metadata": {
            "tags": null
          },
          "name": "stdout",
          "output_type": "stream",
          "text": [
            "06-20 07:45:57 [47] Lr: 0.000246, Training: 5.26%,  Loss: 2.58529, ACC: 49.78% \r\n"
          ]
        },
        {
          "metadata": {
            "tags": null
          },
          "name": "stderr",
          "output_type": "stream",
          "text": [
            "\r4it [00:22,  5.64s/it]"
          ]
        },
        {
          "metadata": {
            "tags": null
          },
          "name": "stdout",
          "output_type": "stream",
          "text": [
            "06-20 07:46:03 [47] Lr: 0.000246, Training: 7.02%,  Loss: 2.60525, ACC: 50.33% \r\n"
          ]
        },
        {
          "metadata": {
            "tags": null
          },
          "name": "stderr",
          "output_type": "stream",
          "text": [
            "\r5it [00:28,  5.63s/it]"
          ]
        },
        {
          "metadata": {
            "tags": null
          },
          "name": "stdout",
          "output_type": "stream",
          "text": [
            "06-20 07:46:08 [47] Lr: 0.000246, Training: 8.77%,  Loss: 2.53620, ACC: 52.00% \r\n"
          ]
        },
        {
          "metadata": {
            "tags": null
          },
          "name": "stderr",
          "output_type": "stream",
          "text": [
            "\r6it [00:34,  5.62s/it]"
          ]
        },
        {
          "metadata": {
            "tags": null
          },
          "name": "stdout",
          "output_type": "stream",
          "text": [
            "06-20 07:46:14 [47] Lr: 0.000246, Training: 10.53%,  Loss: 2.60696, ACC: 51.22% \r\n"
          ]
        },
        {
          "metadata": {
            "tags": null
          },
          "name": "stderr",
          "output_type": "stream",
          "text": [
            "\r7it [00:39,  5.61s/it]"
          ]
        },
        {
          "metadata": {
            "tags": null
          },
          "name": "stdout",
          "output_type": "stream",
          "text": [
            "06-20 07:46:19 [47] Lr: 0.000246, Training: 12.28%,  Loss: 2.64799, ACC: 50.19% \r\n"
          ]
        },
        {
          "metadata": {
            "tags": null
          },
          "name": "stderr",
          "output_type": "stream",
          "text": [
            "\r8it [00:45,  5.60s/it]"
          ]
        },
        {
          "metadata": {
            "tags": null
          },
          "name": "stdout",
          "output_type": "stream",
          "text": [
            "06-20 07:46:25 [47] Lr: 0.000246, Training: 14.04%,  Loss: 2.62734, ACC: 50.83% \r\n"
          ]
        },
        {
          "metadata": {
            "tags": null
          },
          "name": "stderr",
          "output_type": "stream",
          "text": [
            "\r9it [00:50,  5.58s/it]"
          ]
        },
        {
          "metadata": {
            "tags": null
          },
          "name": "stdout",
          "output_type": "stream",
          "text": [
            "06-20 07:46:31 [47] Lr: 0.000246, Training: 15.79%,  Loss: 2.62917, ACC: 50.67% \r\n"
          ]
        },
        {
          "metadata": {
            "tags": null
          },
          "name": "stderr",
          "output_type": "stream",
          "text": [
            "\r10it [00:56,  5.57s/it]"
          ]
        },
        {
          "metadata": {
            "tags": null
          },
          "name": "stdout",
          "output_type": "stream",
          "text": [
            "06-20 07:46:36 [47] Lr: 0.000246, Training: 17.54%,  Loss: 2.60877, ACC: 50.93% \r\n"
          ]
        },
        {
          "metadata": {
            "tags": null
          },
          "name": "stderr",
          "output_type": "stream",
          "text": [
            "\r11it [01:01,  5.57s/it]"
          ]
        },
        {
          "metadata": {
            "tags": null
          },
          "name": "stdout",
          "output_type": "stream",
          "text": [
            "06-20 07:46:42 [47] Lr: 0.000246, Training: 19.30%,  Loss: 2.61447, ACC: 50.61% \r\n"
          ]
        },
        {
          "metadata": {
            "tags": null
          },
          "name": "stderr",
          "output_type": "stream",
          "text": [
            "\r12it [01:07,  5.56s/it]"
          ]
        },
        {
          "metadata": {
            "tags": null
          },
          "name": "stdout",
          "output_type": "stream",
          "text": [
            "06-20 07:46:47 [47] Lr: 0.000246, Training: 21.05%,  Loss: 2.62930, ACC: 51.00% \r\n"
          ]
        },
        {
          "metadata": {
            "tags": null
          },
          "name": "stderr",
          "output_type": "stream",
          "text": [
            "\r13it [01:12,  5.55s/it]"
          ]
        },
        {
          "metadata": {
            "tags": null
          },
          "name": "stdout",
          "output_type": "stream",
          "text": [
            "06-20 07:46:53 [47] Lr: 0.000246, Training: 22.81%,  Loss: 2.64418, ACC: 50.87% \r\n"
          ]
        },
        {
          "output_type": "stream",
          "name": "stderr",
          "text": [
            "\r14it [01:18,  5.54s/it]"
          ]
        },
        {
          "output_type": "stream",
          "name": "stdout",
          "text": [
            "06-20 07:46:58 [47] Lr: 0.000246, Training: 24.56%,  Loss: 2.63346, ACC: 50.86% \r\n"
          ]
        },
        {
          "output_type": "stream",
          "name": "stderr",
          "text": [
            "\r15it [01:24,  5.54s/it]"
          ]
        },
        {
          "output_type": "stream",
          "name": "stdout",
          "text": [
            "06-20 07:47:04 [47] Lr: 0.000246, Training: 26.32%,  Loss: 2.65447, ACC: 50.84% \r\n"
          ]
        },
        {
          "output_type": "stream",
          "name": "stderr",
          "text": [
            "\r16it [01:29,  5.53s/it]"
          ]
        },
        {
          "output_type": "stream",
          "name": "stdout",
          "text": [
            "06-20 07:47:09 [47] Lr: 0.000246, Training: 28.07%,  Loss: 2.66351, ACC: 50.62% \r\n"
          ]
        },
        {
          "output_type": "stream",
          "name": "stderr",
          "text": [
            "\r17it [01:35,  5.54s/it]"
          ]
        },
        {
          "output_type": "stream",
          "name": "stdout",
          "text": [
            "06-20 07:47:15 [47] Lr: 0.000246, Training: 29.82%,  Loss: 2.66693, ACC: 50.63% \r\n"
          ]
        },
        {
          "output_type": "stream",
          "name": "stderr",
          "text": [
            "\r18it [01:40,  5.54s/it]"
          ]
        },
        {
          "output_type": "stream",
          "name": "stdout",
          "text": [
            "06-20 07:47:20 [47] Lr: 0.000246, Training: 31.58%,  Loss: 2.65427, ACC: 50.74% \r\n"
          ]
        },
        {
          "output_type": "stream",
          "name": "stderr",
          "text": [
            "\r19it [01:46,  5.54s/it]"
          ]
        },
        {
          "output_type": "stream",
          "name": "stdout",
          "text": [
            "06-20 07:47:26 [47] Lr: 0.000246, Training: 33.33%,  Loss: 2.67327, ACC: 50.32% \r\n"
          ]
        },
        {
          "output_type": "stream",
          "name": "stderr",
          "text": [
            "\r20it [01:51,  5.54s/it]"
          ]
        },
        {
          "output_type": "stream",
          "name": "stdout",
          "text": [
            "06-20 07:47:31 [47] Lr: 0.000246, Training: 35.09%,  Loss: 2.67926, ACC: 50.23% \r\n"
          ]
        },
        {
          "output_type": "stream",
          "name": "stderr",
          "text": [
            "\r21it [01:57,  5.54s/it]"
          ]
        },
        {
          "output_type": "stream",
          "name": "stdout",
          "text": [
            "06-20 07:47:37 [47] Lr: 0.000246, Training: 36.84%,  Loss: 2.68109, ACC: 49.97% \r\n"
          ]
        },
        {
          "output_type": "stream",
          "name": "stderr",
          "text": [
            "\r22it [02:02,  5.54s/it]"
          ]
        },
        {
          "output_type": "stream",
          "name": "stdout",
          "text": [
            "06-20 07:47:43 [47] Lr: 0.000246, Training: 38.60%,  Loss: 2.66633, ACC: 50.12% \r\n"
          ]
        },
        {
          "output_type": "stream",
          "name": "stderr",
          "text": [
            "\r23it [02:08,  5.55s/it]"
          ]
        },
        {
          "output_type": "stream",
          "name": "stdout",
          "text": [
            "06-20 07:47:48 [47] Lr: 0.000246, Training: 40.35%,  Loss: 2.66530, ACC: 50.14% \r\n"
          ]
        },
        {
          "output_type": "stream",
          "name": "stderr",
          "text": [
            "\r24it [02:13,  5.55s/it]"
          ]
        },
        {
          "output_type": "stream",
          "name": "stdout",
          "text": [
            "06-20 07:47:54 [47] Lr: 0.000246, Training: 42.11%,  Loss: 2.65692, ACC: 50.06% \r\n"
          ]
        },
        {
          "output_type": "stream",
          "name": "stderr",
          "text": [
            "\r25it [02:19,  5.56s/it]"
          ]
        },
        {
          "output_type": "stream",
          "name": "stdout",
          "text": [
            "06-20 07:47:59 [47] Lr: 0.000246, Training: 43.86%,  Loss: 2.66356, ACC: 49.89% \r\n"
          ]
        },
        {
          "output_type": "stream",
          "name": "stderr",
          "text": [
            "\r26it [02:25,  5.57s/it]"
          ]
        },
        {
          "output_type": "stream",
          "name": "stdout",
          "text": [
            "06-20 07:48:05 [47] Lr: 0.000246, Training: 45.61%,  Loss: 2.67274, ACC: 49.95% \r\n"
          ]
        },
        {
          "output_type": "stream",
          "name": "stderr",
          "text": [
            "\r27it [02:30,  5.57s/it]"
          ]
        },
        {
          "output_type": "stream",
          "name": "stdout",
          "text": [
            "06-20 07:48:10 [47] Lr: 0.000246, Training: 47.37%,  Loss: 2.68454, ACC: 49.90% \r\n"
          ]
        },
        {
          "output_type": "stream",
          "name": "stderr",
          "text": [
            "\r28it [02:36,  5.57s/it]"
          ]
        },
        {
          "output_type": "stream",
          "name": "stdout",
          "text": [
            "06-20 07:48:16 [47] Lr: 0.000246, Training: 49.12%,  Loss: 2.68397, ACC: 49.93% \r\n"
          ]
        },
        {
          "output_type": "stream",
          "name": "stderr",
          "text": [
            "\r29it [02:41,  5.59s/it]"
          ]
        },
        {
          "output_type": "stream",
          "name": "stdout",
          "text": [
            "06-20 07:48:22 [47] Lr: 0.000246, Training: 50.88%,  Loss: 2.69957, ACC: 49.54% \r\n"
          ]
        },
        {
          "output_type": "stream",
          "name": "stderr",
          "text": [
            "\r30it [02:47,  5.58s/it]"
          ]
        },
        {
          "output_type": "stream",
          "name": "stdout",
          "text": [
            "06-20 07:48:27 [47] Lr: 0.000246, Training: 52.63%,  Loss: 2.71132, ACC: 49.36% \r\n"
          ]
        },
        {
          "output_type": "stream",
          "name": "stderr",
          "text": [
            "\r31it [02:52,  5.58s/it]"
          ]
        },
        {
          "output_type": "stream",
          "name": "stdout",
          "text": [
            "06-20 07:48:33 [47] Lr: 0.000246, Training: 54.39%,  Loss: 2.71392, ACC: 49.29% \r\n"
          ]
        },
        {
          "output_type": "stream",
          "name": "stderr",
          "text": [
            "\r32it [02:58,  5.57s/it]"
          ]
        },
        {
          "output_type": "stream",
          "name": "stdout",
          "text": [
            "06-20 07:48:38 [47] Lr: 0.000246, Training: 56.14%,  Loss: 2.70730, ACC: 49.42% \r\n"
          ]
        },
        {
          "output_type": "stream",
          "name": "stderr",
          "text": [
            "\r33it [03:04,  5.57s/it]"
          ]
        },
        {
          "output_type": "stream",
          "name": "stdout",
          "text": [
            "06-20 07:48:44 [47] Lr: 0.000246, Training: 57.89%,  Loss: 2.69811, ACC: 49.62% \r\n"
          ]
        },
        {
          "output_type": "stream",
          "name": "stderr",
          "text": [
            "\r34it [03:09,  5.56s/it]"
          ]
        },
        {
          "output_type": "stream",
          "name": "stdout",
          "text": [
            "06-20 07:48:49 [47] Lr: 0.000246, Training: 59.65%,  Loss: 2.68898, ACC: 49.69% \r\n"
          ]
        },
        {
          "output_type": "stream",
          "name": "stderr",
          "text": [
            "\r35it [03:15,  5.57s/it]"
          ]
        },
        {
          "output_type": "stream",
          "name": "stdout",
          "text": [
            "06-20 07:48:55 [47] Lr: 0.000246, Training: 61.40%,  Loss: 2.67577, ACC: 49.79% \r\n"
          ]
        },
        {
          "output_type": "stream",
          "name": "stderr",
          "text": [
            "\r36it [03:20,  5.55s/it]"
          ]
        },
        {
          "output_type": "stream",
          "name": "stdout",
          "text": [
            "06-20 07:49:01 [47] Lr: 0.000246, Training: 63.16%,  Loss: 2.67806, ACC: 49.65% \r\n"
          ]
        },
        {
          "output_type": "stream",
          "name": "stderr",
          "text": [
            "\r37it [03:26,  5.55s/it]"
          ]
        },
        {
          "output_type": "stream",
          "name": "stdout",
          "text": [
            "06-20 07:49:06 [47] Lr: 0.000246, Training: 64.91%,  Loss: 2.67781, ACC: 49.62% \r\n"
          ]
        },
        {
          "output_type": "stream",
          "name": "stderr",
          "text": [
            "\r38it [03:31,  5.55s/it]"
          ]
        },
        {
          "output_type": "stream",
          "name": "stdout",
          "text": [
            "06-20 07:49:12 [47] Lr: 0.000246, Training: 66.67%,  Loss: 2.66561, ACC: 49.82% \r\n"
          ]
        },
        {
          "output_type": "stream",
          "name": "stderr",
          "text": [
            "\r39it [03:37,  5.55s/it]"
          ]
        },
        {
          "output_type": "stream",
          "name": "stdout",
          "text": [
            "06-20 07:49:17 [47] Lr: 0.000246, Training: 68.42%,  Loss: 2.64783, ACC: 49.95% \r\n"
          ]
        },
        {
          "output_type": "stream",
          "name": "stderr",
          "text": [
            "\r40it [03:42,  5.54s/it]"
          ]
        },
        {
          "output_type": "stream",
          "name": "stdout",
          "text": [
            "06-20 07:49:23 [47] Lr: 0.000246, Training: 70.18%,  Loss: 2.65170, ACC: 49.85% \r\n"
          ]
        },
        {
          "output_type": "stream",
          "name": "stderr",
          "text": [
            "\r41it [03:48,  5.56s/it]"
          ]
        },
        {
          "output_type": "stream",
          "name": "stdout",
          "text": [
            "06-20 07:49:28 [47] Lr: 0.000246, Training: 71.93%,  Loss: 2.64719, ACC: 49.84% \r\n"
          ]
        },
        {
          "output_type": "stream",
          "name": "stderr",
          "text": [
            "\r42it [03:54,  5.55s/it]"
          ]
        },
        {
          "output_type": "stream",
          "name": "stdout",
          "text": [
            "06-20 07:49:34 [47] Lr: 0.000246, Training: 73.68%,  Loss: 2.63704, ACC: 49.94% \r\n"
          ]
        },
        {
          "output_type": "stream",
          "name": "stderr",
          "text": [
            "\r43it [03:59,  5.55s/it]"
          ]
        },
        {
          "output_type": "stream",
          "name": "stdout",
          "text": [
            "06-20 07:49:39 [47] Lr: 0.000246, Training: 75.44%,  Loss: 2.64599, ACC: 49.88% \r\n"
          ]
        },
        {
          "output_type": "stream",
          "name": "stderr",
          "text": [
            "\r44it [04:05,  5.54s/it]"
          ]
        },
        {
          "output_type": "stream",
          "name": "stdout",
          "text": [
            "06-20 07:49:45 [47] Lr: 0.000246, Training: 77.19%,  Loss: 2.64874, ACC: 49.83% \r\n"
          ]
        },
        {
          "output_type": "stream",
          "name": "stderr",
          "text": [
            "\r45it [04:10,  5.53s/it]"
          ]
        },
        {
          "output_type": "stream",
          "name": "stdout",
          "text": [
            "06-20 07:49:50 [47] Lr: 0.000246, Training: 78.95%,  Loss: 2.65318, ACC: 49.76% \r\n"
          ]
        },
        {
          "output_type": "stream",
          "name": "stderr",
          "text": [
            "\r46it [04:16,  5.53s/it]"
          ]
        },
        {
          "output_type": "stream",
          "name": "stdout",
          "text": [
            "06-20 07:49:56 [47] Lr: 0.000246, Training: 80.70%,  Loss: 2.65416, ACC: 49.81% \r\n"
          ]
        },
        {
          "output_type": "stream",
          "name": "stderr",
          "text": [
            "\r47it [04:21,  5.54s/it]"
          ]
        },
        {
          "output_type": "stream",
          "name": "stdout",
          "text": [
            "06-20 07:50:01 [47] Lr: 0.000246, Training: 82.46%,  Loss: 2.65427, ACC: 49.80% \r\n"
          ]
        },
        {
          "output_type": "stream",
          "name": "stderr",
          "text": [
            "\r48it [04:27,  5.54s/it]"
          ]
        },
        {
          "output_type": "stream",
          "name": "stdout",
          "text": [
            "06-20 07:50:07 [47] Lr: 0.000246, Training: 84.21%,  Loss: 2.65842, ACC: 49.89% \r\n"
          ]
        },
        {
          "output_type": "stream",
          "name": "stderr",
          "text": [
            "\r49it [04:32,  5.54s/it]"
          ]
        },
        {
          "output_type": "stream",
          "name": "stdout",
          "text": [
            "06-20 07:50:13 [47] Lr: 0.000246, Training: 85.96%,  Loss: 2.66267, ACC: 49.93% \r\n"
          ]
        },
        {
          "output_type": "stream",
          "name": "stderr",
          "text": [
            "\r50it [04:38,  5.54s/it]"
          ]
        },
        {
          "output_type": "stream",
          "name": "stdout",
          "text": [
            "06-20 07:50:18 [47] Lr: 0.000246, Training: 87.72%,  Loss: 2.65950, ACC: 49.96% \r\n"
          ]
        },
        {
          "output_type": "stream",
          "name": "stderr",
          "text": [
            "\r51it [04:43,  5.54s/it]"
          ]
        },
        {
          "output_type": "stream",
          "name": "stdout",
          "text": [
            "06-20 07:50:24 [47] Lr: 0.000246, Training: 89.47%,  Loss: 2.65798, ACC: 50.07% \r\n"
          ]
        },
        {
          "output_type": "stream",
          "name": "stderr",
          "text": [
            "\r52it [04:49,  5.55s/it]"
          ]
        },
        {
          "output_type": "stream",
          "name": "stdout",
          "text": [
            "06-20 07:50:29 [47] Lr: 0.000246, Training: 91.23%,  Loss: 2.65693, ACC: 50.10% \r\n"
          ]
        },
        {
          "output_type": "stream",
          "name": "stderr",
          "text": [
            "\r53it [04:55,  5.55s/it]"
          ]
        },
        {
          "output_type": "stream",
          "name": "stdout",
          "text": [
            "06-20 07:50:35 [47] Lr: 0.000246, Training: 92.98%,  Loss: 2.65486, ACC: 50.11% \r\n"
          ]
        },
        {
          "output_type": "stream",
          "name": "stderr",
          "text": [
            "\r54it [05:00,  5.54s/it]"
          ]
        },
        {
          "output_type": "stream",
          "name": "stdout",
          "text": [
            "06-20 07:50:40 [47] Lr: 0.000246, Training: 94.74%,  Loss: 2.65372, ACC: 50.14% \r\n"
          ]
        },
        {
          "output_type": "stream",
          "name": "stderr",
          "text": [
            "\r55it [05:06,  5.55s/it]"
          ]
        },
        {
          "output_type": "stream",
          "name": "stdout",
          "text": [
            "06-20 07:50:46 [47] Lr: 0.000246, Training: 96.49%,  Loss: 2.65305, ACC: 50.15% \r\n"
          ]
        },
        {
          "output_type": "stream",
          "name": "stderr",
          "text": [
            "\r56it [05:11,  5.54s/it]"
          ]
        },
        {
          "output_type": "stream",
          "name": "stdout",
          "text": [
            "06-20 07:50:51 [47] Lr: 0.000246, Training: 98.25%,  Loss: 2.65716, ACC: 50.07% \r\n"
          ]
        },
        {
          "output_type": "stream",
          "name": "stderr",
          "text": [
            "57it [05:15,  5.54s/it]"
          ]
        },
        {
          "output_type": "stream",
          "name": "stdout",
          "text": [
            "06-20 07:50:55 [47] Lr: 0.000246, Training: 100.00%,  Loss: 2.65907, ACC: 36.55% \r\n",
            "\n",
            "\n"
          ]
        },
        {
          "output_type": "stream",
          "name": "stderr",
          "text": [
            "\n",
            "  0%|          | 0/973 [00:00<?, ?it/s]<ipython-input-15-b61162519fae>:62: DeprecationWarning: `np.float` is a deprecated alias for the builtin `float`. To silence this warning, use `float` by itself. Doing this will not modify any behavior and is safe. If you specifically wanted the numpy scalar type, use `np.float64` here.\n",
            "Deprecated in NumPy 1.20; for more details and guidance: https://numpy.org/devdocs/release/1.20.0-notes.html#deprecations\n",
            "  feats = numpy.stack(feats, axis = 0).astype(numpy.float)\n",
            "100%|██████████| 973/973 [04:34<00:00,  3.55it/s]\n"
          ]
        },
        {
          "output_type": "stream",
          "name": "stdout",
          "text": [
            "2023-06-20 07:55:37 47 epoch, ACC 36.55%, EER 6.20%, bestEER 6.18%\n",
            "Epoch: 48\n"
          ]
        },
        {
          "output_type": "stream",
          "name": "stderr",
          "text": [
            "/usr/local/lib/python3.10/dist-packages/torch/optim/lr_scheduler.py:152: UserWarning: The epoch parameter in `scheduler.step()` was not necessary and is being deprecated where possible. Please use `scheduler.step()` to step the scheduler. During the deprecation, if epoch is different from None, the closed form is used instead of the new chainable form, where available. Please open an issue if you are unable to replicate your use case: https://github.com/pytorch/pytorch/issues/new/choose.\n",
            "  warnings.warn(EPOCH_DEPRECATION_WARNING, UserWarning)\n",
            "0it [00:00, ?it/s]/usr/local/lib/python3.10/dist-packages/torch/nn/functional.py:4999: UserWarning: Support for mismatched key_padding_mask and attn_mask is deprecated. Use same type for both instead.\n",
            "  warnings.warn(\n",
            "1it [00:06,  6.28s/it]"
          ]
        },
        {
          "output_type": "stream",
          "name": "stdout",
          "text": [
            "06-20 07:55:44 [48] Lr: 0.000239, Training: 1.75%,  Loss: 2.47288, ACC: 55.33% \r\n"
          ]
        },
        {
          "output_type": "stream",
          "name": "stderr",
          "text": [
            "\r2it [00:11,  5.81s/it]"
          ]
        },
        {
          "output_type": "stream",
          "name": "stdout",
          "text": [
            "06-20 07:55:49 [48] Lr: 0.000239, Training: 3.51%,  Loss: 2.43918, ACC: 56.00% \r\n"
          ]
        },
        {
          "output_type": "stream",
          "name": "stderr",
          "text": [
            "\r3it [00:17,  5.67s/it]"
          ]
        },
        {
          "output_type": "stream",
          "name": "stdout",
          "text": [
            "06-20 07:55:55 [48] Lr: 0.000239, Training: 5.26%,  Loss: 2.35444, ACC: 56.44% \r\n"
          ]
        },
        {
          "output_type": "stream",
          "name": "stderr",
          "text": [
            "\r4it [00:22,  5.59s/it]"
          ]
        },
        {
          "output_type": "stream",
          "name": "stdout",
          "text": [
            "06-20 07:56:00 [48] Lr: 0.000239, Training: 7.02%,  Loss: 2.47419, ACC: 54.50% \r\n"
          ]
        },
        {
          "output_type": "stream",
          "name": "stderr",
          "text": [
            "\r5it [00:28,  5.56s/it]"
          ]
        },
        {
          "output_type": "stream",
          "name": "stdout",
          "text": [
            "06-20 07:56:06 [48] Lr: 0.000239, Training: 8.77%,  Loss: 2.54600, ACC: 54.40% \r\n"
          ]
        },
        {
          "output_type": "stream",
          "name": "stderr",
          "text": [
            "\r6it [00:33,  5.54s/it]"
          ]
        },
        {
          "output_type": "stream",
          "name": "stdout",
          "text": [
            "06-20 07:56:11 [48] Lr: 0.000239, Training: 10.53%,  Loss: 2.53028, ACC: 53.44% \r\n"
          ]
        },
        {
          "output_type": "stream",
          "name": "stderr",
          "text": [
            "\r7it [00:39,  5.54s/it]"
          ]
        },
        {
          "output_type": "stream",
          "name": "stdout",
          "text": [
            "06-20 07:56:17 [48] Lr: 0.000239, Training: 12.28%,  Loss: 2.54463, ACC: 52.76% \r\n"
          ]
        },
        {
          "output_type": "stream",
          "name": "stderr",
          "text": [
            "\r8it [00:44,  5.53s/it]"
          ]
        },
        {
          "output_type": "stream",
          "name": "stdout",
          "text": [
            "06-20 07:56:22 [48] Lr: 0.000239, Training: 14.04%,  Loss: 2.53505, ACC: 52.75% \r\n"
          ]
        },
        {
          "output_type": "stream",
          "name": "stderr",
          "text": [
            "\r9it [00:50,  5.53s/it]"
          ]
        },
        {
          "output_type": "stream",
          "name": "stdout",
          "text": [
            "06-20 07:56:28 [48] Lr: 0.000239, Training: 15.79%,  Loss: 2.54383, ACC: 52.81% \r\n"
          ]
        },
        {
          "output_type": "stream",
          "name": "stderr",
          "text": [
            "\r10it [00:55,  5.53s/it]"
          ]
        },
        {
          "output_type": "stream",
          "name": "stdout",
          "text": [
            "06-20 07:56:33 [48] Lr: 0.000239, Training: 17.54%,  Loss: 2.55714, ACC: 52.20% \r\n"
          ]
        },
        {
          "output_type": "stream",
          "name": "stderr",
          "text": [
            "\r11it [01:01,  5.53s/it]"
          ]
        },
        {
          "output_type": "stream",
          "name": "stdout",
          "text": [
            "06-20 07:56:39 [48] Lr: 0.000239, Training: 19.30%,  Loss: 2.59353, ACC: 51.70% \r\n"
          ]
        },
        {
          "output_type": "stream",
          "name": "stderr",
          "text": [
            "\r12it [01:06,  5.54s/it]"
          ]
        },
        {
          "output_type": "stream",
          "name": "stdout",
          "text": [
            "06-20 07:56:45 [48] Lr: 0.000239, Training: 21.05%,  Loss: 2.60177, ACC: 50.89% \r\n"
          ]
        },
        {
          "output_type": "stream",
          "name": "stderr",
          "text": [
            "\r13it [01:12,  5.54s/it]"
          ]
        },
        {
          "output_type": "stream",
          "name": "stdout",
          "text": [
            "06-20 07:56:50 [48] Lr: 0.000239, Training: 22.81%,  Loss: 2.56273, ACC: 51.23% \r\n"
          ]
        },
        {
          "output_type": "stream",
          "name": "stderr",
          "text": [
            "\r14it [01:17,  5.53s/it]"
          ]
        },
        {
          "output_type": "stream",
          "name": "stdout",
          "text": [
            "06-20 07:56:56 [48] Lr: 0.000239, Training: 24.56%,  Loss: 2.56091, ACC: 51.19% \r\n"
          ]
        },
        {
          "output_type": "stream",
          "name": "stderr",
          "text": [
            "\r15it [01:23,  5.54s/it]"
          ]
        },
        {
          "output_type": "stream",
          "name": "stdout",
          "text": [
            "06-20 07:57:01 [48] Lr: 0.000239, Training: 26.32%,  Loss: 2.55208, ACC: 51.42% \r\n"
          ]
        },
        {
          "output_type": "stream",
          "name": "stderr",
          "text": [
            "\r16it [01:29,  5.53s/it]"
          ]
        },
        {
          "output_type": "stream",
          "name": "stdout",
          "text": [
            "06-20 07:57:07 [48] Lr: 0.000239, Training: 28.07%,  Loss: 2.55436, ACC: 51.38% \r\n"
          ]
        },
        {
          "output_type": "stream",
          "name": "stderr",
          "text": [
            "\r17it [01:34,  5.56s/it]"
          ]
        },
        {
          "output_type": "stream",
          "name": "stdout",
          "text": [
            "06-20 07:57:12 [48] Lr: 0.000239, Training: 29.82%,  Loss: 2.55993, ACC: 50.98% \r\n"
          ]
        },
        {
          "output_type": "stream",
          "name": "stderr",
          "text": [
            "\r18it [01:40,  5.56s/it]"
          ]
        },
        {
          "output_type": "stream",
          "name": "stdout",
          "text": [
            "06-20 07:57:18 [48] Lr: 0.000239, Training: 31.58%,  Loss: 2.59077, ACC: 50.89% \r\n"
          ]
        },
        {
          "output_type": "stream",
          "name": "stderr",
          "text": [
            "\r19it [01:45,  5.55s/it]"
          ]
        },
        {
          "output_type": "stream",
          "name": "stdout",
          "text": [
            "06-20 07:57:23 [48] Lr: 0.000239, Training: 33.33%,  Loss: 2.60318, ACC: 50.81% \r\n"
          ]
        },
        {
          "output_type": "stream",
          "name": "stderr",
          "text": [
            "\r20it [01:51,  5.55s/it]"
          ]
        },
        {
          "output_type": "stream",
          "name": "stdout",
          "text": [
            "06-20 07:57:29 [48] Lr: 0.000239, Training: 35.09%,  Loss: 2.61126, ACC: 50.83% \r\n"
          ]
        },
        {
          "output_type": "stream",
          "name": "stderr",
          "text": [
            "\r21it [01:56,  5.55s/it]"
          ]
        },
        {
          "output_type": "stream",
          "name": "stdout",
          "text": [
            "06-20 07:57:34 [48] Lr: 0.000239, Training: 36.84%,  Loss: 2.62788, ACC: 50.67% \r\n"
          ]
        },
        {
          "output_type": "stream",
          "name": "stderr",
          "text": [
            "\r22it [02:02,  5.54s/it]"
          ]
        },
        {
          "output_type": "stream",
          "name": "stdout",
          "text": [
            "06-20 07:57:40 [48] Lr: 0.000239, Training: 38.60%,  Loss: 2.63113, ACC: 50.48% \r\n"
          ]
        },
        {
          "output_type": "stream",
          "name": "stderr",
          "text": [
            "\r23it [02:07,  5.56s/it]"
          ]
        },
        {
          "output_type": "stream",
          "name": "stdout",
          "text": [
            "06-20 07:57:46 [48] Lr: 0.000239, Training: 40.35%,  Loss: 2.63518, ACC: 50.41% \r\n"
          ]
        },
        {
          "output_type": "stream",
          "name": "stderr",
          "text": [
            "\r24it [02:13,  5.55s/it]"
          ]
        },
        {
          "output_type": "stream",
          "name": "stdout",
          "text": [
            "06-20 07:57:51 [48] Lr: 0.000239, Training: 42.11%,  Loss: 2.63023, ACC: 50.39% \r\n"
          ]
        },
        {
          "output_type": "stream",
          "name": "stderr",
          "text": [
            "\r25it [02:19,  5.55s/it]"
          ]
        },
        {
          "output_type": "stream",
          "name": "stdout",
          "text": [
            "06-20 07:57:57 [48] Lr: 0.000239, Training: 43.86%,  Loss: 2.64240, ACC: 50.21% \r\n"
          ]
        },
        {
          "output_type": "stream",
          "name": "stderr",
          "text": [
            "\r26it [02:24,  5.55s/it]"
          ]
        },
        {
          "output_type": "stream",
          "name": "stdout",
          "text": [
            "06-20 07:58:02 [48] Lr: 0.000239, Training: 45.61%,  Loss: 2.65321, ACC: 50.13% \r\n"
          ]
        },
        {
          "output_type": "stream",
          "name": "stderr",
          "text": [
            "\r27it [02:30,  5.55s/it]"
          ]
        },
        {
          "output_type": "stream",
          "name": "stdout",
          "text": [
            "06-20 07:58:08 [48] Lr: 0.000239, Training: 47.37%,  Loss: 2.64560, ACC: 50.20% \r\n"
          ]
        },
        {
          "output_type": "stream",
          "name": "stderr",
          "text": [
            "\r28it [02:35,  5.54s/it]"
          ]
        },
        {
          "output_type": "stream",
          "name": "stdout",
          "text": [
            "06-20 07:58:13 [48] Lr: 0.000239, Training: 49.12%,  Loss: 2.65264, ACC: 50.07% \r\n"
          ]
        },
        {
          "output_type": "stream",
          "name": "stderr",
          "text": [
            "\r29it [02:41,  5.55s/it]"
          ]
        },
        {
          "output_type": "stream",
          "name": "stdout",
          "text": [
            "06-20 07:58:19 [48] Lr: 0.000239, Training: 50.88%,  Loss: 2.65767, ACC: 49.75% \r\n"
          ]
        },
        {
          "output_type": "stream",
          "name": "stderr",
          "text": [
            "\r30it [02:46,  5.55s/it]"
          ]
        },
        {
          "output_type": "stream",
          "name": "stdout",
          "text": [
            "06-20 07:58:24 [48] Lr: 0.000239, Training: 52.63%,  Loss: 2.65465, ACC: 49.96% \r\n"
          ]
        },
        {
          "output_type": "stream",
          "name": "stderr",
          "text": [
            "\r31it [02:52,  5.55s/it]"
          ]
        },
        {
          "output_type": "stream",
          "name": "stdout",
          "text": [
            "06-20 07:58:30 [48] Lr: 0.000239, Training: 54.39%,  Loss: 2.64510, ACC: 50.02% \r\n"
          ]
        },
        {
          "output_type": "stream",
          "name": "stderr",
          "text": [
            "\r32it [02:57,  5.56s/it]"
          ]
        },
        {
          "output_type": "stream",
          "name": "stdout",
          "text": [
            "06-20 07:58:36 [48] Lr: 0.000239, Training: 56.14%,  Loss: 2.64994, ACC: 49.96% \r\n"
          ]
        },
        {
          "output_type": "stream",
          "name": "stderr",
          "text": [
            "\r33it [03:03,  5.56s/it]"
          ]
        },
        {
          "output_type": "stream",
          "name": "stdout",
          "text": [
            "06-20 07:58:41 [48] Lr: 0.000239, Training: 57.89%,  Loss: 2.65509, ACC: 49.96% \r\n"
          ]
        },
        {
          "output_type": "stream",
          "name": "stderr",
          "text": [
            "\r34it [03:09,  5.56s/it]"
          ]
        },
        {
          "output_type": "stream",
          "name": "stdout",
          "text": [
            "06-20 07:58:47 [48] Lr: 0.000239, Training: 59.65%,  Loss: 2.66409, ACC: 49.78% \r\n"
          ]
        },
        {
          "output_type": "stream",
          "name": "stderr",
          "text": [
            "\r35it [03:14,  5.57s/it]"
          ]
        },
        {
          "output_type": "stream",
          "name": "stdout",
          "text": [
            "06-20 07:58:52 [48] Lr: 0.000239, Training: 61.40%,  Loss: 2.66674, ACC: 49.81% \r\n"
          ]
        },
        {
          "output_type": "stream",
          "name": "stderr",
          "text": [
            "\r36it [03:20,  5.56s/it]"
          ]
        },
        {
          "output_type": "stream",
          "name": "stdout",
          "text": [
            "06-20 07:58:58 [48] Lr: 0.000239, Training: 63.16%,  Loss: 2.68662, ACC: 49.70% \r\n"
          ]
        },
        {
          "output_type": "stream",
          "name": "stderr",
          "text": [
            "\r37it [03:25,  5.55s/it]"
          ]
        },
        {
          "output_type": "stream",
          "name": "stdout",
          "text": [
            "06-20 07:59:03 [48] Lr: 0.000239, Training: 64.91%,  Loss: 2.67797, ACC: 49.84% \r\n"
          ]
        },
        {
          "output_type": "stream",
          "name": "stderr",
          "text": [
            "\r38it [03:31,  5.55s/it]"
          ]
        },
        {
          "output_type": "stream",
          "name": "stdout",
          "text": [
            "06-20 07:59:09 [48] Lr: 0.000239, Training: 66.67%,  Loss: 2.67283, ACC: 50.05% \r\n"
          ]
        },
        {
          "output_type": "stream",
          "name": "stderr",
          "text": [
            "\r39it [03:36,  5.55s/it]"
          ]
        },
        {
          "output_type": "stream",
          "name": "stdout",
          "text": [
            "06-20 07:59:14 [48] Lr: 0.000239, Training: 68.42%,  Loss: 2.67641, ACC: 50.02% \r\n"
          ]
        },
        {
          "output_type": "stream",
          "name": "stderr",
          "text": [
            "\r40it [03:42,  5.55s/it]"
          ]
        },
        {
          "output_type": "stream",
          "name": "stdout",
          "text": [
            "06-20 07:59:20 [48] Lr: 0.000239, Training: 70.18%,  Loss: 2.68828, ACC: 49.78% \r\n"
          ]
        },
        {
          "output_type": "stream",
          "name": "stderr",
          "text": [
            "\r41it [03:48,  5.58s/it]"
          ]
        },
        {
          "output_type": "stream",
          "name": "stdout",
          "text": [
            "06-20 07:59:26 [48] Lr: 0.000239, Training: 71.93%,  Loss: 2.68542, ACC: 49.71% \r\n"
          ]
        },
        {
          "output_type": "stream",
          "name": "stderr",
          "text": [
            "\r42it [03:53,  5.57s/it]"
          ]
        },
        {
          "output_type": "stream",
          "name": "stdout",
          "text": [
            "06-20 07:59:31 [48] Lr: 0.000239, Training: 73.68%,  Loss: 2.69608, ACC: 49.63% \r\n"
          ]
        },
        {
          "output_type": "stream",
          "name": "stderr",
          "text": [
            "\r43it [03:59,  5.56s/it]"
          ]
        },
        {
          "output_type": "stream",
          "name": "stdout",
          "text": [
            "06-20 07:59:37 [48] Lr: 0.000239, Training: 75.44%,  Loss: 2.68807, ACC: 49.75% \r\n"
          ]
        },
        {
          "output_type": "stream",
          "name": "stderr",
          "text": [
            "\r44it [04:04,  5.56s/it]"
          ]
        },
        {
          "output_type": "stream",
          "name": "stdout",
          "text": [
            "06-20 07:59:42 [48] Lr: 0.000239, Training: 77.19%,  Loss: 2.68599, ACC: 49.77% \r\n"
          ]
        },
        {
          "output_type": "stream",
          "name": "stderr",
          "text": [
            "\r45it [04:10,  5.56s/it]"
          ]
        },
        {
          "output_type": "stream",
          "name": "stdout",
          "text": [
            "06-20 07:59:48 [48] Lr: 0.000239, Training: 78.95%,  Loss: 2.68336, ACC: 49.82% \r\n"
          ]
        },
        {
          "output_type": "stream",
          "name": "stderr",
          "text": [
            "\r46it [04:15,  5.55s/it]"
          ]
        },
        {
          "output_type": "stream",
          "name": "stdout",
          "text": [
            "06-20 07:59:53 [48] Lr: 0.000239, Training: 80.70%,  Loss: 2.68540, ACC: 49.83% \r\n"
          ]
        },
        {
          "output_type": "stream",
          "name": "stderr",
          "text": [
            "\r47it [04:21,  5.55s/it]"
          ]
        },
        {
          "output_type": "stream",
          "name": "stdout",
          "text": [
            "06-20 07:59:59 [48] Lr: 0.000239, Training: 82.46%,  Loss: 2.68090, ACC: 49.96% \r\n"
          ]
        },
        {
          "output_type": "stream",
          "name": "stderr",
          "text": [
            "\r48it [04:26,  5.55s/it]"
          ]
        },
        {
          "output_type": "stream",
          "name": "stdout",
          "text": [
            "06-20 08:00:04 [48] Lr: 0.000239, Training: 84.21%,  Loss: 2.67338, ACC: 50.11% \r\n"
          ]
        },
        {
          "output_type": "stream",
          "name": "stderr",
          "text": [
            "\r49it [04:32,  5.55s/it]"
          ]
        },
        {
          "output_type": "stream",
          "name": "stdout",
          "text": [
            "06-20 08:00:10 [48] Lr: 0.000239, Training: 85.96%,  Loss: 2.66592, ACC: 50.20% \r\n"
          ]
        },
        {
          "output_type": "stream",
          "name": "stderr",
          "text": [
            "\r50it [04:37,  5.56s/it]"
          ]
        },
        {
          "output_type": "stream",
          "name": "stdout",
          "text": [
            "06-20 08:00:16 [48] Lr: 0.000239, Training: 87.72%,  Loss: 2.65859, ACC: 50.39% \r\n"
          ]
        },
        {
          "output_type": "stream",
          "name": "stderr",
          "text": [
            "\r51it [04:43,  5.56s/it]"
          ]
        },
        {
          "output_type": "stream",
          "name": "stdout",
          "text": [
            "06-20 08:00:21 [48] Lr: 0.000239, Training: 89.47%,  Loss: 2.65773, ACC: 50.37% \r\n"
          ]
        },
        {
          "output_type": "stream",
          "name": "stderr",
          "text": [
            "\r52it [04:49,  5.55s/it]"
          ]
        },
        {
          "output_type": "stream",
          "name": "stdout",
          "text": [
            "06-20 08:00:27 [48] Lr: 0.000239, Training: 91.23%,  Loss: 2.65161, ACC: 50.40% \r\n"
          ]
        },
        {
          "output_type": "stream",
          "name": "stderr",
          "text": [
            "\r53it [04:54,  5.56s/it]"
          ]
        },
        {
          "output_type": "stream",
          "name": "stdout",
          "text": [
            "06-20 08:00:32 [48] Lr: 0.000239, Training: 92.98%,  Loss: 2.65046, ACC: 50.42% \r\n"
          ]
        },
        {
          "output_type": "stream",
          "name": "stderr",
          "text": [
            "\r54it [05:00,  5.55s/it]"
          ]
        },
        {
          "output_type": "stream",
          "name": "stdout",
          "text": [
            "06-20 08:00:38 [48] Lr: 0.000239, Training: 94.74%,  Loss: 2.64926, ACC: 50.52% \r\n"
          ]
        },
        {
          "output_type": "stream",
          "name": "stderr",
          "text": [
            "\r55it [05:05,  5.54s/it]"
          ]
        },
        {
          "output_type": "stream",
          "name": "stdout",
          "text": [
            "06-20 08:00:43 [48] Lr: 0.000239, Training: 96.49%,  Loss: 2.64436, ACC: 50.58% \r\n"
          ]
        },
        {
          "output_type": "stream",
          "name": "stderr",
          "text": [
            "\r56it [05:11,  5.53s/it]"
          ]
        },
        {
          "output_type": "stream",
          "name": "stdout",
          "text": [
            "06-20 08:00:49 [48] Lr: 0.000239, Training: 98.25%,  Loss: 2.64430, ACC: 50.56% \r\n"
          ]
        },
        {
          "output_type": "stream",
          "name": "stderr",
          "text": [
            "57it [05:15,  5.53s/it]"
          ]
        },
        {
          "output_type": "stream",
          "name": "stdout",
          "text": [
            "06-20 08:00:53 [48] Lr: 0.000239, Training: 100.00%,  Loss: 2.63697, ACC: 36.96% \r\n",
            "\n",
            "\n"
          ]
        },
        {
          "output_type": "stream",
          "name": "stderr",
          "text": [
            "\n",
            "  0%|          | 0/973 [00:00<?, ?it/s]<ipython-input-15-b61162519fae>:62: DeprecationWarning: `np.float` is a deprecated alias for the builtin `float`. To silence this warning, use `float` by itself. Doing this will not modify any behavior and is safe. If you specifically wanted the numpy scalar type, use `np.float64` here.\n",
            "Deprecated in NumPy 1.20; for more details and guidance: https://numpy.org/devdocs/release/1.20.0-notes.html#deprecations\n",
            "  feats = numpy.stack(feats, axis = 0).astype(numpy.float)\n",
            "100%|██████████| 973/973 [04:40<00:00,  3.47it/s]\n"
          ]
        },
        {
          "output_type": "stream",
          "name": "stdout",
          "text": [
            "2023-06-20 08:05:42 48 epoch, ACC 36.96%, EER 6.19%, bestEER 6.18%\n",
            "Epoch: 49\n"
          ]
        },
        {
          "output_type": "stream",
          "name": "stderr",
          "text": [
            "/usr/local/lib/python3.10/dist-packages/torch/optim/lr_scheduler.py:152: UserWarning: The epoch parameter in `scheduler.step()` was not necessary and is being deprecated where possible. Please use `scheduler.step()` to step the scheduler. During the deprecation, if epoch is different from None, the closed form is used instead of the new chainable form, where available. Please open an issue if you are unable to replicate your use case: https://github.com/pytorch/pytorch/issues/new/choose.\n",
            "  warnings.warn(EPOCH_DEPRECATION_WARNING, UserWarning)\n",
            "0it [00:00, ?it/s]/usr/local/lib/python3.10/dist-packages/torch/nn/functional.py:4999: UserWarning: Support for mismatched key_padding_mask and attn_mask is deprecated. Use same type for both instead.\n",
            "  warnings.warn(\n",
            "1it [00:06,  6.48s/it]"
          ]
        },
        {
          "output_type": "stream",
          "name": "stdout",
          "text": [
            "06-20 08:05:49 [49] Lr: 0.000232, Training: 1.75%,  Loss: 2.15894, ACC: 57.33% \r\n"
          ]
        },
        {
          "output_type": "stream",
          "name": "stderr",
          "text": [
            "\r2it [00:11,  5.86s/it]"
          ]
        },
        {
          "output_type": "stream",
          "name": "stdout",
          "text": [
            "06-20 08:05:54 [49] Lr: 0.000232, Training: 3.51%,  Loss: 2.41995, ACC: 53.00% \r\n"
          ]
        },
        {
          "output_type": "stream",
          "name": "stderr",
          "text": [
            "\r3it [00:17,  5.69s/it]"
          ]
        },
        {
          "output_type": "stream",
          "name": "stdout",
          "text": [
            "06-20 08:05:59 [49] Lr: 0.000232, Training: 5.26%,  Loss: 2.56833, ACC: 51.56% \r\n"
          ]
        },
        {
          "output_type": "stream",
          "name": "stderr",
          "text": [
            "\r4it [00:22,  5.60s/it]"
          ]
        },
        {
          "output_type": "stream",
          "name": "stdout",
          "text": [
            "06-20 08:06:05 [49] Lr: 0.000232, Training: 7.02%,  Loss: 2.65939, ACC: 51.33% \r\n"
          ]
        },
        {
          "output_type": "stream",
          "name": "stderr",
          "text": [
            "\r5it [00:28,  5.56s/it]"
          ]
        },
        {
          "output_type": "stream",
          "name": "stdout",
          "text": [
            "06-20 08:06:10 [49] Lr: 0.000232, Training: 8.77%,  Loss: 2.58552, ACC: 52.00% \r\n"
          ]
        },
        {
          "output_type": "stream",
          "name": "stderr",
          "text": [
            "\r6it [00:33,  5.52s/it]"
          ]
        },
        {
          "output_type": "stream",
          "name": "stdout",
          "text": [
            "06-20 08:06:16 [49] Lr: 0.000232, Training: 10.53%,  Loss: 2.59577, ACC: 50.22% \r\n"
          ]
        },
        {
          "output_type": "stream",
          "name": "stderr",
          "text": [
            "\r7it [00:39,  5.51s/it]"
          ]
        },
        {
          "output_type": "stream",
          "name": "stdout",
          "text": [
            "06-20 08:06:21 [49] Lr: 0.000232, Training: 12.28%,  Loss: 2.64013, ACC: 49.81% \r\n"
          ]
        },
        {
          "output_type": "stream",
          "name": "stderr",
          "text": [
            "\r8it [00:44,  5.49s/it]"
          ]
        },
        {
          "output_type": "stream",
          "name": "stdout",
          "text": [
            "06-20 08:06:27 [49] Lr: 0.000232, Training: 14.04%,  Loss: 2.61981, ACC: 50.58% \r\n"
          ]
        },
        {
          "output_type": "stream",
          "name": "stderr",
          "text": [
            "\r9it [00:50,  5.49s/it]"
          ]
        },
        {
          "output_type": "stream",
          "name": "stdout",
          "text": [
            "06-20 08:06:32 [49] Lr: 0.000232, Training: 15.79%,  Loss: 2.68301, ACC: 50.00% \r\n"
          ]
        },
        {
          "output_type": "stream",
          "name": "stderr",
          "text": [
            "\r10it [00:55,  5.48s/it]"
          ]
        },
        {
          "output_type": "stream",
          "name": "stdout",
          "text": [
            "06-20 08:06:38 [49] Lr: 0.000232, Training: 17.54%,  Loss: 2.61631, ACC: 51.47% \r\n"
          ]
        },
        {
          "output_type": "stream",
          "name": "stderr",
          "text": [
            "\r11it [01:01,  5.48s/it]"
          ]
        },
        {
          "output_type": "stream",
          "name": "stdout",
          "text": [
            "06-20 08:06:43 [49] Lr: 0.000232, Training: 19.30%,  Loss: 2.63719, ACC: 50.91% \r\n"
          ]
        },
        {
          "output_type": "stream",
          "name": "stderr",
          "text": [
            "\r12it [01:06,  5.48s/it]"
          ]
        },
        {
          "output_type": "stream",
          "name": "stdout",
          "text": [
            "06-20 08:06:49 [49] Lr: 0.000232, Training: 21.05%,  Loss: 2.61206, ACC: 51.28% \r\n"
          ]
        },
        {
          "output_type": "stream",
          "name": "stderr",
          "text": [
            "\r13it [01:12,  5.48s/it]"
          ]
        },
        {
          "output_type": "stream",
          "name": "stdout",
          "text": [
            "06-20 08:06:54 [49] Lr: 0.000232, Training: 22.81%,  Loss: 2.61274, ACC: 51.38% \r\n"
          ]
        },
        {
          "output_type": "stream",
          "name": "stderr",
          "text": [
            "\r14it [01:17,  5.49s/it]"
          ]
        },
        {
          "output_type": "stream",
          "name": "stdout",
          "text": [
            "06-20 08:07:00 [49] Lr: 0.000232, Training: 24.56%,  Loss: 2.62487, ACC: 51.05% \r\n"
          ]
        },
        {
          "output_type": "stream",
          "name": "stderr",
          "text": [
            "\r15it [01:23,  5.49s/it]"
          ]
        },
        {
          "output_type": "stream",
          "name": "stdout",
          "text": [
            "06-20 08:07:05 [49] Lr: 0.000232, Training: 26.32%,  Loss: 2.59594, ACC: 51.60% \r\n"
          ]
        },
        {
          "output_type": "stream",
          "name": "stderr",
          "text": [
            "\r16it [01:28,  5.50s/it]"
          ]
        },
        {
          "output_type": "stream",
          "name": "stdout",
          "text": [
            "06-20 08:07:11 [49] Lr: 0.000232, Training: 28.07%,  Loss: 2.59848, ACC: 51.58% \r\n"
          ]
        },
        {
          "output_type": "stream",
          "name": "stderr",
          "text": [
            "\r17it [01:34,  5.50s/it]"
          ]
        },
        {
          "output_type": "stream",
          "name": "stdout",
          "text": [
            "06-20 08:07:16 [49] Lr: 0.000232, Training: 29.82%,  Loss: 2.59286, ACC: 51.65% \r\n"
          ]
        },
        {
          "output_type": "stream",
          "name": "stderr",
          "text": [
            "\r18it [01:39,  5.50s/it]"
          ]
        },
        {
          "output_type": "stream",
          "name": "stdout",
          "text": [
            "06-20 08:07:22 [49] Lr: 0.000232, Training: 31.58%,  Loss: 2.58472, ACC: 51.67% \r\n"
          ]
        },
        {
          "output_type": "stream",
          "name": "stderr",
          "text": [
            "\r19it [01:45,  5.52s/it]"
          ]
        },
        {
          "output_type": "stream",
          "name": "stdout",
          "text": [
            "06-20 08:07:27 [49] Lr: 0.000232, Training: 33.33%,  Loss: 2.57374, ACC: 52.11% \r\n"
          ]
        },
        {
          "output_type": "stream",
          "name": "stderr",
          "text": [
            "\r20it [01:50,  5.52s/it]"
          ]
        },
        {
          "output_type": "stream",
          "name": "stdout",
          "text": [
            "06-20 08:07:33 [49] Lr: 0.000232, Training: 35.09%,  Loss: 2.58375, ACC: 51.57% \r\n"
          ]
        },
        {
          "output_type": "stream",
          "name": "stderr",
          "text": [
            "\r21it [01:56,  5.52s/it]"
          ]
        },
        {
          "output_type": "stream",
          "name": "stdout",
          "text": [
            "06-20 08:07:38 [49] Lr: 0.000232, Training: 36.84%,  Loss: 2.57947, ACC: 51.59% \r\n"
          ]
        },
        {
          "output_type": "stream",
          "name": "stderr",
          "text": [
            "\r22it [02:01,  5.53s/it]"
          ]
        },
        {
          "output_type": "stream",
          "name": "stdout",
          "text": [
            "06-20 08:07:44 [49] Lr: 0.000232, Training: 38.60%,  Loss: 2.58696, ACC: 51.30% \r\n"
          ]
        },
        {
          "output_type": "stream",
          "name": "stderr",
          "text": [
            "\r23it [02:07,  5.53s/it]"
          ]
        },
        {
          "output_type": "stream",
          "name": "stdout",
          "text": [
            "06-20 08:07:49 [49] Lr: 0.000232, Training: 40.35%,  Loss: 2.59233, ACC: 51.07% \r\n"
          ]
        },
        {
          "output_type": "stream",
          "name": "stderr",
          "text": [
            "\r24it [02:12,  5.53s/it]"
          ]
        },
        {
          "output_type": "stream",
          "name": "stdout",
          "text": [
            "06-20 08:07:55 [49] Lr: 0.000232, Training: 42.11%,  Loss: 2.59704, ACC: 50.89% \r\n"
          ]
        },
        {
          "output_type": "stream",
          "name": "stderr",
          "text": [
            "\r25it [02:18,  5.54s/it]"
          ]
        },
        {
          "output_type": "stream",
          "name": "stdout",
          "text": [
            "06-20 08:08:00 [49] Lr: 0.000232, Training: 43.86%,  Loss: 2.59913, ACC: 50.77% \r\n"
          ]
        },
        {
          "output_type": "stream",
          "name": "stderr",
          "text": [
            "\r26it [02:23,  5.54s/it]"
          ]
        },
        {
          "output_type": "stream",
          "name": "stdout",
          "text": [
            "06-20 08:08:06 [49] Lr: 0.000232, Training: 45.61%,  Loss: 2.60216, ACC: 50.79% \r\n"
          ]
        },
        {
          "output_type": "stream",
          "name": "stderr",
          "text": [
            "\r27it [02:29,  5.53s/it]"
          ]
        },
        {
          "output_type": "stream",
          "name": "stdout",
          "text": [
            "06-20 08:08:12 [49] Lr: 0.000232, Training: 47.37%,  Loss: 2.60676, ACC: 50.79% \r\n"
          ]
        },
        {
          "output_type": "stream",
          "name": "stderr",
          "text": [
            "\r28it [02:35,  5.53s/it]"
          ]
        },
        {
          "output_type": "stream",
          "name": "stdout",
          "text": [
            "06-20 08:08:17 [49] Lr: 0.000232, Training: 49.12%,  Loss: 2.59952, ACC: 50.86% \r\n"
          ]
        },
        {
          "output_type": "stream",
          "name": "stderr",
          "text": [
            "\r29it [02:40,  5.53s/it]"
          ]
        },
        {
          "output_type": "stream",
          "name": "stdout",
          "text": [
            "06-20 08:08:23 [49] Lr: 0.000232, Training: 50.88%,  Loss: 2.60267, ACC: 50.94% \r\n"
          ]
        },
        {
          "output_type": "stream",
          "name": "stderr",
          "text": [
            "\r30it [02:46,  5.52s/it]"
          ]
        },
        {
          "output_type": "stream",
          "name": "stdout",
          "text": [
            "06-20 08:08:28 [49] Lr: 0.000232, Training: 52.63%,  Loss: 2.59840, ACC: 51.07% \r\n"
          ]
        },
        {
          "output_type": "stream",
          "name": "stderr",
          "text": [
            "\r31it [02:51,  5.53s/it]"
          ]
        },
        {
          "output_type": "stream",
          "name": "stdout",
          "text": [
            "06-20 08:08:34 [49] Lr: 0.000232, Training: 54.39%,  Loss: 2.60003, ACC: 50.82% \r\n"
          ]
        },
        {
          "output_type": "stream",
          "name": "stderr",
          "text": [
            "\r32it [02:57,  5.53s/it]"
          ]
        },
        {
          "output_type": "stream",
          "name": "stdout",
          "text": [
            "06-20 08:08:39 [49] Lr: 0.000232, Training: 56.14%,  Loss: 2.59686, ACC: 50.83% \r\n"
          ]
        },
        {
          "output_type": "stream",
          "name": "stderr",
          "text": [
            "\r33it [03:02,  5.54s/it]"
          ]
        },
        {
          "output_type": "stream",
          "name": "stdout",
          "text": [
            "06-20 08:08:45 [49] Lr: 0.000232, Training: 57.89%,  Loss: 2.60522, ACC: 50.71% \r\n"
          ]
        },
        {
          "output_type": "stream",
          "name": "stderr",
          "text": [
            "\r34it [03:08,  5.53s/it]"
          ]
        },
        {
          "output_type": "stream",
          "name": "stdout",
          "text": [
            "06-20 08:08:50 [49] Lr: 0.000232, Training: 59.65%,  Loss: 2.58619, ACC: 50.92% \r\n"
          ]
        },
        {
          "output_type": "stream",
          "name": "stderr",
          "text": [
            "\r35it [03:13,  5.53s/it]"
          ]
        },
        {
          "output_type": "stream",
          "name": "stdout",
          "text": [
            "06-20 08:08:56 [49] Lr: 0.000232, Training: 61.40%,  Loss: 2.58082, ACC: 50.95% \r\n"
          ]
        },
        {
          "output_type": "stream",
          "name": "stderr",
          "text": [
            "\r36it [03:19,  5.53s/it]"
          ]
        },
        {
          "output_type": "stream",
          "name": "stdout",
          "text": [
            "06-20 08:09:01 [49] Lr: 0.000232, Training: 63.16%,  Loss: 2.59357, ACC: 50.67% \r\n"
          ]
        },
        {
          "output_type": "stream",
          "name": "stderr",
          "text": [
            "\r37it [03:24,  5.53s/it]"
          ]
        },
        {
          "output_type": "stream",
          "name": "stdout",
          "text": [
            "06-20 08:09:07 [49] Lr: 0.000232, Training: 64.91%,  Loss: 2.59214, ACC: 50.59% \r\n"
          ]
        },
        {
          "output_type": "stream",
          "name": "stderr",
          "text": [
            "\r38it [03:30,  5.53s/it]"
          ]
        },
        {
          "output_type": "stream",
          "name": "stdout",
          "text": [
            "06-20 08:09:12 [49] Lr: 0.000232, Training: 66.67%,  Loss: 2.58166, ACC: 50.70% \r\n"
          ]
        },
        {
          "output_type": "stream",
          "name": "stderr",
          "text": [
            "\r39it [03:35,  5.53s/it]"
          ]
        },
        {
          "output_type": "stream",
          "name": "stdout",
          "text": [
            "06-20 08:09:18 [49] Lr: 0.000232, Training: 68.42%,  Loss: 2.58821, ACC: 50.65% \r\n"
          ]
        },
        {
          "output_type": "stream",
          "name": "stderr",
          "text": [
            "\r40it [03:41,  5.53s/it]"
          ]
        },
        {
          "output_type": "stream",
          "name": "stdout",
          "text": [
            "06-20 08:09:23 [49] Lr: 0.000232, Training: 70.18%,  Loss: 2.59297, ACC: 50.53% \r\n"
          ]
        },
        {
          "output_type": "stream",
          "name": "stderr",
          "text": [
            "\r41it [03:46,  5.53s/it]"
          ]
        },
        {
          "output_type": "stream",
          "name": "stdout",
          "text": [
            "06-20 08:09:29 [49] Lr: 0.000232, Training: 71.93%,  Loss: 2.59001, ACC: 50.65% \r\n"
          ]
        },
        {
          "output_type": "stream",
          "name": "stderr",
          "text": [
            "\r42it [03:52,  5.53s/it]"
          ]
        },
        {
          "output_type": "stream",
          "name": "stdout",
          "text": [
            "06-20 08:09:35 [49] Lr: 0.000232, Training: 73.68%,  Loss: 2.59451, ACC: 50.56% \r\n"
          ]
        },
        {
          "output_type": "stream",
          "name": "stderr",
          "text": [
            "\r43it [03:57,  5.53s/it]"
          ]
        },
        {
          "output_type": "stream",
          "name": "stdout",
          "text": [
            "06-20 08:09:40 [49] Lr: 0.000232, Training: 75.44%,  Loss: 2.59187, ACC: 50.71% \r\n"
          ]
        },
        {
          "output_type": "stream",
          "name": "stderr",
          "text": [
            "\r44it [04:03,  5.53s/it]"
          ]
        },
        {
          "output_type": "stream",
          "name": "stdout",
          "text": [
            "06-20 08:09:46 [49] Lr: 0.000232, Training: 77.19%,  Loss: 2.59936, ACC: 50.70% \r\n"
          ]
        },
        {
          "output_type": "stream",
          "name": "stderr",
          "text": [
            "\r45it [04:09,  5.53s/it]"
          ]
        },
        {
          "output_type": "stream",
          "name": "stdout",
          "text": [
            "06-20 08:09:51 [49] Lr: 0.000232, Training: 78.95%,  Loss: 2.60433, ACC: 50.74% \r\n"
          ]
        },
        {
          "output_type": "stream",
          "name": "stderr",
          "text": [
            "\r46it [04:14,  5.53s/it]"
          ]
        },
        {
          "output_type": "stream",
          "name": "stdout",
          "text": [
            "06-20 08:09:57 [49] Lr: 0.000232, Training: 80.70%,  Loss: 2.60927, ACC: 50.65% \r\n"
          ]
        },
        {
          "output_type": "stream",
          "name": "stderr",
          "text": [
            "\r47it [04:20,  5.53s/it]"
          ]
        },
        {
          "output_type": "stream",
          "name": "stdout",
          "text": [
            "06-20 08:10:02 [49] Lr: 0.000232, Training: 82.46%,  Loss: 2.61068, ACC: 50.64% \r\n"
          ]
        },
        {
          "output_type": "stream",
          "name": "stderr",
          "text": [
            "\r48it [04:25,  5.54s/it]"
          ]
        },
        {
          "output_type": "stream",
          "name": "stdout",
          "text": [
            "06-20 08:10:08 [49] Lr: 0.000232, Training: 84.21%,  Loss: 2.61551, ACC: 50.50% \r\n"
          ]
        },
        {
          "output_type": "stream",
          "name": "stderr",
          "text": [
            "\r49it [04:31,  5.54s/it]"
          ]
        },
        {
          "output_type": "stream",
          "name": "stdout",
          "text": [
            "06-20 08:10:13 [49] Lr: 0.000232, Training: 85.96%,  Loss: 2.62476, ACC: 50.39% \r\n"
          ]
        },
        {
          "output_type": "stream",
          "name": "stderr",
          "text": [
            "\r50it [04:36,  5.54s/it]"
          ]
        },
        {
          "output_type": "stream",
          "name": "stdout",
          "text": [
            "06-20 08:10:19 [49] Lr: 0.000232, Training: 87.72%,  Loss: 2.62382, ACC: 50.40% \r\n"
          ]
        },
        {
          "output_type": "stream",
          "name": "stderr",
          "text": [
            "\r51it [04:42,  5.55s/it]"
          ]
        },
        {
          "output_type": "stream",
          "name": "stdout",
          "text": [
            "06-20 08:10:24 [49] Lr: 0.000232, Training: 89.47%,  Loss: 2.62259, ACC: 50.38% \r\n"
          ]
        },
        {
          "output_type": "stream",
          "name": "stderr",
          "text": [
            "\r52it [04:47,  5.56s/it]"
          ]
        },
        {
          "output_type": "stream",
          "name": "stdout",
          "text": [
            "06-20 08:10:30 [49] Lr: 0.000232, Training: 91.23%,  Loss: 2.62300, ACC: 50.33% \r\n"
          ]
        },
        {
          "output_type": "stream",
          "name": "stderr",
          "text": [
            "\r53it [04:53,  5.55s/it]"
          ]
        },
        {
          "output_type": "stream",
          "name": "stdout",
          "text": [
            "06-20 08:10:36 [49] Lr: 0.000232, Training: 92.98%,  Loss: 2.61589, ACC: 50.43% \r\n"
          ]
        },
        {
          "output_type": "stream",
          "name": "stderr",
          "text": [
            "\r54it [04:58,  5.55s/it]"
          ]
        },
        {
          "output_type": "stream",
          "name": "stdout",
          "text": [
            "06-20 08:10:41 [49] Lr: 0.000232, Training: 94.74%,  Loss: 2.61165, ACC: 50.46% \r\n"
          ]
        },
        {
          "output_type": "stream",
          "name": "stderr",
          "text": [
            "\r55it [05:04,  5.55s/it]"
          ]
        },
        {
          "output_type": "stream",
          "name": "stdout",
          "text": [
            "06-20 08:10:47 [49] Lr: 0.000232, Training: 96.49%,  Loss: 2.61083, ACC: 50.41% \r\n"
          ]
        },
        {
          "output_type": "stream",
          "name": "stderr",
          "text": [
            "\r56it [05:10,  5.55s/it]"
          ]
        },
        {
          "output_type": "stream",
          "name": "stdout",
          "text": [
            "06-20 08:10:52 [49] Lr: 0.000232, Training: 98.25%,  Loss: 2.61384, ACC: 50.42% \r\n"
          ]
        },
        {
          "output_type": "stream",
          "name": "stderr",
          "text": [
            "\r57it [05:13,  5.04s/it]"
          ]
        },
        {
          "output_type": "stream",
          "name": "stdout",
          "text": [
            "06-20 08:10:56 [49] Lr: 0.000232, Training: 100.00%,  Loss: 2.61774, ACC: 36.81% \r\n"
          ]
        },
        {
          "output_type": "stream",
          "name": "stderr",
          "text": [
            "\r57it [05:14,  5.51s/it]\n"
          ]
        },
        {
          "output_type": "stream",
          "name": "stdout",
          "text": [
            "\n",
            "\n"
          ]
        },
        {
          "output_type": "stream",
          "name": "stderr",
          "text": [
            "  0%|          | 0/973 [00:00<?, ?it/s]<ipython-input-15-b61162519fae>:62: DeprecationWarning: `np.float` is a deprecated alias for the builtin `float`. To silence this warning, use `float` by itself. Doing this will not modify any behavior and is safe. If you specifically wanted the numpy scalar type, use `np.float64` here.\n",
            "Deprecated in NumPy 1.20; for more details and guidance: https://numpy.org/devdocs/release/1.20.0-notes.html#deprecations\n",
            "  feats = numpy.stack(feats, axis = 0).astype(numpy.float)\n",
            "100%|██████████| 973/973 [04:34<00:00,  3.54it/s]\n"
          ]
        },
        {
          "output_type": "stream",
          "name": "stdout",
          "text": [
            "2023-06-20 08:15:45 49 epoch, ACC 36.81%, EER 6.22%, bestEER 6.18%\n",
            "Epoch: 50\n"
          ]
        },
        {
          "output_type": "stream",
          "name": "stderr",
          "text": [
            "/usr/local/lib/python3.10/dist-packages/torch/optim/lr_scheduler.py:152: UserWarning: The epoch parameter in `scheduler.step()` was not necessary and is being deprecated where possible. Please use `scheduler.step()` to step the scheduler. During the deprecation, if epoch is different from None, the closed form is used instead of the new chainable form, where available. Please open an issue if you are unable to replicate your use case: https://github.com/pytorch/pytorch/issues/new/choose.\n",
            "  warnings.warn(EPOCH_DEPRECATION_WARNING, UserWarning)\n",
            "0it [00:00, ?it/s]/usr/local/lib/python3.10/dist-packages/torch/nn/functional.py:4999: UserWarning: Support for mismatched key_padding_mask and attn_mask is deprecated. Use same type for both instead.\n",
            "  warnings.warn(\n",
            "1it [00:06,  6.52s/it]"
          ]
        },
        {
          "output_type": "stream",
          "name": "stdout",
          "text": [
            "06-20 08:15:51 [50] Lr: 0.000225, Training: 1.75%,  Loss: 2.87605, ACC: 48.00% \r\n"
          ]
        },
        {
          "output_type": "stream",
          "name": "stderr",
          "text": [
            "\r2it [00:11,  5.88s/it]"
          ]
        },
        {
          "output_type": "stream",
          "name": "stdout",
          "text": [
            "06-20 08:15:57 [50] Lr: 0.000225, Training: 3.51%,  Loss: 2.68374, ACC: 50.00% \r\n"
          ]
        },
        {
          "output_type": "stream",
          "name": "stderr",
          "text": [
            "\r3it [00:17,  5.70s/it]"
          ]
        },
        {
          "output_type": "stream",
          "name": "stdout",
          "text": [
            "06-20 08:16:02 [50] Lr: 0.000225, Training: 5.26%,  Loss: 2.53490, ACC: 51.11% \r\n"
          ]
        },
        {
          "output_type": "stream",
          "name": "stderr",
          "text": [
            "\r4it [00:22,  5.59s/it]"
          ]
        },
        {
          "output_type": "stream",
          "name": "stdout",
          "text": [
            "06-20 08:16:08 [50] Lr: 0.000225, Training: 7.02%,  Loss: 2.49079, ACC: 51.00% \r\n"
          ]
        },
        {
          "output_type": "stream",
          "name": "stderr",
          "text": [
            "\r5it [00:28,  5.55s/it]"
          ]
        },
        {
          "output_type": "stream",
          "name": "stdout",
          "text": [
            "06-20 08:16:13 [50] Lr: 0.000225, Training: 8.77%,  Loss: 2.52967, ACC: 50.53% \r\n"
          ]
        },
        {
          "output_type": "stream",
          "name": "stderr",
          "text": [
            "\r6it [00:33,  5.52s/it]"
          ]
        },
        {
          "output_type": "stream",
          "name": "stdout",
          "text": [
            "06-20 08:16:19 [50] Lr: 0.000225, Training: 10.53%,  Loss: 2.57888, ACC: 49.89% \r\n"
          ]
        },
        {
          "output_type": "stream",
          "name": "stderr",
          "text": [
            "\r7it [00:39,  5.50s/it]"
          ]
        },
        {
          "output_type": "stream",
          "name": "stdout",
          "text": [
            "06-20 08:16:24 [50] Lr: 0.000225, Training: 12.28%,  Loss: 2.59155, ACC: 49.90% \r\n"
          ]
        },
        {
          "output_type": "stream",
          "name": "stderr",
          "text": [
            "\r8it [00:44,  5.48s/it]"
          ]
        },
        {
          "output_type": "stream",
          "name": "stdout",
          "text": [
            "06-20 08:16:30 [50] Lr: 0.000225, Training: 14.04%,  Loss: 2.64139, ACC: 49.17% \r\n"
          ]
        },
        {
          "output_type": "stream",
          "name": "stderr",
          "text": [
            "\r9it [00:50,  5.47s/it]"
          ]
        },
        {
          "output_type": "stream",
          "name": "stdout",
          "text": [
            "06-20 08:16:35 [50] Lr: 0.000225, Training: 15.79%,  Loss: 2.69094, ACC: 48.74% \r\n"
          ]
        },
        {
          "output_type": "stream",
          "name": "stderr",
          "text": [
            "\r10it [00:55,  5.46s/it]"
          ]
        },
        {
          "output_type": "stream",
          "name": "stdout",
          "text": [
            "06-20 08:16:40 [50] Lr: 0.000225, Training: 17.54%,  Loss: 2.68080, ACC: 49.47% \r\n"
          ]
        },
        {
          "output_type": "stream",
          "name": "stderr",
          "text": [
            "\r11it [01:01,  5.46s/it]"
          ]
        },
        {
          "output_type": "stream",
          "name": "stdout",
          "text": [
            "06-20 08:16:46 [50] Lr: 0.000225, Training: 19.30%,  Loss: 2.68079, ACC: 49.45% \r\n"
          ]
        },
        {
          "output_type": "stream",
          "name": "stderr",
          "text": [
            "\r12it [01:06,  5.47s/it]"
          ]
        },
        {
          "output_type": "stream",
          "name": "stdout",
          "text": [
            "06-20 08:16:51 [50] Lr: 0.000225, Training: 21.05%,  Loss: 2.67832, ACC: 49.78% \r\n"
          ]
        },
        {
          "output_type": "stream",
          "name": "stderr",
          "text": [
            "\r13it [01:12,  5.47s/it]"
          ]
        },
        {
          "output_type": "stream",
          "name": "stdout",
          "text": [
            "06-20 08:16:57 [50] Lr: 0.000225, Training: 22.81%,  Loss: 2.68444, ACC: 49.49% \r\n"
          ]
        },
        {
          "output_type": "stream",
          "name": "stderr",
          "text": [
            "\r14it [01:17,  5.47s/it]"
          ]
        },
        {
          "output_type": "stream",
          "name": "stdout",
          "text": [
            "06-20 08:17:02 [50] Lr: 0.000225, Training: 24.56%,  Loss: 2.66691, ACC: 49.57% \r\n"
          ]
        },
        {
          "output_type": "stream",
          "name": "stderr",
          "text": [
            "\r15it [01:23,  5.50s/it]"
          ]
        },
        {
          "output_type": "stream",
          "name": "stdout",
          "text": [
            "06-20 08:17:08 [50] Lr: 0.000225, Training: 26.32%,  Loss: 2.64471, ACC: 49.87% \r\n"
          ]
        },
        {
          "output_type": "stream",
          "name": "stderr",
          "text": [
            "\r16it [01:28,  5.50s/it]"
          ]
        },
        {
          "output_type": "stream",
          "name": "stdout",
          "text": [
            "06-20 08:17:13 [50] Lr: 0.000225, Training: 28.07%,  Loss: 2.63549, ACC: 49.83% \r\n"
          ]
        },
        {
          "output_type": "stream",
          "name": "stderr",
          "text": [
            "\r17it [01:34,  5.50s/it]"
          ]
        },
        {
          "output_type": "stream",
          "name": "stdout",
          "text": [
            "06-20 08:17:19 [50] Lr: 0.000225, Training: 29.82%,  Loss: 2.63280, ACC: 49.76% \r\n"
          ]
        },
        {
          "output_type": "stream",
          "name": "stderr",
          "text": [
            "\r18it [01:39,  5.50s/it]"
          ]
        },
        {
          "output_type": "stream",
          "name": "stdout",
          "text": [
            "06-20 08:17:24 [50] Lr: 0.000225, Training: 31.58%,  Loss: 2.63866, ACC: 49.70% \r\n"
          ]
        },
        {
          "output_type": "stream",
          "name": "stderr",
          "text": [
            "\r19it [01:45,  5.51s/it]"
          ]
        },
        {
          "output_type": "stream",
          "name": "stdout",
          "text": [
            "06-20 08:17:30 [50] Lr: 0.000225, Training: 33.33%,  Loss: 2.62799, ACC: 49.75% \r\n"
          ]
        },
        {
          "output_type": "stream",
          "name": "stderr",
          "text": [
            "\r20it [01:50,  5.52s/it]"
          ]
        },
        {
          "output_type": "stream",
          "name": "stdout",
          "text": [
            "06-20 08:17:36 [50] Lr: 0.000225, Training: 35.09%,  Loss: 2.61386, ACC: 49.97% \r\n"
          ]
        },
        {
          "output_type": "stream",
          "name": "stderr",
          "text": [
            "\r21it [01:56,  5.54s/it]"
          ]
        },
        {
          "output_type": "stream",
          "name": "stdout",
          "text": [
            "06-20 08:17:41 [50] Lr: 0.000225, Training: 36.84%,  Loss: 2.60144, ACC: 50.25% \r\n"
          ]
        },
        {
          "output_type": "stream",
          "name": "stderr",
          "text": [
            "\r22it [02:01,  5.53s/it]"
          ]
        },
        {
          "output_type": "stream",
          "name": "stdout",
          "text": [
            "06-20 08:17:47 [50] Lr: 0.000225, Training: 38.60%,  Loss: 2.59807, ACC: 50.45% \r\n"
          ]
        },
        {
          "output_type": "stream",
          "name": "stderr",
          "text": [
            "\r23it [02:07,  5.53s/it]"
          ]
        },
        {
          "output_type": "stream",
          "name": "stdout",
          "text": [
            "06-20 08:17:52 [50] Lr: 0.000225, Training: 40.35%,  Loss: 2.59913, ACC: 50.55% \r\n"
          ]
        },
        {
          "output_type": "stream",
          "name": "stderr",
          "text": [
            "\r24it [02:12,  5.54s/it]"
          ]
        },
        {
          "output_type": "stream",
          "name": "stdout",
          "text": [
            "06-20 08:17:58 [50] Lr: 0.000225, Training: 42.11%,  Loss: 2.61050, ACC: 50.39% \r\n"
          ]
        },
        {
          "output_type": "stream",
          "name": "stderr",
          "text": [
            "\r25it [02:18,  5.53s/it]"
          ]
        },
        {
          "output_type": "stream",
          "name": "stdout",
          "text": [
            "06-20 08:18:03 [50] Lr: 0.000225, Training: 43.86%,  Loss: 2.61686, ACC: 50.53% \r\n"
          ]
        },
        {
          "output_type": "stream",
          "name": "stderr",
          "text": [
            "\r26it [02:23,  5.52s/it]"
          ]
        },
        {
          "output_type": "stream",
          "name": "stdout",
          "text": [
            "06-20 08:18:09 [50] Lr: 0.000225, Training: 45.61%,  Loss: 2.61095, ACC: 50.62% \r\n"
          ]
        },
        {
          "output_type": "stream",
          "name": "stderr",
          "text": [
            "\r27it [02:29,  5.53s/it]"
          ]
        },
        {
          "output_type": "stream",
          "name": "stdout",
          "text": [
            "06-20 08:18:14 [50] Lr: 0.000225, Training: 47.37%,  Loss: 2.60781, ACC: 50.77% \r\n"
          ]
        },
        {
          "output_type": "stream",
          "name": "stderr",
          "text": [
            "\r28it [02:34,  5.52s/it]"
          ]
        },
        {
          "output_type": "stream",
          "name": "stdout",
          "text": [
            "06-20 08:18:20 [50] Lr: 0.000225, Training: 49.12%,  Loss: 2.61368, ACC: 50.71% \r\n"
          ]
        },
        {
          "output_type": "stream",
          "name": "stderr",
          "text": [
            "\r29it [02:40,  5.52s/it]"
          ]
        },
        {
          "output_type": "stream",
          "name": "stdout",
          "text": [
            "06-20 08:18:25 [50] Lr: 0.000225, Training: 50.88%,  Loss: 2.62286, ACC: 50.69% \r\n"
          ]
        },
        {
          "output_type": "stream",
          "name": "stderr",
          "text": [
            "\r30it [02:45,  5.51s/it]"
          ]
        },
        {
          "output_type": "stream",
          "name": "stdout",
          "text": [
            "06-20 08:18:31 [50] Lr: 0.000225, Training: 52.63%,  Loss: 2.62494, ACC: 50.76% \r\n"
          ]
        },
        {
          "output_type": "stream",
          "name": "stderr",
          "text": [
            "\r31it [02:51,  5.51s/it]"
          ]
        },
        {
          "output_type": "stream",
          "name": "stdout",
          "text": [
            "06-20 08:18:36 [50] Lr: 0.000225, Training: 54.39%,  Loss: 2.61992, ACC: 50.92% \r\n"
          ]
        },
        {
          "output_type": "stream",
          "name": "stderr",
          "text": [
            "\r32it [02:56,  5.51s/it]"
          ]
        },
        {
          "output_type": "stream",
          "name": "stdout",
          "text": [
            "06-20 08:18:42 [50] Lr: 0.000225, Training: 56.14%,  Loss: 2.62451, ACC: 50.81% \r\n"
          ]
        },
        {
          "output_type": "stream",
          "name": "stderr",
          "text": [
            "\r33it [03:02,  5.52s/it]"
          ]
        },
        {
          "output_type": "stream",
          "name": "stdout",
          "text": [
            "06-20 08:18:47 [50] Lr: 0.000225, Training: 57.89%,  Loss: 2.61899, ACC: 50.93% \r\n"
          ]
        },
        {
          "output_type": "stream",
          "name": "stderr",
          "text": [
            "\r34it [03:07,  5.51s/it]"
          ]
        },
        {
          "output_type": "stream",
          "name": "stdout",
          "text": [
            "06-20 08:18:53 [50] Lr: 0.000225, Training: 59.65%,  Loss: 2.62351, ACC: 50.76% \r\n"
          ]
        },
        {
          "output_type": "stream",
          "name": "stderr",
          "text": [
            "\r35it [03:13,  5.51s/it]"
          ]
        },
        {
          "output_type": "stream",
          "name": "stdout",
          "text": [
            "06-20 08:18:58 [50] Lr: 0.000225, Training: 61.40%,  Loss: 2.61840, ACC: 50.90% \r\n"
          ]
        },
        {
          "output_type": "stream",
          "name": "stderr",
          "text": [
            "\r36it [03:18,  5.51s/it]"
          ]
        },
        {
          "output_type": "stream",
          "name": "stdout",
          "text": [
            "06-20 08:19:04 [50] Lr: 0.000225, Training: 63.16%,  Loss: 2.60412, ACC: 51.15% \r\n"
          ]
        },
        {
          "output_type": "stream",
          "name": "stderr",
          "text": [
            "\r37it [03:24,  5.51s/it]"
          ]
        },
        {
          "output_type": "stream",
          "name": "stdout",
          "text": [
            "06-20 08:19:09 [50] Lr: 0.000225, Training: 64.91%,  Loss: 2.60200, ACC: 51.01% \r\n"
          ]
        },
        {
          "output_type": "stream",
          "name": "stderr",
          "text": [
            "\r38it [03:29,  5.51s/it]"
          ]
        },
        {
          "output_type": "stream",
          "name": "stdout",
          "text": [
            "06-20 08:19:15 [50] Lr: 0.000225, Training: 66.67%,  Loss: 2.59515, ACC: 51.11% \r\n"
          ]
        },
        {
          "output_type": "stream",
          "name": "stderr",
          "text": [
            "\r39it [03:35,  5.51s/it]"
          ]
        },
        {
          "output_type": "stream",
          "name": "stdout",
          "text": [
            "06-20 08:19:20 [50] Lr: 0.000225, Training: 68.42%,  Loss: 2.59391, ACC: 51.15% \r\n"
          ]
        },
        {
          "output_type": "stream",
          "name": "stderr",
          "text": [
            "\r40it [03:40,  5.51s/it]"
          ]
        },
        {
          "output_type": "stream",
          "name": "stdout",
          "text": [
            "06-20 08:19:26 [50] Lr: 0.000225, Training: 70.18%,  Loss: 2.60028, ACC: 50.98% \r\n"
          ]
        },
        {
          "output_type": "stream",
          "name": "stderr",
          "text": [
            "\r41it [03:46,  5.51s/it]"
          ]
        },
        {
          "output_type": "stream",
          "name": "stdout",
          "text": [
            "06-20 08:19:31 [50] Lr: 0.000225, Training: 71.93%,  Loss: 2.60317, ACC: 51.04% \r\n"
          ]
        },
        {
          "output_type": "stream",
          "name": "stderr",
          "text": [
            "\r42it [03:52,  5.52s/it]"
          ]
        },
        {
          "output_type": "stream",
          "name": "stdout",
          "text": [
            "06-20 08:19:37 [50] Lr: 0.000225, Training: 73.68%,  Loss: 2.60232, ACC: 50.94% \r\n"
          ]
        },
        {
          "output_type": "stream",
          "name": "stderr",
          "text": [
            "\r43it [03:57,  5.52s/it]"
          ]
        },
        {
          "output_type": "stream",
          "name": "stdout",
          "text": [
            "06-20 08:19:42 [50] Lr: 0.000225, Training: 75.44%,  Loss: 2.61088, ACC: 50.76% \r\n"
          ]
        },
        {
          "output_type": "stream",
          "name": "stderr",
          "text": [
            "\r44it [04:03,  5.51s/it]"
          ]
        },
        {
          "output_type": "stream",
          "name": "stdout",
          "text": [
            "06-20 08:19:48 [50] Lr: 0.000225, Training: 77.19%,  Loss: 2.61186, ACC: 50.67% \r\n"
          ]
        },
        {
          "output_type": "stream",
          "name": "stderr",
          "text": [
            "\r45it [04:08,  5.53s/it]"
          ]
        },
        {
          "output_type": "stream",
          "name": "stdout",
          "text": [
            "06-20 08:19:53 [50] Lr: 0.000225, Training: 78.95%,  Loss: 2.60955, ACC: 50.76% \r\n"
          ]
        },
        {
          "output_type": "stream",
          "name": "stderr",
          "text": [
            "\r46it [04:14,  5.52s/it]"
          ]
        },
        {
          "output_type": "stream",
          "name": "stdout",
          "text": [
            "06-20 08:19:59 [50] Lr: 0.000225, Training: 80.70%,  Loss: 2.60190, ACC: 50.91% \r\n"
          ]
        },
        {
          "output_type": "stream",
          "name": "stderr",
          "text": [
            "\r47it [04:19,  5.52s/it]"
          ]
        },
        {
          "output_type": "stream",
          "name": "stdout",
          "text": [
            "06-20 08:20:05 [50] Lr: 0.000225, Training: 82.46%,  Loss: 2.60071, ACC: 50.94% \r\n"
          ]
        },
        {
          "output_type": "stream",
          "name": "stderr",
          "text": [
            "\r48it [04:25,  5.52s/it]"
          ]
        },
        {
          "output_type": "stream",
          "name": "stdout",
          "text": [
            "06-20 08:20:10 [50] Lr: 0.000225, Training: 84.21%,  Loss: 2.60643, ACC: 50.82% \r\n"
          ]
        },
        {
          "output_type": "stream",
          "name": "stderr",
          "text": [
            "\r49it [04:30,  5.52s/it]"
          ]
        },
        {
          "output_type": "stream",
          "name": "stdout",
          "text": [
            "06-20 08:20:16 [50] Lr: 0.000225, Training: 85.96%,  Loss: 2.60095, ACC: 50.90% \r\n"
          ]
        },
        {
          "output_type": "stream",
          "name": "stderr",
          "text": [
            "\r50it [04:36,  5.51s/it]"
          ]
        },
        {
          "output_type": "stream",
          "name": "stdout",
          "text": [
            "06-20 08:20:21 [50] Lr: 0.000225, Training: 87.72%,  Loss: 2.60935, ACC: 50.87% \r\n"
          ]
        },
        {
          "output_type": "stream",
          "name": "stderr",
          "text": [
            "\r51it [04:41,  5.53s/it]"
          ]
        },
        {
          "output_type": "stream",
          "name": "stdout",
          "text": [
            "06-20 08:20:27 [50] Lr: 0.000225, Training: 89.47%,  Loss: 2.60533, ACC: 50.86% \r\n"
          ]
        },
        {
          "output_type": "stream",
          "name": "stderr",
          "text": [
            "\r52it [04:47,  5.52s/it]"
          ]
        },
        {
          "output_type": "stream",
          "name": "stdout",
          "text": [
            "06-20 08:20:32 [50] Lr: 0.000225, Training: 91.23%,  Loss: 2.60348, ACC: 50.86% \r\n"
          ]
        },
        {
          "output_type": "stream",
          "name": "stderr",
          "text": [
            "\r53it [04:52,  5.52s/it]"
          ]
        },
        {
          "output_type": "stream",
          "name": "stdout",
          "text": [
            "06-20 08:20:38 [50] Lr: 0.000225, Training: 92.98%,  Loss: 2.60273, ACC: 50.89% \r\n"
          ]
        },
        {
          "output_type": "stream",
          "name": "stderr",
          "text": [
            "\r54it [04:58,  5.52s/it]"
          ]
        },
        {
          "output_type": "stream",
          "name": "stdout",
          "text": [
            "06-20 08:20:43 [50] Lr: 0.000225, Training: 94.74%,  Loss: 2.59905, ACC: 50.95% \r\n"
          ]
        },
        {
          "output_type": "stream",
          "name": "stderr",
          "text": [
            "\r55it [05:03,  5.52s/it]"
          ]
        },
        {
          "output_type": "stream",
          "name": "stdout",
          "text": [
            "06-20 08:20:49 [50] Lr: 0.000225, Training: 96.49%,  Loss: 2.59681, ACC: 51.03% \r\n"
          ]
        },
        {
          "output_type": "stream",
          "name": "stderr",
          "text": [
            "\r56it [05:09,  5.52s/it]"
          ]
        },
        {
          "output_type": "stream",
          "name": "stdout",
          "text": [
            "06-20 08:20:54 [50] Lr: 0.000225, Training: 98.25%,  Loss: 2.59784, ACC: 51.10% \r\n"
          ]
        },
        {
          "output_type": "stream",
          "name": "stderr",
          "text": [
            "57it [05:13,  5.50s/it]"
          ]
        },
        {
          "output_type": "stream",
          "name": "stdout",
          "text": [
            "06-20 08:20:58 [50] Lr: 0.000225, Training: 100.00%,  Loss: 2.59406, ACC: 37.38% \r\n",
            "\n",
            "\n"
          ]
        },
        {
          "output_type": "stream",
          "name": "stderr",
          "text": [
            "\n",
            "  0%|          | 0/973 [00:00<?, ?it/s]<ipython-input-15-b61162519fae>:62: DeprecationWarning: `np.float` is a deprecated alias for the builtin `float`. To silence this warning, use `float` by itself. Doing this will not modify any behavior and is safe. If you specifically wanted the numpy scalar type, use `np.float64` here.\n",
            "Deprecated in NumPy 1.20; for more details and guidance: https://numpy.org/devdocs/release/1.20.0-notes.html#deprecations\n",
            "  feats = numpy.stack(feats, axis = 0).astype(numpy.float)\n",
            "100%|██████████| 973/973 [04:37<00:00,  3.51it/s]\n"
          ]
        },
        {
          "output_type": "stream",
          "name": "stdout",
          "text": [
            "2023-06-20 08:25:45 50 epoch, ACC 37.38%, EER 6.17%, bestEER 6.17%\n",
            "Epoch: 51\n"
          ]
        },
        {
          "output_type": "stream",
          "name": "stderr",
          "text": [
            "/usr/local/lib/python3.10/dist-packages/torch/optim/lr_scheduler.py:152: UserWarning: The epoch parameter in `scheduler.step()` was not necessary and is being deprecated where possible. Please use `scheduler.step()` to step the scheduler. During the deprecation, if epoch is different from None, the closed form is used instead of the new chainable form, where available. Please open an issue if you are unable to replicate your use case: https://github.com/pytorch/pytorch/issues/new/choose.\n",
            "  warnings.warn(EPOCH_DEPRECATION_WARNING, UserWarning)\n",
            "0it [00:00, ?it/s]/usr/local/lib/python3.10/dist-packages/torch/nn/functional.py:4999: UserWarning: Support for mismatched key_padding_mask and attn_mask is deprecated. Use same type for both instead.\n",
            "  warnings.warn(\n",
            "1it [00:06,  6.18s/it]"
          ]
        },
        {
          "output_type": "stream",
          "name": "stdout",
          "text": [
            "06-20 08:25:52 [51] Lr: 0.000218, Training: 1.75%,  Loss: 2.27224, ACC: 52.67% \r\n"
          ]
        },
        {
          "output_type": "stream",
          "name": "stderr",
          "text": [
            "\r2it [00:11,  5.73s/it]"
          ]
        },
        {
          "output_type": "stream",
          "name": "stdout",
          "text": [
            "06-20 08:25:57 [51] Lr: 0.000218, Training: 3.51%,  Loss: 2.51481, ACC: 50.00% \r\n"
          ]
        },
        {
          "output_type": "stream",
          "name": "stderr",
          "text": [
            "\r3it [00:17,  5.59s/it]"
          ]
        },
        {
          "output_type": "stream",
          "name": "stdout",
          "text": [
            "06-20 08:26:02 [51] Lr: 0.000218, Training: 5.26%,  Loss: 2.46033, ACC: 53.11% \r\n"
          ]
        },
        {
          "output_type": "stream",
          "name": "stderr",
          "text": [
            "\r4it [00:22,  5.53s/it]"
          ]
        },
        {
          "output_type": "stream",
          "name": "stdout",
          "text": [
            "06-20 08:26:08 [51] Lr: 0.000218, Training: 7.02%,  Loss: 2.50631, ACC: 52.67% \r\n"
          ]
        },
        {
          "output_type": "stream",
          "name": "stderr",
          "text": [
            "\r5it [00:27,  5.50s/it]"
          ]
        },
        {
          "output_type": "stream",
          "name": "stdout",
          "text": [
            "06-20 08:26:13 [51] Lr: 0.000218, Training: 8.77%,  Loss: 2.47670, ACC: 53.60% \r\n"
          ]
        },
        {
          "output_type": "stream",
          "name": "stderr",
          "text": [
            "\r6it [00:33,  5.48s/it]"
          ]
        },
        {
          "output_type": "stream",
          "name": "stdout",
          "text": [
            "06-20 08:26:19 [51] Lr: 0.000218, Training: 10.53%,  Loss: 2.45519, ACC: 54.00% \r\n"
          ]
        },
        {
          "output_type": "stream",
          "name": "stderr",
          "text": [
            "\r7it [00:38,  5.48s/it]"
          ]
        },
        {
          "output_type": "stream",
          "name": "stdout",
          "text": [
            "06-20 08:26:24 [51] Lr: 0.000218, Training: 12.28%,  Loss: 2.39686, ACC: 54.76% \r\n"
          ]
        },
        {
          "output_type": "stream",
          "name": "stderr",
          "text": [
            "\r8it [00:44,  5.47s/it]"
          ]
        },
        {
          "output_type": "stream",
          "name": "stdout",
          "text": [
            "06-20 08:26:30 [51] Lr: 0.000218, Training: 14.04%,  Loss: 2.40825, ACC: 54.42% \r\n"
          ]
        },
        {
          "output_type": "stream",
          "name": "stderr",
          "text": [
            "\r9it [00:49,  5.47s/it]"
          ]
        },
        {
          "output_type": "stream",
          "name": "stdout",
          "text": [
            "06-20 08:26:35 [51] Lr: 0.000218, Training: 15.79%,  Loss: 2.45585, ACC: 53.33% \r\n"
          ]
        },
        {
          "output_type": "stream",
          "name": "stderr",
          "text": [
            "\r10it [00:55,  5.46s/it]"
          ]
        },
        {
          "output_type": "stream",
          "name": "stdout",
          "text": [
            "06-20 08:26:41 [51] Lr: 0.000218, Training: 17.54%,  Loss: 2.46941, ACC: 52.67% \r\n"
          ]
        },
        {
          "output_type": "stream",
          "name": "stderr",
          "text": [
            "\r11it [01:00,  5.46s/it]"
          ]
        },
        {
          "output_type": "stream",
          "name": "stdout",
          "text": [
            "06-20 08:26:46 [51] Lr: 0.000218, Training: 19.30%,  Loss: 2.49300, ACC: 52.55% \r\n"
          ]
        },
        {
          "output_type": "stream",
          "name": "stderr",
          "text": [
            "\r12it [01:06,  5.47s/it]"
          ]
        },
        {
          "output_type": "stream",
          "name": "stdout",
          "text": [
            "06-20 08:26:52 [51] Lr: 0.000218, Training: 21.05%,  Loss: 2.49795, ACC: 52.56% \r\n"
          ]
        },
        {
          "output_type": "stream",
          "name": "stderr",
          "text": [
            "\r13it [01:11,  5.47s/it]"
          ]
        },
        {
          "output_type": "stream",
          "name": "stdout",
          "text": [
            "06-20 08:26:57 [51] Lr: 0.000218, Training: 22.81%,  Loss: 2.51419, ACC: 52.31% \r\n"
          ]
        },
        {
          "output_type": "stream",
          "name": "stderr",
          "text": [
            "\r14it [01:17,  5.48s/it]"
          ]
        },
        {
          "output_type": "stream",
          "name": "stdout",
          "text": [
            "06-20 08:27:03 [51] Lr: 0.000218, Training: 24.56%,  Loss: 2.51993, ACC: 52.48% \r\n"
          ]
        },
        {
          "output_type": "stream",
          "name": "stderr",
          "text": [
            "\r15it [01:22,  5.50s/it]"
          ]
        },
        {
          "output_type": "stream",
          "name": "stdout",
          "text": [
            "06-20 08:27:08 [51] Lr: 0.000218, Training: 26.32%,  Loss: 2.54045, ACC: 52.18% \r\n"
          ]
        },
        {
          "output_type": "stream",
          "name": "stderr",
          "text": [
            "\r16it [01:28,  5.50s/it]"
          ]
        },
        {
          "output_type": "stream",
          "name": "stdout",
          "text": [
            "06-20 08:27:14 [51] Lr: 0.000218, Training: 28.07%,  Loss: 2.56557, ACC: 51.79% \r\n"
          ]
        },
        {
          "output_type": "stream",
          "name": "stderr",
          "text": [
            "\r17it [01:33,  5.52s/it]"
          ]
        },
        {
          "output_type": "stream",
          "name": "stdout",
          "text": [
            "06-20 08:27:19 [51] Lr: 0.000218, Training: 29.82%,  Loss: 2.54918, ACC: 52.12% \r\n"
          ]
        },
        {
          "output_type": "stream",
          "name": "stderr",
          "text": [
            "\r18it [01:39,  5.54s/it]"
          ]
        },
        {
          "output_type": "stream",
          "name": "stdout",
          "text": [
            "06-20 08:27:25 [51] Lr: 0.000218, Training: 31.58%,  Loss: 2.55478, ACC: 52.04% \r\n"
          ]
        },
        {
          "output_type": "stream",
          "name": "stderr",
          "text": [
            "\r19it [01:44,  5.55s/it]"
          ]
        },
        {
          "output_type": "stream",
          "name": "stdout",
          "text": [
            "06-20 08:27:30 [51] Lr: 0.000218, Training: 33.33%,  Loss: 2.54742, ACC: 52.21% \r\n"
          ]
        },
        {
          "output_type": "stream",
          "name": "stderr",
          "text": [
            "\r20it [01:50,  5.56s/it]"
          ]
        },
        {
          "output_type": "stream",
          "name": "stdout",
          "text": [
            "06-20 08:27:36 [51] Lr: 0.000218, Training: 35.09%,  Loss: 2.53935, ACC: 52.40% \r\n"
          ]
        },
        {
          "output_type": "stream",
          "name": "stderr",
          "text": [
            "\r21it [01:56,  5.57s/it]"
          ]
        },
        {
          "output_type": "stream",
          "name": "stdout",
          "text": [
            "06-20 08:27:42 [51] Lr: 0.000218, Training: 36.84%,  Loss: 2.55310, ACC: 52.25% \r\n"
          ]
        },
        {
          "output_type": "stream",
          "name": "stderr",
          "text": [
            "\r22it [02:01,  5.57s/it]"
          ]
        },
        {
          "output_type": "stream",
          "name": "stdout",
          "text": [
            "06-20 08:27:47 [51] Lr: 0.000218, Training: 38.60%,  Loss: 2.56401, ACC: 52.18% \r\n"
          ]
        },
        {
          "output_type": "stream",
          "name": "stderr",
          "text": [
            "\r23it [02:07,  5.57s/it]"
          ]
        },
        {
          "output_type": "stream",
          "name": "stdout",
          "text": [
            "06-20 08:27:53 [51] Lr: 0.000218, Training: 40.35%,  Loss: 2.55958, ACC: 52.29% \r\n"
          ]
        },
        {
          "output_type": "stream",
          "name": "stderr",
          "text": [
            "\r24it [02:12,  5.57s/it]"
          ]
        },
        {
          "output_type": "stream",
          "name": "stdout",
          "text": [
            "06-20 08:27:58 [51] Lr: 0.000218, Training: 42.11%,  Loss: 2.55029, ACC: 52.33% \r\n"
          ]
        },
        {
          "output_type": "stream",
          "name": "stderr",
          "text": [
            "\r25it [02:18,  5.56s/it]"
          ]
        },
        {
          "output_type": "stream",
          "name": "stdout",
          "text": [
            "06-20 08:28:04 [51] Lr: 0.000218, Training: 43.86%,  Loss: 2.54026, ACC: 52.24% \r\n"
          ]
        },
        {
          "output_type": "stream",
          "name": "stderr",
          "text": [
            "\r26it [02:23,  5.56s/it]"
          ]
        },
        {
          "output_type": "stream",
          "name": "stdout",
          "text": [
            "06-20 08:28:09 [51] Lr: 0.000218, Training: 45.61%,  Loss: 2.54728, ACC: 52.15% \r\n"
          ]
        },
        {
          "output_type": "stream",
          "name": "stderr",
          "text": [
            "\r27it [02:29,  5.56s/it]"
          ]
        },
        {
          "output_type": "stream",
          "name": "stdout",
          "text": [
            "06-20 08:28:15 [51] Lr: 0.000218, Training: 47.37%,  Loss: 2.54935, ACC: 52.17% \r\n"
          ]
        },
        {
          "output_type": "stream",
          "name": "stderr",
          "text": [
            "\r28it [02:34,  5.55s/it]"
          ]
        },
        {
          "output_type": "stream",
          "name": "stdout",
          "text": [
            "06-20 08:28:20 [51] Lr: 0.000218, Training: 49.12%,  Loss: 2.54758, ACC: 52.24% \r\n"
          ]
        },
        {
          "output_type": "stream",
          "name": "stderr",
          "text": [
            "\r29it [02:40,  5.55s/it]"
          ]
        },
        {
          "output_type": "stream",
          "name": "stdout",
          "text": [
            "06-20 08:28:26 [51] Lr: 0.000218, Training: 50.88%,  Loss: 2.53353, ACC: 52.41% \r\n"
          ]
        },
        {
          "output_type": "stream",
          "name": "stderr",
          "text": [
            "\r30it [02:46,  5.54s/it]"
          ]
        },
        {
          "output_type": "stream",
          "name": "stdout",
          "text": [
            "06-20 08:28:31 [51] Lr: 0.000218, Training: 52.63%,  Loss: 2.54059, ACC: 52.29% \r\n"
          ]
        },
        {
          "output_type": "stream",
          "name": "stderr",
          "text": [
            "\r31it [02:51,  5.54s/it]"
          ]
        },
        {
          "output_type": "stream",
          "name": "stdout",
          "text": [
            "06-20 08:28:37 [51] Lr: 0.000218, Training: 54.39%,  Loss: 2.55331, ACC: 52.04% \r\n"
          ]
        },
        {
          "output_type": "stream",
          "name": "stderr",
          "text": [
            "\r32it [02:57,  5.54s/it]"
          ]
        },
        {
          "output_type": "stream",
          "name": "stdout",
          "text": [
            "06-20 08:28:43 [51] Lr: 0.000218, Training: 56.14%,  Loss: 2.55221, ACC: 51.98% \r\n"
          ]
        },
        {
          "output_type": "stream",
          "name": "stderr",
          "text": [
            "\r33it [03:02,  5.54s/it]"
          ]
        },
        {
          "output_type": "stream",
          "name": "stdout",
          "text": [
            "06-20 08:28:48 [51] Lr: 0.000218, Training: 57.89%,  Loss: 2.54366, ACC: 52.10% \r\n"
          ]
        },
        {
          "output_type": "stream",
          "name": "stderr",
          "text": [
            "\r34it [03:08,  5.53s/it]"
          ]
        },
        {
          "output_type": "stream",
          "name": "stdout",
          "text": [
            "06-20 08:28:54 [51] Lr: 0.000218, Training: 59.65%,  Loss: 2.55288, ACC: 51.94% \r\n"
          ]
        },
        {
          "output_type": "stream",
          "name": "stderr",
          "text": [
            "\r35it [03:13,  5.53s/it]"
          ]
        },
        {
          "output_type": "stream",
          "name": "stdout",
          "text": [
            "06-20 08:28:59 [51] Lr: 0.000218, Training: 61.40%,  Loss: 2.54616, ACC: 51.94% \r\n"
          ]
        },
        {
          "output_type": "stream",
          "name": "stderr",
          "text": [
            "\r36it [03:19,  5.54s/it]"
          ]
        },
        {
          "output_type": "stream",
          "name": "stdout",
          "text": [
            "06-20 08:29:05 [51] Lr: 0.000218, Training: 63.16%,  Loss: 2.54949, ACC: 51.89% \r\n"
          ]
        },
        {
          "output_type": "stream",
          "name": "stderr",
          "text": [
            "\r37it [03:24,  5.54s/it]"
          ]
        },
        {
          "output_type": "stream",
          "name": "stdout",
          "text": [
            "06-20 08:29:10 [51] Lr: 0.000218, Training: 64.91%,  Loss: 2.54871, ACC: 51.95% \r\n"
          ]
        },
        {
          "output_type": "stream",
          "name": "stderr",
          "text": [
            "\r38it [03:30,  5.53s/it]"
          ]
        },
        {
          "output_type": "stream",
          "name": "stdout",
          "text": [
            "06-20 08:29:16 [51] Lr: 0.000218, Training: 66.67%,  Loss: 2.54963, ACC: 51.89% \r\n"
          ]
        },
        {
          "output_type": "stream",
          "name": "stderr",
          "text": [
            "\r39it [03:35,  5.54s/it]"
          ]
        },
        {
          "output_type": "stream",
          "name": "stdout",
          "text": [
            "06-20 08:29:21 [51] Lr: 0.000218, Training: 68.42%,  Loss: 2.54663, ACC: 51.95% \r\n"
          ]
        },
        {
          "output_type": "stream",
          "name": "stderr",
          "text": [
            "\r40it [03:41,  5.54s/it]"
          ]
        },
        {
          "output_type": "stream",
          "name": "stdout",
          "text": [
            "06-20 08:29:27 [51] Lr: 0.000218, Training: 70.18%,  Loss: 2.54603, ACC: 51.87% \r\n"
          ]
        },
        {
          "output_type": "stream",
          "name": "stderr",
          "text": [
            "\r41it [03:46,  5.53s/it]"
          ]
        },
        {
          "output_type": "stream",
          "name": "stdout",
          "text": [
            "06-20 08:29:32 [51] Lr: 0.000218, Training: 71.93%,  Loss: 2.55970, ACC: 51.66% \r\n"
          ]
        },
        {
          "output_type": "stream",
          "name": "stderr",
          "text": [
            "\r42it [03:52,  5.53s/it]"
          ]
        },
        {
          "output_type": "stream",
          "name": "stdout",
          "text": [
            "06-20 08:29:38 [51] Lr: 0.000218, Training: 73.68%,  Loss: 2.56651, ACC: 51.68% \r\n"
          ]
        },
        {
          "output_type": "stream",
          "name": "stderr",
          "text": [
            "\r43it [03:57,  5.53s/it]"
          ]
        },
        {
          "output_type": "stream",
          "name": "stdout",
          "text": [
            "06-20 08:29:43 [51] Lr: 0.000218, Training: 75.44%,  Loss: 2.55757, ACC: 51.74% \r\n"
          ]
        },
        {
          "output_type": "stream",
          "name": "stderr",
          "text": [
            "\r44it [04:03,  5.53s/it]"
          ]
        },
        {
          "output_type": "stream",
          "name": "stdout",
          "text": [
            "06-20 08:29:49 [51] Lr: 0.000218, Training: 77.19%,  Loss: 2.55243, ACC: 51.79% \r\n"
          ]
        },
        {
          "output_type": "stream",
          "name": "stderr",
          "text": [
            "\r45it [04:09,  5.54s/it]"
          ]
        },
        {
          "output_type": "stream",
          "name": "stdout",
          "text": [
            "06-20 08:29:54 [51] Lr: 0.000218, Training: 78.95%,  Loss: 2.55348, ACC: 51.93% \r\n"
          ]
        },
        {
          "output_type": "stream",
          "name": "stderr",
          "text": [
            "\r46it [04:14,  5.53s/it]"
          ]
        },
        {
          "output_type": "stream",
          "name": "stdout",
          "text": [
            "06-20 08:30:00 [51] Lr: 0.000218, Training: 80.70%,  Loss: 2.55395, ACC: 51.87% \r\n"
          ]
        },
        {
          "output_type": "stream",
          "name": "stderr",
          "text": [
            "\r47it [04:20,  5.53s/it]"
          ]
        },
        {
          "output_type": "stream",
          "name": "stdout",
          "text": [
            "06-20 08:30:06 [51] Lr: 0.000218, Training: 82.46%,  Loss: 2.55122, ACC: 51.90% \r\n"
          ]
        },
        {
          "output_type": "stream",
          "name": "stderr",
          "text": [
            "\r48it [04:25,  5.53s/it]"
          ]
        },
        {
          "output_type": "stream",
          "name": "stdout",
          "text": [
            "06-20 08:30:11 [51] Lr: 0.000218, Training: 84.21%,  Loss: 2.55446, ACC: 51.90% \r\n"
          ]
        },
        {
          "output_type": "stream",
          "name": "stderr",
          "text": [
            "\r49it [04:31,  5.53s/it]"
          ]
        },
        {
          "output_type": "stream",
          "name": "stdout",
          "text": [
            "06-20 08:30:17 [51] Lr: 0.000218, Training: 85.96%,  Loss: 2.55589, ACC: 51.95% \r\n"
          ]
        },
        {
          "output_type": "stream",
          "name": "stderr",
          "text": [
            "\r50it [04:36,  5.53s/it]"
          ]
        },
        {
          "output_type": "stream",
          "name": "stdout",
          "text": [
            "06-20 08:30:22 [51] Lr: 0.000218, Training: 87.72%,  Loss: 2.56370, ACC: 51.85% \r\n"
          ]
        },
        {
          "output_type": "stream",
          "name": "stderr",
          "text": [
            "\r51it [04:42,  5.54s/it]"
          ]
        },
        {
          "output_type": "stream",
          "name": "stdout",
          "text": [
            "06-20 08:30:28 [51] Lr: 0.000218, Training: 89.47%,  Loss: 2.56625, ACC: 51.82% \r\n"
          ]
        },
        {
          "output_type": "stream",
          "name": "stderr",
          "text": [
            "\r52it [04:47,  5.53s/it]"
          ]
        },
        {
          "output_type": "stream",
          "name": "stdout",
          "text": [
            "06-20 08:30:33 [51] Lr: 0.000218, Training: 91.23%,  Loss: 2.57455, ACC: 51.63% \r\n"
          ]
        },
        {
          "output_type": "stream",
          "name": "stderr",
          "text": [
            "\r53it [04:53,  5.54s/it]"
          ]
        },
        {
          "output_type": "stream",
          "name": "stdout",
          "text": [
            "06-20 08:30:39 [51] Lr: 0.000218, Training: 92.98%,  Loss: 2.57606, ACC: 51.70% \r\n"
          ]
        },
        {
          "output_type": "stream",
          "name": "stderr",
          "text": [
            "\r54it [04:58,  5.53s/it]"
          ]
        },
        {
          "output_type": "stream",
          "name": "stdout",
          "text": [
            "06-20 08:30:44 [51] Lr: 0.000218, Training: 94.74%,  Loss: 2.57483, ACC: 51.73% \r\n"
          ]
        },
        {
          "output_type": "stream",
          "name": "stderr",
          "text": [
            "\r55it [05:04,  5.53s/it]"
          ]
        },
        {
          "output_type": "stream",
          "name": "stdout",
          "text": [
            "06-20 08:30:50 [51] Lr: 0.000218, Training: 96.49%,  Loss: 2.57887, ACC: 51.64% \r\n"
          ]
        },
        {
          "output_type": "stream",
          "name": "stderr",
          "text": [
            "\r56it [05:09,  5.53s/it]"
          ]
        },
        {
          "output_type": "stream",
          "name": "stdout",
          "text": [
            "06-20 08:30:55 [51] Lr: 0.000218, Training: 98.25%,  Loss: 2.57583, ACC: 51.63% \r\n"
          ]
        },
        {
          "output_type": "stream",
          "name": "stderr",
          "text": [
            "57it [05:13,  5.51s/it]"
          ]
        },
        {
          "output_type": "stream",
          "name": "stdout",
          "text": [
            "06-20 08:30:59 [51] Lr: 0.000218, Training: 100.00%,  Loss: 2.58069, ACC: 37.67% \r\n",
            "\n",
            "\n"
          ]
        },
        {
          "output_type": "stream",
          "name": "stderr",
          "text": [
            "\n",
            "  0%|          | 0/973 [00:00<?, ?it/s]<ipython-input-15-b61162519fae>:62: DeprecationWarning: `np.float` is a deprecated alias for the builtin `float`. To silence this warning, use `float` by itself. Doing this will not modify any behavior and is safe. If you specifically wanted the numpy scalar type, use `np.float64` here.\n",
            "Deprecated in NumPy 1.20; for more details and guidance: https://numpy.org/devdocs/release/1.20.0-notes.html#deprecations\n",
            "  feats = numpy.stack(feats, axis = 0).astype(numpy.float)\n",
            "100%|██████████| 973/973 [04:30<00:00,  3.59it/s]\n"
          ]
        },
        {
          "output_type": "stream",
          "name": "stdout",
          "text": [
            "2023-06-20 08:35:41 51 epoch, ACC 37.67%, EER 6.23%, bestEER 6.17%\n",
            "Epoch: 52\n"
          ]
        },
        {
          "output_type": "stream",
          "name": "stderr",
          "text": [
            "/usr/local/lib/python3.10/dist-packages/torch/optim/lr_scheduler.py:152: UserWarning: The epoch parameter in `scheduler.step()` was not necessary and is being deprecated where possible. Please use `scheduler.step()` to step the scheduler. During the deprecation, if epoch is different from None, the closed form is used instead of the new chainable form, where available. Please open an issue if you are unable to replicate your use case: https://github.com/pytorch/pytorch/issues/new/choose.\n",
            "  warnings.warn(EPOCH_DEPRECATION_WARNING, UserWarning)\n",
            "0it [00:00, ?it/s]/usr/local/lib/python3.10/dist-packages/torch/nn/functional.py:4999: UserWarning: Support for mismatched key_padding_mask and attn_mask is deprecated. Use same type for both instead.\n",
            "  warnings.warn(\n",
            "1it [00:06,  6.48s/it]"
          ]
        },
        {
          "output_type": "stream",
          "name": "stdout",
          "text": [
            "06-20 08:35:48 [52] Lr: 0.000212, Training: 1.75%,  Loss: 2.63079, ACC: 50.67% \r\n"
          ]
        },
        {
          "output_type": "stream",
          "name": "stderr",
          "text": [
            "\r2it [00:11,  5.87s/it]"
          ]
        },
        {
          "output_type": "stream",
          "name": "stdout",
          "text": [
            "06-20 08:35:54 [52] Lr: 0.000212, Training: 3.51%,  Loss: 2.59191, ACC: 50.33% \r\n"
          ]
        },
        {
          "output_type": "stream",
          "name": "stderr",
          "text": [
            "\r3it [00:17,  5.69s/it]"
          ]
        },
        {
          "output_type": "stream",
          "name": "stdout",
          "text": [
            "06-20 08:35:59 [52] Lr: 0.000212, Training: 5.26%,  Loss: 2.61528, ACC: 49.78% \r\n"
          ]
        },
        {
          "output_type": "stream",
          "name": "stderr",
          "text": [
            "\r4it [00:22,  5.61s/it]"
          ]
        },
        {
          "output_type": "stream",
          "name": "stdout",
          "text": [
            "06-20 08:36:05 [52] Lr: 0.000212, Training: 7.02%,  Loss: 2.63926, ACC: 50.67% \r\n"
          ]
        },
        {
          "output_type": "stream",
          "name": "stderr",
          "text": [
            "\r5it [00:28,  5.55s/it]"
          ]
        },
        {
          "output_type": "stream",
          "name": "stdout",
          "text": [
            "06-20 08:36:10 [52] Lr: 0.000212, Training: 8.77%,  Loss: 2.71684, ACC: 48.80% \r\n"
          ]
        },
        {
          "output_type": "stream",
          "name": "stderr",
          "text": [
            "\r6it [00:33,  5.53s/it]"
          ]
        },
        {
          "output_type": "stream",
          "name": "stdout",
          "text": [
            "06-20 08:36:16 [52] Lr: 0.000212, Training: 10.53%,  Loss: 2.61637, ACC: 50.44% \r\n"
          ]
        },
        {
          "output_type": "stream",
          "name": "stderr",
          "text": [
            "\r7it [00:39,  5.51s/it]"
          ]
        },
        {
          "output_type": "stream",
          "name": "stdout",
          "text": [
            "06-20 08:36:21 [52] Lr: 0.000212, Training: 12.28%,  Loss: 2.56833, ACC: 51.33% \r\n"
          ]
        },
        {
          "output_type": "stream",
          "name": "stderr",
          "text": [
            "\r8it [00:44,  5.49s/it]"
          ]
        },
        {
          "output_type": "stream",
          "name": "stdout",
          "text": [
            "06-20 08:36:26 [52] Lr: 0.000212, Training: 14.04%,  Loss: 2.56497, ACC: 51.50% \r\n"
          ]
        },
        {
          "output_type": "stream",
          "name": "stderr",
          "text": [
            "\r9it [00:50,  5.49s/it]"
          ]
        },
        {
          "output_type": "stream",
          "name": "stdout",
          "text": [
            "06-20 08:36:32 [52] Lr: 0.000212, Training: 15.79%,  Loss: 2.52297, ACC: 51.33% \r\n"
          ]
        },
        {
          "output_type": "stream",
          "name": "stderr",
          "text": [
            "\r10it [00:55,  5.48s/it]"
          ]
        },
        {
          "output_type": "stream",
          "name": "stdout",
          "text": [
            "06-20 08:36:37 [52] Lr: 0.000212, Training: 17.54%,  Loss: 2.52256, ACC: 51.80% \r\n"
          ]
        },
        {
          "output_type": "stream",
          "name": "stderr",
          "text": [
            "\r11it [01:01,  5.48s/it]"
          ]
        },
        {
          "output_type": "stream",
          "name": "stdout",
          "text": [
            "06-20 08:36:43 [52] Lr: 0.000212, Training: 19.30%,  Loss: 2.50671, ACC: 52.18% \r\n"
          ]
        },
        {
          "output_type": "stream",
          "name": "stderr",
          "text": [
            "\r12it [01:06,  5.47s/it]"
          ]
        },
        {
          "output_type": "stream",
          "name": "stdout",
          "text": [
            "06-20 08:36:48 [52] Lr: 0.000212, Training: 21.05%,  Loss: 2.49114, ACC: 52.11% \r\n"
          ]
        },
        {
          "output_type": "stream",
          "name": "stderr",
          "text": [
            "\r13it [01:12,  5.49s/it]"
          ]
        },
        {
          "output_type": "stream",
          "name": "stdout",
          "text": [
            "06-20 08:36:54 [52] Lr: 0.000212, Training: 22.81%,  Loss: 2.48150, ACC: 52.41% \r\n"
          ]
        },
        {
          "output_type": "stream",
          "name": "stderr",
          "text": [
            "\r14it [01:17,  5.48s/it]"
          ]
        },
        {
          "output_type": "stream",
          "name": "stdout",
          "text": [
            "06-20 08:36:59 [52] Lr: 0.000212, Training: 24.56%,  Loss: 2.46311, ACC: 52.67% \r\n"
          ]
        },
        {
          "output_type": "stream",
          "name": "stderr",
          "text": [
            "\r15it [01:23,  5.48s/it]"
          ]
        },
        {
          "output_type": "stream",
          "name": "stdout",
          "text": [
            "06-20 08:37:05 [52] Lr: 0.000212, Training: 26.32%,  Loss: 2.43407, ACC: 53.24% \r\n"
          ]
        },
        {
          "output_type": "stream",
          "name": "stderr",
          "text": [
            "\r16it [01:28,  5.48s/it]"
          ]
        },
        {
          "output_type": "stream",
          "name": "stdout",
          "text": [
            "06-20 08:37:10 [52] Lr: 0.000212, Training: 28.07%,  Loss: 2.43617, ACC: 53.00% \r\n"
          ]
        },
        {
          "output_type": "stream",
          "name": "stderr",
          "text": [
            "\r17it [01:34,  5.48s/it]"
          ]
        },
        {
          "output_type": "stream",
          "name": "stdout",
          "text": [
            "06-20 08:37:16 [52] Lr: 0.000212, Training: 29.82%,  Loss: 2.44910, ACC: 52.98% \r\n"
          ]
        },
        {
          "output_type": "stream",
          "name": "stderr",
          "text": [
            "\r18it [01:39,  5.48s/it]"
          ]
        },
        {
          "output_type": "stream",
          "name": "stdout",
          "text": [
            "06-20 08:37:21 [52] Lr: 0.000212, Training: 31.58%,  Loss: 2.46997, ACC: 52.63% \r\n"
          ]
        },
        {
          "output_type": "stream",
          "name": "stderr",
          "text": [
            "\r19it [01:45,  5.51s/it]"
          ]
        },
        {
          "output_type": "stream",
          "name": "stdout",
          "text": [
            "06-20 08:37:27 [52] Lr: 0.000212, Training: 33.33%,  Loss: 2.48607, ACC: 52.60% \r\n"
          ]
        },
        {
          "output_type": "stream",
          "name": "stderr",
          "text": [
            "\r20it [01:50,  5.50s/it]"
          ]
        },
        {
          "output_type": "stream",
          "name": "stdout",
          "text": [
            "06-20 08:37:32 [52] Lr: 0.000212, Training: 35.09%,  Loss: 2.48437, ACC: 52.57% \r\n"
          ]
        },
        {
          "output_type": "stream",
          "name": "stderr",
          "text": [
            "\r21it [01:56,  5.51s/it]"
          ]
        },
        {
          "output_type": "stream",
          "name": "stdout",
          "text": [
            "06-20 08:37:38 [52] Lr: 0.000212, Training: 36.84%,  Loss: 2.49047, ACC: 52.44% \r\n"
          ]
        },
        {
          "output_type": "stream",
          "name": "stderr",
          "text": [
            "\r22it [02:01,  5.51s/it]"
          ]
        },
        {
          "output_type": "stream",
          "name": "stdout",
          "text": [
            "06-20 08:37:43 [52] Lr: 0.000212, Training: 38.60%,  Loss: 2.50905, ACC: 52.09% \r\n"
          ]
        },
        {
          "output_type": "stream",
          "name": "stderr",
          "text": [
            "\r23it [02:07,  5.52s/it]"
          ]
        },
        {
          "output_type": "stream",
          "name": "stdout",
          "text": [
            "06-20 08:37:49 [52] Lr: 0.000212, Training: 40.35%,  Loss: 2.49362, ACC: 52.29% \r\n"
          ]
        },
        {
          "output_type": "stream",
          "name": "stderr",
          "text": [
            "\r24it [02:12,  5.51s/it]"
          ]
        },
        {
          "output_type": "stream",
          "name": "stdout",
          "text": [
            "06-20 08:37:54 [52] Lr: 0.000212, Training: 42.11%,  Loss: 2.49535, ACC: 52.17% \r\n"
          ]
        },
        {
          "output_type": "stream",
          "name": "stderr",
          "text": [
            "\r25it [02:18,  5.54s/it]"
          ]
        },
        {
          "output_type": "stream",
          "name": "stdout",
          "text": [
            "06-20 08:38:00 [52] Lr: 0.000212, Training: 43.86%,  Loss: 2.48553, ACC: 52.21% \r\n"
          ]
        },
        {
          "output_type": "stream",
          "name": "stderr",
          "text": [
            "\r26it [02:23,  5.53s/it]"
          ]
        },
        {
          "output_type": "stream",
          "name": "stdout",
          "text": [
            "06-20 08:38:06 [52] Lr: 0.000212, Training: 45.61%,  Loss: 2.49243, ACC: 52.03% \r\n"
          ]
        },
        {
          "output_type": "stream",
          "name": "stderr",
          "text": [
            "\r27it [02:29,  5.54s/it]"
          ]
        },
        {
          "output_type": "stream",
          "name": "stdout",
          "text": [
            "06-20 08:38:11 [52] Lr: 0.000212, Training: 47.37%,  Loss: 2.51340, ACC: 51.93% \r\n"
          ]
        },
        {
          "output_type": "stream",
          "name": "stderr",
          "text": [
            "\r28it [02:34,  5.53s/it]"
          ]
        },
        {
          "output_type": "stream",
          "name": "stdout",
          "text": [
            "06-20 08:38:17 [52] Lr: 0.000212, Training: 49.12%,  Loss: 2.50956, ACC: 52.12% \r\n"
          ]
        },
        {
          "output_type": "stream",
          "name": "stderr",
          "text": [
            "\r29it [02:40,  5.53s/it]"
          ]
        },
        {
          "output_type": "stream",
          "name": "stdout",
          "text": [
            "06-20 08:38:22 [52] Lr: 0.000212, Training: 50.88%,  Loss: 2.51713, ACC: 52.02% \r\n"
          ]
        },
        {
          "output_type": "stream",
          "name": "stderr",
          "text": [
            "\r30it [02:45,  5.53s/it]"
          ]
        },
        {
          "output_type": "stream",
          "name": "stdout",
          "text": [
            "06-20 08:38:28 [52] Lr: 0.000212, Training: 52.63%,  Loss: 2.51748, ACC: 52.07% \r\n"
          ]
        },
        {
          "output_type": "stream",
          "name": "stderr",
          "text": [
            "\r31it [02:51,  5.54s/it]"
          ]
        },
        {
          "output_type": "stream",
          "name": "stdout",
          "text": [
            "06-20 08:38:33 [52] Lr: 0.000212, Training: 54.39%,  Loss: 2.50542, ACC: 52.04% \r\n"
          ]
        },
        {
          "output_type": "stream",
          "name": "stderr",
          "text": [
            "\r32it [02:56,  5.53s/it]"
          ]
        },
        {
          "output_type": "stream",
          "name": "stdout",
          "text": [
            "06-20 08:38:39 [52] Lr: 0.000212, Training: 56.14%,  Loss: 2.50760, ACC: 51.92% \r\n"
          ]
        },
        {
          "output_type": "stream",
          "name": "stderr",
          "text": [
            "\r33it [03:02,  5.52s/it]"
          ]
        },
        {
          "output_type": "stream",
          "name": "stdout",
          "text": [
            "06-20 08:38:44 [52] Lr: 0.000212, Training: 57.89%,  Loss: 2.50786, ACC: 51.96% \r\n"
          ]
        },
        {
          "output_type": "stream",
          "name": "stderr",
          "text": [
            "\r34it [03:08,  5.53s/it]"
          ]
        },
        {
          "output_type": "stream",
          "name": "stdout",
          "text": [
            "06-20 08:38:50 [52] Lr: 0.000212, Training: 59.65%,  Loss: 2.51654, ACC: 51.76% \r\n"
          ]
        },
        {
          "output_type": "stream",
          "name": "stderr",
          "text": [
            "\r35it [03:13,  5.52s/it]"
          ]
        },
        {
          "output_type": "stream",
          "name": "stdout",
          "text": [
            "06-20 08:38:55 [52] Lr: 0.000212, Training: 61.40%,  Loss: 2.51410, ACC: 51.98% \r\n"
          ]
        },
        {
          "output_type": "stream",
          "name": "stderr",
          "text": [
            "\r36it [03:19,  5.52s/it]"
          ]
        },
        {
          "output_type": "stream",
          "name": "stdout",
          "text": [
            "06-20 08:39:01 [52] Lr: 0.000212, Training: 63.16%,  Loss: 2.51803, ACC: 51.87% \r\n"
          ]
        },
        {
          "output_type": "stream",
          "name": "stderr",
          "text": [
            "\r37it [03:24,  5.53s/it]"
          ]
        },
        {
          "output_type": "stream",
          "name": "stdout",
          "text": [
            "06-20 08:39:06 [52] Lr: 0.000212, Training: 64.91%,  Loss: 2.51534, ACC: 51.89% \r\n"
          ]
        },
        {
          "output_type": "stream",
          "name": "stderr",
          "text": [
            "\r38it [03:30,  5.53s/it]"
          ]
        },
        {
          "output_type": "stream",
          "name": "stdout",
          "text": [
            "06-20 08:39:12 [52] Lr: 0.000212, Training: 66.67%,  Loss: 2.51749, ACC: 51.82% \r\n"
          ]
        },
        {
          "output_type": "stream",
          "name": "stderr",
          "text": [
            "\r39it [03:35,  5.54s/it]"
          ]
        },
        {
          "output_type": "stream",
          "name": "stdout",
          "text": [
            "06-20 08:39:17 [52] Lr: 0.000212, Training: 68.42%,  Loss: 2.52214, ACC: 51.78% \r\n"
          ]
        },
        {
          "output_type": "stream",
          "name": "stderr",
          "text": [
            "\r40it [03:41,  5.55s/it]"
          ]
        },
        {
          "output_type": "stream",
          "name": "stdout",
          "text": [
            "06-20 08:39:23 [52] Lr: 0.000212, Training: 70.18%,  Loss: 2.52419, ACC: 51.83% \r\n"
          ]
        },
        {
          "output_type": "stream",
          "name": "stderr",
          "text": [
            "\r41it [03:46,  5.56s/it]"
          ]
        },
        {
          "output_type": "stream",
          "name": "stdout",
          "text": [
            "06-20 08:39:29 [52] Lr: 0.000212, Training: 71.93%,  Loss: 2.52720, ACC: 51.79% \r\n"
          ]
        },
        {
          "output_type": "stream",
          "name": "stderr",
          "text": [
            "\r42it [03:52,  5.57s/it]"
          ]
        },
        {
          "output_type": "stream",
          "name": "stdout",
          "text": [
            "06-20 08:39:34 [52] Lr: 0.000212, Training: 73.68%,  Loss: 2.52750, ACC: 51.89% \r\n"
          ]
        },
        {
          "output_type": "stream",
          "name": "stderr",
          "text": [
            "\r43it [03:58,  5.57s/it]"
          ]
        },
        {
          "output_type": "stream",
          "name": "stdout",
          "text": [
            "06-20 08:39:40 [52] Lr: 0.000212, Training: 75.44%,  Loss: 2.51523, ACC: 52.09% \r\n"
          ]
        },
        {
          "output_type": "stream",
          "name": "stderr",
          "text": [
            "\r44it [04:03,  5.57s/it]"
          ]
        },
        {
          "output_type": "stream",
          "name": "stdout",
          "text": [
            "06-20 08:39:45 [52] Lr: 0.000212, Training: 77.19%,  Loss: 2.52021, ACC: 52.05% \r\n"
          ]
        },
        {
          "output_type": "stream",
          "name": "stderr",
          "text": [
            "\r45it [04:09,  5.59s/it]"
          ]
        },
        {
          "output_type": "stream",
          "name": "stdout",
          "text": [
            "06-20 08:39:51 [52] Lr: 0.000212, Training: 78.95%,  Loss: 2.52780, ACC: 51.99% \r\n"
          ]
        },
        {
          "output_type": "stream",
          "name": "stderr",
          "text": [
            "\r46it [04:14,  5.59s/it]"
          ]
        },
        {
          "output_type": "stream",
          "name": "stdout",
          "text": [
            "06-20 08:39:57 [52] Lr: 0.000212, Training: 80.70%,  Loss: 2.53882, ACC: 51.86% \r\n"
          ]
        },
        {
          "output_type": "stream",
          "name": "stderr",
          "text": [
            "\r47it [04:20,  5.58s/it]"
          ]
        },
        {
          "output_type": "stream",
          "name": "stdout",
          "text": [
            "06-20 08:40:02 [52] Lr: 0.000212, Training: 82.46%,  Loss: 2.53896, ACC: 51.86% \r\n"
          ]
        },
        {
          "output_type": "stream",
          "name": "stderr",
          "text": [
            "\r48it [04:25,  5.58s/it]"
          ]
        },
        {
          "output_type": "stream",
          "name": "stdout",
          "text": [
            "06-20 08:40:08 [52] Lr: 0.000212, Training: 84.21%,  Loss: 2.54030, ACC: 51.85% \r\n"
          ]
        },
        {
          "output_type": "stream",
          "name": "stderr",
          "text": [
            "\r49it [04:31,  5.58s/it]"
          ]
        },
        {
          "output_type": "stream",
          "name": "stdout",
          "text": [
            "06-20 08:40:13 [52] Lr: 0.000212, Training: 85.96%,  Loss: 2.53507, ACC: 51.96% \r\n"
          ]
        },
        {
          "output_type": "stream",
          "name": "stderr",
          "text": [
            "\r50it [04:37,  5.57s/it]"
          ]
        },
        {
          "output_type": "stream",
          "name": "stdout",
          "text": [
            "06-20 08:40:19 [52] Lr: 0.000212, Training: 87.72%,  Loss: 2.53868, ACC: 51.91% \r\n"
          ]
        },
        {
          "output_type": "stream",
          "name": "stderr",
          "text": [
            "\r51it [04:42,  5.57s/it]"
          ]
        },
        {
          "output_type": "stream",
          "name": "stdout",
          "text": [
            "06-20 08:40:24 [52] Lr: 0.000212, Training: 89.47%,  Loss: 2.54945, ACC: 51.75% \r\n"
          ]
        },
        {
          "output_type": "stream",
          "name": "stderr",
          "text": [
            "\r52it [04:48,  5.55s/it]"
          ]
        },
        {
          "output_type": "stream",
          "name": "stdout",
          "text": [
            "06-20 08:40:30 [52] Lr: 0.000212, Training: 91.23%,  Loss: 2.54835, ACC: 51.74% \r\n"
          ]
        },
        {
          "output_type": "stream",
          "name": "stderr",
          "text": [
            "\r53it [04:53,  5.55s/it]"
          ]
        },
        {
          "output_type": "stream",
          "name": "stdout",
          "text": [
            "06-20 08:40:35 [52] Lr: 0.000212, Training: 92.98%,  Loss: 2.54786, ACC: 51.72% \r\n"
          ]
        },
        {
          "output_type": "stream",
          "name": "stderr",
          "text": [
            "\r54it [04:59,  5.55s/it]"
          ]
        },
        {
          "output_type": "stream",
          "name": "stdout",
          "text": [
            "06-20 08:40:41 [52] Lr: 0.000212, Training: 94.74%,  Loss: 2.55113, ACC: 51.69% \r\n"
          ]
        },
        {
          "output_type": "stream",
          "name": "stderr",
          "text": [
            "\r55it [05:04,  5.55s/it]"
          ]
        },
        {
          "output_type": "stream",
          "name": "stdout",
          "text": [
            "06-20 08:40:47 [52] Lr: 0.000212, Training: 96.49%,  Loss: 2.55559, ACC: 51.62% \r\n"
          ]
        },
        {
          "output_type": "stream",
          "name": "stderr",
          "text": [
            "\r56it [05:10,  5.54s/it]"
          ]
        },
        {
          "output_type": "stream",
          "name": "stdout",
          "text": [
            "06-20 08:40:52 [52] Lr: 0.000212, Training: 98.25%,  Loss: 2.55692, ACC: 51.57% \r\n"
          ]
        },
        {
          "output_type": "stream",
          "name": "stderr",
          "text": [
            "57it [05:14,  5.51s/it]"
          ]
        },
        {
          "output_type": "stream",
          "name": "stdout",
          "text": [
            "06-20 08:40:56 [52] Lr: 0.000212, Training: 100.00%,  Loss: 2.55954, ACC: 37.65% \r\n",
            "\n",
            "\n"
          ]
        },
        {
          "output_type": "stream",
          "name": "stderr",
          "text": [
            "\n",
            "  0%|          | 0/973 [00:00<?, ?it/s]<ipython-input-15-b61162519fae>:62: DeprecationWarning: `np.float` is a deprecated alias for the builtin `float`. To silence this warning, use `float` by itself. Doing this will not modify any behavior and is safe. If you specifically wanted the numpy scalar type, use `np.float64` here.\n",
            "Deprecated in NumPy 1.20; for more details and guidance: https://numpy.org/devdocs/release/1.20.0-notes.html#deprecations\n",
            "  feats = numpy.stack(feats, axis = 0).astype(numpy.float)\n",
            "100%|██████████| 973/973 [04:30<00:00,  3.60it/s]\n"
          ]
        },
        {
          "output_type": "stream",
          "name": "stdout",
          "text": [
            "2023-06-20 08:45:34 52 epoch, ACC 37.65%, EER 6.22%, bestEER 6.17%\n",
            "Epoch: 53\n"
          ]
        },
        {
          "output_type": "stream",
          "name": "stderr",
          "text": [
            "/usr/local/lib/python3.10/dist-packages/torch/optim/lr_scheduler.py:152: UserWarning: The epoch parameter in `scheduler.step()` was not necessary and is being deprecated where possible. Please use `scheduler.step()` to step the scheduler. During the deprecation, if epoch is different from None, the closed form is used instead of the new chainable form, where available. Please open an issue if you are unable to replicate your use case: https://github.com/pytorch/pytorch/issues/new/choose.\n",
            "  warnings.warn(EPOCH_DEPRECATION_WARNING, UserWarning)\n",
            "0it [00:00, ?it/s]/usr/local/lib/python3.10/dist-packages/torch/nn/functional.py:4999: UserWarning: Support for mismatched key_padding_mask and attn_mask is deprecated. Use same type for both instead.\n",
            "  warnings.warn(\n",
            "1it [00:06,  6.19s/it]"
          ]
        },
        {
          "output_type": "stream",
          "name": "stdout",
          "text": [
            "06-20 08:45:40 [53] Lr: 0.000205, Training: 1.75%,  Loss: 2.55118, ACC: 50.67% \r\n"
          ]
        },
        {
          "output_type": "stream",
          "name": "stderr",
          "text": [
            "\r2it [00:11,  5.83s/it]"
          ]
        },
        {
          "output_type": "stream",
          "name": "stdout",
          "text": [
            "06-20 08:45:46 [53] Lr: 0.000205, Training: 3.51%,  Loss: 2.81400, ACC: 48.67% \r\n"
          ]
        },
        {
          "output_type": "stream",
          "name": "stderr",
          "text": [
            "\r3it [00:17,  5.71s/it]"
          ]
        },
        {
          "output_type": "stream",
          "name": "stdout",
          "text": [
            "06-20 08:45:52 [53] Lr: 0.000205, Training: 5.26%,  Loss: 2.65448, ACC: 49.78% \r\n"
          ]
        },
        {
          "output_type": "stream",
          "name": "stderr",
          "text": [
            "\r4it [00:22,  5.65s/it]"
          ]
        },
        {
          "output_type": "stream",
          "name": "stdout",
          "text": [
            "06-20 08:45:57 [53] Lr: 0.000205, Training: 7.02%,  Loss: 2.65210, ACC: 50.83% \r\n"
          ]
        },
        {
          "output_type": "stream",
          "name": "stderr",
          "text": [
            "\r5it [00:28,  5.64s/it]"
          ]
        },
        {
          "output_type": "stream",
          "name": "stdout",
          "text": [
            "06-20 08:46:03 [53] Lr: 0.000205, Training: 8.77%,  Loss: 2.59072, ACC: 51.47% \r\n"
          ]
        },
        {
          "output_type": "stream",
          "name": "stderr",
          "text": [
            "\r6it [00:34,  5.62s/it]"
          ]
        },
        {
          "output_type": "stream",
          "name": "stdout",
          "text": [
            "06-20 08:46:08 [53] Lr: 0.000205, Training: 10.53%,  Loss: 2.59151, ACC: 50.56% \r\n"
          ]
        },
        {
          "output_type": "stream",
          "name": "stderr",
          "text": [
            "\r7it [00:39,  5.61s/it]"
          ]
        },
        {
          "output_type": "stream",
          "name": "stdout",
          "text": [
            "06-20 08:46:14 [53] Lr: 0.000205, Training: 12.28%,  Loss: 2.57824, ACC: 50.76% \r\n"
          ]
        },
        {
          "output_type": "stream",
          "name": "stderr",
          "text": [
            "\r8it [00:45,  5.60s/it]"
          ]
        },
        {
          "output_type": "stream",
          "name": "stdout",
          "text": [
            "06-20 08:46:20 [53] Lr: 0.000205, Training: 14.04%,  Loss: 2.56728, ACC: 50.83% \r\n"
          ]
        },
        {
          "output_type": "stream",
          "name": "stderr",
          "text": [
            "\r9it [00:50,  5.59s/it]"
          ]
        },
        {
          "output_type": "stream",
          "name": "stdout",
          "text": [
            "06-20 08:46:25 [53] Lr: 0.000205, Training: 15.79%,  Loss: 2.58019, ACC: 49.93% \r\n"
          ]
        },
        {
          "output_type": "stream",
          "name": "stderr",
          "text": [
            "\r10it [00:56,  5.58s/it]"
          ]
        },
        {
          "output_type": "stream",
          "name": "stdout",
          "text": [
            "06-20 08:46:31 [53] Lr: 0.000205, Training: 17.54%,  Loss: 2.59247, ACC: 50.33% \r\n"
          ]
        },
        {
          "output_type": "stream",
          "name": "stderr",
          "text": [
            "\r11it [01:02,  5.59s/it]"
          ]
        },
        {
          "output_type": "stream",
          "name": "stdout",
          "text": [
            "06-20 08:46:36 [53] Lr: 0.000205, Training: 19.30%,  Loss: 2.58910, ACC: 50.12% \r\n"
          ]
        },
        {
          "output_type": "stream",
          "name": "stderr",
          "text": [
            "\r12it [01:07,  5.57s/it]"
          ]
        },
        {
          "output_type": "stream",
          "name": "stdout",
          "text": [
            "06-20 08:46:42 [53] Lr: 0.000205, Training: 21.05%,  Loss: 2.59468, ACC: 50.44% \r\n"
          ]
        },
        {
          "output_type": "stream",
          "name": "stderr",
          "text": [
            "\r13it [01:13,  5.56s/it]"
          ]
        },
        {
          "output_type": "stream",
          "name": "stdout",
          "text": [
            "06-20 08:46:47 [53] Lr: 0.000205, Training: 22.81%,  Loss: 2.63510, ACC: 49.90% \r\n"
          ]
        },
        {
          "output_type": "stream",
          "name": "stderr",
          "text": [
            "\r14it [01:18,  5.56s/it]"
          ]
        },
        {
          "output_type": "stream",
          "name": "stdout",
          "text": [
            "06-20 08:46:53 [53] Lr: 0.000205, Training: 24.56%,  Loss: 2.60836, ACC: 50.19% \r\n"
          ]
        },
        {
          "output_type": "stream",
          "name": "stderr",
          "text": [
            "\r15it [01:24,  5.55s/it]"
          ]
        },
        {
          "output_type": "stream",
          "name": "stdout",
          "text": [
            "06-20 08:46:58 [53] Lr: 0.000205, Training: 26.32%,  Loss: 2.58606, ACC: 50.67% \r\n"
          ]
        },
        {
          "output_type": "stream",
          "name": "stderr",
          "text": [
            "\r16it [01:29,  5.54s/it]"
          ]
        },
        {
          "output_type": "stream",
          "name": "stdout",
          "text": [
            "06-20 08:47:04 [53] Lr: 0.000205, Training: 28.07%,  Loss: 2.59961, ACC: 50.50% \r\n"
          ]
        },
        {
          "output_type": "stream",
          "name": "stderr",
          "text": [
            "\r17it [01:35,  5.55s/it]"
          ]
        },
        {
          "output_type": "stream",
          "name": "stdout",
          "text": [
            "06-20 08:47:10 [53] Lr: 0.000205, Training: 29.82%,  Loss: 2.59141, ACC: 50.51% \r\n"
          ]
        },
        {
          "output_type": "stream",
          "name": "stderr",
          "text": [
            "\r18it [01:40,  5.54s/it]"
          ]
        },
        {
          "output_type": "stream",
          "name": "stdout",
          "text": [
            "06-20 08:47:15 [53] Lr: 0.000205, Training: 31.58%,  Loss: 2.57515, ACC: 50.78% \r\n"
          ]
        },
        {
          "output_type": "stream",
          "name": "stderr",
          "text": [
            "\r19it [01:46,  5.55s/it]"
          ]
        },
        {
          "output_type": "stream",
          "name": "stdout",
          "text": [
            "06-20 08:47:21 [53] Lr: 0.000205, Training: 33.33%,  Loss: 2.53875, ACC: 51.44% \r\n"
          ]
        },
        {
          "output_type": "stream",
          "name": "stderr",
          "text": [
            "\r20it [01:51,  5.55s/it]"
          ]
        },
        {
          "output_type": "stream",
          "name": "stdout",
          "text": [
            "06-20 08:47:26 [53] Lr: 0.000205, Training: 35.09%,  Loss: 2.55296, ACC: 51.27% \r\n"
          ]
        },
        {
          "output_type": "stream",
          "name": "stderr",
          "text": [
            "\r21it [01:57,  5.55s/it]"
          ]
        },
        {
          "output_type": "stream",
          "name": "stdout",
          "text": [
            "06-20 08:47:32 [53] Lr: 0.000205, Training: 36.84%,  Loss: 2.55916, ACC: 51.30% \r\n"
          ]
        },
        {
          "output_type": "stream",
          "name": "stderr",
          "text": [
            "\r22it [02:03,  5.56s/it]"
          ]
        },
        {
          "output_type": "stream",
          "name": "stdout",
          "text": [
            "06-20 08:47:37 [53] Lr: 0.000205, Training: 38.60%,  Loss: 2.55025, ACC: 51.70% \r\n"
          ]
        },
        {
          "output_type": "stream",
          "name": "stderr",
          "text": [
            "\r23it [02:08,  5.55s/it]"
          ]
        },
        {
          "output_type": "stream",
          "name": "stdout",
          "text": [
            "06-20 08:47:43 [53] Lr: 0.000205, Training: 40.35%,  Loss: 2.54475, ACC: 51.74% \r\n"
          ]
        },
        {
          "output_type": "stream",
          "name": "stderr",
          "text": [
            "\r24it [02:14,  5.54s/it]"
          ]
        },
        {
          "output_type": "stream",
          "name": "stdout",
          "text": [
            "06-20 08:47:48 [53] Lr: 0.000205, Training: 42.11%,  Loss: 2.53175, ACC: 52.03% \r\n"
          ]
        },
        {
          "output_type": "stream",
          "name": "stderr",
          "text": [
            "\r25it [02:19,  5.55s/it]"
          ]
        },
        {
          "output_type": "stream",
          "name": "stdout",
          "text": [
            "06-20 08:47:54 [53] Lr: 0.000205, Training: 43.86%,  Loss: 2.51758, ACC: 52.27% \r\n"
          ]
        },
        {
          "output_type": "stream",
          "name": "stderr",
          "text": [
            "\r26it [02:25,  5.54s/it]"
          ]
        },
        {
          "output_type": "stream",
          "name": "stdout",
          "text": [
            "06-20 08:47:59 [53] Lr: 0.000205, Training: 45.61%,  Loss: 2.55219, ACC: 51.77% \r\n"
          ]
        },
        {
          "output_type": "stream",
          "name": "stderr",
          "text": [
            "\r27it [02:30,  5.54s/it]"
          ]
        },
        {
          "output_type": "stream",
          "name": "stdout",
          "text": [
            "06-20 08:48:05 [53] Lr: 0.000205, Training: 47.37%,  Loss: 2.55455, ACC: 51.70% \r\n"
          ]
        },
        {
          "output_type": "stream",
          "name": "stderr",
          "text": [
            "\r28it [02:36,  5.55s/it]"
          ]
        },
        {
          "output_type": "stream",
          "name": "stdout",
          "text": [
            "06-20 08:48:11 [53] Lr: 0.000205, Training: 49.12%,  Loss: 2.55495, ACC: 51.71% \r\n"
          ]
        },
        {
          "output_type": "stream",
          "name": "stderr",
          "text": [
            "\r29it [02:41,  5.55s/it]"
          ]
        },
        {
          "output_type": "stream",
          "name": "stdout",
          "text": [
            "06-20 08:48:16 [53] Lr: 0.000205, Training: 50.88%,  Loss: 2.55586, ACC: 51.66% \r\n"
          ]
        },
        {
          "output_type": "stream",
          "name": "stderr",
          "text": [
            "\r30it [02:47,  5.55s/it]"
          ]
        },
        {
          "output_type": "stream",
          "name": "stdout",
          "text": [
            "06-20 08:48:22 [53] Lr: 0.000205, Training: 52.63%,  Loss: 2.54349, ACC: 51.76% \r\n"
          ]
        },
        {
          "output_type": "stream",
          "name": "stderr",
          "text": [
            "\r31it [02:52,  5.56s/it]"
          ]
        },
        {
          "output_type": "stream",
          "name": "stdout",
          "text": [
            "06-20 08:48:27 [53] Lr: 0.000205, Training: 54.39%,  Loss: 2.55330, ACC: 51.59% \r\n"
          ]
        },
        {
          "output_type": "stream",
          "name": "stderr",
          "text": [
            "\r32it [02:58,  5.55s/it]"
          ]
        },
        {
          "output_type": "stream",
          "name": "stdout",
          "text": [
            "06-20 08:48:33 [53] Lr: 0.000205, Training: 56.14%,  Loss: 2.54804, ACC: 51.77% \r\n"
          ]
        },
        {
          "output_type": "stream",
          "name": "stderr",
          "text": [
            "\r33it [03:04,  5.55s/it]"
          ]
        },
        {
          "output_type": "stream",
          "name": "stdout",
          "text": [
            "06-20 08:48:38 [53] Lr: 0.000205, Training: 57.89%,  Loss: 2.54598, ACC: 51.70% \r\n"
          ]
        },
        {
          "output_type": "stream",
          "name": "stderr",
          "text": [
            "\r34it [03:09,  5.56s/it]"
          ]
        },
        {
          "output_type": "stream",
          "name": "stdout",
          "text": [
            "06-20 08:48:44 [53] Lr: 0.000205, Training: 59.65%,  Loss: 2.54549, ACC: 51.82% \r\n"
          ]
        },
        {
          "output_type": "stream",
          "name": "stderr",
          "text": [
            "\r35it [03:15,  5.56s/it]"
          ]
        },
        {
          "output_type": "stream",
          "name": "stdout",
          "text": [
            "06-20 08:48:49 [53] Lr: 0.000205, Training: 61.40%,  Loss: 2.55856, ACC: 51.71% \r\n"
          ]
        },
        {
          "output_type": "stream",
          "name": "stderr",
          "text": [
            "\r36it [03:20,  5.56s/it]"
          ]
        },
        {
          "output_type": "stream",
          "name": "stdout",
          "text": [
            "06-20 08:48:55 [53] Lr: 0.000205, Training: 63.16%,  Loss: 2.57342, ACC: 51.54% \r\n"
          ]
        },
        {
          "output_type": "stream",
          "name": "stderr",
          "text": [
            "\r37it [03:26,  5.56s/it]"
          ]
        },
        {
          "output_type": "stream",
          "name": "stdout",
          "text": [
            "06-20 08:49:01 [53] Lr: 0.000205, Training: 64.91%,  Loss: 2.56499, ACC: 51.60% \r\n"
          ]
        },
        {
          "output_type": "stream",
          "name": "stderr",
          "text": [
            "\r38it [03:31,  5.55s/it]"
          ]
        },
        {
          "output_type": "stream",
          "name": "stdout",
          "text": [
            "06-20 08:49:06 [53] Lr: 0.000205, Training: 66.67%,  Loss: 2.56815, ACC: 51.51% \r\n"
          ]
        },
        {
          "output_type": "stream",
          "name": "stderr",
          "text": [
            "\r39it [03:37,  5.55s/it]"
          ]
        },
        {
          "output_type": "stream",
          "name": "stdout",
          "text": [
            "06-20 08:49:12 [53] Lr: 0.000205, Training: 68.42%,  Loss: 2.56762, ACC: 51.42% \r\n"
          ]
        },
        {
          "output_type": "stream",
          "name": "stderr",
          "text": [
            "\r40it [03:42,  5.56s/it]"
          ]
        },
        {
          "output_type": "stream",
          "name": "stdout",
          "text": [
            "06-20 08:49:17 [53] Lr: 0.000205, Training: 70.18%,  Loss: 2.56357, ACC: 51.60% \r\n"
          ]
        },
        {
          "output_type": "stream",
          "name": "stderr",
          "text": [
            "\r41it [03:48,  5.56s/it]"
          ]
        },
        {
          "output_type": "stream",
          "name": "stdout",
          "text": [
            "06-20 08:49:23 [53] Lr: 0.000205, Training: 71.93%,  Loss: 2.55882, ACC: 51.69% \r\n"
          ]
        },
        {
          "output_type": "stream",
          "name": "stderr",
          "text": [
            "\r42it [03:54,  5.55s/it]"
          ]
        },
        {
          "output_type": "stream",
          "name": "stdout",
          "text": [
            "06-20 08:49:28 [53] Lr: 0.000205, Training: 73.68%,  Loss: 2.56479, ACC: 51.70% \r\n"
          ]
        },
        {
          "output_type": "stream",
          "name": "stderr",
          "text": [
            "\r43it [03:59,  5.58s/it]"
          ]
        },
        {
          "output_type": "stream",
          "name": "stdout",
          "text": [
            "06-20 08:49:34 [53] Lr: 0.000205, Training: 75.44%,  Loss: 2.55980, ACC: 51.83% \r\n"
          ]
        },
        {
          "output_type": "stream",
          "name": "stderr",
          "text": [
            "\r44it [04:05,  5.57s/it]"
          ]
        },
        {
          "output_type": "stream",
          "name": "stdout",
          "text": [
            "06-20 08:49:40 [53] Lr: 0.000205, Training: 77.19%,  Loss: 2.55760, ACC: 51.85% \r\n"
          ]
        },
        {
          "output_type": "stream",
          "name": "stderr",
          "text": [
            "\r45it [04:10,  5.57s/it]"
          ]
        },
        {
          "output_type": "stream",
          "name": "stdout",
          "text": [
            "06-20 08:49:45 [53] Lr: 0.000205, Training: 78.95%,  Loss: 2.55431, ACC: 51.94% \r\n"
          ]
        },
        {
          "output_type": "stream",
          "name": "stderr",
          "text": [
            "\r46it [04:16,  5.57s/it]"
          ]
        },
        {
          "output_type": "stream",
          "name": "stdout",
          "text": [
            "06-20 08:49:51 [53] Lr: 0.000205, Training: 80.70%,  Loss: 2.55986, ACC: 51.96% \r\n"
          ]
        },
        {
          "output_type": "stream",
          "name": "stderr",
          "text": [
            "\r47it [04:21,  5.58s/it]"
          ]
        },
        {
          "output_type": "stream",
          "name": "stdout",
          "text": [
            "06-20 08:49:56 [53] Lr: 0.000205, Training: 82.46%,  Loss: 2.55936, ACC: 52.00% \r\n"
          ]
        },
        {
          "output_type": "stream",
          "name": "stderr",
          "text": [
            "\r48it [04:27,  5.57s/it]"
          ]
        },
        {
          "output_type": "stream",
          "name": "stdout",
          "text": [
            "06-20 08:50:02 [53] Lr: 0.000205, Training: 84.21%,  Loss: 2.55577, ACC: 52.06% \r\n"
          ]
        },
        {
          "output_type": "stream",
          "name": "stderr",
          "text": [
            "\r49it [04:33,  5.57s/it]"
          ]
        },
        {
          "output_type": "stream",
          "name": "stdout",
          "text": [
            "06-20 08:50:07 [53] Lr: 0.000205, Training: 85.96%,  Loss: 2.56070, ACC: 51.93% \r\n"
          ]
        },
        {
          "output_type": "stream",
          "name": "stderr",
          "text": [
            "\r50it [04:38,  5.56s/it]"
          ]
        },
        {
          "output_type": "stream",
          "name": "stdout",
          "text": [
            "06-20 08:50:13 [53] Lr: 0.000205, Training: 87.72%,  Loss: 2.55638, ACC: 51.97% \r\n"
          ]
        },
        {
          "output_type": "stream",
          "name": "stderr",
          "text": [
            "\r51it [04:44,  5.57s/it]"
          ]
        },
        {
          "output_type": "stream",
          "name": "stdout",
          "text": [
            "06-20 08:50:19 [53] Lr: 0.000205, Training: 89.47%,  Loss: 2.55777, ACC: 52.00% \r\n"
          ]
        },
        {
          "output_type": "stream",
          "name": "stderr",
          "text": [
            "\r52it [04:49,  5.57s/it]"
          ]
        },
        {
          "output_type": "stream",
          "name": "stdout",
          "text": [
            "06-20 08:50:24 [53] Lr: 0.000205, Training: 91.23%,  Loss: 2.55580, ACC: 52.01% \r\n"
          ]
        },
        {
          "output_type": "stream",
          "name": "stderr",
          "text": [
            "\r53it [04:55,  5.57s/it]"
          ]
        },
        {
          "output_type": "stream",
          "name": "stdout",
          "text": [
            "06-20 08:50:30 [53] Lr: 0.000205, Training: 92.98%,  Loss: 2.55896, ACC: 51.99% \r\n"
          ]
        },
        {
          "output_type": "stream",
          "name": "stderr",
          "text": [
            "\r54it [05:00,  5.56s/it]"
          ]
        },
        {
          "output_type": "stream",
          "name": "stdout",
          "text": [
            "06-20 08:50:35 [53] Lr: 0.000205, Training: 94.74%,  Loss: 2.55071, ACC: 52.14% \r\n"
          ]
        },
        {
          "output_type": "stream",
          "name": "stderr",
          "text": [
            "\r55it [05:06,  5.57s/it]"
          ]
        },
        {
          "output_type": "stream",
          "name": "stdout",
          "text": [
            "06-20 08:50:41 [53] Lr: 0.000205, Training: 96.49%,  Loss: 2.54714, ACC: 52.16% \r\n"
          ]
        },
        {
          "output_type": "stream",
          "name": "stderr",
          "text": [
            "\r56it [05:12,  5.56s/it]"
          ]
        },
        {
          "output_type": "stream",
          "name": "stdout",
          "text": [
            "06-20 08:50:46 [53] Lr: 0.000205, Training: 98.25%,  Loss: 2.54069, ACC: 52.17% \r\n"
          ]
        },
        {
          "output_type": "stream",
          "name": "stderr",
          "text": [
            "\r57it [05:15,  5.05s/it]"
          ]
        },
        {
          "output_type": "stream",
          "name": "stdout",
          "text": [
            "06-20 08:50:50 [53] Lr: 0.000205, Training: 100.00%,  Loss: 2.53896, ACC: 38.15% \r\n"
          ]
        },
        {
          "output_type": "stream",
          "name": "stderr",
          "text": [
            "\r57it [05:16,  5.55s/it]\n"
          ]
        },
        {
          "output_type": "stream",
          "name": "stdout",
          "text": [
            "\n",
            "\n"
          ]
        },
        {
          "output_type": "stream",
          "name": "stderr",
          "text": [
            "  0%|          | 0/973 [00:00<?, ?it/s]<ipython-input-15-b61162519fae>:62: DeprecationWarning: `np.float` is a deprecated alias for the builtin `float`. To silence this warning, use `float` by itself. Doing this will not modify any behavior and is safe. If you specifically wanted the numpy scalar type, use `np.float64` here.\n",
            "Deprecated in NumPy 1.20; for more details and guidance: https://numpy.org/devdocs/release/1.20.0-notes.html#deprecations\n",
            "  feats = numpy.stack(feats, axis = 0).astype(numpy.float)\n",
            "100%|██████████| 973/973 [04:29<00:00,  3.61it/s]\n"
          ]
        },
        {
          "output_type": "stream",
          "name": "stdout",
          "text": [
            "2023-06-20 08:55:33 53 epoch, ACC 38.15%, EER 6.22%, bestEER 6.17%\n",
            "Epoch: 54\n"
          ]
        },
        {
          "output_type": "stream",
          "name": "stderr",
          "text": [
            "/usr/local/lib/python3.10/dist-packages/torch/optim/lr_scheduler.py:152: UserWarning: The epoch parameter in `scheduler.step()` was not necessary and is being deprecated where possible. Please use `scheduler.step()` to step the scheduler. During the deprecation, if epoch is different from None, the closed form is used instead of the new chainable form, where available. Please open an issue if you are unable to replicate your use case: https://github.com/pytorch/pytorch/issues/new/choose.\n",
            "  warnings.warn(EPOCH_DEPRECATION_WARNING, UserWarning)\n",
            "0it [00:00, ?it/s]/usr/local/lib/python3.10/dist-packages/torch/nn/functional.py:4999: UserWarning: Support for mismatched key_padding_mask and attn_mask is deprecated. Use same type for both instead.\n",
            "  warnings.warn(\n",
            "1it [00:06,  6.17s/it]"
          ]
        },
        {
          "output_type": "stream",
          "name": "stdout",
          "text": [
            "06-20 08:55:40 [54] Lr: 0.000199, Training: 1.75%,  Loss: 2.30463, ACC: 56.67% \r\n"
          ]
        },
        {
          "output_type": "stream",
          "name": "stderr",
          "text": [
            "\r2it [00:11,  5.78s/it]"
          ]
        },
        {
          "output_type": "stream",
          "name": "stdout",
          "text": [
            "06-20 08:55:45 [54] Lr: 0.000199, Training: 3.51%,  Loss: 2.19818, ACC: 56.67% \r\n"
          ]
        },
        {
          "output_type": "stream",
          "name": "stderr",
          "text": [
            "\r3it [00:17,  5.66s/it]"
          ]
        },
        {
          "output_type": "stream",
          "name": "stdout",
          "text": [
            "06-20 08:55:51 [54] Lr: 0.000199, Training: 5.26%,  Loss: 2.42301, ACC: 54.00% \r\n"
          ]
        },
        {
          "output_type": "stream",
          "name": "stderr",
          "text": [
            "\r4it [00:22,  5.60s/it]"
          ]
        },
        {
          "output_type": "stream",
          "name": "stdout",
          "text": [
            "06-20 08:55:56 [54] Lr: 0.000199, Training: 7.02%,  Loss: 2.38036, ACC: 55.00% \r\n"
          ]
        },
        {
          "output_type": "stream",
          "name": "stderr",
          "text": [
            "\r5it [00:28,  5.59s/it]"
          ]
        },
        {
          "output_type": "stream",
          "name": "stdout",
          "text": [
            "06-20 08:56:02 [54] Lr: 0.000199, Training: 8.77%,  Loss: 2.45910, ACC: 53.73% \r\n"
          ]
        },
        {
          "output_type": "stream",
          "name": "stderr",
          "text": [
            "\r6it [00:33,  5.56s/it]"
          ]
        },
        {
          "output_type": "stream",
          "name": "stdout",
          "text": [
            "06-20 08:56:07 [54] Lr: 0.000199, Training: 10.53%,  Loss: 2.48335, ACC: 53.67% \r\n"
          ]
        },
        {
          "output_type": "stream",
          "name": "stderr",
          "text": [
            "\r7it [00:39,  5.56s/it]"
          ]
        },
        {
          "output_type": "stream",
          "name": "stdout",
          "text": [
            "06-20 08:56:13 [54] Lr: 0.000199, Training: 12.28%,  Loss: 2.45467, ACC: 53.90% \r\n"
          ]
        },
        {
          "output_type": "stream",
          "name": "stderr",
          "text": [
            "\r8it [00:44,  5.56s/it]"
          ]
        },
        {
          "output_type": "stream",
          "name": "stdout",
          "text": [
            "06-20 08:56:18 [54] Lr: 0.000199, Training: 14.04%,  Loss: 2.47071, ACC: 53.50% \r\n"
          ]
        },
        {
          "output_type": "stream",
          "name": "stderr",
          "text": [
            "\r9it [00:50,  5.55s/it]"
          ]
        },
        {
          "output_type": "stream",
          "name": "stdout",
          "text": [
            "06-20 08:56:24 [54] Lr: 0.000199, Training: 15.79%,  Loss: 2.44479, ACC: 53.33% \r\n"
          ]
        },
        {
          "output_type": "stream",
          "name": "stderr",
          "text": [
            "\r10it [00:55,  5.55s/it]"
          ]
        },
        {
          "output_type": "stream",
          "name": "stdout",
          "text": [
            "06-20 08:56:29 [54] Lr: 0.000199, Training: 17.54%,  Loss: 2.46331, ACC: 53.13% \r\n"
          ]
        },
        {
          "output_type": "stream",
          "name": "stderr",
          "text": [
            "\r11it [01:01,  5.56s/it]"
          ]
        },
        {
          "output_type": "stream",
          "name": "stdout",
          "text": [
            "06-20 08:56:35 [54] Lr: 0.000199, Training: 19.30%,  Loss: 2.44526, ACC: 53.45% \r\n"
          ]
        },
        {
          "output_type": "stream",
          "name": "stderr",
          "text": [
            "\r12it [01:07,  5.55s/it]"
          ]
        },
        {
          "output_type": "stream",
          "name": "stdout",
          "text": [
            "06-20 08:56:40 [54] Lr: 0.000199, Training: 21.05%,  Loss: 2.44996, ACC: 53.33% \r\n"
          ]
        },
        {
          "output_type": "stream",
          "name": "stderr",
          "text": [
            "\r13it [01:12,  5.55s/it]"
          ]
        },
        {
          "output_type": "stream",
          "name": "stdout",
          "text": [
            "06-20 08:56:46 [54] Lr: 0.000199, Training: 22.81%,  Loss: 2.48239, ACC: 53.18% \r\n"
          ]
        },
        {
          "output_type": "stream",
          "name": "stderr",
          "text": [
            "\r14it [01:18,  5.55s/it]"
          ]
        },
        {
          "output_type": "stream",
          "name": "stdout",
          "text": [
            "06-20 08:56:52 [54] Lr: 0.000199, Training: 24.56%,  Loss: 2.44472, ACC: 53.86% \r\n"
          ]
        },
        {
          "output_type": "stream",
          "name": "stderr",
          "text": [
            "\r15it [01:23,  5.56s/it]"
          ]
        },
        {
          "output_type": "stream",
          "name": "stdout",
          "text": [
            "06-20 08:56:57 [54] Lr: 0.000199, Training: 26.32%,  Loss: 2.42752, ACC: 54.18% \r\n"
          ]
        },
        {
          "output_type": "stream",
          "name": "stderr",
          "text": [
            "\r16it [01:29,  5.56s/it]"
          ]
        },
        {
          "output_type": "stream",
          "name": "stdout",
          "text": [
            "06-20 08:57:03 [54] Lr: 0.000199, Training: 28.07%,  Loss: 2.44520, ACC: 53.79% \r\n"
          ]
        },
        {
          "output_type": "stream",
          "name": "stderr",
          "text": [
            "\r17it [01:34,  5.56s/it]"
          ]
        },
        {
          "output_type": "stream",
          "name": "stdout",
          "text": [
            "06-20 08:57:08 [54] Lr: 0.000199, Training: 29.82%,  Loss: 2.42510, ACC: 54.12% \r\n"
          ]
        },
        {
          "output_type": "stream",
          "name": "stderr",
          "text": [
            "\r18it [01:40,  5.56s/it]"
          ]
        },
        {
          "output_type": "stream",
          "name": "stdout",
          "text": [
            "06-20 08:57:14 [54] Lr: 0.000199, Training: 31.58%,  Loss: 2.45625, ACC: 53.67% \r\n"
          ]
        },
        {
          "output_type": "stream",
          "name": "stderr",
          "text": [
            "\r19it [01:46,  5.58s/it]"
          ]
        },
        {
          "output_type": "stream",
          "name": "stdout",
          "text": [
            "06-20 08:57:19 [54] Lr: 0.000199, Training: 33.33%,  Loss: 2.49568, ACC: 53.09% \r\n"
          ]
        },
        {
          "output_type": "stream",
          "name": "stderr",
          "text": [
            "\r20it [01:51,  5.57s/it]"
          ]
        },
        {
          "output_type": "stream",
          "name": "stdout",
          "text": [
            "06-20 08:57:25 [54] Lr: 0.000199, Training: 35.09%,  Loss: 2.51043, ACC: 53.10% \r\n"
          ]
        },
        {
          "output_type": "stream",
          "name": "stderr",
          "text": [
            "\r21it [01:57,  5.58s/it]"
          ]
        },
        {
          "output_type": "stream",
          "name": "stdout",
          "text": [
            "06-20 08:57:31 [54] Lr: 0.000199, Training: 36.84%,  Loss: 2.53594, ACC: 52.89% \r\n"
          ]
        },
        {
          "output_type": "stream",
          "name": "stderr",
          "text": [
            "\r22it [02:02,  5.58s/it]"
          ]
        },
        {
          "output_type": "stream",
          "name": "stdout",
          "text": [
            "06-20 08:57:36 [54] Lr: 0.000199, Training: 38.60%,  Loss: 2.52022, ACC: 53.06% \r\n"
          ]
        },
        {
          "output_type": "stream",
          "name": "stderr",
          "text": [
            "\r23it [02:08,  5.58s/it]"
          ]
        },
        {
          "output_type": "stream",
          "name": "stdout",
          "text": [
            "06-20 08:57:42 [54] Lr: 0.000199, Training: 40.35%,  Loss: 2.51576, ACC: 52.99% \r\n"
          ]
        },
        {
          "output_type": "stream",
          "name": "stderr",
          "text": [
            "\r24it [02:13,  5.58s/it]"
          ]
        },
        {
          "output_type": "stream",
          "name": "stdout",
          "text": [
            "06-20 08:57:47 [54] Lr: 0.000199, Training: 42.11%,  Loss: 2.54648, ACC: 52.53% \r\n"
          ]
        },
        {
          "output_type": "stream",
          "name": "stderr",
          "text": [
            "\r25it [02:19,  5.58s/it]"
          ]
        },
        {
          "output_type": "stream",
          "name": "stdout",
          "text": [
            "06-20 08:57:53 [54] Lr: 0.000199, Training: 43.86%,  Loss: 2.54904, ACC: 52.48% \r\n"
          ]
        },
        {
          "output_type": "stream",
          "name": "stderr",
          "text": [
            "\r26it [02:25,  5.57s/it]"
          ]
        },
        {
          "output_type": "stream",
          "name": "stdout",
          "text": [
            "06-20 08:57:58 [54] Lr: 0.000199, Training: 45.61%,  Loss: 2.54967, ACC: 52.38% \r\n"
          ]
        },
        {
          "output_type": "stream",
          "name": "stderr",
          "text": [
            "\r27it [02:30,  5.58s/it]"
          ]
        },
        {
          "output_type": "stream",
          "name": "stdout",
          "text": [
            "06-20 08:58:04 [54] Lr: 0.000199, Training: 47.37%,  Loss: 2.55182, ACC: 52.32% \r\n"
          ]
        },
        {
          "output_type": "stream",
          "name": "stderr",
          "text": [
            "\r28it [02:36,  5.58s/it]"
          ]
        },
        {
          "output_type": "stream",
          "name": "stdout",
          "text": [
            "06-20 08:58:10 [54] Lr: 0.000199, Training: 49.12%,  Loss: 2.54896, ACC: 52.26% \r\n"
          ]
        },
        {
          "output_type": "stream",
          "name": "stderr",
          "text": [
            "\r29it [02:41,  5.58s/it]"
          ]
        },
        {
          "output_type": "stream",
          "name": "stdout",
          "text": [
            "06-20 08:58:15 [54] Lr: 0.000199, Training: 50.88%,  Loss: 2.53495, ACC: 52.57% \r\n"
          ]
        },
        {
          "output_type": "stream",
          "name": "stderr",
          "text": [
            "\r30it [02:47,  5.58s/it]"
          ]
        },
        {
          "output_type": "stream",
          "name": "stdout",
          "text": [
            "06-20 08:58:21 [54] Lr: 0.000199, Training: 52.63%,  Loss: 2.53596, ACC: 52.58% \r\n"
          ]
        },
        {
          "output_type": "stream",
          "name": "stderr",
          "text": [
            "\r31it [02:53,  5.59s/it]"
          ]
        },
        {
          "output_type": "stream",
          "name": "stdout",
          "text": [
            "06-20 08:58:26 [54] Lr: 0.000199, Training: 54.39%,  Loss: 2.53587, ACC: 52.41% \r\n"
          ]
        },
        {
          "output_type": "stream",
          "name": "stderr",
          "text": [
            "\r32it [02:58,  5.58s/it]"
          ]
        },
        {
          "output_type": "stream",
          "name": "stdout",
          "text": [
            "06-20 08:58:32 [54] Lr: 0.000199, Training: 56.14%,  Loss: 2.53569, ACC: 52.52% \r\n"
          ]
        },
        {
          "output_type": "stream",
          "name": "stderr",
          "text": [
            "\r33it [03:04,  5.57s/it]"
          ]
        },
        {
          "output_type": "stream",
          "name": "stdout",
          "text": [
            "06-20 08:58:38 [54] Lr: 0.000199, Training: 57.89%,  Loss: 2.54191, ACC: 52.34% \r\n"
          ]
        },
        {
          "output_type": "stream",
          "name": "stderr",
          "text": [
            "\r34it [03:09,  5.59s/it]"
          ]
        },
        {
          "output_type": "stream",
          "name": "stdout",
          "text": [
            "06-20 08:58:43 [54] Lr: 0.000199, Training: 59.65%,  Loss: 2.52901, ACC: 52.57% \r\n"
          ]
        },
        {
          "output_type": "stream",
          "name": "stderr",
          "text": [
            "\r35it [03:15,  5.58s/it]"
          ]
        },
        {
          "output_type": "stream",
          "name": "stdout",
          "text": [
            "06-20 08:58:49 [54] Lr: 0.000199, Training: 61.40%,  Loss: 2.53341, ACC: 52.57% \r\n"
          ]
        },
        {
          "output_type": "stream",
          "name": "stderr",
          "text": [
            "\r36it [03:20,  5.58s/it]"
          ]
        },
        {
          "output_type": "stream",
          "name": "stdout",
          "text": [
            "06-20 08:58:54 [54] Lr: 0.000199, Training: 63.16%,  Loss: 2.52922, ACC: 52.67% \r\n"
          ]
        },
        {
          "output_type": "stream",
          "name": "stderr",
          "text": [
            "\r37it [03:26,  5.59s/it]"
          ]
        },
        {
          "output_type": "stream",
          "name": "stdout",
          "text": [
            "06-20 08:59:00 [54] Lr: 0.000199, Training: 64.91%,  Loss: 2.52529, ACC: 52.61% \r\n"
          ]
        },
        {
          "output_type": "stream",
          "name": "stderr",
          "text": [
            "\r38it [03:32,  5.58s/it]"
          ]
        },
        {
          "output_type": "stream",
          "name": "stdout",
          "text": [
            "06-20 08:59:05 [54] Lr: 0.000199, Training: 66.67%,  Loss: 2.51807, ACC: 52.67% \r\n"
          ]
        },
        {
          "output_type": "stream",
          "name": "stderr",
          "text": [
            "\r39it [03:37,  5.58s/it]"
          ]
        },
        {
          "output_type": "stream",
          "name": "stdout",
          "text": [
            "06-20 08:59:11 [54] Lr: 0.000199, Training: 68.42%,  Loss: 2.51256, ACC: 52.74% \r\n"
          ]
        },
        {
          "output_type": "stream",
          "name": "stderr",
          "text": [
            "\r40it [03:43,  5.58s/it]"
          ]
        },
        {
          "output_type": "stream",
          "name": "stdout",
          "text": [
            "06-20 08:59:17 [54] Lr: 0.000199, Training: 70.18%,  Loss: 2.52650, ACC: 52.43% \r\n"
          ]
        },
        {
          "output_type": "stream",
          "name": "stderr",
          "text": [
            "\r41it [03:48,  5.58s/it]"
          ]
        },
        {
          "output_type": "stream",
          "name": "stdout",
          "text": [
            "06-20 08:59:22 [54] Lr: 0.000199, Training: 71.93%,  Loss: 2.52088, ACC: 52.41% \r\n"
          ]
        },
        {
          "output_type": "stream",
          "name": "stderr",
          "text": [
            "\r42it [03:54,  5.58s/it]"
          ]
        },
        {
          "output_type": "stream",
          "name": "stdout",
          "text": [
            "06-20 08:59:28 [54] Lr: 0.000199, Training: 73.68%,  Loss: 2.52658, ACC: 52.38% \r\n"
          ]
        },
        {
          "output_type": "stream",
          "name": "stderr",
          "text": [
            "\r43it [04:00,  5.58s/it]"
          ]
        },
        {
          "output_type": "stream",
          "name": "stdout",
          "text": [
            "06-20 08:59:33 [54] Lr: 0.000199, Training: 75.44%,  Loss: 2.52885, ACC: 52.36% \r\n"
          ]
        },
        {
          "output_type": "stream",
          "name": "stderr",
          "text": [
            "\r44it [04:05,  5.58s/it]"
          ]
        },
        {
          "output_type": "stream",
          "name": "stdout",
          "text": [
            "06-20 08:59:39 [54] Lr: 0.000199, Training: 77.19%,  Loss: 2.52224, ACC: 52.53% \r\n"
          ]
        },
        {
          "output_type": "stream",
          "name": "stderr",
          "text": [
            "\r45it [04:11,  5.58s/it]"
          ]
        },
        {
          "output_type": "stream",
          "name": "stdout",
          "text": [
            "06-20 08:59:44 [54] Lr: 0.000199, Training: 78.95%,  Loss: 2.52915, ACC: 52.49% \r\n"
          ]
        },
        {
          "output_type": "stream",
          "name": "stderr",
          "text": [
            "\r46it [04:16,  5.57s/it]"
          ]
        },
        {
          "output_type": "stream",
          "name": "stdout",
          "text": [
            "06-20 08:59:50 [54] Lr: 0.000199, Training: 80.70%,  Loss: 2.52060, ACC: 52.58% \r\n"
          ]
        },
        {
          "output_type": "stream",
          "name": "stderr",
          "text": [
            "\r47it [04:22,  5.57s/it]"
          ]
        },
        {
          "output_type": "stream",
          "name": "stdout",
          "text": [
            "06-20 08:59:56 [54] Lr: 0.000199, Training: 82.46%,  Loss: 2.51041, ACC: 52.68% \r\n"
          ]
        },
        {
          "output_type": "stream",
          "name": "stderr",
          "text": [
            "\r48it [04:27,  5.57s/it]"
          ]
        },
        {
          "output_type": "stream",
          "name": "stdout",
          "text": [
            "06-20 09:00:01 [54] Lr: 0.000199, Training: 84.21%,  Loss: 2.51083, ACC: 52.65% \r\n"
          ]
        },
        {
          "output_type": "stream",
          "name": "stderr",
          "text": [
            "\r49it [04:33,  5.58s/it]"
          ]
        },
        {
          "output_type": "stream",
          "name": "stdout",
          "text": [
            "06-20 09:00:07 [54] Lr: 0.000199, Training: 85.96%,  Loss: 2.50523, ACC: 52.71% \r\n"
          ]
        },
        {
          "output_type": "stream",
          "name": "stderr",
          "text": [
            "\r50it [04:39,  5.58s/it]"
          ]
        },
        {
          "output_type": "stream",
          "name": "stdout",
          "text": [
            "06-20 09:00:12 [54] Lr: 0.000199, Training: 87.72%,  Loss: 2.50582, ACC: 52.68% \r\n"
          ]
        },
        {
          "output_type": "stream",
          "name": "stderr",
          "text": [
            "\r51it [04:44,  5.60s/it]"
          ]
        },
        {
          "output_type": "stream",
          "name": "stdout",
          "text": [
            "06-20 09:00:18 [54] Lr: 0.000199, Training: 89.47%,  Loss: 2.51602, ACC: 52.50% \r\n"
          ]
        },
        {
          "output_type": "stream",
          "name": "stderr",
          "text": [
            "\r52it [04:50,  5.59s/it]"
          ]
        },
        {
          "output_type": "stream",
          "name": "stdout",
          "text": [
            "06-20 09:00:24 [54] Lr: 0.000199, Training: 91.23%,  Loss: 2.51008, ACC: 52.62% \r\n"
          ]
        },
        {
          "output_type": "stream",
          "name": "stderr",
          "text": [
            "\r53it [04:55,  5.58s/it]"
          ]
        },
        {
          "output_type": "stream",
          "name": "stdout",
          "text": [
            "06-20 09:00:29 [54] Lr: 0.000199, Training: 92.98%,  Loss: 2.51290, ACC: 52.53% \r\n"
          ]
        },
        {
          "output_type": "stream",
          "name": "stderr",
          "text": [
            "\r54it [05:01,  5.57s/it]"
          ]
        },
        {
          "output_type": "stream",
          "name": "stdout",
          "text": [
            "06-20 09:00:35 [54] Lr: 0.000199, Training: 94.74%,  Loss: 2.51015, ACC: 52.57% \r\n"
          ]
        },
        {
          "output_type": "stream",
          "name": "stderr",
          "text": [
            "\r55it [05:06,  5.57s/it]"
          ]
        },
        {
          "output_type": "stream",
          "name": "stdout",
          "text": [
            "06-20 09:00:40 [54] Lr: 0.000199, Training: 96.49%,  Loss: 2.51795, ACC: 52.55% \r\n"
          ]
        },
        {
          "output_type": "stream",
          "name": "stderr",
          "text": [
            "\r56it [05:12,  5.56s/it]"
          ]
        },
        {
          "output_type": "stream",
          "name": "stdout",
          "text": [
            "06-20 09:00:46 [54] Lr: 0.000199, Training: 98.25%,  Loss: 2.52119, ACC: 52.45% \r\n"
          ]
        },
        {
          "output_type": "stream",
          "name": "stderr",
          "text": [
            "\r57it [05:16,  5.04s/it]"
          ]
        },
        {
          "output_type": "stream",
          "name": "stdout",
          "text": [
            "06-20 09:00:50 [54] Lr: 0.000199, Training: 100.00%,  Loss: 2.51972, ACC: 38.24% \r\n"
          ]
        },
        {
          "output_type": "stream",
          "name": "stderr",
          "text": [
            "\r57it [05:16,  5.55s/it]\n"
          ]
        },
        {
          "output_type": "stream",
          "name": "stdout",
          "text": [
            "\n",
            "\n"
          ]
        },
        {
          "output_type": "stream",
          "name": "stderr",
          "text": [
            "  0%|          | 0/973 [00:00<?, ?it/s]<ipython-input-15-b61162519fae>:62: DeprecationWarning: `np.float` is a deprecated alias for the builtin `float`. To silence this warning, use `float` by itself. Doing this will not modify any behavior and is safe. If you specifically wanted the numpy scalar type, use `np.float64` here.\n",
            "Deprecated in NumPy 1.20; for more details and guidance: https://numpy.org/devdocs/release/1.20.0-notes.html#deprecations\n",
            "  feats = numpy.stack(feats, axis = 0).astype(numpy.float)\n",
            "100%|██████████| 973/973 [04:31<00:00,  3.59it/s]\n"
          ]
        },
        {
          "output_type": "stream",
          "name": "stdout",
          "text": [
            "2023-06-20 09:05:29 54 epoch, ACC 38.24%, EER 6.22%, bestEER 6.17%\n",
            "Epoch: 55\n"
          ]
        },
        {
          "output_type": "stream",
          "name": "stderr",
          "text": [
            "/usr/local/lib/python3.10/dist-packages/torch/optim/lr_scheduler.py:152: UserWarning: The epoch parameter in `scheduler.step()` was not necessary and is being deprecated where possible. Please use `scheduler.step()` to step the scheduler. During the deprecation, if epoch is different from None, the closed form is used instead of the new chainable form, where available. Please open an issue if you are unable to replicate your use case: https://github.com/pytorch/pytorch/issues/new/choose.\n",
            "  warnings.warn(EPOCH_DEPRECATION_WARNING, UserWarning)\n",
            "0it [00:00, ?it/s]/usr/local/lib/python3.10/dist-packages/torch/nn/functional.py:4999: UserWarning: Support for mismatched key_padding_mask and attn_mask is deprecated. Use same type for both instead.\n",
            "  warnings.warn(\n",
            "1it [00:06,  6.23s/it]"
          ]
        },
        {
          "output_type": "stream",
          "name": "stdout",
          "text": [
            "06-20 09:05:35 [55] Lr: 0.000193, Training: 1.75%,  Loss: 2.45998, ACC: 54.00% \r\n"
          ]
        },
        {
          "output_type": "stream",
          "name": "stderr",
          "text": [
            "\r2it [00:11,  5.82s/it]"
          ]
        },
        {
          "output_type": "stream",
          "name": "stdout",
          "text": [
            "06-20 09:05:41 [55] Lr: 0.000193, Training: 3.51%,  Loss: 2.44947, ACC: 55.67% \r\n"
          ]
        },
        {
          "output_type": "stream",
          "name": "stderr",
          "text": [
            "\r3it [00:17,  5.69s/it]"
          ]
        },
        {
          "output_type": "stream",
          "name": "stdout",
          "text": [
            "06-20 09:05:46 [55] Lr: 0.000193, Training: 5.26%,  Loss: 2.58669, ACC: 52.89% \r\n"
          ]
        },
        {
          "output_type": "stream",
          "name": "stderr",
          "text": [
            "\r4it [00:22,  5.62s/it]"
          ]
        },
        {
          "output_type": "stream",
          "name": "stdout",
          "text": [
            "06-20 09:05:52 [55] Lr: 0.000193, Training: 7.02%,  Loss: 2.56654, ACC: 52.50% \r\n"
          ]
        },
        {
          "output_type": "stream",
          "name": "stderr",
          "text": [
            "\r5it [00:28,  5.62s/it]"
          ]
        },
        {
          "output_type": "stream",
          "name": "stdout",
          "text": [
            "06-20 09:05:58 [55] Lr: 0.000193, Training: 8.77%,  Loss: 2.57799, ACC: 52.00% \r\n"
          ]
        },
        {
          "output_type": "stream",
          "name": "stderr",
          "text": [
            "\r6it [00:33,  5.59s/it]"
          ]
        },
        {
          "output_type": "stream",
          "name": "stdout",
          "text": [
            "06-20 09:06:03 [55] Lr: 0.000193, Training: 10.53%,  Loss: 2.55723, ACC: 52.22% \r\n"
          ]
        },
        {
          "output_type": "stream",
          "name": "stderr",
          "text": [
            "\r7it [00:39,  5.58s/it]"
          ]
        },
        {
          "output_type": "stream",
          "name": "stdout",
          "text": [
            "06-20 09:06:09 [55] Lr: 0.000193, Training: 12.28%,  Loss: 2.60078, ACC: 51.05% \r\n"
          ]
        },
        {
          "output_type": "stream",
          "name": "stderr",
          "text": [
            "\r8it [00:45,  5.57s/it]"
          ]
        },
        {
          "output_type": "stream",
          "name": "stdout",
          "text": [
            "06-20 09:06:14 [55] Lr: 0.000193, Training: 14.04%,  Loss: 2.58488, ACC: 51.33% \r\n"
          ]
        },
        {
          "output_type": "stream",
          "name": "stderr",
          "text": [
            "\r9it [00:50,  5.57s/it]"
          ]
        },
        {
          "output_type": "stream",
          "name": "stdout",
          "text": [
            "06-20 09:06:20 [55] Lr: 0.000193, Training: 15.79%,  Loss: 2.54567, ACC: 52.07% \r\n"
          ]
        },
        {
          "output_type": "stream",
          "name": "stderr",
          "text": [
            "\r10it [00:56,  5.57s/it]"
          ]
        },
        {
          "output_type": "stream",
          "name": "stdout",
          "text": [
            "06-20 09:06:25 [55] Lr: 0.000193, Training: 17.54%,  Loss: 2.51728, ACC: 52.93% \r\n"
          ]
        },
        {
          "output_type": "stream",
          "name": "stderr",
          "text": [
            "\r11it [01:01,  5.57s/it]"
          ]
        },
        {
          "output_type": "stream",
          "name": "stdout",
          "text": [
            "06-20 09:06:31 [55] Lr: 0.000193, Training: 19.30%,  Loss: 2.47315, ACC: 53.58% \r\n"
          ]
        },
        {
          "output_type": "stream",
          "name": "stderr",
          "text": [
            "\r12it [01:07,  5.57s/it]"
          ]
        },
        {
          "output_type": "stream",
          "name": "stdout",
          "text": [
            "06-20 09:06:36 [55] Lr: 0.000193, Training: 21.05%,  Loss: 2.48983, ACC: 53.28% \r\n"
          ]
        },
        {
          "output_type": "stream",
          "name": "stderr",
          "text": [
            "\r13it [01:12,  5.57s/it]"
          ]
        },
        {
          "output_type": "stream",
          "name": "stdout",
          "text": [
            "06-20 09:06:42 [55] Lr: 0.000193, Training: 22.81%,  Loss: 2.54125, ACC: 52.82% \r\n"
          ]
        },
        {
          "output_type": "stream",
          "name": "stderr",
          "text": [
            "\r14it [01:18,  5.57s/it]"
          ]
        },
        {
          "output_type": "stream",
          "name": "stdout",
          "text": [
            "06-20 09:06:48 [55] Lr: 0.000193, Training: 24.56%,  Loss: 2.53381, ACC: 53.10% \r\n"
          ]
        },
        {
          "output_type": "stream",
          "name": "stderr",
          "text": [
            "\r15it [01:24,  5.57s/it]"
          ]
        },
        {
          "output_type": "stream",
          "name": "stdout",
          "text": [
            "06-20 09:06:53 [55] Lr: 0.000193, Training: 26.32%,  Loss: 2.53433, ACC: 52.80% \r\n"
          ]
        },
        {
          "output_type": "stream",
          "name": "stderr",
          "text": [
            "\r16it [01:29,  5.57s/it]"
          ]
        },
        {
          "output_type": "stream",
          "name": "stdout",
          "text": [
            "06-20 09:06:59 [55] Lr: 0.000193, Training: 28.07%,  Loss: 2.52866, ACC: 52.46% \r\n"
          ]
        },
        {
          "output_type": "stream",
          "name": "stderr",
          "text": [
            "\r17it [01:35,  5.57s/it]"
          ]
        },
        {
          "output_type": "stream",
          "name": "stdout",
          "text": [
            "06-20 09:07:04 [55] Lr: 0.000193, Training: 29.82%,  Loss: 2.50641, ACC: 52.63% \r\n"
          ]
        },
        {
          "output_type": "stream",
          "name": "stderr",
          "text": [
            "\r18it [01:40,  5.57s/it]"
          ]
        },
        {
          "output_type": "stream",
          "name": "stdout",
          "text": [
            "06-20 09:07:10 [55] Lr: 0.000193, Training: 31.58%,  Loss: 2.51364, ACC: 52.44% \r\n"
          ]
        },
        {
          "output_type": "stream",
          "name": "stderr",
          "text": [
            "\r19it [01:46,  5.56s/it]"
          ]
        },
        {
          "output_type": "stream",
          "name": "stdout",
          "text": [
            "06-20 09:07:15 [55] Lr: 0.000193, Training: 33.33%,  Loss: 2.50898, ACC: 52.77% \r\n"
          ]
        },
        {
          "output_type": "stream",
          "name": "stderr",
          "text": [
            "\r20it [01:51,  5.58s/it]"
          ]
        },
        {
          "output_type": "stream",
          "name": "stdout",
          "text": [
            "06-20 09:07:21 [55] Lr: 0.000193, Training: 35.09%,  Loss: 2.50141, ACC: 52.80% \r\n"
          ]
        },
        {
          "output_type": "stream",
          "name": "stderr",
          "text": [
            "\r21it [01:57,  5.58s/it]"
          ]
        },
        {
          "output_type": "stream",
          "name": "stdout",
          "text": [
            "06-20 09:07:27 [55] Lr: 0.000193, Training: 36.84%,  Loss: 2.50657, ACC: 52.79% \r\n"
          ]
        },
        {
          "output_type": "stream",
          "name": "stderr",
          "text": [
            "\r22it [02:03,  5.57s/it]"
          ]
        },
        {
          "output_type": "stream",
          "name": "stdout",
          "text": [
            "06-20 09:07:32 [55] Lr: 0.000193, Training: 38.60%,  Loss: 2.50705, ACC: 52.61% \r\n"
          ]
        },
        {
          "output_type": "stream",
          "name": "stderr",
          "text": [
            "\r23it [02:08,  5.59s/it]"
          ]
        },
        {
          "output_type": "stream",
          "name": "stdout",
          "text": [
            "06-20 09:07:38 [55] Lr: 0.000193, Training: 40.35%,  Loss: 2.49801, ACC: 52.90% \r\n"
          ]
        },
        {
          "output_type": "stream",
          "name": "stderr",
          "text": [
            "\r24it [02:14,  5.57s/it]"
          ]
        },
        {
          "output_type": "stream",
          "name": "stdout",
          "text": [
            "06-20 09:07:43 [55] Lr: 0.000193, Training: 42.11%,  Loss: 2.51361, ACC: 52.83% \r\n"
          ]
        },
        {
          "output_type": "stream",
          "name": "stderr",
          "text": [
            "\r25it [02:19,  5.57s/it]"
          ]
        },
        {
          "output_type": "stream",
          "name": "stdout",
          "text": [
            "06-20 09:07:49 [55] Lr: 0.000193, Training: 43.86%,  Loss: 2.50325, ACC: 53.04% \r\n"
          ]
        },
        {
          "output_type": "stream",
          "name": "stderr",
          "text": [
            "\r26it [02:25,  5.58s/it]"
          ]
        },
        {
          "output_type": "stream",
          "name": "stdout",
          "text": [
            "06-20 09:07:55 [55] Lr: 0.000193, Training: 45.61%,  Loss: 2.50044, ACC: 53.00% \r\n"
          ]
        },
        {
          "output_type": "stream",
          "name": "stderr",
          "text": [
            "\r27it [02:30,  5.58s/it]"
          ]
        },
        {
          "output_type": "stream",
          "name": "stdout",
          "text": [
            "06-20 09:08:00 [55] Lr: 0.000193, Training: 47.37%,  Loss: 2.50154, ACC: 53.01% \r\n"
          ]
        },
        {
          "output_type": "stream",
          "name": "stderr",
          "text": [
            "\r28it [02:36,  5.57s/it]"
          ]
        },
        {
          "output_type": "stream",
          "name": "stdout",
          "text": [
            "06-20 09:08:06 [55] Lr: 0.000193, Training: 49.12%,  Loss: 2.51068, ACC: 52.98% \r\n"
          ]
        },
        {
          "output_type": "stream",
          "name": "stderr",
          "text": [
            "\r29it [02:42,  5.58s/it]"
          ]
        },
        {
          "output_type": "stream",
          "name": "stdout",
          "text": [
            "06-20 09:08:11 [55] Lr: 0.000193, Training: 50.88%,  Loss: 2.50495, ACC: 52.94% \r\n"
          ]
        },
        {
          "output_type": "stream",
          "name": "stderr",
          "text": [
            "\r30it [02:47,  5.57s/it]"
          ]
        },
        {
          "output_type": "stream",
          "name": "stdout",
          "text": [
            "06-20 09:08:17 [55] Lr: 0.000193, Training: 52.63%,  Loss: 2.51016, ACC: 52.98% \r\n"
          ]
        },
        {
          "output_type": "stream",
          "name": "stderr",
          "text": [
            "\r31it [02:53,  5.57s/it]"
          ]
        },
        {
          "output_type": "stream",
          "name": "stdout",
          "text": [
            "06-20 09:08:22 [55] Lr: 0.000193, Training: 54.39%,  Loss: 2.51533, ACC: 52.88% \r\n"
          ]
        },
        {
          "output_type": "stream",
          "name": "stderr",
          "text": [
            "\r32it [02:58,  5.57s/it]"
          ]
        },
        {
          "output_type": "stream",
          "name": "stdout",
          "text": [
            "06-20 09:08:28 [55] Lr: 0.000193, Training: 56.14%,  Loss: 2.51446, ACC: 52.94% \r\n"
          ]
        },
        {
          "output_type": "stream",
          "name": "stderr",
          "text": [
            "\r33it [03:04,  5.57s/it]"
          ]
        },
        {
          "output_type": "stream",
          "name": "stdout",
          "text": [
            "06-20 09:08:33 [55] Lr: 0.000193, Training: 57.89%,  Loss: 2.50546, ACC: 53.25% \r\n"
          ]
        },
        {
          "output_type": "stream",
          "name": "stderr",
          "text": [
            "\r34it [03:09,  5.57s/it]"
          ]
        },
        {
          "output_type": "stream",
          "name": "stdout",
          "text": [
            "06-20 09:08:39 [55] Lr: 0.000193, Training: 59.65%,  Loss: 2.50745, ACC: 53.12% \r\n"
          ]
        },
        {
          "output_type": "stream",
          "name": "stderr",
          "text": [
            "\r35it [03:15,  5.57s/it]"
          ]
        },
        {
          "output_type": "stream",
          "name": "stdout",
          "text": [
            "06-20 09:08:45 [55] Lr: 0.000193, Training: 61.40%,  Loss: 2.51469, ACC: 53.26% \r\n"
          ]
        },
        {
          "output_type": "stream",
          "name": "stderr",
          "text": [
            "\r36it [03:21,  5.57s/it]"
          ]
        },
        {
          "output_type": "stream",
          "name": "stdout",
          "text": [
            "06-20 09:08:50 [55] Lr: 0.000193, Training: 63.16%,  Loss: 2.50246, ACC: 53.50% \r\n"
          ]
        },
        {
          "output_type": "stream",
          "name": "stderr",
          "text": [
            "\r37it [03:26,  5.58s/it]"
          ]
        },
        {
          "output_type": "stream",
          "name": "stdout",
          "text": [
            "06-20 09:08:56 [55] Lr: 0.000193, Training: 64.91%,  Loss: 2.50130, ACC: 53.60% \r\n"
          ]
        },
        {
          "output_type": "stream",
          "name": "stderr",
          "text": [
            "\r38it [03:32,  5.58s/it]"
          ]
        },
        {
          "output_type": "stream",
          "name": "stdout",
          "text": [
            "06-20 09:09:01 [55] Lr: 0.000193, Training: 66.67%,  Loss: 2.50131, ACC: 53.46% \r\n"
          ]
        },
        {
          "output_type": "stream",
          "name": "stderr",
          "text": [
            "\r39it [03:37,  5.58s/it]"
          ]
        },
        {
          "output_type": "stream",
          "name": "stdout",
          "text": [
            "06-20 09:09:07 [55] Lr: 0.000193, Training: 68.42%,  Loss: 2.49198, ACC: 53.56% \r\n"
          ]
        },
        {
          "output_type": "stream",
          "name": "stderr",
          "text": [
            "\r40it [03:43,  5.58s/it]"
          ]
        },
        {
          "output_type": "stream",
          "name": "stdout",
          "text": [
            "06-20 09:09:13 [55] Lr: 0.000193, Training: 70.18%,  Loss: 2.49128, ACC: 53.52% \r\n"
          ]
        },
        {
          "output_type": "stream",
          "name": "stderr",
          "text": [
            "\r41it [03:49,  5.58s/it]"
          ]
        },
        {
          "output_type": "stream",
          "name": "stdout",
          "text": [
            "06-20 09:09:18 [55] Lr: 0.000193, Training: 71.93%,  Loss: 2.49215, ACC: 53.40% \r\n"
          ]
        },
        {
          "output_type": "stream",
          "name": "stderr",
          "text": [
            "\r42it [03:54,  5.57s/it]"
          ]
        },
        {
          "output_type": "stream",
          "name": "stdout",
          "text": [
            "06-20 09:09:24 [55] Lr: 0.000193, Training: 73.68%,  Loss: 2.49352, ACC: 53.38% \r\n"
          ]
        },
        {
          "output_type": "stream",
          "name": "stderr",
          "text": [
            "\r43it [04:00,  5.57s/it]"
          ]
        },
        {
          "output_type": "stream",
          "name": "stdout",
          "text": [
            "06-20 09:09:29 [55] Lr: 0.000193, Training: 75.44%,  Loss: 2.49056, ACC: 53.41% \r\n"
          ]
        },
        {
          "output_type": "stream",
          "name": "stderr",
          "text": [
            "\r44it [04:05,  5.56s/it]"
          ]
        },
        {
          "output_type": "stream",
          "name": "stdout",
          "text": [
            "06-20 09:09:35 [55] Lr: 0.000193, Training: 77.19%,  Loss: 2.48960, ACC: 53.39% \r\n"
          ]
        },
        {
          "output_type": "stream",
          "name": "stderr",
          "text": [
            "\r45it [04:11,  5.56s/it]"
          ]
        },
        {
          "output_type": "stream",
          "name": "stdout",
          "text": [
            "06-20 09:09:40 [55] Lr: 0.000193, Training: 78.95%,  Loss: 2.49421, ACC: 53.26% \r\n"
          ]
        },
        {
          "output_type": "stream",
          "name": "stderr",
          "text": [
            "\r46it [04:16,  5.57s/it]"
          ]
        },
        {
          "output_type": "stream",
          "name": "stdout",
          "text": [
            "06-20 09:09:46 [55] Lr: 0.000193, Training: 80.70%,  Loss: 2.49046, ACC: 53.32% \r\n"
          ]
        },
        {
          "output_type": "stream",
          "name": "stderr",
          "text": [
            "\r47it [04:22,  5.57s/it]"
          ]
        },
        {
          "output_type": "stream",
          "name": "stdout",
          "text": [
            "06-20 09:09:51 [55] Lr: 0.000193, Training: 82.46%,  Loss: 2.48797, ACC: 53.35% \r\n"
          ]
        },
        {
          "output_type": "stream",
          "name": "stderr",
          "text": [
            "\r48it [04:27,  5.56s/it]"
          ]
        },
        {
          "output_type": "stream",
          "name": "stdout",
          "text": [
            "06-20 09:09:57 [55] Lr: 0.000193, Training: 84.21%,  Loss: 2.48998, ACC: 53.35% \r\n"
          ]
        },
        {
          "output_type": "stream",
          "name": "stderr",
          "text": [
            "\r49it [04:33,  5.56s/it]"
          ]
        },
        {
          "output_type": "stream",
          "name": "stdout",
          "text": [
            "06-20 09:10:03 [55] Lr: 0.000193, Training: 85.96%,  Loss: 2.48994, ACC: 53.37% \r\n"
          ]
        },
        {
          "output_type": "stream",
          "name": "stderr",
          "text": [
            "\r50it [04:39,  5.56s/it]"
          ]
        },
        {
          "output_type": "stream",
          "name": "stdout",
          "text": [
            "06-20 09:10:08 [55] Lr: 0.000193, Training: 87.72%,  Loss: 2.49526, ACC: 53.20% \r\n"
          ]
        },
        {
          "output_type": "stream",
          "name": "stderr",
          "text": [
            "\r51it [04:44,  5.57s/it]"
          ]
        },
        {
          "output_type": "stream",
          "name": "stdout",
          "text": [
            "06-20 09:10:14 [55] Lr: 0.000193, Training: 89.47%,  Loss: 2.49461, ACC: 53.20% \r\n"
          ]
        },
        {
          "output_type": "stream",
          "name": "stderr",
          "text": [
            "\r52it [04:50,  5.56s/it]"
          ]
        },
        {
          "output_type": "stream",
          "name": "stdout",
          "text": [
            "06-20 09:10:19 [55] Lr: 0.000193, Training: 91.23%,  Loss: 2.49365, ACC: 53.23% \r\n"
          ]
        },
        {
          "output_type": "stream",
          "name": "stderr",
          "text": [
            "\r53it [04:55,  5.56s/it]"
          ]
        },
        {
          "output_type": "stream",
          "name": "stdout",
          "text": [
            "06-20 09:10:25 [55] Lr: 0.000193, Training: 92.98%,  Loss: 2.50226, ACC: 53.16% \r\n"
          ]
        },
        {
          "output_type": "stream",
          "name": "stderr",
          "text": [
            "\r54it [05:01,  5.55s/it]"
          ]
        },
        {
          "output_type": "stream",
          "name": "stdout",
          "text": [
            "06-20 09:10:30 [55] Lr: 0.000193, Training: 94.74%,  Loss: 2.50685, ACC: 53.02% \r\n"
          ]
        },
        {
          "output_type": "stream",
          "name": "stderr",
          "text": [
            "\r55it [05:06,  5.55s/it]"
          ]
        },
        {
          "output_type": "stream",
          "name": "stdout",
          "text": [
            "06-20 09:10:36 [55] Lr: 0.000193, Training: 96.49%,  Loss: 2.50772, ACC: 52.93% \r\n"
          ]
        },
        {
          "output_type": "stream",
          "name": "stderr",
          "text": [
            "\r56it [05:12,  5.55s/it]"
          ]
        },
        {
          "output_type": "stream",
          "name": "stdout",
          "text": [
            "06-20 09:10:41 [55] Lr: 0.000193, Training: 98.25%,  Loss: 2.50613, ACC: 52.92% \r\n"
          ]
        },
        {
          "output_type": "stream",
          "name": "stderr",
          "text": [
            "\r57it [05:16,  5.04s/it]"
          ]
        },
        {
          "output_type": "stream",
          "name": "stdout",
          "text": [
            "06-20 09:10:45 [55] Lr: 0.000193, Training: 100.00%,  Loss: 2.50458, ACC: 38.67% \r\n"
          ]
        },
        {
          "output_type": "stream",
          "name": "stderr",
          "text": [
            "\r57it [05:16,  5.55s/it]\n"
          ]
        },
        {
          "output_type": "stream",
          "name": "stdout",
          "text": [
            "\n",
            "\n"
          ]
        },
        {
          "output_type": "stream",
          "name": "stderr",
          "text": [
            "  0%|          | 0/973 [00:00<?, ?it/s]<ipython-input-15-b61162519fae>:62: DeprecationWarning: `np.float` is a deprecated alias for the builtin `float`. To silence this warning, use `float` by itself. Doing this will not modify any behavior and is safe. If you specifically wanted the numpy scalar type, use `np.float64` here.\n",
            "Deprecated in NumPy 1.20; for more details and guidance: https://numpy.org/devdocs/release/1.20.0-notes.html#deprecations\n",
            "  feats = numpy.stack(feats, axis = 0).astype(numpy.float)\n",
            "100%|██████████| 973/973 [04:51<00:00,  3.34it/s]\n"
          ]
        },
        {
          "output_type": "stream",
          "name": "stdout",
          "text": [
            "2023-06-20 09:15:47 55 epoch, ACC 38.67%, EER 6.22%, bestEER 6.17%\n",
            "Epoch: 56\n"
          ]
        },
        {
          "output_type": "stream",
          "name": "stderr",
          "text": [
            "/usr/local/lib/python3.10/dist-packages/torch/optim/lr_scheduler.py:152: UserWarning: The epoch parameter in `scheduler.step()` was not necessary and is being deprecated where possible. Please use `scheduler.step()` to step the scheduler. During the deprecation, if epoch is different from None, the closed form is used instead of the new chainable form, where available. Please open an issue if you are unable to replicate your use case: https://github.com/pytorch/pytorch/issues/new/choose.\n",
            "  warnings.warn(EPOCH_DEPRECATION_WARNING, UserWarning)\n",
            "0it [00:00, ?it/s]/usr/local/lib/python3.10/dist-packages/torch/nn/functional.py:4999: UserWarning: Support for mismatched key_padding_mask and attn_mask is deprecated. Use same type for both instead.\n",
            "  warnings.warn(\n",
            "1it [00:06,  6.44s/it]"
          ]
        },
        {
          "output_type": "stream",
          "name": "stdout",
          "text": [
            "06-20 09:15:54 [56] Lr: 0.000187, Training: 1.75%,  Loss: 2.26119, ACC: 58.67% \r\n"
          ]
        },
        {
          "output_type": "stream",
          "name": "stderr",
          "text": [
            "\r2it [00:11,  5.88s/it]"
          ]
        },
        {
          "output_type": "stream",
          "name": "stdout",
          "text": [
            "06-20 09:15:59 [56] Lr: 0.000187, Training: 3.51%,  Loss: 2.44880, ACC: 54.33% \r\n"
          ]
        },
        {
          "output_type": "stream",
          "name": "stderr",
          "text": [
            "\r3it [00:17,  5.71s/it]"
          ]
        },
        {
          "output_type": "stream",
          "name": "stdout",
          "text": [
            "06-20 09:16:05 [56] Lr: 0.000187, Training: 5.26%,  Loss: 2.42212, ACC: 53.56% \r\n"
          ]
        },
        {
          "output_type": "stream",
          "name": "stderr",
          "text": [
            "\r4it [00:22,  5.64s/it]"
          ]
        },
        {
          "output_type": "stream",
          "name": "stdout",
          "text": [
            "06-20 09:16:10 [56] Lr: 0.000187, Training: 7.02%,  Loss: 2.50470, ACC: 52.67% \r\n"
          ]
        },
        {
          "output_type": "stream",
          "name": "stderr",
          "text": [
            "\r5it [00:28,  5.59s/it]"
          ]
        },
        {
          "output_type": "stream",
          "name": "stdout",
          "text": [
            "06-20 09:16:16 [56] Lr: 0.000187, Training: 8.77%,  Loss: 2.54570, ACC: 51.20% \r\n"
          ]
        },
        {
          "output_type": "stream",
          "name": "stderr",
          "text": [
            "\r6it [00:34,  5.57s/it]"
          ]
        },
        {
          "output_type": "stream",
          "name": "stdout",
          "text": [
            "06-20 09:16:21 [56] Lr: 0.000187, Training: 10.53%,  Loss: 2.53530, ACC: 51.78% \r\n"
          ]
        },
        {
          "output_type": "stream",
          "name": "stderr",
          "text": [
            "\r7it [00:39,  5.57s/it]"
          ]
        },
        {
          "output_type": "stream",
          "name": "stdout",
          "text": [
            "06-20 09:16:27 [56] Lr: 0.000187, Training: 12.28%,  Loss: 2.43604, ACC: 53.43% \r\n"
          ]
        },
        {
          "output_type": "stream",
          "name": "stderr",
          "text": [
            "\r8it [00:45,  5.56s/it]"
          ]
        },
        {
          "output_type": "stream",
          "name": "stdout",
          "text": [
            "06-20 09:16:32 [56] Lr: 0.000187, Training: 14.04%,  Loss: 2.41692, ACC: 53.92% \r\n"
          ]
        },
        {
          "output_type": "stream",
          "name": "stderr",
          "text": [
            "\r9it [00:50,  5.56s/it]"
          ]
        },
        {
          "output_type": "stream",
          "name": "stdout",
          "text": [
            "06-20 09:16:38 [56] Lr: 0.000187, Training: 15.79%,  Loss: 2.41226, ACC: 53.85% \r\n"
          ]
        },
        {
          "output_type": "stream",
          "name": "stderr",
          "text": [
            "\r10it [00:56,  5.56s/it]"
          ]
        },
        {
          "output_type": "stream",
          "name": "stdout",
          "text": [
            "06-20 09:16:43 [56] Lr: 0.000187, Training: 17.54%,  Loss: 2.43048, ACC: 52.87% \r\n"
          ]
        },
        {
          "output_type": "stream",
          "name": "stderr",
          "text": [
            "\r11it [01:01,  5.56s/it]"
          ]
        },
        {
          "output_type": "stream",
          "name": "stdout",
          "text": [
            "06-20 09:16:49 [56] Lr: 0.000187, Training: 19.30%,  Loss: 2.47175, ACC: 52.67% \r\n"
          ]
        },
        {
          "output_type": "stream",
          "name": "stderr",
          "text": [
            "\r12it [01:07,  5.55s/it]"
          ]
        },
        {
          "output_type": "stream",
          "name": "stdout",
          "text": [
            "06-20 09:16:55 [56] Lr: 0.000187, Training: 21.05%,  Loss: 2.46489, ACC: 52.83% \r\n"
          ]
        },
        {
          "output_type": "stream",
          "name": "stderr",
          "text": [
            "\r13it [01:12,  5.56s/it]"
          ]
        },
        {
          "output_type": "stream",
          "name": "stdout",
          "text": [
            "06-20 09:17:00 [56] Lr: 0.000187, Training: 22.81%,  Loss: 2.49375, ACC: 52.56% \r\n"
          ]
        },
        {
          "output_type": "stream",
          "name": "stderr",
          "text": [
            "\r14it [01:18,  5.55s/it]"
          ]
        },
        {
          "output_type": "stream",
          "name": "stdout",
          "text": [
            "06-20 09:17:06 [56] Lr: 0.000187, Training: 24.56%,  Loss: 2.51956, ACC: 52.48% \r\n"
          ]
        },
        {
          "output_type": "stream",
          "name": "stderr",
          "text": [
            "\r15it [01:23,  5.56s/it]"
          ]
        },
        {
          "output_type": "stream",
          "name": "stdout",
          "text": [
            "06-20 09:17:11 [56] Lr: 0.000187, Training: 26.32%,  Loss: 2.50534, ACC: 52.62% \r\n"
          ]
        },
        {
          "output_type": "stream",
          "name": "stderr",
          "text": [
            "\r16it [01:29,  5.56s/it]"
          ]
        },
        {
          "output_type": "stream",
          "name": "stdout",
          "text": [
            "06-20 09:17:17 [56] Lr: 0.000187, Training: 28.07%,  Loss: 2.50061, ACC: 52.71% \r\n"
          ]
        },
        {
          "output_type": "stream",
          "name": "stderr",
          "text": [
            "\r17it [01:35,  5.57s/it]"
          ]
        },
        {
          "output_type": "stream",
          "name": "stdout",
          "text": [
            "06-20 09:17:22 [56] Lr: 0.000187, Training: 29.82%,  Loss: 2.49283, ACC: 53.02% \r\n"
          ]
        },
        {
          "output_type": "stream",
          "name": "stderr",
          "text": [
            "\r18it [01:40,  5.57s/it]"
          ]
        },
        {
          "output_type": "stream",
          "name": "stdout",
          "text": [
            "06-20 09:17:28 [56] Lr: 0.000187, Training: 31.58%,  Loss: 2.47808, ACC: 53.15% \r\n"
          ]
        },
        {
          "output_type": "stream",
          "name": "stderr",
          "text": [
            "\r19it [01:46,  5.57s/it]"
          ]
        },
        {
          "output_type": "stream",
          "name": "stdout",
          "text": [
            "06-20 09:17:34 [56] Lr: 0.000187, Training: 33.33%,  Loss: 2.48983, ACC: 52.95% \r\n"
          ]
        },
        {
          "output_type": "stream",
          "name": "stderr",
          "text": [
            "\r20it [01:51,  5.57s/it]"
          ]
        },
        {
          "output_type": "stream",
          "name": "stdout",
          "text": [
            "06-20 09:17:39 [56] Lr: 0.000187, Training: 35.09%,  Loss: 2.47836, ACC: 53.03% \r\n"
          ]
        },
        {
          "output_type": "stream",
          "name": "stderr",
          "text": [
            "\r21it [01:57,  5.57s/it]"
          ]
        },
        {
          "output_type": "stream",
          "name": "stdout",
          "text": [
            "06-20 09:17:45 [56] Lr: 0.000187, Training: 36.84%,  Loss: 2.48671, ACC: 52.67% \r\n"
          ]
        },
        {
          "output_type": "stream",
          "name": "stderr",
          "text": [
            "\r22it [02:03,  5.57s/it]"
          ]
        },
        {
          "output_type": "stream",
          "name": "stdout",
          "text": [
            "06-20 09:17:50 [56] Lr: 0.000187, Training: 38.60%,  Loss: 2.47531, ACC: 52.82% \r\n"
          ]
        },
        {
          "output_type": "stream",
          "name": "stderr",
          "text": [
            "\r23it [02:08,  5.58s/it]"
          ]
        },
        {
          "output_type": "stream",
          "name": "stdout",
          "text": [
            "06-20 09:17:56 [56] Lr: 0.000187, Training: 40.35%,  Loss: 2.47056, ACC: 52.78% \r\n"
          ]
        },
        {
          "output_type": "stream",
          "name": "stderr",
          "text": [
            "\r24it [02:14,  5.58s/it]"
          ]
        },
        {
          "output_type": "stream",
          "name": "stdout",
          "text": [
            "06-20 09:18:01 [56] Lr: 0.000187, Training: 42.11%,  Loss: 2.47579, ACC: 52.94% \r\n"
          ]
        },
        {
          "output_type": "stream",
          "name": "stderr",
          "text": [
            "\r25it [02:19,  5.58s/it]"
          ]
        },
        {
          "output_type": "stream",
          "name": "stdout",
          "text": [
            "06-20 09:18:07 [56] Lr: 0.000187, Training: 43.86%,  Loss: 2.47636, ACC: 52.77% \r\n"
          ]
        },
        {
          "output_type": "stream",
          "name": "stderr",
          "text": [
            "\r26it [02:25,  5.57s/it]"
          ]
        },
        {
          "output_type": "stream",
          "name": "stdout",
          "text": [
            "06-20 09:18:13 [56] Lr: 0.000187, Training: 45.61%,  Loss: 2.49088, ACC: 52.51% \r\n"
          ]
        },
        {
          "output_type": "stream",
          "name": "stderr",
          "text": [
            "\r27it [02:30,  5.57s/it]"
          ]
        },
        {
          "output_type": "stream",
          "name": "stdout",
          "text": [
            "06-20 09:18:18 [56] Lr: 0.000187, Training: 47.37%,  Loss: 2.47746, ACC: 52.86% \r\n"
          ]
        },
        {
          "output_type": "stream",
          "name": "stderr",
          "text": [
            "\r28it [02:36,  5.56s/it]"
          ]
        },
        {
          "output_type": "stream",
          "name": "stdout",
          "text": [
            "06-20 09:18:24 [56] Lr: 0.000187, Training: 49.12%,  Loss: 2.47588, ACC: 52.88% \r\n"
          ]
        },
        {
          "output_type": "stream",
          "name": "stderr",
          "text": [
            "\r29it [02:41,  5.56s/it]"
          ]
        },
        {
          "output_type": "stream",
          "name": "stdout",
          "text": [
            "06-20 09:18:29 [56] Lr: 0.000187, Training: 50.88%,  Loss: 2.47474, ACC: 52.87% \r\n"
          ]
        },
        {
          "output_type": "stream",
          "name": "stderr",
          "text": [
            "\r30it [02:47,  5.56s/it]"
          ]
        },
        {
          "output_type": "stream",
          "name": "stdout",
          "text": [
            "06-20 09:18:35 [56] Lr: 0.000187, Training: 52.63%,  Loss: 2.47485, ACC: 52.82% \r\n"
          ]
        },
        {
          "output_type": "stream",
          "name": "stderr",
          "text": [
            "\r31it [02:53,  5.56s/it]"
          ]
        },
        {
          "output_type": "stream",
          "name": "stdout",
          "text": [
            "06-20 09:18:40 [56] Lr: 0.000187, Training: 54.39%,  Loss: 2.48190, ACC: 52.86% \r\n"
          ]
        },
        {
          "output_type": "stream",
          "name": "stderr",
          "text": [
            "\r32it [02:58,  5.55s/it]"
          ]
        },
        {
          "output_type": "stream",
          "name": "stdout",
          "text": [
            "06-20 09:18:46 [56] Lr: 0.000187, Training: 56.14%,  Loss: 2.49428, ACC: 52.77% \r\n"
          ]
        },
        {
          "output_type": "stream",
          "name": "stderr",
          "text": [
            "\r33it [03:04,  5.57s/it]"
          ]
        },
        {
          "output_type": "stream",
          "name": "stdout",
          "text": [
            "06-20 09:18:51 [56] Lr: 0.000187, Training: 57.89%,  Loss: 2.49972, ACC: 52.63% \r\n"
          ]
        },
        {
          "output_type": "stream",
          "name": "stderr",
          "text": [
            "\r34it [03:09,  5.55s/it]"
          ]
        },
        {
          "output_type": "stream",
          "name": "stdout",
          "text": [
            "06-20 09:18:57 [56] Lr: 0.000187, Training: 59.65%,  Loss: 2.50175, ACC: 52.59% \r\n"
          ]
        },
        {
          "output_type": "stream",
          "name": "stderr",
          "text": [
            "\r35it [03:15,  5.55s/it]"
          ]
        },
        {
          "output_type": "stream",
          "name": "stdout",
          "text": [
            "06-20 09:19:03 [56] Lr: 0.000187, Training: 61.40%,  Loss: 2.49767, ACC: 52.48% \r\n"
          ]
        },
        {
          "output_type": "stream",
          "name": "stderr",
          "text": [
            "\r36it [03:20,  5.55s/it]"
          ]
        },
        {
          "output_type": "stream",
          "name": "stdout",
          "text": [
            "06-20 09:19:08 [56] Lr: 0.000187, Training: 63.16%,  Loss: 2.49933, ACC: 52.48% \r\n"
          ]
        },
        {
          "output_type": "stream",
          "name": "stderr",
          "text": [
            "\r37it [03:26,  5.55s/it]"
          ]
        },
        {
          "output_type": "stream",
          "name": "stdout",
          "text": [
            "06-20 09:19:14 [56] Lr: 0.000187, Training: 64.91%,  Loss: 2.49464, ACC: 52.61% \r\n"
          ]
        },
        {
          "output_type": "stream",
          "name": "stderr",
          "text": [
            "\r38it [03:31,  5.55s/it]"
          ]
        },
        {
          "output_type": "stream",
          "name": "stdout",
          "text": [
            "06-20 09:19:19 [56] Lr: 0.000187, Training: 66.67%,  Loss: 2.49330, ACC: 52.56% \r\n"
          ]
        },
        {
          "output_type": "stream",
          "name": "stderr",
          "text": [
            "\r39it [03:37,  5.55s/it]"
          ]
        },
        {
          "output_type": "stream",
          "name": "stdout",
          "text": [
            "06-20 09:19:25 [56] Lr: 0.000187, Training: 68.42%,  Loss: 2.49261, ACC: 52.63% \r\n"
          ]
        },
        {
          "output_type": "stream",
          "name": "stderr",
          "text": [
            "\r40it [03:43,  5.54s/it]"
          ]
        },
        {
          "output_type": "stream",
          "name": "stdout",
          "text": [
            "06-20 09:19:30 [56] Lr: 0.000187, Training: 70.18%,  Loss: 2.49408, ACC: 52.72% \r\n"
          ]
        },
        {
          "output_type": "stream",
          "name": "stderr",
          "text": [
            "\r41it [03:48,  5.54s/it]"
          ]
        },
        {
          "output_type": "stream",
          "name": "stdout",
          "text": [
            "06-20 09:19:36 [56] Lr: 0.000187, Training: 71.93%,  Loss: 2.49498, ACC: 52.62% \r\n"
          ]
        },
        {
          "output_type": "stream",
          "name": "stderr",
          "text": [
            "\r42it [03:54,  5.55s/it]"
          ]
        },
        {
          "output_type": "stream",
          "name": "stdout",
          "text": [
            "06-20 09:19:41 [56] Lr: 0.000187, Training: 73.68%,  Loss: 2.48489, ACC: 52.79% \r\n"
          ]
        },
        {
          "output_type": "stream",
          "name": "stderr",
          "text": [
            "\r43it [03:59,  5.55s/it]"
          ]
        },
        {
          "output_type": "stream",
          "name": "stdout",
          "text": [
            "06-20 09:19:47 [56] Lr: 0.000187, Training: 75.44%,  Loss: 2.49269, ACC: 52.71% \r\n"
          ]
        },
        {
          "output_type": "stream",
          "name": "stderr",
          "text": [
            "\r44it [04:05,  5.54s/it]"
          ]
        },
        {
          "output_type": "stream",
          "name": "stdout",
          "text": [
            "06-20 09:19:52 [56] Lr: 0.000187, Training: 77.19%,  Loss: 2.48870, ACC: 52.89% \r\n"
          ]
        },
        {
          "output_type": "stream",
          "name": "stderr",
          "text": [
            "\r45it [04:10,  5.56s/it]"
          ]
        },
        {
          "output_type": "stream",
          "name": "stdout",
          "text": [
            "06-20 09:19:58 [56] Lr: 0.000187, Training: 78.95%,  Loss: 2.48692, ACC: 52.93% \r\n"
          ]
        },
        {
          "output_type": "stream",
          "name": "stderr",
          "text": [
            "\r46it [04:16,  5.55s/it]"
          ]
        },
        {
          "output_type": "stream",
          "name": "stdout",
          "text": [
            "06-20 09:20:04 [56] Lr: 0.000187, Training: 80.70%,  Loss: 2.48840, ACC: 52.96% \r\n"
          ]
        },
        {
          "output_type": "stream",
          "name": "stderr",
          "text": [
            "\r47it [04:21,  5.55s/it]"
          ]
        },
        {
          "output_type": "stream",
          "name": "stdout",
          "text": [
            "06-20 09:20:09 [56] Lr: 0.000187, Training: 82.46%,  Loss: 2.48730, ACC: 53.01% \r\n"
          ]
        },
        {
          "output_type": "stream",
          "name": "stderr",
          "text": [
            "\r48it [04:27,  5.55s/it]"
          ]
        },
        {
          "output_type": "stream",
          "name": "stdout",
          "text": [
            "06-20 09:20:15 [56] Lr: 0.000187, Training: 84.21%,  Loss: 2.47446, ACC: 53.18% \r\n"
          ]
        },
        {
          "output_type": "stream",
          "name": "stderr",
          "text": [
            "\r49it [04:32,  5.54s/it]"
          ]
        },
        {
          "output_type": "stream",
          "name": "stdout",
          "text": [
            "06-20 09:20:20 [56] Lr: 0.000187, Training: 85.96%,  Loss: 2.47006, ACC: 53.22% \r\n"
          ]
        },
        {
          "output_type": "stream",
          "name": "stderr",
          "text": [
            "\r50it [04:38,  5.54s/it]"
          ]
        },
        {
          "output_type": "stream",
          "name": "stdout",
          "text": [
            "06-20 09:20:26 [56] Lr: 0.000187, Training: 87.72%,  Loss: 2.47157, ACC: 53.17% \r\n"
          ]
        },
        {
          "output_type": "stream",
          "name": "stderr",
          "text": [
            "\r51it [04:44,  5.55s/it]"
          ]
        },
        {
          "output_type": "stream",
          "name": "stdout",
          "text": [
            "06-20 09:20:31 [56] Lr: 0.000187, Training: 89.47%,  Loss: 2.46949, ACC: 53.23% \r\n"
          ]
        },
        {
          "output_type": "stream",
          "name": "stderr",
          "text": [
            "\r52it [04:49,  5.54s/it]"
          ]
        },
        {
          "output_type": "stream",
          "name": "stdout",
          "text": [
            "06-20 09:20:37 [56] Lr: 0.000187, Training: 91.23%,  Loss: 2.47089, ACC: 53.18% \r\n"
          ]
        },
        {
          "output_type": "stream",
          "name": "stderr",
          "text": [
            "\r53it [04:55,  5.54s/it]"
          ]
        },
        {
          "output_type": "stream",
          "name": "stdout",
          "text": [
            "06-20 09:20:42 [56] Lr: 0.000187, Training: 92.98%,  Loss: 2.47171, ACC: 53.21% \r\n"
          ]
        },
        {
          "output_type": "stream",
          "name": "stderr",
          "text": [
            "\r54it [05:00,  5.54s/it]"
          ]
        },
        {
          "output_type": "stream",
          "name": "stdout",
          "text": [
            "06-20 09:20:48 [56] Lr: 0.000187, Training: 94.74%,  Loss: 2.46788, ACC: 53.32% \r\n"
          ]
        },
        {
          "output_type": "stream",
          "name": "stderr",
          "text": [
            "\r55it [05:06,  5.53s/it]"
          ]
        },
        {
          "output_type": "stream",
          "name": "stdout",
          "text": [
            "06-20 09:20:53 [56] Lr: 0.000187, Training: 96.49%,  Loss: 2.46969, ACC: 53.31% \r\n"
          ]
        },
        {
          "output_type": "stream",
          "name": "stderr",
          "text": [
            "\r56it [05:11,  5.53s/it]"
          ]
        },
        {
          "output_type": "stream",
          "name": "stdout",
          "text": [
            "06-20 09:20:59 [56] Lr: 0.000187, Training: 98.25%,  Loss: 2.47399, ACC: 53.27% \r\n"
          ]
        },
        {
          "output_type": "stream",
          "name": "stderr",
          "text": [
            "57it [05:15,  5.54s/it]"
          ]
        },
        {
          "output_type": "stream",
          "name": "stdout",
          "text": [
            "06-20 09:21:03 [56] Lr: 0.000187, Training: 100.00%,  Loss: 2.47831, ACC: 38.84% \r\n",
            "\n",
            "\n"
          ]
        },
        {
          "output_type": "stream",
          "name": "stderr",
          "text": [
            "\n",
            "  0%|          | 0/973 [00:00<?, ?it/s]<ipython-input-15-b61162519fae>:62: DeprecationWarning: `np.float` is a deprecated alias for the builtin `float`. To silence this warning, use `float` by itself. Doing this will not modify any behavior and is safe. If you specifically wanted the numpy scalar type, use `np.float64` here.\n",
            "Deprecated in NumPy 1.20; for more details and guidance: https://numpy.org/devdocs/release/1.20.0-notes.html#deprecations\n",
            "  feats = numpy.stack(feats, axis = 0).astype(numpy.float)\n",
            "100%|██████████| 973/973 [04:37<00:00,  3.51it/s]\n"
          ]
        },
        {
          "output_type": "stream",
          "name": "stdout",
          "text": [
            "2023-06-20 09:25:50 56 epoch, ACC 38.84%, EER 6.18%, bestEER 6.17%\n",
            "Epoch: 57\n"
          ]
        },
        {
          "output_type": "stream",
          "name": "stderr",
          "text": [
            "/usr/local/lib/python3.10/dist-packages/torch/optim/lr_scheduler.py:152: UserWarning: The epoch parameter in `scheduler.step()` was not necessary and is being deprecated where possible. Please use `scheduler.step()` to step the scheduler. During the deprecation, if epoch is different from None, the closed form is used instead of the new chainable form, where available. Please open an issue if you are unable to replicate your use case: https://github.com/pytorch/pytorch/issues/new/choose.\n",
            "  warnings.warn(EPOCH_DEPRECATION_WARNING, UserWarning)\n",
            "0it [00:00, ?it/s]/usr/local/lib/python3.10/dist-packages/torch/nn/functional.py:4999: UserWarning: Support for mismatched key_padding_mask and attn_mask is deprecated. Use same type for both instead.\n",
            "  warnings.warn(\n",
            "1it [00:06,  6.14s/it]"
          ]
        },
        {
          "output_type": "stream",
          "name": "stdout",
          "text": [
            "06-20 09:25:56 [57] Lr: 0.000182, Training: 1.75%,  Loss: 2.34157, ACC: 57.33% \r\n"
          ]
        },
        {
          "output_type": "stream",
          "name": "stderr",
          "text": [
            "\r2it [00:11,  5.75s/it]"
          ]
        },
        {
          "output_type": "stream",
          "name": "stdout",
          "text": [
            "06-20 09:26:01 [57] Lr: 0.000182, Training: 3.51%,  Loss: 2.22081, ACC: 58.67% \r\n"
          ]
        },
        {
          "output_type": "stream",
          "name": "stderr",
          "text": [
            "\r3it [00:17,  5.63s/it]"
          ]
        },
        {
          "output_type": "stream",
          "name": "stdout",
          "text": [
            "06-20 09:26:07 [57] Lr: 0.000182, Training: 5.26%,  Loss: 2.11757, ACC: 59.78% \r\n"
          ]
        },
        {
          "output_type": "stream",
          "name": "stderr",
          "text": [
            "\r4it [00:22,  5.58s/it]"
          ]
        },
        {
          "output_type": "stream",
          "name": "stdout",
          "text": [
            "06-20 09:26:12 [57] Lr: 0.000182, Training: 7.02%,  Loss: 2.24708, ACC: 57.17% \r\n"
          ]
        },
        {
          "output_type": "stream",
          "name": "stderr",
          "text": [
            "\r5it [00:28,  5.55s/it]"
          ]
        },
        {
          "output_type": "stream",
          "name": "stdout",
          "text": [
            "06-20 09:26:18 [57] Lr: 0.000182, Training: 8.77%,  Loss: 2.32027, ACC: 56.67% \r\n"
          ]
        },
        {
          "output_type": "stream",
          "name": "stderr",
          "text": [
            "\r6it [00:33,  5.53s/it]"
          ]
        },
        {
          "output_type": "stream",
          "name": "stdout",
          "text": [
            "06-20 09:26:23 [57] Lr: 0.000182, Training: 10.53%,  Loss: 2.40893, ACC: 54.89% \r\n"
          ]
        },
        {
          "output_type": "stream",
          "name": "stderr",
          "text": [
            "\r7it [00:39,  5.53s/it]"
          ]
        },
        {
          "output_type": "stream",
          "name": "stdout",
          "text": [
            "06-20 09:26:29 [57] Lr: 0.000182, Training: 12.28%,  Loss: 2.41030, ACC: 54.57% \r\n"
          ]
        },
        {
          "output_type": "stream",
          "name": "stderr",
          "text": [
            "\r8it [00:44,  5.54s/it]"
          ]
        },
        {
          "output_type": "stream",
          "name": "stdout",
          "text": [
            "06-20 09:26:34 [57] Lr: 0.000182, Training: 14.04%,  Loss: 2.43787, ACC: 54.25% \r\n"
          ]
        },
        {
          "output_type": "stream",
          "name": "stderr",
          "text": [
            "\r9it [00:50,  5.55s/it]"
          ]
        },
        {
          "output_type": "stream",
          "name": "stdout",
          "text": [
            "06-20 09:26:40 [57] Lr: 0.000182, Training: 15.79%,  Loss: 2.43990, ACC: 53.78% \r\n"
          ]
        },
        {
          "output_type": "stream",
          "name": "stderr",
          "text": [
            "\r10it [00:55,  5.55s/it]"
          ]
        },
        {
          "output_type": "stream",
          "name": "stdout",
          "text": [
            "06-20 09:26:46 [57] Lr: 0.000182, Training: 17.54%,  Loss: 2.42948, ACC: 53.87% \r\n"
          ]
        },
        {
          "output_type": "stream",
          "name": "stderr",
          "text": [
            "\r11it [01:01,  5.55s/it]"
          ]
        },
        {
          "output_type": "stream",
          "name": "stdout",
          "text": [
            "06-20 09:26:51 [57] Lr: 0.000182, Training: 19.30%,  Loss: 2.42015, ACC: 54.30% \r\n"
          ]
        },
        {
          "output_type": "stream",
          "name": "stderr",
          "text": [
            "\r12it [01:06,  5.56s/it]"
          ]
        },
        {
          "output_type": "stream",
          "name": "stdout",
          "text": [
            "06-20 09:26:57 [57] Lr: 0.000182, Training: 21.05%,  Loss: 2.40213, ACC: 54.22% \r\n"
          ]
        },
        {
          "output_type": "stream",
          "name": "stderr",
          "text": [
            "\r13it [01:12,  5.56s/it]"
          ]
        },
        {
          "output_type": "stream",
          "name": "stdout",
          "text": [
            "06-20 09:27:02 [57] Lr: 0.000182, Training: 22.81%,  Loss: 2.43398, ACC: 53.69% \r\n"
          ]
        },
        {
          "output_type": "stream",
          "name": "stderr",
          "text": [
            "\r14it [01:18,  5.57s/it]"
          ]
        },
        {
          "output_type": "stream",
          "name": "stdout",
          "text": [
            "06-20 09:27:08 [57] Lr: 0.000182, Training: 24.56%,  Loss: 2.43328, ACC: 53.90% \r\n"
          ]
        },
        {
          "output_type": "stream",
          "name": "stderr",
          "text": [
            "\r15it [01:23,  5.57s/it]"
          ]
        },
        {
          "output_type": "stream",
          "name": "stdout",
          "text": [
            "06-20 09:27:13 [57] Lr: 0.000182, Training: 26.32%,  Loss: 2.43811, ACC: 54.09% \r\n"
          ]
        },
        {
          "output_type": "stream",
          "name": "stderr",
          "text": [
            "\r16it [01:29,  5.57s/it]"
          ]
        },
        {
          "output_type": "stream",
          "name": "stdout",
          "text": [
            "06-20 09:27:19 [57] Lr: 0.000182, Training: 28.07%,  Loss: 2.42589, ACC: 54.17% \r\n"
          ]
        },
        {
          "output_type": "stream",
          "name": "stderr",
          "text": [
            "\r17it [01:34,  5.57s/it]"
          ]
        },
        {
          "output_type": "stream",
          "name": "stdout",
          "text": [
            "06-20 09:27:25 [57] Lr: 0.000182, Training: 29.82%,  Loss: 2.42947, ACC: 54.16% \r\n"
          ]
        },
        {
          "output_type": "stream",
          "name": "stderr",
          "text": [
            "\r18it [01:40,  5.57s/it]"
          ]
        },
        {
          "output_type": "stream",
          "name": "stdout",
          "text": [
            "06-20 09:27:30 [57] Lr: 0.000182, Training: 31.58%,  Loss: 2.42747, ACC: 54.04% \r\n"
          ]
        },
        {
          "output_type": "stream",
          "name": "stderr",
          "text": [
            "\r19it [01:45,  5.57s/it]"
          ]
        },
        {
          "output_type": "stream",
          "name": "stdout",
          "text": [
            "06-20 09:27:36 [57] Lr: 0.000182, Training: 33.33%,  Loss: 2.42227, ACC: 54.25% \r\n"
          ]
        },
        {
          "output_type": "stream",
          "name": "stderr",
          "text": [
            "\r20it [01:51,  5.56s/it]"
          ]
        },
        {
          "output_type": "stream",
          "name": "stdout",
          "text": [
            "06-20 09:27:41 [57] Lr: 0.000182, Training: 35.09%,  Loss: 2.41775, ACC: 54.27% \r\n"
          ]
        },
        {
          "output_type": "stream",
          "name": "stderr",
          "text": [
            "\r21it [01:57,  5.58s/it]"
          ]
        },
        {
          "output_type": "stream",
          "name": "stdout",
          "text": [
            "06-20 09:27:47 [57] Lr: 0.000182, Training: 36.84%,  Loss: 2.42240, ACC: 54.29% \r\n"
          ]
        },
        {
          "output_type": "stream",
          "name": "stderr",
          "text": [
            "\r22it [02:02,  5.57s/it]"
          ]
        },
        {
          "output_type": "stream",
          "name": "stdout",
          "text": [
            "06-20 09:27:52 [57] Lr: 0.000182, Training: 38.60%,  Loss: 2.42379, ACC: 54.27% \r\n"
          ]
        },
        {
          "output_type": "stream",
          "name": "stderr",
          "text": [
            "\r23it [02:08,  5.56s/it]"
          ]
        },
        {
          "output_type": "stream",
          "name": "stdout",
          "text": [
            "06-20 09:27:58 [57] Lr: 0.000182, Training: 40.35%,  Loss: 2.43977, ACC: 53.97% \r\n"
          ]
        },
        {
          "output_type": "stream",
          "name": "stderr",
          "text": [
            "\r24it [02:13,  5.56s/it]"
          ]
        },
        {
          "output_type": "stream",
          "name": "stdout",
          "text": [
            "06-20 09:28:04 [57] Lr: 0.000182, Training: 42.11%,  Loss: 2.43695, ACC: 53.89% \r\n"
          ]
        },
        {
          "output_type": "stream",
          "name": "stderr",
          "text": [
            "\r25it [02:19,  5.55s/it]"
          ]
        },
        {
          "output_type": "stream",
          "name": "stdout",
          "text": [
            "06-20 09:28:09 [57] Lr: 0.000182, Training: 43.86%,  Loss: 2.44130, ACC: 53.87% \r\n"
          ]
        },
        {
          "output_type": "stream",
          "name": "stderr",
          "text": [
            "\r26it [02:24,  5.55s/it]"
          ]
        },
        {
          "output_type": "stream",
          "name": "stdout",
          "text": [
            "06-20 09:28:15 [57] Lr: 0.000182, Training: 45.61%,  Loss: 2.45293, ACC: 53.74% \r\n"
          ]
        },
        {
          "output_type": "stream",
          "name": "stderr",
          "text": [
            "\r27it [02:30,  5.55s/it]"
          ]
        },
        {
          "output_type": "stream",
          "name": "stdout",
          "text": [
            "06-20 09:28:20 [57] Lr: 0.000182, Training: 47.37%,  Loss: 2.45406, ACC: 53.75% \r\n"
          ]
        },
        {
          "output_type": "stream",
          "name": "stderr",
          "text": [
            "\r28it [02:35,  5.55s/it]"
          ]
        },
        {
          "output_type": "stream",
          "name": "stdout",
          "text": [
            "06-20 09:28:26 [57] Lr: 0.000182, Training: 49.12%,  Loss: 2.45469, ACC: 53.64% \r\n"
          ]
        },
        {
          "output_type": "stream",
          "name": "stderr",
          "text": [
            "\r29it [02:41,  5.55s/it]"
          ]
        },
        {
          "output_type": "stream",
          "name": "stdout",
          "text": [
            "06-20 09:28:31 [57] Lr: 0.000182, Training: 50.88%,  Loss: 2.44878, ACC: 53.77% \r\n"
          ]
        },
        {
          "output_type": "stream",
          "name": "stderr",
          "text": [
            "\r30it [02:47,  5.55s/it]"
          ]
        },
        {
          "output_type": "stream",
          "name": "stdout",
          "text": [
            "06-20 09:28:37 [57] Lr: 0.000182, Training: 52.63%,  Loss: 2.44250, ACC: 53.98% \r\n"
          ]
        },
        {
          "output_type": "stream",
          "name": "stderr",
          "text": [
            "\r31it [02:52,  5.55s/it]"
          ]
        },
        {
          "output_type": "stream",
          "name": "stdout",
          "text": [
            "06-20 09:28:42 [57] Lr: 0.000182, Training: 54.39%,  Loss: 2.45260, ACC: 53.96% \r\n"
          ]
        },
        {
          "output_type": "stream",
          "name": "stderr",
          "text": [
            "\r32it [02:58,  5.55s/it]"
          ]
        },
        {
          "output_type": "stream",
          "name": "stdout",
          "text": [
            "06-20 09:28:48 [57] Lr: 0.000182, Training: 56.14%,  Loss: 2.43769, ACC: 54.17% \r\n"
          ]
        },
        {
          "output_type": "stream",
          "name": "stderr",
          "text": [
            "\r33it [03:03,  5.57s/it]"
          ]
        },
        {
          "output_type": "stream",
          "name": "stdout",
          "text": [
            "06-20 09:28:54 [57] Lr: 0.000182, Training: 57.89%,  Loss: 2.43197, ACC: 54.30% \r\n"
          ]
        },
        {
          "output_type": "stream",
          "name": "stderr",
          "text": [
            "\r34it [03:09,  5.56s/it]"
          ]
        },
        {
          "output_type": "stream",
          "name": "stdout",
          "text": [
            "06-20 09:28:59 [57] Lr: 0.000182, Training: 59.65%,  Loss: 2.42850, ACC: 54.25% \r\n"
          ]
        },
        {
          "output_type": "stream",
          "name": "stderr",
          "text": [
            "\r35it [03:14,  5.56s/it]"
          ]
        },
        {
          "output_type": "stream",
          "name": "stdout",
          "text": [
            "06-20 09:29:05 [57] Lr: 0.000182, Training: 61.40%,  Loss: 2.43765, ACC: 54.11% \r\n"
          ]
        },
        {
          "output_type": "stream",
          "name": "stderr",
          "text": [
            "\r36it [03:20,  5.56s/it]"
          ]
        },
        {
          "output_type": "stream",
          "name": "stdout",
          "text": [
            "06-20 09:29:10 [57] Lr: 0.000182, Training: 63.16%,  Loss: 2.44681, ACC: 53.89% \r\n"
          ]
        },
        {
          "output_type": "stream",
          "name": "stderr",
          "text": [
            "\r37it [03:25,  5.56s/it]"
          ]
        },
        {
          "output_type": "stream",
          "name": "stdout",
          "text": [
            "06-20 09:29:16 [57] Lr: 0.000182, Training: 64.91%,  Loss: 2.44594, ACC: 53.89% \r\n"
          ]
        },
        {
          "output_type": "stream",
          "name": "stderr",
          "text": [
            "\r38it [03:31,  5.57s/it]"
          ]
        },
        {
          "output_type": "stream",
          "name": "stdout",
          "text": [
            "06-20 09:29:21 [57] Lr: 0.000182, Training: 66.67%,  Loss: 2.45146, ACC: 53.74% \r\n"
          ]
        },
        {
          "output_type": "stream",
          "name": "stderr",
          "text": [
            "\r39it [03:37,  5.57s/it]"
          ]
        },
        {
          "output_type": "stream",
          "name": "stdout",
          "text": [
            "06-20 09:29:27 [57] Lr: 0.000182, Training: 68.42%,  Loss: 2.46006, ACC: 53.56% \r\n"
          ]
        },
        {
          "output_type": "stream",
          "name": "stderr",
          "text": [
            "\r40it [03:42,  5.56s/it]"
          ]
        },
        {
          "output_type": "stream",
          "name": "stdout",
          "text": [
            "06-20 09:29:32 [57] Lr: 0.000182, Training: 70.18%,  Loss: 2.47125, ACC: 53.42% \r\n"
          ]
        },
        {
          "output_type": "stream",
          "name": "stderr",
          "text": [
            "\r41it [03:48,  5.57s/it]"
          ]
        },
        {
          "output_type": "stream",
          "name": "stdout",
          "text": [
            "06-20 09:29:38 [57] Lr: 0.000182, Training: 71.93%,  Loss: 2.47544, ACC: 53.32% \r\n"
          ]
        },
        {
          "output_type": "stream",
          "name": "stderr",
          "text": [
            "\r42it [03:53,  5.56s/it]"
          ]
        },
        {
          "output_type": "stream",
          "name": "stdout",
          "text": [
            "06-20 09:29:44 [57] Lr: 0.000182, Training: 73.68%,  Loss: 2.47646, ACC: 53.29% \r\n"
          ]
        },
        {
          "output_type": "stream",
          "name": "stderr",
          "text": [
            "\r43it [03:59,  5.56s/it]"
          ]
        },
        {
          "output_type": "stream",
          "name": "stdout",
          "text": [
            "06-20 09:29:49 [57] Lr: 0.000182, Training: 75.44%,  Loss: 2.47684, ACC: 53.24% \r\n"
          ]
        },
        {
          "output_type": "stream",
          "name": "stderr",
          "text": [
            "\r44it [04:04,  5.56s/it]"
          ]
        },
        {
          "output_type": "stream",
          "name": "stdout",
          "text": [
            "06-20 09:29:55 [57] Lr: 0.000182, Training: 77.19%,  Loss: 2.48046, ACC: 53.21% \r\n"
          ]
        },
        {
          "output_type": "stream",
          "name": "stderr",
          "text": [
            "\r45it [04:10,  5.55s/it]"
          ]
        },
        {
          "output_type": "stream",
          "name": "stdout",
          "text": [
            "06-20 09:30:00 [57] Lr: 0.000182, Training: 78.95%,  Loss: 2.48287, ACC: 53.23% \r\n"
          ]
        },
        {
          "output_type": "stream",
          "name": "stderr",
          "text": [
            "\r46it [04:16,  5.55s/it]"
          ]
        },
        {
          "output_type": "stream",
          "name": "stdout",
          "text": [
            "06-20 09:30:06 [57] Lr: 0.000182, Training: 80.70%,  Loss: 2.47847, ACC: 53.29% \r\n"
          ]
        },
        {
          "output_type": "stream",
          "name": "stderr",
          "text": [
            "\r47it [04:21,  5.56s/it]"
          ]
        },
        {
          "output_type": "stream",
          "name": "stdout",
          "text": [
            "06-20 09:30:11 [57] Lr: 0.000182, Training: 82.46%,  Loss: 2.48378, ACC: 53.16% \r\n"
          ]
        },
        {
          "output_type": "stream",
          "name": "stderr",
          "text": [
            "\r48it [04:27,  5.56s/it]"
          ]
        },
        {
          "output_type": "stream",
          "name": "stdout",
          "text": [
            "06-20 09:30:17 [57] Lr: 0.000182, Training: 84.21%,  Loss: 2.47676, ACC: 53.28% \r\n"
          ]
        },
        {
          "output_type": "stream",
          "name": "stderr",
          "text": [
            "\r49it [04:32,  5.55s/it]"
          ]
        },
        {
          "output_type": "stream",
          "name": "stdout",
          "text": [
            "06-20 09:30:22 [57] Lr: 0.000182, Training: 85.96%,  Loss: 2.47617, ACC: 53.20% \r\n"
          ]
        },
        {
          "output_type": "stream",
          "name": "stderr",
          "text": [
            "\r50it [04:38,  5.55s/it]"
          ]
        },
        {
          "output_type": "stream",
          "name": "stdout",
          "text": [
            "06-20 09:30:28 [57] Lr: 0.000182, Training: 87.72%,  Loss: 2.47752, ACC: 53.21% \r\n"
          ]
        },
        {
          "output_type": "stream",
          "name": "stderr",
          "text": [
            "\r51it [04:43,  5.55s/it]"
          ]
        },
        {
          "output_type": "stream",
          "name": "stdout",
          "text": [
            "06-20 09:30:34 [57] Lr: 0.000182, Training: 89.47%,  Loss: 2.46838, ACC: 53.41% \r\n"
          ]
        },
        {
          "output_type": "stream",
          "name": "stderr",
          "text": [
            "\r52it [04:49,  5.55s/it]"
          ]
        },
        {
          "output_type": "stream",
          "name": "stdout",
          "text": [
            "06-20 09:30:39 [57] Lr: 0.000182, Training: 91.23%,  Loss: 2.47124, ACC: 53.35% \r\n"
          ]
        },
        {
          "output_type": "stream",
          "name": "stderr",
          "text": [
            "\r53it [04:54,  5.55s/it]"
          ]
        },
        {
          "output_type": "stream",
          "name": "stdout",
          "text": [
            "06-20 09:30:45 [57] Lr: 0.000182, Training: 92.98%,  Loss: 2.47963, ACC: 53.21% \r\n"
          ]
        },
        {
          "output_type": "stream",
          "name": "stderr",
          "text": [
            "\r54it [05:00,  5.55s/it]"
          ]
        },
        {
          "output_type": "stream",
          "name": "stdout",
          "text": [
            "06-20 09:30:50 [57] Lr: 0.000182, Training: 94.74%,  Loss: 2.48041, ACC: 53.16% \r\n"
          ]
        },
        {
          "output_type": "stream",
          "name": "stderr",
          "text": [
            "\r55it [05:05,  5.55s/it]"
          ]
        },
        {
          "output_type": "stream",
          "name": "stdout",
          "text": [
            "06-20 09:30:56 [57] Lr: 0.000182, Training: 96.49%,  Loss: 2.47715, ACC: 53.26% \r\n"
          ]
        },
        {
          "output_type": "stream",
          "name": "stderr",
          "text": [
            "\r56it [05:11,  5.55s/it]"
          ]
        },
        {
          "output_type": "stream",
          "name": "stdout",
          "text": [
            "06-20 09:31:01 [57] Lr: 0.000182, Training: 98.25%,  Loss: 2.47807, ACC: 53.27% \r\n"
          ]
        },
        {
          "output_type": "stream",
          "name": "stderr",
          "text": [
            "57it [05:15,  5.54s/it]"
          ]
        },
        {
          "output_type": "stream",
          "name": "stdout",
          "text": [
            "06-20 09:31:05 [57] Lr: 0.000182, Training: 100.00%,  Loss: 2.46995, ACC: 38.95% \r\n",
            "\n",
            "\n"
          ]
        },
        {
          "output_type": "stream",
          "name": "stderr",
          "text": [
            "\n",
            "  0%|          | 0/973 [00:00<?, ?it/s]<ipython-input-15-b61162519fae>:62: DeprecationWarning: `np.float` is a deprecated alias for the builtin `float`. To silence this warning, use `float` by itself. Doing this will not modify any behavior and is safe. If you specifically wanted the numpy scalar type, use `np.float64` here.\n",
            "Deprecated in NumPy 1.20; for more details and guidance: https://numpy.org/devdocs/release/1.20.0-notes.html#deprecations\n",
            "  feats = numpy.stack(feats, axis = 0).astype(numpy.float)\n",
            " 60%|██████    | 585/973 [04:21<02:41,  2.40it/s]"
          ]
        }
      ]
    },
    {
      "cell_type": "code",
      "source": [],
      "metadata": {
        "id": "-xbj1ELnMFul"
      },
      "execution_count": null,
      "outputs": []
    },
    {
      "cell_type": "markdown",
      "source": [
        "# testing"
      ],
      "metadata": {
        "id": "sRgD8Js-J82E"
      }
    },
    {
      "cell_type": "code",
      "source": [
        "test_model = ECAPAModel(lr, lr_decay, C , n_class, m, s, test_step)"
      ],
      "metadata": {
        "id": "4DDqNY3XMFpu",
        "colab": {
          "base_uri": "https://localhost:8080/"
        },
        "outputId": "f6b5f692-41d4-4543-d5ff-ff978984ef48"
      },
      "execution_count": null,
      "outputs": [
        {
          "output_type": "stream",
          "name": "stderr",
          "text": [
            "/usr/local/lib/python3.10/dist-packages/torch/hub.py:286: UserWarning: You are about to download and run code from an untrusted repository. In a future release, this won't be allowed. To add the repository to your trusted list, change the command to {calling_fn}(..., trust_repo=False) and a command prompt will appear asking for an explicit confirmation of trust, or load(..., trust_repo=True), which will assume that the prompt is to be answered with 'yes'. You can also use load(..., trust_repo='check') which will only prompt for confirmation if the repo is not already trusted. This will eventually be the default behaviour\n",
            "  warnings.warn(\n",
            "Downloading: \"https://github.com/s3prl/s3prl/zipball/main\" to /root/.cache/torch/hub/main.zip\n",
            "Downloading: https://huggingface.co/s3prl/converted_ckpts/resolve/main/wavlm_large.pt\n",
            "Destination: /root/.cache/s3prl/download/f2d5200177fd6a33b278b7b76b454f25cd8ee866d55c122e69fccf6c7467d37d.wavlm_large.pt\n",
            "100%|██████████| 1.18G/1.18G [00:14<00:00, 84.4MB/s]\n",
            "/usr/local/lib/python3.10/dist-packages/torch/nn/functional.py:4999: UserWarning: Support for mismatched key_padding_mask and attn_mask is deprecated. Use same type for both instead.\n",
            "  warnings.warn(\n"
          ]
        },
        {
          "output_type": "stream",
          "name": "stdout",
          "text": [
            "06-21 10:39:40 Model para number = 323929753.00\n"
          ]
        }
      ]
    },
    {
      "cell_type": "code",
      "source": [
        "test_model.load_parameters(\"/content/gdrive/MyDrive/KLTN/source/wavlm_large/1dense/model_0050.model\")"
      ],
      "metadata": {
        "id": "NyRR7J93MFnP"
      },
      "execution_count": null,
      "outputs": []
    },
    {
      "cell_type": "code",
      "source": [
        "test_model.eval_network(eval_list, eval_path)"
      ],
      "metadata": {
        "id": "d1hfU6PTFlCm",
        "colab": {
          "base_uri": "https://localhost:8080/"
        },
        "outputId": "b7769487-1df7-4e14-ab77-83057e83eda0"
      },
      "execution_count": null,
      "outputs": [
        {
          "output_type": "stream",
          "name": "stderr",
          "text": [
            "\r  0%|          | 0/973 [00:00<?, ?it/s]<ipython-input-15-b61162519fae>:62: DeprecationWarning: `np.float` is a deprecated alias for the builtin `float`. To silence this warning, use `float` by itself. Doing this will not modify any behavior and is safe. If you specifically wanted the numpy scalar type, use `np.float64` here.\n",
            "Deprecated in NumPy 1.20; for more details and guidance: https://numpy.org/devdocs/release/1.20.0-notes.html#deprecations\n",
            "  feats = numpy.stack(feats, axis = 0).astype(numpy.float)\n",
            "100%|██████████| 973/973 [06:26<00:00,  2.52it/s]\n"
          ]
        },
        {
          "output_type": "execute_result",
          "data": {
            "text/plain": [
              "(6.17, 0.34749999999999964)"
            ]
          },
          "metadata": {},
          "execution_count": 18
        }
      ]
    },
    {
      "cell_type": "markdown",
      "source": [
        "---"
      ],
      "metadata": {
        "id": "-W0oWdc6K5Ip"
      }
    },
    {
      "cell_type": "markdown",
      "source": [
        "# info"
      ],
      "metadata": {
        "id": "iyyqtbJkP58K"
      }
    },
    {
      "cell_type": "code",
      "source": [
        "!pip install torchinfo -q\n",
        "from torchinfo import summary"
      ],
      "metadata": {
        "id": "rseCuaZQLf6D"
      },
      "execution_count": null,
      "outputs": []
    },
    {
      "cell_type": "code",
      "source": [
        "summary(model.speaker_encoder, input_size=(1, 48000)) # component"
      ],
      "metadata": {
        "colab": {
          "base_uri": "https://localhost:8080/"
        },
        "id": "15f0FpKlE7kF",
        "outputId": "aa602a7f-3a6a-4816-cd5b-9df2f1fc29f5"
      },
      "execution_count": null,
      "outputs": [
        {
          "output_type": "execute_result",
          "data": {
            "text/plain": [
              "===================================================================================================================\n",
              "Layer (type:depth-idx)                                            Output Shape              Param #\n",
              "===================================================================================================================\n",
              "ECAPA_TDNN                                                        [1, 256]                  25\n",
              "├─UpstreamExpert: 1-1                                             --                        --\n",
              "│    └─WavLM: 2-1                                                 --                        1,024\n",
              "│    │    └─ConvFeatureExtractionModel: 3-1                       [1, 512, 149]             (4,206,592)\n",
              "│    │    └─LayerNorm: 3-2                                        [1, 149, 512]             (1,024)\n",
              "│    │    └─Linear: 3-3                                           [1, 149, 1024]            (525,312)\n",
              "│    │    └─Dropout: 3-4                                          [1, 149, 1024]            --\n",
              "│    │    └─TransformerEncoder: 3-5                               [1, 149, 1024]            (310,719,168)\n",
              "├─InstanceNorm1d: 1-2                                             [1, 1024, 149]            --\n",
              "├─Conv1dReluBn: 1-3                                               [1, 512, 149]             --\n",
              "│    └─Conv1d: 2-2                                                [1, 512, 149]             (2,621,952)\n",
              "│    └─BatchNorm1d: 2-3                                           [1, 512, 149]             (1,024)\n",
              "├─SE_Res2Block: 1-4                                               [1, 512, 149]             --\n",
              "│    └─Conv1dReluBn: 2-4                                          [1, 512, 149]             --\n",
              "│    │    └─Conv1d: 3-6                                           [1, 512, 149]             (262,656)\n",
              "│    │    └─BatchNorm1d: 3-7                                      [1, 512, 149]             (1,024)\n",
              "│    └─Res2Conv1dReluBn: 2-5                                      [1, 512, 149]             --\n",
              "│    │    └─ModuleList: 3-20                                      --                        (recursive)\n",
              "│    │    └─ModuleList: 3-21                                      --                        (recursive)\n",
              "│    │    └─ModuleList: 3-20                                      --                        (recursive)\n",
              "│    │    └─ModuleList: 3-21                                      --                        (recursive)\n",
              "│    │    └─ModuleList: 3-20                                      --                        (recursive)\n",
              "│    │    └─ModuleList: 3-21                                      --                        (recursive)\n",
              "│    │    └─ModuleList: 3-20                                      --                        (recursive)\n",
              "│    │    └─ModuleList: 3-21                                      --                        (recursive)\n",
              "│    │    └─ModuleList: 3-20                                      --                        (recursive)\n",
              "│    │    └─ModuleList: 3-21                                      --                        (recursive)\n",
              "│    │    └─ModuleList: 3-20                                      --                        (recursive)\n",
              "│    │    └─ModuleList: 3-21                                      --                        (recursive)\n",
              "│    │    └─ModuleList: 3-20                                      --                        (recursive)\n",
              "│    │    └─ModuleList: 3-21                                      --                        (recursive)\n",
              "│    └─Conv1dReluBn: 2-6                                          [1, 512, 149]             --\n",
              "│    │    └─Conv1d: 3-22                                          [1, 512, 149]             (262,656)\n",
              "│    │    └─BatchNorm1d: 3-23                                     [1, 512, 149]             (1,024)\n",
              "│    └─SE_Connect: 2-7                                            [1, 512, 149]             --\n",
              "│    │    └─Linear: 3-24                                          [1, 128]                  (65,664)\n",
              "│    │    └─Linear: 3-25                                          [1, 512]                  (66,048)\n",
              "├─SE_Res2Block: 1-5                                               [1, 512, 149]             --\n",
              "│    └─Conv1dReluBn: 2-8                                          [1, 512, 149]             --\n",
              "│    │    └─Conv1d: 3-26                                          [1, 512, 149]             (262,656)\n",
              "│    │    └─BatchNorm1d: 3-27                                     [1, 512, 149]             (1,024)\n",
              "│    └─Res2Conv1dReluBn: 2-9                                      [1, 512, 149]             --\n",
              "│    │    └─ModuleList: 3-40                                      --                        (recursive)\n",
              "│    │    └─ModuleList: 3-41                                      --                        (recursive)\n",
              "│    │    └─ModuleList: 3-40                                      --                        (recursive)\n",
              "│    │    └─ModuleList: 3-41                                      --                        (recursive)\n",
              "│    │    └─ModuleList: 3-40                                      --                        (recursive)\n",
              "│    │    └─ModuleList: 3-41                                      --                        (recursive)\n",
              "│    │    └─ModuleList: 3-40                                      --                        (recursive)\n",
              "│    │    └─ModuleList: 3-41                                      --                        (recursive)\n",
              "│    │    └─ModuleList: 3-40                                      --                        (recursive)\n",
              "│    │    └─ModuleList: 3-41                                      --                        (recursive)\n",
              "│    │    └─ModuleList: 3-40                                      --                        (recursive)\n",
              "│    │    └─ModuleList: 3-41                                      --                        (recursive)\n",
              "│    │    └─ModuleList: 3-40                                      --                        (recursive)\n",
              "│    │    └─ModuleList: 3-41                                      --                        (recursive)\n",
              "│    └─Conv1dReluBn: 2-10                                         [1, 512, 149]             --\n",
              "│    │    └─Conv1d: 3-42                                          [1, 512, 149]             (262,656)\n",
              "│    │    └─BatchNorm1d: 3-43                                     [1, 512, 149]             (1,024)\n",
              "│    └─SE_Connect: 2-11                                           [1, 512, 149]             --\n",
              "│    │    └─Linear: 3-44                                          [1, 128]                  (65,664)\n",
              "│    │    └─Linear: 3-45                                          [1, 512]                  (66,048)\n",
              "├─SE_Res2Block: 1-6                                               [1, 512, 149]             --\n",
              "│    └─Conv1dReluBn: 2-12                                         [1, 512, 149]             --\n",
              "│    │    └─Conv1d: 3-46                                          [1, 512, 149]             (262,656)\n",
              "│    │    └─BatchNorm1d: 3-47                                     [1, 512, 149]             (1,024)\n",
              "│    └─Res2Conv1dReluBn: 2-13                                     [1, 512, 149]             --\n",
              "│    │    └─ModuleList: 3-60                                      --                        (recursive)\n",
              "│    │    └─ModuleList: 3-61                                      --                        (recursive)\n",
              "│    │    └─ModuleList: 3-60                                      --                        (recursive)\n",
              "│    │    └─ModuleList: 3-61                                      --                        (recursive)\n",
              "│    │    └─ModuleList: 3-60                                      --                        (recursive)\n",
              "│    │    └─ModuleList: 3-61                                      --                        (recursive)\n",
              "│    │    └─ModuleList: 3-60                                      --                        (recursive)\n",
              "│    │    └─ModuleList: 3-61                                      --                        (recursive)\n",
              "│    │    └─ModuleList: 3-60                                      --                        (recursive)\n",
              "│    │    └─ModuleList: 3-61                                      --                        (recursive)\n",
              "│    │    └─ModuleList: 3-60                                      --                        (recursive)\n",
              "│    │    └─ModuleList: 3-61                                      --                        (recursive)\n",
              "│    │    └─ModuleList: 3-60                                      --                        (recursive)\n",
              "│    │    └─ModuleList: 3-61                                      --                        (recursive)\n",
              "│    └─Conv1dReluBn: 2-14                                         [1, 512, 149]             --\n",
              "│    │    └─Conv1d: 3-62                                          [1, 512, 149]             (262,656)\n",
              "│    │    └─BatchNorm1d: 3-63                                     [1, 512, 149]             (1,024)\n",
              "│    └─SE_Connect: 2-15                                           [1, 512, 149]             --\n",
              "│    │    └─Linear: 3-64                                          [1, 128]                  (65,664)\n",
              "│    │    └─Linear: 3-65                                          [1, 512]                  (66,048)\n",
              "├─Conv1d: 1-7                                                     [1, 1536, 149]            (2,360,832)\n",
              "├─AttentiveStatsPool: 1-8                                         [1, 3072]                 --\n",
              "│    └─Conv1d: 2-16                                               [1, 128, 149]             (196,736)\n",
              "│    └─Conv1d: 2-17                                               [1, 1536, 149]            (198,144)\n",
              "├─BatchNorm1d: 1-9                                                [1, 3072]                 (6,144)\n",
              "├─Linear: 1-10                                                    [1, 256]                  (786,688)\n",
              "├─Sequential: 1-11                                                [1, 256]                  --\n",
              "│    └─Linear: 2-18                                               [1, 256]                  65,792\n",
              "===================================================================================================================\n",
              "Total params: 323,929,753\n",
              "Trainable params: 65,792\n",
              "Non-trainable params: 323,863,961\n",
              "Total mult-adds (G): 47.06\n",
              "===================================================================================================================\n",
              "Input size (MB): 0.19\n",
              "Forward/backward pass size (MB): 387.45\n",
              "Params size (MB): 892.67\n",
              "Estimated Total Size (MB): 1280.31\n",
              "==================================================================================================================="
            ]
          },
          "metadata": {},
          "execution_count": 18
        }
      ]
    },
    {
      "cell_type": "markdown",
      "source": [
        "---"
      ],
      "metadata": {
        "id": "Z1sBKVNFnYtN"
      }
    }
  ]
}