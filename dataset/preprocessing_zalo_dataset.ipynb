{
  "nbformat": 4,
  "nbformat_minor": 0,
  "metadata": {
    "colab": {
      "provenance": [],
      "gpuType": "T4"
    },
    "kernelspec": {
      "name": "python3",
      "display_name": "Python 3"
    },
    "language_info": {
      "name": "python"
    },
    "gpuClass": "standard",
    "accelerator": "GPU"
  },
  "cells": [
    {
      "cell_type": "code",
      "execution_count": null,
      "metadata": {
        "colab": {
          "base_uri": "https://localhost:8080/"
        },
        "id": "FDrQmLLmfgWc",
        "outputId": "cde05f1e-d087-4f46-f44e-8d9af54be101"
      },
      "outputs": [
        {
          "output_type": "stream",
          "name": "stdout",
          "text": [
            "Mounted at /content/gdrive\n"
          ]
        }
      ],
      "source": [
        "from google.colab import drive\n",
        "drive.mount('/content/gdrive')"
      ]
    },
    {
      "cell_type": "code",
      "source": [
        "# !cp -r /content/gdrive/MyDrive/KLTN/dataset/zalo_dataset/dataset/* /content/gdrive/MyDrive/KLTN/dataset/zalo_dataset/dataset_fix/"
      ],
      "metadata": {
        "id": "vl0rtvnjfo8g"
      },
      "execution_count": null,
      "outputs": []
    },
    {
      "cell_type": "code",
      "source": [
        "pre_path = '/content/gdrive/MyDrive/KLTN/dataset/zalo_dataset/dataset_fix/test'"
      ],
      "metadata": {
        "id": "uS6VVLi3gQi_"
      },
      "execution_count": null,
      "outputs": []
    },
    {
      "cell_type": "code",
      "source": [
        "with open('/content/gdrive/MyDrive/KLTN/dataset/zalo_dataset/test_list.txt') as f:\n",
        "    lines = f.readlines()\n",
        "    id = []\n",
        "    path = []\n",
        "    for x in lines:\n",
        "        temp = x.split()\n",
        "        id.append(temp[0])\n",
        "        path.append(temp[1])"
      ],
      "metadata": {
        "id": "3DSRxYB5nBbt"
      },
      "execution_count": null,
      "outputs": []
    },
    {
      "cell_type": "code",
      "source": [
        "import librosa\n",
        "import soundfile as sf\n",
        "import os\n",
        "import tqdm"
      ],
      "metadata": {
        "id": "GQ3Qkv5M7F4o"
      },
      "execution_count": null,
      "outputs": []
    },
    {
      "cell_type": "code",
      "source": [
        "for i in range(len(path)):\n",
        "    path[i] = os.path.join(pre_path, path[i])"
      ],
      "metadata": {
        "id": "mx6KpHCp_xXj"
      },
      "execution_count": null,
      "outputs": []
    },
    {
      "cell_type": "markdown",
      "source": [
        "# Check"
      ],
      "metadata": {
        "id": "fKPoUX5XA1QG"
      }
    },
    {
      "cell_type": "code",
      "source": [
        "for i in tqdm.tqdm(range(len(path))):\n",
        "  data, sr = sf.read(path[i])\n",
        "  if sr != 16000:\n",
        "    print(f\"\\nFail: {sr}\")\n",
        "    break\n",
        "  if len(data.shape) > 1:\n",
        "    print(f\"\\nFail: {data.shape}\")\n",
        "    break"
      ],
      "metadata": {
        "colab": {
          "base_uri": "https://localhost:8080/"
        },
        "id": "0FHWp2LAA2cN",
        "outputId": "37be0cb2-6737-4491-ae6c-7975763e98d3"
      },
      "execution_count": null,
      "outputs": [
        {
          "output_type": "stream",
          "name": "stderr",
          "text": [
            "100%|██████████| 1008/1008 [00:02<00:00, 446.08it/s]\n"
          ]
        }
      ]
    },
    {
      "cell_type": "markdown",
      "source": [
        "# Process"
      ],
      "metadata": {
        "id": "5TyCaMzlA5yC"
      }
    },
    {
      "cell_type": "code",
      "source": [
        "for i in tqdm.tqdm(range(len(path))):\n",
        "  y, sr = librosa.load(path[i], sr=16000)\n",
        "  sf.write(path[i], y, sr)"
      ],
      "metadata": {
        "id": "GYpF45NaAA70",
        "colab": {
          "base_uri": "https://localhost:8080/"
        },
        "outputId": "4ee2bbd8-1552-4f04-8453-203999497080"
      },
      "execution_count": null,
      "outputs": [
        {
          "output_type": "stream",
          "name": "stderr",
          "text": [
            "100%|██████████| 1008/1008 [04:00<00:00,  4.19it/s]\n"
          ]
        }
      ]
    },
    {
      "cell_type": "code",
      "source": [],
      "metadata": {
        "id": "BhACDAoYxKpl"
      },
      "execution_count": null,
      "outputs": []
    },
    {
      "cell_type": "code",
      "source": [],
      "metadata": {
        "id": "IsPDK-stC5SS"
      },
      "execution_count": null,
      "outputs": []
    },
    {
      "cell_type": "code",
      "source": [
        "with open('/content/gdrive/MyDrive/KLTN/dataset/zalo_dataset/dataset_fix/train_list.txt') as f:\n",
        "  data = f.readlines()"
      ],
      "metadata": {
        "id": "ku9Zl4frC5oM"
      },
      "execution_count": null,
      "outputs": []
    },
    {
      "cell_type": "code",
      "source": [
        "data = [i.split()[0] for i in data]"
      ],
      "metadata": {
        "id": "1Mb0jxNHDZcQ"
      },
      "execution_count": null,
      "outputs": []
    },
    {
      "cell_type": "code",
      "source": [
        "data = list(set(data))"
      ],
      "metadata": {
        "id": "2XGMRTj-DaUs"
      },
      "execution_count": null,
      "outputs": []
    },
    {
      "cell_type": "code",
      "source": [
        "len(data)"
      ],
      "metadata": {
        "colab": {
          "base_uri": "https://localhost:8080/"
        },
        "id": "yMNh5re7DvPD",
        "outputId": "b9a365a4-0f09-4181-810c-ca71ff5e9471"
      },
      "execution_count": null,
      "outputs": [
        {
          "output_type": "execute_result",
          "data": {
            "text/plain": [
              "320"
            ]
          },
          "metadata": {},
          "execution_count": 16
        }
      ]
    },
    {
      "cell_type": "code",
      "source": [
        "with open('/content/gdrive/MyDrive/KLTN/dataset/zalo_dataset/dataset_fix/train_list_id.txt', 'w') as f:\n",
        "  for i in data:\n",
        "    f.write(i + '\\n')"
      ],
      "metadata": {
        "id": "p3lFeNG3ESvb"
      },
      "execution_count": null,
      "outputs": []
    }
  ]
}